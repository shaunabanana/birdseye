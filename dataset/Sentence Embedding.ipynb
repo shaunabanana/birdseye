{
 "cells": [
  {
   "cell_type": "markdown",
   "id": "4db6b001",
   "metadata": {},
   "source": [
    "# COVID-19 Vaccination Twitter Clustering\n",
    "\n",
    "> 👩🏻‍💻 Shengchen Zhang <br>\n",
    "> ✉️ shengchenzhang1207@gmail.com <br>\n",
    "> 🏠 College of Design and Innovarion, Tongji University <br>\n",
    "> 📍 Shanghai, China\n",
    "\n",
    "Create semantically-meaningful clusters from Twitter discourse on COVID-19 vaccination. The method we use is informed by [BERTopic](https://github.com/MaartenGr/BERTopic) and [this blog post](https://www.atoti.io/topic-modeling-on-twitter-using-sentence-bert/), modified to fit our purpose.\n",
    "\n",
    "The steps we take are as follows:\n",
    "1. Create dense vector embeddings from the original tweet texts.\n",
    "2. Perform dimensionality reduction on the vectors\n",
    "3. Cluster the reduced vectors.\n",
    "4. Filter outliers and merge clusters to arrive at desired number of clusters."
   ]
  },
  {
   "cell_type": "markdown",
   "id": "99112649",
   "metadata": {},
   "source": [
    "## Step 1: Embed the tweets\n",
    "\n",
    "Create embedding vectors for the tweets using [SentenceTransformer](https://www.sbert.net/index.html), a transformer-based library that creates dence vector embedding for sentences."
   ]
  },
  {
   "cell_type": "code",
   "execution_count": 38,
   "id": "15e4ba28",
   "metadata": {},
   "outputs": [],
   "source": [
    "import pandas as pd\n",
    "from sentence_transformers import SentenceTransformer, util"
   ]
  },
  {
   "cell_type": "markdown",
   "id": "3f16731f",
   "metadata": {},
   "source": [
    "### 1. Create SentenceTransformer model\n",
    "\n",
    "According to the SentenceTransformer team, `paraphrase-mpnet-base-v2` is the best performing model. But it might be slower to run."
   ]
  },
  {
   "cell_type": "code",
   "execution_count": 39,
   "id": "eabb3258",
   "metadata": {},
   "outputs": [],
   "source": [
    "model = SentenceTransformer('paraphrase-mpnet-base-v2')"
   ]
  },
  {
   "cell_type": "markdown",
   "id": "03d61a9b",
   "metadata": {},
   "source": [
    "### 2. Prepare the dataset\n",
    "\n",
    "Here we load the dataset, then create a list of sentences from that."
   ]
  },
  {
   "cell_type": "code",
   "execution_count": 40,
   "id": "09a7de4e",
   "metadata": {},
   "outputs": [
    {
     "data": {
      "text/html": [
       "<div>\n",
       "<style scoped>\n",
       "    .dataframe tbody tr th:only-of-type {\n",
       "        vertical-align: middle;\n",
       "    }\n",
       "\n",
       "    .dataframe tbody tr th {\n",
       "        vertical-align: top;\n",
       "    }\n",
       "\n",
       "    .dataframe thead th {\n",
       "        text-align: right;\n",
       "    }\n",
       "</style>\n",
       "<table border=\"1\" class=\"dataframe\">\n",
       "  <thead>\n",
       "    <tr style=\"text-align: right;\">\n",
       "      <th></th>\n",
       "      <th>uuid</th>\n",
       "      <th>tweet_id</th>\n",
       "      <th>replies</th>\n",
       "      <th>reply_to</th>\n",
       "      <th>avatar</th>\n",
       "      <th>user_handle</th>\n",
       "      <th>user_name</th>\n",
       "      <th>content</th>\n",
       "      <th>date</th>\n",
       "      <th>engagement</th>\n",
       "      <th>avatar_extension</th>\n",
       "    </tr>\n",
       "  </thead>\n",
       "  <tbody>\n",
       "    <tr>\n",
       "      <th>0</th>\n",
       "      <td>8fa3ff53-e055-4502-97b8-11ebf1e6ff46</td>\n",
       "      <td>1339033432056217605</td>\n",
       "      <td>[]</td>\n",
       "      <td>None</td>\n",
       "      <td>https://pbs.twimg.com/profile_images/134451886...</td>\n",
       "      <td>fmtoday</td>\n",
       "      <td>Free Malaysia Today</td>\n",
       "      <td>Supplier Fosun Pharma will be making an initia...</td>\n",
       "      <td>10:23 AM · Dec 16, 2020·Twitter Web App</td>\n",
       "      <td>1 Retweet1 Quote Tweet</td>\n",
       "      <td>jpg</td>\n",
       "    </tr>\n",
       "    <tr>\n",
       "      <th>1</th>\n",
       "      <td>fac301a0-cc92-4eeb-857a-dbe64e01d036</td>\n",
       "      <td>1338291694198870017</td>\n",
       "      <td>[]</td>\n",
       "      <td>1338287664454393858</td>\n",
       "      <td>https://pbs.twimg.com/profile_images/195683136...</td>\n",
       "      <td>martin_fff</td>\n",
       "      <td>martin_fff</td>\n",
       "      <td>Replying to @AnitaOakville @PattyHajdu and 4 o...</td>\n",
       "      <td>9:16 AM · Dec 14, 2020·Twitter Web App</td>\n",
       "      <td>2 Likes</td>\n",
       "      <td>jpg</td>\n",
       "    </tr>\n",
       "    <tr>\n",
       "      <th>2</th>\n",
       "      <td>50182db7-9e9f-453a-a3fc-a55a404ec1db</td>\n",
       "      <td>1337887453726826497</td>\n",
       "      <td>[]</td>\n",
       "      <td>None</td>\n",
       "      <td>https://pbs.twimg.com/profile_images/109603088...</td>\n",
       "      <td>DDNewslive</td>\n",
       "      <td>DD News</td>\n",
       "      <td>#UnitedStates : The Federal Aviation Administr...</td>\n",
       "      <td>6:30 AM · Dec 13, 2020·TweetDeck</td>\n",
       "      <td>4 Retweets21 Likes</td>\n",
       "      <td>png</td>\n",
       "    </tr>\n",
       "    <tr>\n",
       "      <th>3</th>\n",
       "      <td>3ba277f9-a03f-4049-ab15-007f81561c92</td>\n",
       "      <td>1338364933843656704</td>\n",
       "      <td>[]</td>\n",
       "      <td>None</td>\n",
       "      <td>https://pbs.twimg.com/profile_images/117134093...</td>\n",
       "      <td>BusinessEstore</td>\n",
       "      <td>Business Technology E-Store | Approved Materials</td>\n",
       "      <td>Politico.  December 13, 2020.  FDA's Hahn: Cov...</td>\n",
       "      <td>2:07 PM · Dec 14, 2020·Twitter Web App</td>\n",
       "      <td>1 Retweet</td>\n",
       "      <td>jpg</td>\n",
       "    </tr>\n",
       "    <tr>\n",
       "      <th>4</th>\n",
       "      <td>e78360b3-f84e-495c-9b62-7e0f7fc89068</td>\n",
       "      <td>1338560750571446273</td>\n",
       "      <td>[]</td>\n",
       "      <td>None</td>\n",
       "      <td>https://pbs.twimg.com/profile_images/123817246...</td>\n",
       "      <td>kfdmnews</td>\n",
       "      <td>KFDM News</td>\n",
       "      <td>KFDM’s/FOX 4’s @THEPAIGEREPORT1 is at Baptist ...</td>\n",
       "      <td>3:05 AM · Dec 15, 2020·Twitter for iPhone</td>\n",
       "      <td>3 Retweets2 Likes</td>\n",
       "      <td>jpg</td>\n",
       "    </tr>\n",
       "    <tr>\n",
       "      <th>...</th>\n",
       "      <td>...</td>\n",
       "      <td>...</td>\n",
       "      <td>...</td>\n",
       "      <td>...</td>\n",
       "      <td>...</td>\n",
       "      <td>...</td>\n",
       "      <td>...</td>\n",
       "      <td>...</td>\n",
       "      <td>...</td>\n",
       "      <td>...</td>\n",
       "      <td>...</td>\n",
       "    </tr>\n",
       "    <tr>\n",
       "      <th>327</th>\n",
       "      <td>ff8086a1-418c-4c99-9aa2-08102c5c210e</td>\n",
       "      <td>1338642360561881089</td>\n",
       "      <td>[]</td>\n",
       "      <td>1338576273950568451</td>\n",
       "      <td>https://pbs.twimg.com/profile_images/680669217...</td>\n",
       "      <td>Jajngn</td>\n",
       "      <td>Jacque</td>\n",
       "      <td>Replying to @FlyingMagazine\\nWell. How about d...</td>\n",
       "      <td></td>\n",
       "      <td>8:29 AM · Dec 15, 2020·Twitter for iPhone</td>\n",
       "      <td>jpg</td>\n",
       "    </tr>\n",
       "    <tr>\n",
       "      <th>328</th>\n",
       "      <td>e41bcfcd-a404-49d0-968f-12ace90a8b71</td>\n",
       "      <td>1338575542736580619</td>\n",
       "      <td>[]</td>\n",
       "      <td>1337863050158804992</td>\n",
       "      <td>https://pbs.twimg.com/profile_images/121770039...</td>\n",
       "      <td>BunnyFeetYeet</td>\n",
       "      <td>pshh...unreal.</td>\n",
       "      <td>Replying to @CurtisSChin\\nYes</td>\n",
       "      <td>4:04 AM · Dec 15, 2020·Twitter for iPhone</td>\n",
       "      <td>1 Like</td>\n",
       "      <td>jpg</td>\n",
       "    </tr>\n",
       "    <tr>\n",
       "      <th>329</th>\n",
       "      <td>93974450-1bbe-452f-a59d-35387ceb922f</td>\n",
       "      <td>1337870504699568130</td>\n",
       "      <td>[]</td>\n",
       "      <td>1337855739918835717</td>\n",
       "      <td>https://abs.twimg.com/sticky/default_profile_i...</td>\n",
       "      <td>Psudsy1</td>\n",
       "      <td>Psudsy</td>\n",
       "      <td>Replying to @charlesadler and @RexChapman\\n@te...</td>\n",
       "      <td></td>\n",
       "      <td>5:22 AM · Dec 13, 2020·Twitter Web App</td>\n",
       "      <td>png</td>\n",
       "    </tr>\n",
       "    <tr>\n",
       "      <th>330</th>\n",
       "      <td>67e8dee3-ed04-4462-84b6-23148d1cbba9</td>\n",
       "      <td>1337879732663160834</td>\n",
       "      <td>[]</td>\n",
       "      <td>None</td>\n",
       "      <td>https://pbs.twimg.com/profile_images/604408122...</td>\n",
       "      <td>world_affairs</td>\n",
       "      <td>World Affairs</td>\n",
       "      <td>New PODCAST: Vaccinating Our Way Out of the Pa...</td>\n",
       "      <td>5:59 AM · Dec 13, 2020·Twitter Web App</td>\n",
       "      <td>10 Retweets1 Quote Tweet32 Likes</td>\n",
       "      <td>png</td>\n",
       "    </tr>\n",
       "    <tr>\n",
       "      <th>331</th>\n",
       "      <td>7eb5d4b3-3731-47df-8817-a233f74f4467</td>\n",
       "      <td>1337776763384958976</td>\n",
       "      <td>[]</td>\n",
       "      <td>None</td>\n",
       "      <td>https://pbs.twimg.com/profile_images/956241703...</td>\n",
       "      <td>MrHoneyPot</td>\n",
       "      <td>Alex Vie</td>\n",
       "      <td>The trump administration failed to deliver on ...</td>\n",
       "      <td>11:10 PM · Dec 12, 2020·Twitter for iPhone</td>\n",
       "      <td>1 Like</td>\n",
       "      <td>jpg</td>\n",
       "    </tr>\n",
       "  </tbody>\n",
       "</table>\n",
       "<p>332 rows × 11 columns</p>\n",
       "</div>"
      ],
      "text/plain": [
       "                                     uuid             tweet_id replies  \\\n",
       "0    8fa3ff53-e055-4502-97b8-11ebf1e6ff46  1339033432056217605      []   \n",
       "1    fac301a0-cc92-4eeb-857a-dbe64e01d036  1338291694198870017      []   \n",
       "2    50182db7-9e9f-453a-a3fc-a55a404ec1db  1337887453726826497      []   \n",
       "3    3ba277f9-a03f-4049-ab15-007f81561c92  1338364933843656704      []   \n",
       "4    e78360b3-f84e-495c-9b62-7e0f7fc89068  1338560750571446273      []   \n",
       "..                                    ...                  ...     ...   \n",
       "327  ff8086a1-418c-4c99-9aa2-08102c5c210e  1338642360561881089      []   \n",
       "328  e41bcfcd-a404-49d0-968f-12ace90a8b71  1338575542736580619      []   \n",
       "329  93974450-1bbe-452f-a59d-35387ceb922f  1337870504699568130      []   \n",
       "330  67e8dee3-ed04-4462-84b6-23148d1cbba9  1337879732663160834      []   \n",
       "331  7eb5d4b3-3731-47df-8817-a233f74f4467  1337776763384958976      []   \n",
       "\n",
       "                reply_to                                             avatar  \\\n",
       "0                   None  https://pbs.twimg.com/profile_images/134451886...   \n",
       "1    1338287664454393858  https://pbs.twimg.com/profile_images/195683136...   \n",
       "2                   None  https://pbs.twimg.com/profile_images/109603088...   \n",
       "3                   None  https://pbs.twimg.com/profile_images/117134093...   \n",
       "4                   None  https://pbs.twimg.com/profile_images/123817246...   \n",
       "..                   ...                                                ...   \n",
       "327  1338576273950568451  https://pbs.twimg.com/profile_images/680669217...   \n",
       "328  1337863050158804992  https://pbs.twimg.com/profile_images/121770039...   \n",
       "329  1337855739918835717  https://abs.twimg.com/sticky/default_profile_i...   \n",
       "330                 None  https://pbs.twimg.com/profile_images/604408122...   \n",
       "331                 None  https://pbs.twimg.com/profile_images/956241703...   \n",
       "\n",
       "        user_handle                                         user_name  \\\n",
       "0           fmtoday                               Free Malaysia Today   \n",
       "1        martin_fff                                        martin_fff   \n",
       "2        DDNewslive                                           DD News   \n",
       "3    BusinessEstore  Business Technology E-Store | Approved Materials   \n",
       "4          kfdmnews                                         KFDM News   \n",
       "..              ...                                               ...   \n",
       "327          Jajngn                                            Jacque   \n",
       "328   BunnyFeetYeet                                    pshh...unreal.   \n",
       "329         Psudsy1                                            Psudsy   \n",
       "330   world_affairs                                     World Affairs   \n",
       "331      MrHoneyPot                                          Alex Vie   \n",
       "\n",
       "                                               content  \\\n",
       "0    Supplier Fosun Pharma will be making an initia...   \n",
       "1    Replying to @AnitaOakville @PattyHajdu and 4 o...   \n",
       "2    #UnitedStates : The Federal Aviation Administr...   \n",
       "3    Politico.  December 13, 2020.  FDA's Hahn: Cov...   \n",
       "4    KFDM’s/FOX 4’s @THEPAIGEREPORT1 is at Baptist ...   \n",
       "..                                                 ...   \n",
       "327  Replying to @FlyingMagazine\\nWell. How about d...   \n",
       "328                      Replying to @CurtisSChin\\nYes   \n",
       "329  Replying to @charlesadler and @RexChapman\\n@te...   \n",
       "330  New PODCAST: Vaccinating Our Way Out of the Pa...   \n",
       "331  The trump administration failed to deliver on ...   \n",
       "\n",
       "                                           date  \\\n",
       "0       10:23 AM · Dec 16, 2020·Twitter Web App   \n",
       "1        9:16 AM · Dec 14, 2020·Twitter Web App   \n",
       "2              6:30 AM · Dec 13, 2020·TweetDeck   \n",
       "3        2:07 PM · Dec 14, 2020·Twitter Web App   \n",
       "4     3:05 AM · Dec 15, 2020·Twitter for iPhone   \n",
       "..                                          ...   \n",
       "327                                               \n",
       "328   4:04 AM · Dec 15, 2020·Twitter for iPhone   \n",
       "329                                               \n",
       "330      5:59 AM · Dec 13, 2020·Twitter Web App   \n",
       "331  11:10 PM · Dec 12, 2020·Twitter for iPhone   \n",
       "\n",
       "                                    engagement avatar_extension  \n",
       "0                       1 Retweet1 Quote Tweet              jpg  \n",
       "1                                      2 Likes              jpg  \n",
       "2                           4 Retweets21 Likes              png  \n",
       "3                                    1 Retweet              jpg  \n",
       "4                            3 Retweets2 Likes              jpg  \n",
       "..                                         ...              ...  \n",
       "327  8:29 AM · Dec 15, 2020·Twitter for iPhone              jpg  \n",
       "328                                     1 Like              jpg  \n",
       "329     5:22 AM · Dec 13, 2020·Twitter Web App              png  \n",
       "330           10 Retweets1 Quote Tweet32 Likes              png  \n",
       "331                                     1 Like              jpg  \n",
       "\n",
       "[332 rows x 11 columns]"
      ]
     },
     "execution_count": 40,
     "metadata": {},
     "output_type": "execute_result"
    }
   ],
   "source": [
    "import json\n",
    "from glob import glob\n",
    "\n",
    "tweet_files = glob('./data/tweets/*.json')\n",
    "tweets = []\n",
    "\n",
    "for tweet_file in tweet_files:\n",
    "    with open(tweet_file) as f:\n",
    "        tweet = json.loads(f.read())\n",
    "        tweets.append(tweet)\n",
    "        \n",
    "dataset = pd.DataFrame(tweets)\n",
    "dataset"
   ]
  },
  {
   "cell_type": "code",
   "execution_count": 41,
   "id": "a2227a63",
   "metadata": {},
   "outputs": [
    {
     "data": {
      "text/plain": [
       "['Supplier Fosun Pharma will be making an initial payment of €125 mil by year-end for 50 million doses. #FMTNews #China #Vaccine #Covid19 #PfizerBioNTech',\n",
       " \"Replying to @AnitaOakville @PattyHajdu and 4 others\\nphoto-op? don't slow the shipment....\",\n",
       " '#UnitedStates : The Federal Aviation Administration (FAA) said Saturday it had approved the use of the #PfizerBioNTech #COVID19 vaccine by pilots and air traffic controllers. \\n@PIB_India @airnewsalerts',\n",
       " \"Politico.  December 13, 2020.  FDA's Hahn: Covid-19 vaccine authorization based in 'science and data'\\nhttps://politico.com/news/2020/12/13/fdas-hahn-coronavirus-vaccine-approval-science-data-444854…\\n#coronavirus #covid19 #coronavirusprevention #CoronaVirusUpdate #CoronavirusVaccine #COVID19Vaccine #PfizerBioNTech #business #technology #datascience\",\n",
       " 'KFDM’s/FOX 4’s @THEPAIGEREPORT1 is at Baptist hospital getting a first hand look at where the Pfizer COVID-19 vaccines will be stored.\\n\\nTune into KFDM and FOX 4 news to find out how the hospital is preparing. #COVID19 #Vaccine #PfizerBioNTech']"
      ]
     },
     "execution_count": 41,
     "metadata": {},
     "output_type": "execute_result"
    }
   ],
   "source": [
    "sentences = [row['content'] for i, row in dataset.iterrows()]\n",
    "sentences[:5]"
   ]
  },
  {
   "cell_type": "markdown",
   "id": "92d16bf2",
   "metadata": {},
   "source": [
    "### 2.5. Testing only: subsample the sentences to speed up the computation"
   ]
  },
  {
   "cell_type": "code",
   "execution_count": 42,
   "id": "179a2c59",
   "metadata": {},
   "outputs": [],
   "source": [
    "# import random\n",
    "# sentences = random.sample(sentences, 1000)"
   ]
  },
  {
   "cell_type": "markdown",
   "id": "1f678b6a",
   "metadata": {},
   "source": [
    "### 3. Calculate sentence embeddings (takes a long time!)"
   ]
  },
  {
   "cell_type": "code",
   "execution_count": 43,
   "id": "b6f87f9b",
   "metadata": {},
   "outputs": [
    {
     "data": {
      "application/vnd.jupyter.widget-view+json": {
       "model_id": "ea674d10419f4a36a3b4d62594e3b333",
       "version_major": 2,
       "version_minor": 0
      },
      "text/plain": [
       "Batches:   0%|          | 0/6 [00:00<?, ?it/s]"
      ]
     },
     "metadata": {},
     "output_type": "display_data"
    }
   ],
   "source": [
    "#Sentences are encoded by calling model.encode()\n",
    "embeddings = model.encode(sentences, batch_size=64, show_progress_bar=True)"
   ]
  },
  {
   "cell_type": "markdown",
   "id": "64b89a05",
   "metadata": {},
   "source": [
    "## Step 2: Sentiment analysis"
   ]
  },
  {
   "cell_type": "code",
   "execution_count": 30,
   "id": "53d44bec",
   "metadata": {},
   "outputs": [
    {
     "name": "stderr",
     "output_type": "stream",
     "text": [
      "/Users/shauna/.miniforge3/envs/birdseye/lib/python3.9/site-packages/torchaudio/backend/utils.py:67: UserWarning:\n",
      "\n",
      "No audio backend is available.\n",
      "\n"
     ]
    },
    {
     "data": {
      "application/vnd.jupyter.widget-view+json": {
       "model_id": "d9e51492a0214d94af91ac3c09ecf7e1",
       "version_major": 2,
       "version_minor": 0
      },
      "text/plain": [
       "Downloading:   0%|          | 0.00/629 [00:00<?, ?B/s]"
      ]
     },
     "metadata": {},
     "output_type": "display_data"
    },
    {
     "data": {
      "application/vnd.jupyter.widget-view+json": {
       "model_id": "61634bf143e4454c91f6bad10b1ae084",
       "version_major": 2,
       "version_minor": 0
      },
      "text/plain": [
       "Downloading:   0%|          | 0.00/268M [00:00<?, ?B/s]"
      ]
     },
     "metadata": {},
     "output_type": "display_data"
    },
    {
     "data": {
      "application/vnd.jupyter.widget-view+json": {
       "model_id": "16a6130476b44f159c6b545c1ead06ad",
       "version_major": 2,
       "version_minor": 0
      },
      "text/plain": [
       "Downloading:   0%|          | 0.00/48.0 [00:00<?, ?B/s]"
      ]
     },
     "metadata": {},
     "output_type": "display_data"
    },
    {
     "data": {
      "application/vnd.jupyter.widget-view+json": {
       "model_id": "ff3a8ae0fd044a1291092508fd427c90",
       "version_major": 2,
       "version_minor": 0
      },
      "text/plain": [
       "Downloading:   0%|          | 0.00/232k [00:00<?, ?B/s]"
      ]
     },
     "metadata": {},
     "output_type": "display_data"
    }
   ],
   "source": [
    "from transformers import pipeline\n",
    "sentiment_analysis = pipeline('sentiment-analysis')"
   ]
  },
  {
   "cell_type": "code",
   "execution_count": 37,
   "id": "716a4648",
   "metadata": {},
   "outputs": [
    {
     "name": "stdout",
     "output_type": "stream",
     "text": [
      "KFDM’s/FOX 4’s @THEPAIGEREPORT1 is at Baptist hospital getting a first hand look at where the Pfizer COVID-19 vaccines will be stored.\n",
      "\n",
      "Tune into KFDM and FOX 4 news to find out how the hospital is preparing. #COVID19 #Vaccine #PfizerBioNTech\n",
      "[{'label': 'NEGATIVE', 'score': 0.8949764370918274}]\n",
      "\n",
      "\n",
      "==================================\n",
      "\n",
      "\n",
      "#SputnikV uses 2 different human adenoviral vectors for 2 vaccine shots to ensure that immunity to the 1st does not make the 2nd less effective. We offered @AstraZeneca to use one of our vectors so they can also have two vectors in their vaccine. AZ confirmed.\n",
      "[{'label': 'NEGATIVE', 'score': 0.8089855909347534}]\n",
      "\n",
      "\n",
      "==================================\n",
      "\n",
      "\n",
      "No.1 of 2 done.\n",
      "\n",
      "#ThankYouNHS @NHSuk @MHRAgovuk and #PfizerBioNTech @pfizer for making the #CovidVaccine dream possible and come to fruition so soon in the UK. #HopeForTheFuture @TeamNUH @NUH_AcuteMed\n",
      "[{'label': 'POSITIVE', 'score': 0.9973612427711487}]\n",
      "\n",
      "\n",
      "==================================\n",
      "\n",
      "\n",
      "Singapore approves Pfizer vaccine , becomes first south East Asian country to approve the vaccine. Doses will be given from end of December #Singapore #Covid_19 #CovidVaccine #PfizerBioNTech\n",
      "[{'label': 'POSITIVE', 'score': 0.7924149632453918}]\n",
      "\n",
      "\n",
      "==================================\n",
      "\n",
      "\n",
      "How the #PfizerBioNTech Vaccine Works?\n",
      "This article made a detailed explanation.\n",
      "https://nytimes.com/interactive/2020/health/pfizer-biontech-covid-19-vaccine.html…\n",
      "\n",
      "#COVID19 #CovidVaccine #vaccines #coronavirus #CoronaVaccine #SARSCoV2 #cellbiology #mRNA #biology #biotech #biotechnology\n",
      "[{'label': 'NEGATIVE', 'score': 0.9891380667686462}]\n",
      "\n",
      "\n",
      "==================================\n",
      "\n",
      "\n",
      "Toronto to receive Ontario's 1st doses of Pfizer COVID-19 vaccine today\n",
      "https://indiablooms.com/world-details/USN/27188/toronto-to-receive-ontario-s-1st-doses-of-pfizer-covid-19-vaccine-today.html…\n",
      "#Ontario #PfizerBioNTech #COVID19Vaccine #Toronto #FirstDose\n",
      "[{'label': 'NEGATIVE', 'score': 0.9808012247085571}]\n",
      "\n",
      "\n",
      "==================================\n",
      "\n",
      "\n",
      "Replying to @cnnbrk\n",
      "Good luck with this experimental “vaccin” \n",
      "[{'label': 'POSITIVE', 'score': 0.9919840693473816}]\n",
      "\n",
      "\n",
      "==================================\n",
      "\n",
      "\n",
      "Excited about tomorrow \n",
      "So honoured to be part to this exciting team administering in primary care #Covid_19 #Covid19UK #PfizerBioNTech #BioNTech #CovidVaccine #teamGp #gp #COVID19Vaccine #primarycare #vaccination #Rcgp\n",
      "[{'label': 'POSITIVE', 'score': 0.9952787756919861}]\n",
      "\n",
      "\n",
      "==================================\n",
      "\n",
      "\n",
      "Getting my first dose of the #PfizerBioNTech #CovidVaccine next weekend and seeing this #UNBOXING just made it so real. Are my hopes for this set too high?#OperationWarpSpeed\n",
      "[{'label': 'POSITIVE', 'score': 0.9965783953666687}]\n",
      "\n",
      "\n",
      "==================================\n",
      "\n",
      "\n",
      "Can’t wait to take my kids towards herd immunity   \n",
      "#vaccines #PfizerBioNTech\n",
      "[{'label': 'NEGATIVE', 'score': 0.9861722588539124}]\n",
      "\n",
      "\n",
      "==================================\n",
      "\n",
      "\n",
      "Sunday evening’s shipment is the first of an initial 30,000 doses of the Pfizer vaccine to be spread across 14 distribution centres. #COVID19AB #vaccine #pandemic #PHAC #PfizerBioNTech\n",
      "[{'label': 'NEGATIVE', 'score': 0.9920827150344849}]\n",
      "\n",
      "\n",
      "==================================\n",
      "\n",
      "\n",
      "Replying to @yinonw and @jhaskinscabrera\n",
      "That's why those people should just be living their lives.  And focused protection for the elderly.\n",
      "[{'label': 'NEGATIVE', 'score': 0.7797293663024902}]\n",
      "\n",
      "\n",
      "==================================\n",
      "\n",
      "\n",
      "Will you be taking the COVID-19 vaccine once available to you? #COVID19 #Pfizer #BioNTech #vaccine #PfizerBioNTech #mRNA #AstraZeneca #coronavirus #usa #Canada #vaccination #CoronaVaccine #pandemic #Biden #trump #OperationWarpSpeed #CovidVaccines #Quarantine #antivaxxers #cdnpol\n",
      "[{'label': 'NEGATIVE', 'score': 0.9971035718917847}]\n",
      "\n",
      "\n",
      "==================================\n",
      "\n",
      "\n",
      "⁦@AvgerinosMoscow⁩ #PfizerBioNTech #FDA approval Apprentice Style!\n",
      "⁦@realDonaldTrump⁩: “Approve the #vaccine or you’re fired!”\n",
      "Now that’s science!\n",
      "[{'label': 'NEGATIVE', 'score': 0.9979708790779114}]\n",
      "\n",
      "\n",
      "==================================\n",
      "\n",
      "\n",
      "Building on last week’s ‘trial’ run and extending our vaccination  programme this week . So much effort going on behind the scenes . Trainers  tomorrow team #teampharmacy #lovemyjob #PfizerBioNTech @cab5554 @tracyr09 @Cymraes_Lois @OwenBerwyn\n",
      "[{'label': 'POSITIVE', 'score': 0.8890045285224915}]\n",
      "\n",
      "\n",
      "==================================\n",
      "\n",
      "\n",
      "Replying to @katie_crowfoot @LPTnhs and 2 others\n",
      "Good luck, hope it works and the side effects aren't too bad\n",
      "[{'label': 'POSITIVE', 'score': 0.9992265701293945}]\n",
      "\n",
      "\n",
      "==================================\n",
      "\n",
      "\n",
      "Replying to @770CHQR\n",
      "Truly defines, trickling in ....\n",
      "[{'label': 'POSITIVE', 'score': 0.9765679836273193}]\n",
      "\n",
      "\n",
      "==================================\n",
      "\n",
      "\n",
      "The first COVID-19 vaccine doses have arrived in Oregon.  \n",
      "\n",
      "Watch #MorningsontheDove from 6am -9am tomorrow for details. \n",
      "\n",
      "#COVID19Vaccine #PfizerBioNTech #theDove #theDoveTV #theDoveRadio #theDoveNewsroom #Faith #hope #encouragment #affirmation #PNW #Oregon\n",
      "[{'label': 'NEGATIVE', 'score': 0.9635366797447205}]\n",
      "\n",
      "\n",
      "==================================\n",
      "\n",
      "\n",
      "Singapore approves @pfizer @BioNTech_Group  vaccine for local use. Vaccine safe to use on people aged 16 and above, and first batch of #PfizerBioNTech vaccine will arrive by end of December.\n",
      "[{'label': 'POSITIVE', 'score': 0.6932955384254456}]\n",
      "\n",
      "\n",
      "==================================\n",
      "\n",
      "\n",
      "Replying to @cnnbrk\n",
      "@YOUCEFB45681191\n",
      "[{'label': 'NEGATIVE', 'score': 0.9562857151031494}]\n",
      "\n",
      "\n",
      "==================================\n",
      "\n",
      "\n",
      "Per the CDC, persons with HIV and other immunocompromising conditions may still receive the COVID-19 vaccine unless otherwise contraindicated. #PfizerBioNTech #MedTwitter\n",
      "[{'label': 'NEGATIVE', 'score': 0.993209183216095}]\n",
      "\n",
      "\n",
      "==================================\n",
      "\n",
      "\n",
      "Anyone wondering why day after #PfizerBioNTech approval in the UK people were getting vaccinated but all we are told this point in US and #NewYork is it will happen in “next few days” #CovidVaccine\n",
      "[{'label': 'NEGATIVE', 'score': 0.9932678937911987}]\n",
      "\n",
      "\n",
      "==================================\n",
      "\n",
      "\n",
      "Half way there #COVID19 #CovidVaccine #vaccination #Pfizervaccine #PfizerBioNTech\n",
      "[{'label': 'NEGATIVE', 'score': 0.9975684285163879}]\n",
      "\n",
      "\n",
      "==================================\n",
      "\n",
      "\n",
      "The hospital I work at has received the vaccine. Our IV room made the first five doses to be given in the state. I’m ready for this bad boy. #CovidVaccine #COVID19 #PfizerBioNTech\n",
      "[{'label': 'NEGATIVE', 'score': 0.9916743040084839}]\n",
      "\n",
      "\n",
      "==================================\n",
      "\n",
      "\n",
      "Kirill Dmitriev, RDIF CEO: #SputnikV is showing high efficacy itself and can also be combined with other vaccines. Gamaleya and RDIF welcome joint clinical trial with @AstraZeneca to explore adding #SputnikV human adenoviral vector to AZ vaccine.\n",
      "AstraZeneca will test using component of Russia’s Sputnik V in clinical trials of its own vaccine...sputnikvaccine.com\n",
      "[{'label': 'POSITIVE', 'score': 0.9691269397735596}]\n",
      "\n",
      "\n",
      "==================================\n",
      "\n",
      "\n",
      "#WATCH: Shipments of initial doses of the COVID-19 vaccines arrived in selected ports of entry in Canada on Sunday night. https://instagram.com/p/CIxZTVAD_tm/?igshid=s6imubrpo54k…\n",
      "\n",
      "Video credit: Canadian Armed Forces Combat Camera \n",
      "\n",
      "#PfizerBioNTech #COVID19 #CovidVaccine #covid19Qc #COVIDCanada\n",
      "[{'label': 'NEGATIVE', 'score': 0.995265007019043}]\n",
      "\n",
      "\n",
      "==================================\n",
      "\n",
      "\n",
      "Explain to me again why we need a vaccine @BorisJohnson @MattHancock #whereareallthesickpeople #PfizerBioNTech #CovidVaccine #coronavirus #COVIDIOTS #saynotorhevaccine #markofthebeast\n",
      "[{'label': 'NEGATIVE', 'score': 0.9957291483879089}]\n",
      "\n",
      "\n",
      "==================================\n",
      "\n",
      "\n",
      "#BillGates  caught on video admitting #CovidVaccine  will CHANGE our #DNA  FOREVER. https://youtu.be/ksEVaO806Oo via @YouTube He wasn't \"caught on tape\", he PROUDY stated it.\n",
      "#Covid_19 #coronavirus   #Pfizer #PfizerBioNTech \n",
      "#pfizervccineahoax #COVIDIOTS #AstraZeneca\n",
      "[{'label': 'NEGATIVE', 'score': 0.9882685542106628}]\n",
      "\n",
      "\n",
      "==================================\n",
      "\n",
      "\n",
      "There have not been many bright days in 2020 but here are some of the best \n",
      "1. #BidenHarris winning #Election2020 \n",
      "2. #PfizerBioNTech #CovidVaccine getting @US_FDA #EUA\n",
      "3. #ACIP recommending the #PfizerBioNTech #CovidVaccine \n",
      "\n",
      "Looking ahead\n",
      "- 12/15 when I get my #CovidVaccine\n",
      "[{'label': 'POSITIVE', 'score': 0.9971991777420044}]\n",
      "\n",
      "\n",
      "==================================\n",
      "\n",
      "\n",
      "Does anyone have any useful advice/guidance for whether the COVID vaccine is safe whilst breastfeeding? #CovidVaccines #PfizerBioNTech #breastfeeding\n",
      "[{'label': 'NEGATIVE', 'score': 0.9993506669998169}]\n",
      "\n",
      "\n",
      "==================================\n",
      "\n",
      "\n",
      "The US Food and Drug Administration (FDA) has granted emergency use authorization to Pfizer-BioNTech's mRNA #COVID19 vaccine making it the first vaccine to receive approval in the USA. #PfizerBioNTech #coronavirus #vaccine @US_FDA @pfizer @BioNTech_Group\n",
      "[{'label': 'POSITIVE', 'score': 0.5810139775276184}]\n",
      "\n",
      "\n",
      "==================================\n",
      "\n",
      "\n",
      "Replying to @charlesadler and @RexChapman\n",
      "Atta boy Chuck...\n",
      "[{'label': 'NEGATIVE', 'score': 0.8451637625694275}]\n",
      "\n",
      "\n",
      "==================================\n",
      "\n",
      "\n",
      "The FDA Authorizes Emergency Use Of The Pfizer Vaccine\n",
      "http://thenewdispatch.com/the-fda-authorizes-emergency-use-of-the-pfizer-vaccine…\n",
      "#PFE #Pfizer #Pfizervaccine #PfizerBioNTech #FDA #CovidVaccine #COVID19Vaccine #COVID19 #COVID #Vaccine #USA #Coronavirus #CoronavirusVaccine #PfizerCovidVaccine #Covid_19 #Vaccination\n"
     ]
    },
    {
     "name": "stdout",
     "output_type": "stream",
     "text": [
      "[{'label': 'NEGATIVE', 'score': 0.9945469498634338}]\n",
      "\n",
      "\n",
      "==================================\n",
      "\n",
      "\n",
      "#PfizerBioNTech's #COVID19 vaccines are making their way to distributions sites nationwide. @FedEx says some of the first batches have been safely delivered.\n",
      "[{'label': 'POSITIVE', 'score': 0.9705551862716675}]\n",
      "\n",
      "\n",
      "==================================\n",
      "\n",
      "\n",
      "Last night, the first #COVID19Vaccines arrived in Canada and as we speak, the first of the vaccines are being administered TODAY!\n",
      "\n",
      "The #PfizerBioNTech vaccine requires storage in extremely low temperatures, and are currently being distributed to 14 locations across Canada.\n",
      "[{'label': 'NEGATIVE', 'score': 0.9877963662147522}]\n",
      "\n",
      "\n",
      "==================================\n",
      "\n",
      "\n",
      "Surprised to learn those with autoimmune conditions or otherwise immunosuppressed are advised not to receive the #PfizerBioNTech vaccine per to NACI. These are higher risk folks, and not a live vaccine. I understand questions of efficacy but is there really any safety concern?\n",
      "[{'label': 'NEGATIVE', 'score': 0.9957643151283264}]\n",
      "\n",
      "\n",
      "==================================\n",
      "\n",
      "\n",
      "Replying to @yinonw\n",
      "@DrBenTapper1\n",
      "[{'label': 'NEGATIVE', 'score': 0.8813683390617371}]\n",
      "\n",
      "\n",
      "==================================\n",
      "\n",
      "\n",
      "@LUDOVICOTODINI @Taxistalobbyst   caught on video admitting #Covidvaccine will CHANGE our #DNA FOREVER. https://youtu.be/ksEVaO806Oo via @YouTube #coronavirus #corona #Pfizer #Pfizervaccine \n",
      "#PfizerBioNTech #Elections2020 #Election2020  @POTUS \n",
      "#JoeBiden #BidenHarris2020 @ASP #COVID\n",
      "[{'label': 'NEGATIVE', 'score': 0.987500786781311}]\n",
      "\n",
      "\n",
      "==================================\n",
      "\n",
      "\n",
      "Replying to @KristenRogersMD and @OchsnerHealth\n",
      "What is the end point ?   The get to a yes point on normal restaurants, normal life, no masks?   What is the standard by which this will be determined?\n",
      "[{'label': 'NEGATIVE', 'score': 0.9954867362976074}]\n",
      "\n",
      "\n",
      "==================================\n",
      "\n",
      "\n",
      "Replying to @charlesadler\n",
      "\n",
      "[{'label': 'POSITIVE', 'score': 0.9450013041496277}]\n",
      "\n",
      "\n",
      "==================================\n",
      "\n",
      "\n",
      "Kudos UPS!\n",
      "\n",
      "@UPS announced on 13th, its involvement & full support of distribution efforts for #PfizerBioNTech's #COVID19 vaccine as part of Operation #WarpSpeed. Deployments began after the federal mandate to distribute vaccines. https://pressroom.ups.com/pressroom/ContentDetailsViewer.page?ConceptType=PressReleases&id=1607744626467-683…\n",
      "#UPS #COVID19Vaccine\n",
      "[{'label': 'NEGATIVE', 'score': 0.9835259318351746}]\n",
      "\n",
      "\n",
      "==================================\n",
      "\n",
      "\n",
      "Replying to @DrKatLiang\n",
      "I love some of the replies  \n",
      "https://twitter.com/giancarlolucia/status/1338547639294414849?s=19…\n",
      "[{'label': 'POSITIVE', 'score': 0.9973574876785278}]\n",
      "\n",
      "\n",
      "==================================\n",
      "\n",
      "\n",
      "How much did the #fda get paid to approve this all of a sudden now? money makes the world go around. #vaccine #Pfizer #COVID19 #CovidVaccine #PfizerBioNTech\n",
      "[{'label': 'NEGATIVE', 'score': 0.9945338368415833}]\n",
      "\n",
      "\n",
      "==================================\n",
      "\n",
      "\n",
      "Replying to @cnnbrk\n",
      "Just a hunch: the distribution of this vaccine is going to be a major cluster f**k.\n",
      "[{'label': 'NEGATIVE', 'score': 0.9915914535522461}]\n",
      "\n",
      "\n",
      "==================================\n",
      "\n",
      "\n",
      "#BREAKING - just in from @OHAOregon on #COVID19 #vaccine:\n",
      "-\"Legacy Health is the first registered COVID-19 vaccine provider in the state to receive the vaccine\"\n",
      "-Just under 2,000 doses of the #PfizerBioNTech vaccine arrived this morning.\n",
      "#LiveOnK2\n",
      "[{'label': 'NEGATIVE', 'score': 0.9853977560997009}]\n",
      "\n",
      "\n",
      "==================================\n",
      "\n",
      "\n",
      "\"Expect 145 sites across all the states to receive vaccine on Monday, another 425 sites on Tuesday,\" said the official in charge of the distribution.\n",
      "\n",
      "Read more: https://bit.ly/37WoZNH\n",
      " \n",
      "#PfizerBioNTech #COVID19 #vaccine #UnitedStates\n",
      "[{'label': 'NEGATIVE', 'score': 0.996296226978302}]\n",
      "\n",
      "\n",
      "==================================\n",
      "\n",
      "\n",
      "UPDATED: #YellowFever & #COVID19 #ImmunityPassports - Part Two\n",
      "\n",
      "#SARSCoV2 #PfizerBioNtech #Britain #December #Christmas #Europe #Australia #Canada #lockdown #VitaminD #winter #travel #tourism #privacy #Trending \n",
      "\n",
      "https://stopcommonpass.org/yellow-fever-covid19-immunity-passports-part-two/…\n",
      "[{'label': 'NEGATIVE', 'score': 0.9807930588722229}]\n",
      "\n",
      "\n",
      "==================================\n",
      "\n",
      "\n",
      "For all the women and healthcare providers who have been asking about the safety of the #PfizerBioNTech #COVID19Vaccine in pregnant and breastfeeding women here is the recommendations from the #ACIP this morning\n",
      "[{'label': 'NEGATIVE', 'score': 0.7878586053848267}]\n",
      "\n",
      "\n",
      "==================================\n",
      "\n",
      "\n",
      "#PfizerBioNTech COVID-19 vaccine being distributed; #ElectoralCollege formally casts votes today; #DetroitLions lost to GB; Cleveland MLB team to drop \"Indians\" name. Those stories & more at 7am via http://classicfox.com and 103.9 The Fox mobile app!\n",
      "[{'label': 'NEGATIVE', 'score': 0.976687490940094}]\n",
      "\n",
      "\n",
      "==================================\n",
      "\n",
      "\n",
      "Replying to @cnnbrk\n",
      "Pfizer isn’t a part of operation warp speed\n",
      "[{'label': 'NEGATIVE', 'score': 0.9664817452430725}]\n",
      "\n",
      "\n",
      "==================================\n",
      "\n",
      "\n",
      "Historical moment #FirstDose of the #PfizerBioNTech #COVID_19 #Vaccine administered at #UPMC @upmchealthbeat @ Pittsburgh, Pennsylvania https://instagram.com/p/CIyMrMRpVEf/?igshid=1jjtyf253182i…\n",
      "[{'label': 'NEGATIVE', 'score': 0.9907740354537964}]\n",
      "\n",
      "\n",
      "==================================\n",
      "\n",
      "\n",
      "One of the first vaccines receivers in the US. Momentous for science. Hope has arrived.\n",
      "#COVID19 #CovidVaccine #VaccinesSaveLives #PfizerBioNTech #Pfizervaccine\n",
      "[{'label': 'POSITIVE', 'score': 0.971800684928894}]\n",
      "\n",
      "\n",
      "==================================\n",
      "\n",
      "\n",
      "First Pfizer coronavirus vaccine doses set to arrive at hospitals https://video.foxnews.com/v/6216118293001 #PfizerBioNTech #PfizerCovidVaccine #VaccinesWork @kilmeade @foxandfriends @nyulangone\n",
      "[{'label': 'NEGATIVE', 'score': 0.9937105178833008}]\n",
      "\n",
      "\n",
      "==================================\n",
      "\n",
      "\n",
      "1st doses of #PfizerBioNTech's #COVID19 vaccine arrive in #Canada\n",
      "\n",
      "By @helloryanjones\n",
      "https://cbc.ca/news/politics/first-doses-covid-19-vaccine-1.5839614…\n",
      "[{'label': 'NEGATIVE', 'score': 0.9921911358833313}]\n",
      "\n",
      "\n",
      "==================================\n",
      "\n",
      "\n",
      "The #FDA finally issues #EUA now comes the problem transporting this #PfizerBioNTech vaccine, needs to be kept at -70f and it can only be taken out of storage 4 times. Also you can still infect people after being #vaccinated\n",
      "[{'label': 'NEGATIVE', 'score': 0.9984040856361389}]\n",
      "\n",
      "\n",
      "==================================\n",
      "\n",
      "\n",
      "OHSU, Kaiser, St. Alphonsus Medical Center (in Ontario) are expected to get 975 doses each tomorrow.\n",
      "\n",
      "#LiveOnK2\n",
      "\n",
      "[{'label': 'NEGATIVE', 'score': 0.9337900876998901}]\n",
      "\n",
      "\n",
      "==================================\n",
      "\n",
      "\n",
      "Trump announces #vaccine rollout 'in less than 24 hours'\n",
      "\n",
      "The first Americans will be vaccinated against #coronavirus in the next 24hrs as the US last night authorised the #Pfizer/Biontech vaccine for emergency use -> http://buff.ly/37cTMqp\n",
      "\n",
      "#PfizerBioNTech #PfizerVaccine\n",
      "[{'label': 'NEGATIVE', 'score': 0.9791513681411743}]\n",
      "\n",
      "\n",
      "==================================\n",
      "\n",
      "\n",
      "US HEALTH CARE WORKERS & MOST VULNERABLE TO RECEIVE THE PFIZER-BIONTECH SHOTS\n",
      "Trucks on Sunday began shipping millions of doses of Covid-19 vaccine in the United States, as part of the enormous logistics\n",
      "#US #HealthcareWorkers #Receive #Vaccines #PfizerBioNTech #DeathToll #Cases\n",
      "[{'label': 'NEGATIVE', 'score': 0.9944095611572266}]\n",
      "\n",
      "\n",
      "==================================\n",
      "\n",
      "\n",
      "From Tuna #Fish To #COVID19 #Vaccine - How Container Freezers Used To Ship #Seafood Are Given A New Role - http://financetwitter.com/2020/12/from-tuna-fish-to-covid-19-vaccine-how-container-freezers-used-to-ship-seafood-are-given-a-new-role.html… #UnitedStates #Britain #Canada #Coronavirus #COVIDー19 #Pfizer #PfizerBioNTech #FDA #airlines #FedEx #UPS #transport #mRNA #Science #technology\n",
      "[{'label': 'NEGATIVE', 'score': 0.9873366951942444}]\n",
      "\n",
      "\n",
      "==================================\n",
      "\n",
      "\n",
      "Concerned about the side effects of the #PfizerBioNTech #COVID19 vaccine?  Check out my recap \n",
      "[{'label': 'NEGATIVE', 'score': 0.976902961730957}]\n",
      "\n",
      "\n",
      "==================================\n",
      "\n",
      "\n",
      "Replying to @yinonw\n",
      "Chances are higher that one would die chocking on food than die due to covid.\n",
      "Nobody skipps a single meal sue to choking risk but many stopped living alltogather due to covid. \n",
      "Think about it.\n",
      "[{'label': 'NEGATIVE', 'score': 0.9893056750297546}]\n",
      "\n",
      "\n",
      "==================================\n",
      "\n",
      "\n",
      "Considerations for the #COVID19Vaccine in Pregnant Women #ACIP\n",
      "\n",
      "[{'label': 'NEGATIVE', 'score': 0.9846400618553162}]\n",
      "\n",
      "\n",
      "==================================\n",
      "\n",
      "\n",
      "Replying to @cnnbrk\n",
      "TRUMPVIRUS DEATH TOLL\n",
      "\n",
      "Mar 1 - 1 Dead\n",
      "\n",
      "April 1 – 6,460 Dead\n",
      "\n",
      "May 1 – 67,044 Dead\n",
      "\n",
      "June 1 – 109,509 Dead \n",
      "\n",
      "July 1 - 131,013 Dead\n",
      "\n",
      "Aug 1 – 156,764  Dead\n",
      "\n",
      "Sept 1 – 187,643 Dead\n",
      "\n",
      "Oct 1 – 208,347 Dead\n",
      "\n",
      "Nov 1 – 236,072 Dead\n",
      "\n",
      "Nov 7 – 242,103 Dead\n",
      "\n",
      "December 12 302,762\n",
      "[{'label': 'NEGATIVE', 'score': 0.9975470304489136}]\n",
      "\n",
      "\n",
      "==================================\n",
      "\n",
      "\n",
      "And yes, odds of death for the elderly and at-risk is higher.... this is why our policies which try to prevent the healthy from being exposed has only shifts more of the burden to the elderly, and is therefore sadly responsible for more overall deaths.\n",
      "\n",
      "[{'label': 'NEGATIVE', 'score': 0.999140202999115}]\n",
      "\n",
      "\n",
      "==================================\n",
      "\n",
      "\n",
      "Replying to @cnnbrk\n",
      "I’ll be on the sidelines watching for the Zombie Apocalypse! ....\n",
      "[{'label': 'NEGATIVE', 'score': 0.7156232595443726}]\n",
      "\n",
      "\n",
      "==================================\n",
      "\n",
      "\n",
      "Replying to @charlesadler and @RexChapman\n",
      "I don't believe it was a country. It was a worldwide network of researchers grinding the numbers and cleaning the glassware and posting the raw data to prevent duplication of work already done...my kind of new,world order..?\n",
      "[{'label': 'NEGATIVE', 'score': 0.9930428862571716}]\n",
      "\n",
      "\n",
      "==================================\n",
      "\n",
      "\n",
      "Replying to @yinonw\n",
      "This is great stuff!\n",
      "[{'label': 'POSITIVE', 'score': 0.9997925758361816}]\n",
      "\n",
      "\n",
      "==================================\n",
      "\n",
      "\n",
      "More approvals to #PfizerBioNTech vaccine: #Singapore approves @pfizer #CovidVaccine, expects first shots by December-end.\n"
     ]
    },
    {
     "name": "stdout",
     "output_type": "stream",
     "text": [
      "[{'label': 'NEGATIVE', 'score': 0.9746844172477722}]\n",
      "\n",
      "\n",
      "==================================\n",
      "\n",
      "\n",
      "Replying to @sputnikvaccine and @AstraZeneca\n",
      "I wouldn’t trust a medical product from Russia. They poison political opponents.\n",
      "[{'label': 'NEGATIVE', 'score': 0.9971498250961304}]\n",
      "\n",
      "\n",
      "==================================\n",
      "\n",
      "\n",
      "Replying to @yinonw and @scientificecon\n",
      "You are 18X more likely to have permanent heart damage and have 10X more odds of lung damage for every Covid death, among others. So, you may not die but become quite crippled too. I’d rather not take the risk. BTW, the side effects of vaccines seem to be pretty bad too...\n",
      "[{'label': 'NEGATIVE', 'score': 0.9992288947105408}]\n",
      "\n",
      "\n",
      "==================================\n",
      "\n",
      "\n",
      "Coronavirus vaccine ships today, expect hospitals to be overwhelmed in nine  months  ...with baby deliveries  #COVID19 #vaccination #PfizerBioNTech #mondaythoughts\n",
      "[{'label': 'NEGATIVE', 'score': 0.9708686470985413}]\n",
      "\n",
      "\n",
      "==================================\n",
      "\n",
      "\n",
      "Here are the lipids used in lipid nanoparticle used the #mRNA  BioNTech/Pfizer #PfizerBioNTech  #CovidVaccine The top two are patented by Acutias #Acuitas while 1,2-disteraoyl-sn-glycero-3-phosphocholine and cholesterol are \"natural\" lipids common in many products (and food). 1/3\n",
      "[{'label': 'NEGATIVE', 'score': 0.9772223234176636}]\n",
      "\n",
      "\n",
      "==================================\n",
      "\n",
      "\n",
      "Replying to @cnnbrk\n",
      "Pfizer wasn't part of operation warp speed\n",
      "[{'label': 'NEGATIVE', 'score': 0.9899875521659851}]\n",
      "\n",
      "\n",
      "==================================\n",
      "\n",
      "\n",
      "operation to vaccinate begins. As early as today in the nation worst hit by the coronavirus, health care workers and nursing home residents will be among the first to receive the Pfizer-BioNTech shots. Officials said it will likely be months before all those who want it can be\n",
      "\n",
      "[{'label': 'NEGATIVE', 'score': 0.9859949350357056}]\n",
      "\n",
      "\n",
      "==================================\n",
      "\n",
      "\n",
      "Phase 3 begins Dec 28, #PfizerBioNTech vaccine first to arrive in #singapore by end Dec, and shots to be free for all citizens and long-term residents. #COVID19\n",
      "[{'label': 'NEGATIVE', 'score': 0.937676191329956}]\n",
      "\n",
      "\n",
      "==================================\n",
      "\n",
      "\n",
      "Replying to @yinonw and @jhaskinscabrera\n",
      "Time to ban driving and swimming!\n",
      "[{'label': 'NEGATIVE', 'score': 0.984860897064209}]\n",
      "\n",
      "\n",
      "==================================\n",
      "\n",
      "\n",
      "#NEW: @methodistdallas has received its first shipment of #PfizerBioNTech's #COVID19 vaccine. Front line healthcare workers are the first to get the shot. Parkland and UT-Southwestern in Dallas and Texas Health in Fort Worth receive shipments tomorrow.\n",
      "[{'label': 'POSITIVE', 'score': 0.9562950730323792}]\n",
      "\n",
      "\n",
      "==================================\n",
      "\n",
      "\n",
      "@L_MitchellODP, every aspect of the vaccination was really well planned and went on smoothly without any hiccups. Thank you and keep up the great work!\n",
      "\n",
      "[{'label': 'POSITIVE', 'score': 0.9998047351837158}]\n",
      "\n",
      "\n",
      "==================================\n",
      "\n",
      "\n",
      "I’ve never been so excited to get a vaccine \n",
      "\n",
      "#CovidVaccine #PfizerBioNTech #VaccinesSaveLives #VaccinesWork\n",
      "[{'label': 'POSITIVE', 'score': 0.9390503764152527}]\n",
      "\n",
      "\n",
      "==================================\n",
      "\n",
      "\n",
      "Replying to @cnnbrk\n",
      "When given the opportunity to purchase additional vaccine doses, Trump passed.\n",
      " \n",
      "And now, fewer Americans will be vaccinated before June.\n",
      " \n",
      "Make no mistake, Trump's incompetence will cost American lives. It already has.\n",
      " \n",
      "So much for America first.\n",
      "[{'label': 'NEGATIVE', 'score': 0.9977930188179016}]\n",
      "\n",
      "\n",
      "==================================\n",
      "\n",
      "\n",
      "Wear a mask, wash your hands, and remain socially distant when possible. #stayhome #StayAtHome #StayAtHomeSaveLives #Corona #Covid #coronavirus #pfizer #Pfizervaccine #PfizerBioNTech #BioNTech\n",
      "[{'label': 'NEGATIVE', 'score': 0.9989364743232727}]\n",
      "\n",
      "\n",
      "==================================\n",
      "\n",
      "\n",
      "All respect to due process but why not give approval now instead of the 29th of December. Surely multiple other countries approving it already is proof enough? #PfizerBioNTech #COVID19 https://rte.ie/news/coronavirus/2020/1212/1183952-covid-ireland/… via @rte\n",
      "[{'label': 'NEGATIVE', 'score': 0.992231547832489}]\n",
      "\n",
      "\n",
      "==================================\n",
      "\n",
      "\n",
      "Thank you Thank you Thank you to all of the scientists who worked on the development of the vaccine for COVID-19. The first vaccines will be administered today in the US! This is the beginning of the end of the pandemic. #vaccine #Pfizer #PfizerCovidVaccine #PfizerBioNTech\n",
      "[{'label': 'POSITIVE', 'score': 0.9836673736572266}]\n",
      "\n",
      "\n",
      "==================================\n",
      "\n",
      "\n",
      "Replying to @Dr_Dee_Kumar\n",
      "Unfortunately not recommended at the moment if breastfeeding\n",
      "[{'label': 'NEGATIVE', 'score': 0.9976045489311218}]\n",
      "\n",
      "\n",
      "==================================\n",
      "\n",
      "\n",
      "Pfizer received emergency use authorization from the Food and Drug Administration for the Covid-19 vaccine developed in partnership with Germany’s BioNTech (BNTX), with trucks rolling out from Pfizer’s Kalamazoo, Michigan, production plant over the weekend #PfizerBioNTech #invest\n",
      "[{'label': 'NEGATIVE', 'score': 0.9956725835800171}]\n",
      "\n",
      "\n",
      "==================================\n",
      "\n",
      "\n",
      "Received my first dose of the #CovidVaccine #PfizerBioNTech today. I feel very privileged & lucky to have this to protect me & enable me to feel safer delivering care to patients @LPTnhs @BradgateUnit @LPTOTBradgate. Thank you to all involved in #LLR\n",
      "[{'label': 'POSITIVE', 'score': 0.9987950325012207}]\n",
      "\n",
      "\n",
      "==================================\n",
      "\n",
      "\n",
      "US is all set to start its #COVID19  #vaccination  drive with the doses of #PfizerBioNTech  #vaccine that is ready to be delivered to hospitals. US comes in the top list of the worst-hit countries from #coronavirus  #pandemic \n",
      "\n",
      "Read Full Article Here\n",
      "[{'label': 'NEGATIVE', 'score': 0.9997304677963257}]\n",
      "\n",
      "\n",
      "==================================\n",
      "\n",
      "\n",
      "#New Vaccination campaign begins today in Quebec. Residents at Maimonides will be among the first seniors in #Canada to receive the #PfizerBioNTech #CovidVaccine Quebec Health Min Christian Dubé & Dr. Richard Massé from Public Health will be speaking at 1pm. Photo: CityNews staff\n",
      "[{'label': 'POSITIVE', 'score': 0.9087106585502625}]\n",
      "\n",
      "\n",
      "==================================\n",
      "\n",
      "\n",
      "The agency also released new information for health care providers and for patients as the US shipped millions of doses of the vaccine across the country. \n",
      "\n",
      "#COVID19Vaccine #CoronaVaccine #Pfizervaccine #PfizerBioNTech\n",
      "[{'label': 'NEGATIVE', 'score': 0.9885070323944092}]\n",
      "\n",
      "\n",
      "==================================\n",
      "\n",
      "\n",
      "Replying to @sputnikvaccine and @AstraZeneca\n",
      "AstraZeneca analiza combinar su vacuna con la “Sputnik V”:\n",
      "[{'label': 'NEGATIVE', 'score': 0.9818611741065979}]\n",
      "\n",
      "\n",
      "==================================\n",
      "\n",
      "\n",
      "Replying to @sputnikvaccine and @AstraZeneca\n",
      "\n",
      "[{'label': 'NEGATIVE', 'score': 0.957895815372467}]\n",
      "\n",
      "\n",
      "==================================\n",
      "\n",
      "\n",
      "Facts are immutable, Senator, even when you're not ethically sturdy enough to acknowledge them. (1) You were born in Canada. (2) #PfizerBioNTech vaccine was developed in Germany.(3) Scientists behind it, Muslim Turkish immigrants to Germany #UgurSahin & #ÖzlemTüreci @RexChapman\n",
      "[{'label': 'POSITIVE', 'score': 0.9725283980369568}]\n",
      "\n",
      "\n",
      "==================================\n",
      "\n",
      "\n",
      "U.S. expects to have immunized 100 million against #COVID-19 by end of March -Slaoui https://reut.rs/2Km4KB3 #Covid_19 #vaccine #Trump #Biden #Fauci #WhiteHouse #Washington #NewYork #health #pharma #bigpharma #biotech #Pfizer #PfizerBioNTech #Pfizervaccine #Moderna #AstraZeneca\n",
      "[{'label': 'NEGATIVE', 'score': 0.9973419904708862}]\n",
      "\n",
      "\n",
      "==================================\n",
      "\n",
      "\n",
      "Replying to @DrMarcSiegel @kilmeade and 2 others\n",
      "Why are medical staff under 50 with no co-mordities getting the vaccine before people over 75 or in LTC?\n",
      "[{'label': 'NEGATIVE', 'score': 0.998389482498169}]\n",
      "\n",
      "\n",
      "==================================\n",
      "\n",
      "\n",
      "while deaths are closing in on the 300,000 mark... millions of people wait #PfizerBioNTech #Vaccine !\n",
      "-\n",
      "The first US #COVID19Vaccine shipments will arrive at 145 locations around the country on Monday morning, #USArmy General Gus Perna said on #Saturday during a press briefing.\n",
      "[{'label': 'NEGATIVE', 'score': 0.9749437570571899}]\n",
      "\n",
      "\n",
      "==================================\n",
      "\n",
      "\n",
      "it is a bit sad to claim the fame for success of #vaccination on patriotic competition between USA, Canada, UK and EU.\n",
      "we are in it together, we win it together. All those companies #PfizerBioNTech #Biontech #AstraZeneca #Moderna we can all be proud of modern science & technology\n",
      "[{'label': 'POSITIVE', 'score': 0.9986521005630493}]\n",
      "\n",
      "\n",
      "==================================\n",
      "\n",
      "\n",
      "Replying to @cnnbrk\n",
      "Money can buy FDA approvals quickly. Money can buy everything. \n",
      "[{'label': 'NEGATIVE', 'score': 0.988666832447052}]\n",
      "\n",
      "\n",
      "==================================\n",
      "\n",
      "\n",
      "Odds of death from an actual covid infection if you are under 50 is somewhere between odds of death by sunstroke and electrocution/radiation.\n",
      "\n",
      "You won't hear this from the mainstream media, but the numbers are based on the CDC and National Safety Council, and easy to calculate.\n",
      "[{'label': 'NEGATIVE', 'score': 0.9928396344184875}]\n",
      "\n",
      "\n",
      "==================================\n",
      "\n",
      "\n",
      "The synthesis of the Acuitas lipids is described in the patent linked below. ALC-0315 seems to be lipid III-3 in this patent and if so, the synthesis proceeds in 3 steps as per below scheme.  2/3 https://patents.google.com/patent/WO2018081480A1/en…\n",
      "\n",
      "[{'label': 'NEGATIVE', 'score': 0.9937661290168762}]\n",
      "\n",
      "\n",
      "==================================\n",
      "\n",
      "\n",
      "Privileged be offered the #PfizerBioNTech vaccine. I would encourage everyone to take it up. It’ll help protect people around you, yourself and squeeze out #COVID19. A huge thank you to our magnificent #NHS staff, @MattHancock, @Jesse_Norman (Kate Bingham), @AllanNixon\n",
      "[{'label': 'POSITIVE', 'score': 0.9995080828666687}]\n",
      "\n",
      "\n",
      "==================================\n",
      "\n",
      "\n",
      "Members of the @teamsters delivered the first #COVID19Vaccine this morning\n",
      "#teamsters\n",
      "#UPS\n",
      "#COVID19 \n",
      "#Pfizer \n",
      "#Pfizervaccine \n",
      "#PfizerBioNTech\n",
      "[{'label': 'NEGATIVE', 'score': 0.9910933971405029}]\n",
      "\n",
      "\n",
      "==================================\n",
      "\n",
      "\n",
      "Interesting and very detailed article showing up how a well tested #supplychain, with #sharedvisibility will help delivering #PfizerBioNTech #COVIDー19 vaccines in each US area.\n",
      "[{'label': 'POSITIVE', 'score': 0.9990776777267456}]\n",
      "\n",
      "\n",
      "==================================\n",
      "\n",
      "\n",
      "#CovidVaccine \n",
      "\n",
      "States will start getting #COVID19Vaccine Monday, #US says \n",
      "#pakustv #NYC #Healthcare #GlobalGoals #PfizerBioNTech\n"
     ]
    },
    {
     "name": "stdout",
     "output_type": "stream",
     "text": [
      "[{'label': 'NEGATIVE', 'score': 0.9967626333236694}]\n",
      "\n",
      "\n",
      "==================================\n",
      "\n",
      "\n",
      "In further #Phase3 details from @sporeMOH attractions may start applying to the Singapore Tourism Board (STB) @VisitSingapore to increase operating capacity from 50% to up to 65%\n",
      "https://moh.gov.sg/news-highlights/details/moving-into-phase-three-of-re-opening…\n",
      "\n",
      "[{'label': 'POSITIVE', 'score': 0.5557020306587219}]\n",
      "\n",
      "\n",
      "==================================\n",
      "\n",
      "\n",
      "The end is in sight, many of my coworkers and I are getting our first doses of the #PfizerBioNTech #CovidVaccine today. But as Dr. Milani at @OchsnerHealth emphasizes, stay #vigilant, #MaskUp, do your part and protect your community. #Covid_19 We can end this!\n",
      "[{'label': 'POSITIVE', 'score': 0.9205706119537354}]\n",
      "\n",
      "\n",
      "==================================\n",
      "\n",
      "\n",
      "#AnitaQuidangen, a personal support worker in #Toronto, became one of the first people in #Canada to receive a #COVID19  #Vaccine on Dec. 14, 2020. 0:44\n",
      "1st doses of #PfizerBioNTech COVID-19 vaccine in Canada given in Toronto, #Quebec City\n",
      "[{'label': 'NEGATIVE', 'score': 0.634627640247345}]\n",
      "\n",
      "\n",
      "==================================\n",
      "\n",
      "\n",
      "#Singapore approves the #PfizerBioNTech #COVID-19 #vaccine \n",
      "First shipment expected by end-December \n",
      "\n",
      "#coronavirus #COVID19 #CoronaVaccine #Pfizer #BioNTech\n",
      "[{'label': 'NEGATIVE', 'score': 0.9389995336532593}]\n",
      "\n",
      "\n",
      "==================================\n",
      "\n",
      "\n",
      "With several countries including the US and the UK now approving the use of #PfizerBioNTech's #COVID19Vaccine, #cybercriminals have sensed an opportunity to lure people into buying fake remedies on the dark web, said a report from #cybersecurity firm Check Point.\n",
      "[{'label': 'POSITIVE', 'score': 0.8517262935638428}]\n",
      "\n",
      "\n",
      "==================================\n",
      "\n",
      "\n",
      "If science is same everywhere so should be it's results. Entire world should approve vaccine which one country has approved and started using doesn't it makes sense #WHO role have been very wierd, unprofessional and suspicious in this entire pandemic..#vaccine #PfizerBioNTech\n",
      "[{'label': 'NEGATIVE', 'score': 0.997691810131073}]\n",
      "\n",
      "\n",
      "==================================\n",
      "\n",
      "\n",
      "Coronavirus: Iran reports 8,201 new cases, 221 deaths in the last 24 hours #Iran #coronavirus #PfizerBioNTech #CovidVaccine\n",
      "\n",
      "https://ilkha.com/english/world/coronavirus-iran-reports-8-201-new-cases-221-deaths-in-the-last-24-hours-11051…\n",
      "[{'label': 'NEGATIVE', 'score': 0.9836799502372742}]\n",
      "\n",
      "\n",
      "==================================\n",
      "\n",
      "\n",
      "Such a great feeling. A big thank you to all the healthcare professionals; scientists, nurses, doctors, caregivers. #COVID19 #CovidVaccine #PfizerBioNTech #Pfizervaccine\n",
      "[{'label': 'POSITIVE', 'score': 0.999748170375824}]\n",
      "\n",
      "\n",
      "==================================\n",
      "\n",
      "\n",
      "Vaccine!! Anyone?? #covid #Pfizervaccine #PfizerBioNTech\n",
      "[{'label': 'NEGATIVE', 'score': 0.9976575970649719}]\n",
      "\n",
      "\n",
      "==================================\n",
      "\n",
      "\n",
      "Presenting you the top Medical News/Advancement of the past week you don't want to miss!\n",
      "\n",
      "#docnosofficial #covid19 #covidcount #pfizeruk #pfizervaccine #pfizerbiontech #spinesurgery #spinesurgeryrecovery #yellowfever #medicalnews #healthcare #docnos\n",
      "[{'label': 'POSITIVE', 'score': 0.9915977120399475}]\n",
      "\n",
      "\n",
      "==================================\n",
      "\n",
      "\n",
      "Replying to @charlesadler and @RexChapman\n",
      "\n",
      "[{'label': 'POSITIVE', 'score': 0.6868648529052734}]\n",
      "\n",
      "\n",
      "==================================\n",
      "\n",
      "\n",
      "#INBOX | @GovParsonMO says shipments of the #PfizerBioNTech vaccine will continue to ship to Missouri’s 21 vaccination sites throughout this week. These sites are hospitals and health care facilities. #moleg\n",
      "[{'label': 'NEGATIVE', 'score': 0.9914116859436035}]\n",
      "\n",
      "\n",
      "==================================\n",
      "\n",
      "\n",
      "Pregnant women may likewise choose to get the vaccine after discussion with her HCP. Need to consider risks and benefits, local COVID19 transmission, personal risk of contracting the virus etc.\n",
      "\n",
      "[{'label': 'NEGATIVE', 'score': 0.9947494268417358}]\n",
      "\n",
      "\n",
      "==================================\n",
      "\n",
      "\n",
      "Replying to @kfdmnews and @THEPAIGEREPORT1\n",
      "Seriously.\n",
      "[{'label': 'POSITIVE', 'score': 0.7056297063827515}]\n",
      "\n",
      "\n",
      "==================================\n",
      "\n",
      "\n",
      "Replying to @charlesadler and @RexChapman\n",
      "The sad fact is that Canadian conservatives think these guys are a model to emulate. Lets get back to our progressive conservative roots.\n",
      "[{'label': 'NEGATIVE', 'score': 0.6249839663505554}]\n",
      "\n",
      "\n",
      "==================================\n",
      "\n",
      "\n",
      "Singapore's plan to tackle #COVID19\n",
      "has been really effective.  \n",
      "Early in pandemic,more than $1 bn was set aside for advanced purchase of vaccine candidates.\n",
      "#PfizerBioNTech to be the first vaccine approved by Singapore Health Sciences Authority. Shipment to arrive by Dec end.\n",
      "[{'label': 'POSITIVE', 'score': 0.9902787208557129}]\n",
      "\n",
      "\n",
      "==================================\n",
      "\n",
      "\n",
      "#Iran has told the World Health Organization it does not intend to import the #PfizerBioNTech Covid-19 #vaccine because it does not have the means to transport it, a health official said on Saturday. This is because the vaccine must be kept at minus-70 degrees. \n",
      " #COVID19 #WHO\n",
      "[{'label': 'NEGATIVE', 'score': 0.9992614388465881}]\n",
      "\n",
      "\n",
      "==================================\n",
      "\n",
      "\n",
      "Trump announces #vaccine rollout 'in less than 24 hours'\n",
      "\n",
      "The first Americans will be vaccinated against #coronavirus in the next 24hrs as the US last night authorised the #Pfizer/#Biontech vaccine for emergency use -> https://cityam.com/trump-announces-vaccine-rollout-in-less-than-24-hours/…\n",
      "\n",
      "#PfizerBioNTech #PfizerVaccine\n",
      "[{'label': 'NEGATIVE', 'score': 0.979119062423706}]\n",
      "\n",
      "\n",
      "==================================\n",
      "\n",
      "\n",
      "Replying to @charlesadler and @RexChapman\n",
      "I remember when he ran for president. I kept saying he's going to have to answer to his Canadian heritage as he wouldn't be illegible anyways. \n",
      "\n",
      "Oh and yeah, pesky facts like that don't exist in his world.\n",
      "[{'label': 'NEGATIVE', 'score': 0.9902740120887756}]\n",
      "\n",
      "\n",
      "==================================\n",
      "\n",
      "\n",
      "Doses of Pfizer’s Covid-19 vaccines will arrive at 145 US sites on Monday, Operation Warp Speed official says https://cnn.it/3qTPf4a\n",
      "[{'label': 'NEGATIVE', 'score': 0.9887928366661072}]\n",
      "\n",
      "\n",
      "==================================\n",
      "\n",
      "\n",
      "#BreakingNews A nurse in New York City on Monday became the first person in the United States to receive the coronavirus vaccine, receiving the #PfizerBioNTech shot live on television. (AFP)\n",
      "[{'label': 'NEGATIVE', 'score': 0.9881647229194641}]\n",
      "\n",
      "\n",
      "==================================\n",
      "\n",
      "\n",
      "#Singapore Approves Pfizer #COVID19 Vaccine, First Shipment Expected by End of #December, Says PM Lee Hsien Loong\n",
      "#PfizerBioNTech #Pfizervaccine @leehsienloong\n",
      "[{'label': 'NEGATIVE', 'score': 0.5276510715484619}]\n",
      "\n",
      "\n",
      "==================================\n",
      "\n",
      "\n",
      "#UgurSahin #ozlemtureci the #Muslim Scientists Husband-Wife are saving the world with their #PfizerBioNTech #PfizerCovidVaccine #PfizerBiotech #Pfizervaccine #PfizerProud\n",
      "[{'label': 'NEGATIVE', 'score': 0.9889503717422485}]\n",
      "\n",
      "\n",
      "==================================\n",
      "\n",
      "\n",
      "#Singapore became on Monday the first Asian country to approve #PfizerBioNTech's #CoronavirusVaccine and said it expects to start receiving shots by the end of the year\n",
      "[{'label': 'NEGATIVE', 'score': 0.9812657237052917}]\n",
      "\n",
      "\n",
      "==================================\n",
      "\n",
      "\n",
      "While the world has been on the wrong side of history this year, hopefully, the biggest vaccination effort we've ever known will put us back on the right one https://nbcnews.com/news/us-news/first-trucks-covid-19-vaccine-roll-out-pfizer-plant-michigan-n1251037… @DohaMadani #covid19 #supplychain #logistics #vaccine #unitedstates #pandemic #pfizerbiontech\n",
      "[{'label': 'POSITIVE', 'score': 0.9786564707756042}]\n",
      "\n",
      "\n",
      "==================================\n",
      "\n",
      "\n",
      "Replying to @charlesadler and @RexChapman\n",
      "Psst... we don't want him back.\n",
      "[{'label': 'NEGATIVE', 'score': 0.9991632699966431}]\n",
      "\n",
      "\n",
      "==================================\n",
      "\n",
      "\n",
      "Replying to @charlesadler and @RexChapman\n",
      "Well said Charles. Ted Cruz and his ilk have made it very difficult to be a person who is both progressive and conservative.\n",
      "[{'label': 'POSITIVE', 'score': 0.9573599696159363}]\n",
      "\n",
      "\n",
      "==================================\n",
      "\n",
      "\n",
      "Tragedy. Another life taken by corporate greed and the evil pharmaceutical companies. #vaccination #vaccine #CovidVaccine #Pfizer #PfizerBioNTech #modernavaccine https://twitter.com/MajorPatriot/status/1339219266906763267…\n",
      "[{'label': 'NEGATIVE', 'score': 0.9968933463096619}]\n",
      "\n",
      "\n",
      "==================================\n",
      "\n",
      "\n",
      "Over the weekend, the #FAA issued guidance for pilots following use of the new #PfizerBioNTech #vaccine for #COVID19, generally permitting their ability to fly after a brief waiting period. #flying #pilots\n",
      "[{'label': 'POSITIVE', 'score': 0.5989660024642944}]\n",
      "\n",
      "\n",
      "==================================\n",
      "\n",
      "\n",
      "Replying to @yinonw\n",
      "What a 130,000+ COVID-19 deaths looks like . . . \n",
      "[{'label': 'NEGATIVE', 'score': 0.9987213611602783}]\n",
      "\n",
      "\n",
      "==================================\n",
      "\n",
      "\n",
      "Replying to @FlyingMagazine\n",
      "Well. How about driving? New excuse for teachers not to go to work.\n",
      "[{'label': 'NEGATIVE', 'score': 0.6552838683128357}]\n",
      "\n",
      "\n",
      "==================================\n",
      "\n",
      "\n",
      "Replying to @charlesadler and @RexChapman\n",
      "@tedcruz this sums up your 'Dear Leaders\" ignoring and dereliction of duty in his response to Covid:\n",
      "[{'label': 'NEGATIVE', 'score': 0.9958546161651611}]\n",
      "\n",
      "\n",
      "==================================\n",
      "\n",
      "\n",
      "The trump administration failed to deliver on vaccine promises, *shocker* #COVIDIOTS #coronavirus #CovidVaccine #PfizerBioNTech\n",
      "[{'label': 'NEGATIVE', 'score': 0.9996374249458313}]\n",
      "\n",
      "\n",
      "==================================\n",
      "\n",
      "\n"
     ]
    }
   ],
   "source": [
    "for sentence in sentences:\n",
    "    print(sentence)\n",
    "    print(sentiment_analysis(sentence))\n",
    "    print('\\n\\n==================================\\n\\n')"
   ]
  },
  {
   "cell_type": "code",
   "execution_count": 35,
   "id": "1a6fce02",
   "metadata": {},
   "outputs": [
    {
     "data": {
      "text/plain": [
       "[{'label': 'NEGATIVE', 'score': 0.8089855909347534}]"
      ]
     },
     "execution_count": 35,
     "metadata": {},
     "output_type": "execute_result"
    }
   ],
   "source": []
  },
  {
   "cell_type": "markdown",
   "id": "0746192c",
   "metadata": {},
   "source": [
    "## Step 3: Dimensionality reduction\n",
    "\n",
    "We then reduce the dimensionality of the embeddings from 200-D to 5-D. This helps the clustering algorithm.\n",
    "\n",
    "Here we use UMAP as recommended by [this post](https://www.atoti.io/topic-modeling-on-twitter-using-sentence-bert/), since it is better at preserving local structures, and tweets are all about subtle local structures."
   ]
  },
  {
   "cell_type": "code",
   "execution_count": 44,
   "id": "18231a14",
   "metadata": {},
   "outputs": [],
   "source": [
    "from umap import UMAP"
   ]
  },
  {
   "cell_type": "markdown",
   "id": "7e88503f",
   "metadata": {},
   "source": [
    "### 1. Compare UMAP and t-SNE\n",
    "\n",
    "First, we do a bit of visualization to compare the effectiveness of UMAP and t-SNE. Theoretically, we should observe that UMAP produces **richer structures (clusters, outliers, etc.)**, while t-SNE yields a more **uniform (mixed and spread-out)** result."
   ]
  },
  {
   "cell_type": "code",
   "execution_count": 45,
   "id": "f0411fc4",
   "metadata": {},
   "outputs": [
    {
     "data": {
      "application/vnd.plotly.v1+json": {
       "config": {
        "plotlyServerURL": "https://plot.ly"
       },
       "data": [
        {
         "hovertemplate": "<b>%{hovertext}</b><br><br>x=%{x}<br>y=%{y}<extra></extra>",
         "hovertext": [
          "Supplier Fosun Pharma will be making an initial payment of €125 mil by year-end for 50 million doses. #FMTNews #China #Vaccine #Covid19 #PfizerBioNTech",
          "Replying to @AnitaOakville @PattyHajdu and 4 others\nphoto-op? don't slow the shipment....",
          "#UnitedStates : The Federal Aviation Administration (FAA) said Saturday it had approved the use of the #PfizerBioNTech #COVID19 vaccine by pilots and air traffic controllers. \n@PIB_India @airnewsalerts",
          "Politico.  December 13, 2020.  FDA's Hahn: Covid-19 vaccine authorization based in 'science and data'\nhttps://politico.com/news/2020/12/13/fdas-hahn-coronavirus-vaccine-approval-science-data-444854…\n#coronavirus #covid19 #coronavirusprevention #CoronaVirusUpdate #CoronavirusVaccine #COVID19Vaccine #PfizerBioNTech #business #technology #datascience",
          "KFDM’s/FOX 4’s @THEPAIGEREPORT1 is at Baptist hospital getting a first hand look at where the Pfizer COVID-19 vaccines will be stored.\n\nTune into KFDM and FOX 4 news to find out how the hospital is preparing. #COVID19 #Vaccine #PfizerBioNTech",
          "Replying to @Anaridis and @Joyce_Karam\nThis brings such a big smile to my face. I love it.",
          "In case anyone is interested here is a link to the #PfizerBioNTech #COVID19Vaccine patient information that is on the @US_FDA site. \n\nThis should be given to every patient who receives the vaccine https://fda.gov/media/144414/download…",
          "Ok I might be late to discovering this but... both #PfizerBioNTech  and #Moderna #COVID19 vaccines are being led by WOMEN @KizzyPhD @drkatherinjansen Women saving the world y’all! ",
          "#SputnikV uses 2 different human adenoviral vectors for 2 vaccine shots to ensure that immunity to the 1st does not make the 2nd less effective. We offered @AstraZeneca to use one of our vectors so they can also have two vectors in their vaccine. AZ confirmed.",
          "No.1 of 2 done.\n\n#ThankYouNHS @NHSuk @MHRAgovuk and #PfizerBioNTech @pfizer for making the #CovidVaccine dream possible and come to fruition so soon in the UK. #HopeForTheFuture @TeamNUH @NUH_AcuteMed",
          "Singapore approves Pfizer vaccine , becomes first south East Asian country to approve the vaccine. Doses will be given from end of December #Singapore #Covid_19 #CovidVaccine #PfizerBioNTech",
          "How the #PfizerBioNTech Vaccine Works?\nThis article made a detailed explanation.\nhttps://nytimes.com/interactive/2020/health/pfizer-biontech-covid-19-vaccine.html…\n\n#COVID19 #CovidVaccine #vaccines #coronavirus #CoronaVaccine #SARSCoV2 #cellbiology #mRNA #biology #biotech #biotechnology",
          "The Advisory Committee on Immunization Practices’ Interim Recommendation for Use of Pfizer-BioNTech COVID-19 Vaccine — United States, December 2020\nvia @CDCgov @CDCMMWR this afternoon.\n\nhttps://cdc.gov/mmwr/volumes/69/wr/mm6950e2.htm?s_cid=mm6950e2_w… \n#COVID19Vaccine #Pfizer #PfizerBioNTech #covid19pandemic",
          "What an apt name: #Portage, Michigan!  #PfizerPlant\n",
          "Toronto to receive Ontario's 1st doses of Pfizer COVID-19 vaccine today\nhttps://indiablooms.com/world-details/USN/27188/toronto-to-receive-ontario-s-1st-doses-of-pfizer-covid-19-vaccine-today.html…\n#Ontario #PfizerBioNTech #COVID19Vaccine #Toronto #FirstDose",
          "#APT29 aka #CozyBear hacker group suspected of hacking #PfizerBioNTech #IP and now federal agencies like U.S. Treasury Department, potentially spying on emails for months. \n\n#Infosec #CyberSecurity https://lnkd.in/g62qMiE",
          "Vaccines save lives  Hopefully HCW can assuage public fear and anxiety regarding this vaccine  so we can finally move forward #VaccinesSaveLives \n#CovidVaccines #PfizerBioNTech \n\n**Coronavirus Update 116: Pfizer COVID 19 Vaccine Explained**",
          "Replying to @cnnbrk\nGood luck with this experimental “vaccin” ",
          "Excited about tomorrow \nSo honoured to be part to this exciting team administering in primary care #Covid_19 #Covid19UK #PfizerBioNTech #BioNTech #CovidVaccine #teamGp #gp #COVID19Vaccine #primarycare #vaccination #Rcgp",
          "The #USA government is prepping millions of doses of the #PfizerBioNTech coronavirus #vaccine for shipment to sites across the nation in support of what may be the most ambitious immunization program in history.\n\n https://bit.ly/3nqxWFI",
          "Getting my first dose of the #PfizerBioNTech #CovidVaccine next weekend and seeing this #UNBOXING just made it so real. Are my hopes for this set too high?#OperationWarpSpeed",
          "Replying to @Anaridis and @devincole\nDr. Blue Suit has been waiting months to show off those moves. Where’s his extended remix?",
          "Can’t wait to take my kids towards herd immunity   \n#vaccines #PfizerBioNTech",
          "Pfizer-BioNTech COVID-19 Vaccine: Donald Trump, Mike Pence & Top US Officials to be Offered Early Access to Newly Approved Vaccine: https://latestly.com/world/pfizer-biontech-covid-19-vaccine-donald-trump-mike-pence-top-us-officials-to-be-offered-early-access-to-newly-approved-vaccine-2196957.html… #coronavirus #Covid_19 @realDonaldTrump @VP @WhiteHouse #PfizerBioNTech",
          "Today I was lucky enough to get vaccinated against #COVID19. I did it not just for myself, but for my patients, my friends and family, and my community. When the vaccine becomes more widely available, I'd urge you to do the same!\n#CovidVaccines #PfizerBioNTech #Thankful",
          "Sunday evening’s shipment is the first of an initial 30,000 doses of the Pfizer vaccine to be spread across 14 distribution centres. #COVID19AB #vaccine #pandemic #PHAC #PfizerBioNTech",
          "The first few million #PfizerBioNtech #vaccines have arrived in the US after a last-minute #emergencyauthorization last Friday. \n\nWill we see #risk #assets rising at the cost of #dollar early in the week today or will #investors wait for #jabs to begin first?",
          "Replying to @AnitaOakville @PattyHajdu and 4 others\nWoo hoo!  Best news! ",
          "\"The [temperature] issue with BioNtech/Pfizer - yes, it's challenging. But we know how to do it\".\n",
          "This vaccine is special because it triggers an immune response without using the actual virus that causes covid-19.\n https://edmonton.ctvnews.ca/mobile/how-the-pfizer-biontech-covid-19-vaccine-works-health-canada-1.5232525… #pfizer #pfizerbiontech #covid19ab #pfizervaccine",
          "I am beyond relieved to share that I’ll be among the first to receive the #CovidVaccine from #PfizerBioNTech. Thank you @DrFNA for helping to make this possible by participating in a Phase 3 trial. Thank you also, for sharing your experience. #KnowledgeIsPower #TheMoreYouKnow",
          "The first trucks loaded with Pfizer’s coronavirus shot pulled out of a Michigan warehouse early Sunday — starting the biggest vaccination effort in American history\n\n#Michigan #Pfizer #PfizerBioNTech #CovidVaccine  \n\nhttps://realtalktime.com/pfizer-covid-vaccine-portage-michigan/…",
          "Replying to @yinonw and @jhaskinscabrera\nThat's why those people should just be living their lives.  And focused protection for the elderly.",
          "Will you be taking the COVID-19 vaccine once available to you? #COVID19 #Pfizer #BioNTech #vaccine #PfizerBioNTech #mRNA #AstraZeneca #coronavirus #usa #Canada #vaccination #CoronaVaccine #pandemic #Biden #trump #OperationWarpSpeed #CovidVaccines #Quarantine #antivaxxers #cdnpol",
          "This mandated anthrax vaccine killed 35k US soldiers* and maimed  many more, at about 2% serious adverse reactions rate. #PfizerBioNTech ‘s info quotes a 4% grade 3 rate! \n\nWatch the compelling testimonials of US & U.K. military an see for yourselves: https://t.co/k2uZDHIlxq",
          "⁦@AvgerinosMoscow⁩ #PfizerBioNTech #FDA approval Apprentice Style!\n⁦@realDonaldTrump⁩: “Approve the #vaccine or you’re fired!”\nNow that’s science!",
          "Building on last week’s ‘trial’ run and extending our vaccination  programme this week . So much effort going on behind the scenes . Trainers  tomorrow team #teampharmacy #lovemyjob #PfizerBioNTech @cab5554 @tracyr09 @Cymraes_Lois @OwenBerwyn",
          "Pfizer-BioNTech’s COVID19 vaccine is also urgently needed for Africa: #Ghana, #Nigeria, #Egypt, #SouthAfrica & rest of Africa \nBy @KwakuAkyeampong \n\nRetweet\n\n#Pfizer #Pfizervaccine #PfizerCovidVaccine #PfizerBioNTech #PfizerBiotech @_AfricanUnion @CNNAfrica @ReutersAfrica #Africa",
          "Replying to @katie_crowfoot @LPTnhs and 2 others\nGood luck, hope it works and the side effects aren't too bad",
          "Replying to @770CHQR\nTruly defines, trickling in ....",
          "@UTSWNews starting the COVID vaccination program today. Socially distanced staff patiently waiting. #CovidVaccine #Covid_19 #PfizerBioNTech",
          "#Pfizervaccine #PfizerBioNTech WHAT'S IN THIS #vaccine? Why #Pfizer is NOT 100% transparent about it? \n#coronavirus #VaccinesWork #VaccinesSaveLives #VaccinoAntiCovid #Dubai\n#Toronto #emirates #SideEffect #allergies\nSource+Copyright- MIT Technology Review",
          "Replying to @DrMarcSiegel @EricShawnTV and @ArthelNeville\nSaid the person pretending to be a scientist as they send the tweet dressed in their pajamas from their mothers basement",
          "I love high quality infographics for getting across multiple ideas quickly \n\nHere is an excellent set from The Factivists on @Instagram (not on @Twitter) on the #PfizerBioNTech #vaccine\n\nhttps://instagram.com/p/CIorEb6no34/?igshid=74fkf2c2vldh…\n\n#Covid19UK #COVID19 #CovidVaccine #mRNA #DocsforVax #MedTwitter",
          "@HeartOTXHeartMD\n",
          "The first COVID-19 vaccine doses have arrived in Oregon.  \n\nWatch #MorningsontheDove from 6am -9am tomorrow for details. \n\n#COVID19Vaccine #PfizerBioNTech #theDove #theDoveTV #theDoveRadio #theDoveNewsroom #Faith #hope #encouragment #affirmation #PNW #Oregon",
          "POTUS Donald Trump declared months ago the military would be rolling out distribution and he was scoffed for it.  He was completely right.  Now, it’s History.\n",
          "Singapore approves @pfizer @BioNTech_Group  vaccine for local use. Vaccine safe to use on people aged 16 and above, and first batch of #PfizerBioNTech vaccine will arrive by end of December.",
          "Replying to @cnnbrk\n@YOUCEFB45681191",
          "Per the CDC, persons with HIV and other immunocompromising conditions may still receive the COVID-19 vaccine unless otherwise contraindicated. #PfizerBioNTech #MedTwitter",
          "Anyone wondering why day after #PfizerBioNTech approval in the UK people were getting vaccinated but all we are told this point in US and #NewYork is it will happen in “next few days” #CovidVaccine",
          "Half way there #COVID19 #CovidVaccine #vaccination #Pfizervaccine #PfizerBioNTech",
          "The hospital I work at has received the vaccine. Our IV room made the first five doses to be given in the state. I’m ready for this bad boy. #CovidVaccine #COVID19 #PfizerBioNTech",
          "#Canadian firm Acuitas - at heart of #PfizerBioNTech #vaccine - great story - @ubcprez #UBC - we helped early on with @NRC_CNRC #IRAP program when the firm was called AlCana Technologies Ltd ... #canpoli",
          "Kirill Dmitriev, RDIF CEO: #SputnikV is showing high efficacy itself and can also be combined with other vaccines. Gamaleya and RDIF welcome joint clinical trial with @AstraZeneca to explore adding #SputnikV human adenoviral vector to AZ vaccine.\nAstraZeneca will test using component of Russia’s Sputnik V in clinical trials of its own vaccine...sputnikvaccine.com",
          "#WATCH: Shipments of initial doses of the COVID-19 vaccines arrived in selected ports of entry in Canada on Sunday night. https://instagram.com/p/CIxZTVAD_tm/?igshid=s6imubrpo54k…\n\nVideo credit: Canadian Armed Forces Combat Camera \n\n#PfizerBioNTech #COVID19 #CovidVaccine #covid19Qc #COVIDCanada",
          "Happy and relieved to have the #PfizerBioNTech #Covidvaccine – amazing work from all at @MHRAgovuk and @NHSuk since it’s less than 2 weeks since CHM recommended that it be approved in the UK. #GetVaccinated!",
          "Explain to me again why we need a vaccine @BorisJohnson @MattHancock #whereareallthesickpeople #PfizerBioNTech #CovidVaccine #coronavirus #COVIDIOTS #saynotorhevaccine #markofthebeast",
          "#BillGates  caught on video admitting #CovidVaccine  will CHANGE our #DNA  FOREVER. https://youtu.be/ksEVaO806Oo via @YouTube He wasn't \"caught on tape\", he PROUDY stated it.\n#Covid_19 #coronavirus   #Pfizer #PfizerBioNTech \n#pfizervccineahoax #COVIDIOTS #AstraZeneca",
          "With #Germany announcing yet its strictest #lockdown starting Wed and #NHS warning #BoJo of a #thirdwave in a letter sent by the group’s CEO, the risk asset basket narrows down to a select few though.\n",
          "There have not been many bright days in 2020 but here are some of the best \n1. #BidenHarris winning #Election2020 \n2. #PfizerBioNTech #CovidVaccine getting @US_FDA #EUA\n3. #ACIP recommending the #PfizerBioNTech #CovidVaccine \n\nLooking ahead\n- 12/15 when I get my #CovidVaccine",
          "I pucking do not intend to get vaccinated. Wht if my employer force to get vaccinated? Like they did for Arogya Setu App.\n\n#FarmBills2020 #WashingtonDC #HongKong #Argentina #PfizerBioNTech",
          "FAQs on Pfizer COVID vaccine.\nThread\n\n1.Which COVID vaccine should I get? Is one better than others? \n\nYou should get the vaccine  you are offered. Getting a large number of people vaccinated is more important than differences in vaccine efficacy",
          "#vaccine #Pfizervaccine #PfizerBioNTech WHAT'S IN THIS VACCINE? #Pfizer is NOT 100% transparent about it.\n#coronavirus #VaccinesWork #VaccinesSaveLives #VaccinoAntiCovid #Dubai\n#Toronto #emirates #SideEffect #allergies\nCopyright- MIT Technology Review",
          " Some #FDA Advisors Tapped to Review #Coronavirus #Vaccines Received Payments from Vaccine Companies\nJust pray that Trump’s  frantic push on new #PfizerBioNTech vaccine without any long term damage or peer review, that we don’t lose even more people",
          "Does anyone have any useful advice/guidance for whether the COVID vaccine is safe whilst breastfeeding? #CovidVaccines #PfizerBioNTech #breastfeeding",
          "https://nytimes.com/live/2020/12/12/world/covid-19-coronavirus/britain-canada-and-the-us-start-their-vaccination-campaigns-and-other-news-from-around-the-world…. #Canada ordered enough of the #PfizerBioNTech #vaccine for all of its people- we were too smart for that... #TrumpWorstPresidentEver  why does anyone support him???",
          "Just hours after being authorized by the #FDA, doses of #PfizerBioNTech #coronavirus #vaccine are being packaged and readied for distribution by UPS and FedEx, the head of Operation Warp Speed said Saturday.",
          "The US Food and Drug Administration (FDA) has granted emergency use authorization to Pfizer-BioNTech's mRNA #COVID19 vaccine making it the first vaccine to receive approval in the USA. #PfizerBioNTech #coronavirus #vaccine @US_FDA @pfizer @BioNTech_Group",
          "Eric Shawn: The vaccine is here...in record time! https://video.foxnews.com/v/6215905201001 thanks @EricShawnTV @ArthelNeville for allowing me to join on this historic day #PfizerBioNTech #PfizerCovidVaccine stop the #COVID19 #pandemic #VaccinesWork #Masks #SocialDistancing #KindnessMatters",
          "Fascinating to see how the messenger RNA vaccine delivery approach has helped enable a dramatically shorter time to market. Viral sequencing selection to stage 1 trials took 20 months with SARS (2003) and is only taking ~3 months with Covid-19. #vaccines #PfizerBioNTech #Moderna",
          "Replying to @charlesadler and @RexChapman\nAtta boy Chuck...",
          "The FDA Authorizes Emergency Use Of The Pfizer Vaccine\nhttp://thenewdispatch.com/the-fda-authorizes-emergency-use-of-the-pfizer-vaccine…\n#PFE #Pfizer #Pfizervaccine #PfizerBioNTech #FDA #CovidVaccine #COVID19Vaccine #COVID19 #COVID #Vaccine #USA #Coronavirus #CoronavirusVaccine #PfizerCovidVaccine #Covid_19 #Vaccination",
          "The US Food and Drug Administration (FDA) issued yesterday the first emergency use authorization of the Pfizer-BioNTech vaccine.\n#Kuwait #BioNtech #PfizerBioNTech #Covid19Vaccine \n\nhttps://thepeninsulaqatar.com/article/13/12/2020/Kuwait-authorizes-emergency-use-of-Pfizer-BioNTech-covid-19-vaccine…",
          "#AstraZeneca to buy pharmaceutical firm #Alexion for $39 billion\nhttp://nationalbusinessmirror.com/astrazeneca-to-buy-pharmaceutical-firm-alexion-for-39-billion/…\n#COVID19vaccine #Pfizer #Pfizervaccine #PfizerBioNTech #PfizerCovidVaccine #astrazenecacovidvaccine #astrazenecacovid19vaccine",
          "We found the guy in the tan coat! \n\"We just wanted to highlight this moment. It's a really big deal. It's such a positive turning point....We wanted to highlight that, to give hope to everyone.\" Armani Thao of \n@The_BMC talked to us about the dance video seen around the world.\n2:1614.8K views",
          "Replying to @TudorGJovin @CooperHealthNJ and 3 others\n",
          "\n",
          "Replying to @AnitaOakville @MaryamMonsef and 5 others\nThank goodness the Federal Liberals are in charge of this roll out ensuring it will be done well!!! Thank you @JustinTrudeau !! And all of the great ministers",
          "Replying to @Anaridis\nIf I worked there I would be the one to throw the whole thing off, they're really good. ",
          "US began shipments of #Covid19 #PfizerBioNTech #vaccine Sunday following final CDC approval. While #pandemic is far from over, investors are seeing light at end of the dark tunnel. Wall Street is expected to kick off Monday in the green - @husseinsayyed \nhttps://financialmirror.com/2020/12/14/us-vaccine-roll-out-lifts-risk-assets-final-stretch-in-brexit-talks…",
          "Turkey’s coronavirus death toll reaches 16,417 @drfahrettinkoca #CoronavirusPandemic #Turkey #PfizerBioNTech #Sinopharm\nhttps://ilkha.com/english/health-life/turkey-s-coronavirus-death-toll-reaches-16-417-11068…",
          "#PfizerBioNTech's #COVID19 vaccines are making their way to distributions sites nationwide. @FedEx says some of the first batches have been safely delivered.",
          "http://Pfizer-Biontech.Com\nUS agency authorizes Pfizer-BioNTech COVID-19 vaccine\nFirst vaccine will be administered in less than 24 hours, says US president\nhttps://aa.com.tr/en/americas/us-agency-authorizes-pfizer-biontech-covid-19-vaccine/2074319…\n#Pfizer  #Biontech  #PfizerBiontech  #Trump  #Ugursahin  #ozlemtureci  #vaccine",
          "Last night, the first #COVID19Vaccines arrived in Canada and as we speak, the first of the vaccines are being administered TODAY!\n\nThe #PfizerBioNTech vaccine requires storage in extremely low temperatures, and are currently being distributed to 14 locations across Canada.",
          "Pfizer-BioNTech COVID-19 Vaccine Side Effects: Canada Warns Allergic People Against Pfizer-BioNTech Coronavirus Vaccine\nhttps://latestly.com/world/canada-warns-allergic-people-against-pfizer-biontech-covid-19-vaccine-2195725.html…\n#PfizerBioNTech #COVID19Vaccine #COVID19VaccineSideEffects #Canada  #Allergic",
          "Surprised to learn those with autoimmune conditions or otherwise immunosuppressed are advised not to receive the #PfizerBioNTech vaccine per to NACI. These are higher risk folks, and not a live vaccine. I understand questions of efficacy but is there really any safety concern?",
          "Replying to @yinonw\n@DrBenTapper1",
          "@LUDOVICOTODINI @Taxistalobbyst   caught on video admitting #Covidvaccine will CHANGE our #DNA FOREVER. https://youtu.be/ksEVaO806Oo via @YouTube #coronavirus #corona #Pfizer #Pfizervaccine \n#PfizerBioNTech #Elections2020 #Election2020  @POTUS \n#JoeBiden #BidenHarris2020 @ASP #COVID",
          "Replying to @KristenRogersMD and @OchsnerHealth\nWhat is the end point ?   The get to a yes point on normal restaurants, normal life, no masks?   What is the standard by which this will be determined?",
          "Replying to @JacksonHealth and @tania_leets\nOur heroes FINALLY getting the PPE they’ve been waiting for.",
          "Replying to @charlesadler\n",
          "Healthcare workers receive the first dosis of Pfizer-BioNtech COVID-19 vaccine at Memorial Healthcare System in Miramar, Florida, U.S., on Monday, Dec. 14 2020. Photographer: Eva Marie Uzcategui/Bloomberg\n#covid19vacccine #pfizerbiontech #healthcareworkers #photojournalism",
          "Health #Canada has warned people allergic to any of the ingredients in the #PfizerBioNTech #COVID19 vaccine not to receive it.",
          "#vaccination #vaccinehesitancy\n",
          "Replying to @AnitaOakville @PattyHajdu and 4 others\nThank you Minister Anand for your dedication & hard work. Canadians are very fortunate to have you serving us as Minister of Procurement in these uncertain times.",
          "Kudos UPS!\n\n@UPS announced on 13th, its involvement & full support of distribution efforts for #PfizerBioNTech's #COVID19 vaccine as part of Operation #WarpSpeed. Deployments began after the federal mandate to distribute vaccines. https://pressroom.ups.com/pressroom/ContentDetailsViewer.page?ConceptType=PressReleases&id=1607744626467-683…\n#UPS #COVID19Vaccine",
          "Replying to @DrKatLiang\nI love some of the replies  \nhttps://twitter.com/giancarlolucia/status/1338547639294414849?s=19…",
          "Just watched @CapehartJ new #thesundayshow. @Maria_Hinojosa correctly stated that there were two deaths among the over 18000 recipients of the #PfizerBioNTech vaccine. However, there is no evidence that the vaccine caused the deaths.",
          "How much did the #fda get paid to approve this all of a sudden now? money makes the world go around. #vaccine #Pfizer #COVID19 #CovidVaccine #PfizerBioNTech",
          "#FDA Gives Guidance on Allergy, Pregnancy Concerns for #COVID Vaccine https://medscape.com/viewarticle/942557?src=soc_tw_share… via @medscape \n#COVID19 #PfizerBioNTech #pandemic #obgyntwitter $PFE #vaccine",
          "Replying to @cnnbrk\nJust a hunch: the distribution of this vaccine is going to be a major cluster f**k.",
          "#BREAKING - just in from @OHAOregon on #COVID19 #vaccine:\n-\"Legacy Health is the first registered COVID-19 vaccine provider in the state to receive the vaccine\"\n-Just under 2,000 doses of the #PfizerBioNTech vaccine arrived this morning.\n#LiveOnK2",
          "More than 1,000 Jackson employees have successfully received their first dose of the #PfizerBioNTech #COVID19 vaccine by 6:30 p.m. today. #JacksonStrong",
          "You're wrong: MALAYSIA has already pre-ordered #PfizerBioNTech #COVID19Vaccine (expected in 2021) plus is part of @WHO's #COVAX and is in China's list of free #CovidVaccine recipient countries: GET YOUR FACTS RIGHT!! \n#COVIDVaccineFacts",
          "\"Expect 145 sites across all the states to receive vaccine on Monday, another 425 sites on Tuesday,\" said the official in charge of the distribution.\n\nRead more: https://bit.ly/37WoZNH\n \n#PfizerBioNTech #COVID19 #vaccine #UnitedStates",
          "Covid Vaccinated!! @SCCM @HMethodistMD @Covid19Docs #vaccination #PfizerBioNTech #CoronaVaccine @pfizer @pfizer_news #Pfizer #CovidVaccine",
          "Replying to @DDNewslive @PIB_India and @airnewsalerts\nडायलिसिस डायरी :  संस्मरण - संस्करण 7 (भाग 2)\n\nपढ़ें  पेज से जुड़कर स्नेह दें \n#निवेदन  #लिंक : \nhttps://facebook.com/2200081763540202/posts/2786532588228447/?sfnsn=wiwspmo…",
          "Replying to @AnitaOakville @PattyHajdu and 4 others\ngood work MAA! ",
          "UPDATED: #YellowFever & #COVID19 #ImmunityPassports - Part Two\n\n#SARSCoV2 #PfizerBioNtech #Britain #December #Christmas #Europe #Australia #Canada #lockdown #VitaminD #winter #travel #tourism #privacy #Trending \n\nhttps://stopcommonpass.org/yellow-fever-covid19-immunity-passports-part-two/…",
          "For all the women and healthcare providers who have been asking about the safety of the #PfizerBioNTech #COVID19Vaccine in pregnant and breastfeeding women here is the recommendations from the #ACIP this morning",
          "#PfizerBioNTech COVID-19 vaccine being distributed; #ElectoralCollege formally casts votes today; #DetroitLions lost to GB; Cleveland MLB team to drop \"Indians\" name. Those stories & more at 7am via http://classicfox.com and 103.9 The Fox mobile app!",
          "Replying to @TyneHealth and @NTCouncilTeam\nGreat news so how do care home residents get there majority won’t be able too attend these sites and there carers they are first on list aren’t they",
          "Replying to @cnnbrk\nPfizer isn’t a part of operation warp speed",
          "The entire ingredients of the #Pfizervaccine: See, it’s just like your #BigMac with a splash of a #superpower to fight #COVID. #PfizerBioNTech #Vaccineswork #yayscience #CovidVaccine #COVID19 #ByeByeCOVID #vaccinehesitancy #vaccine",
          "Historical moment #FirstDose of the #PfizerBioNTech #COVID_19 #Vaccine administered at #UPMC @upmchealthbeat @ Pittsburgh, Pennsylvania https://instagram.com/p/CIyMrMRpVEf/?igshid=1jjtyf253182i…",
          "One of the first vaccines receivers in the US. Momentous for science. Hope has arrived.\n#COVID19 #CovidVaccine #VaccinesSaveLives #PfizerBioNTech #Pfizervaccine",
          "Replying to @Breaking911",
          "True question for #scientists:\n\nAs with many vaccines the #PfizerBioNTech vaccine needs to be given in 2 shots: a #prime, and a #boost (after 4 wks). Would a previous #COVIDinfection serve as a primer? It seems infection itself may not cause (long term) immunity?",
          "Replying to @Anaridis\nOh God. Not this foolishness again.",
          "First Pfizer coronavirus vaccine doses set to arrive at hospitals https://video.foxnews.com/v/6216118293001 #PfizerBioNTech #PfizerCovidVaccine #VaccinesWork @kilmeade @foxandfriends @nyulangone",
          "Had the first dose of my COVID vaccine today. We still have to wear PPE and still socially distant but at least we are on the way to being able to live with this awful disease! #CovidVaccine #PfizerBioNTech",
          "1st doses of #PfizerBioNTech's #COVID19 vaccine arrive in #Canada\n\nBy @helloryanjones\nhttps://cbc.ca/news/politics/first-doses-covid-19-vaccine-1.5839614…",
          "Are politicians #EssentialWorkers?  \n\n#COVID19 #PfizerBioNTech #CovidVaccine #VaccinesWork #ScienceMatters #HealthForAll #healthequity #CoronaVaccine",
          "#PfizerBioNTech #Vaccine hacked a few days ago\n\n#UsTreasury hack announced today. \n\nhttps://foxbusiness.com/technology/u-s-treasury-breached-by-hackers-backed-by-foreign-government-report…\n\nA whole lot of #hacking going on! #Infosec #CyberSecurity \n\nhttps://chron.com/news/article/EU-drug-regulator-hacked-data-on-COVID-19-15789016.php…",
          "The #FDA finally issues #EUA now comes the problem transporting this #PfizerBioNTech vaccine, needs to be kept at -70f and it can only be taken out of storage 4 times. Also you can still infect people after being #vaccinated",
          "It’s here. #Covid_19 #CovidVaccine  #PfizerBioNTech",
          "So incredibly grateful to have received the #PfizerBioNTech #CovidVaccine here @OSUWexMed!  Thanks to everyone who made this possible. #VaccinesWork #VaccinesSaveLives Hope that my colleagues, patients, & family will also have an opportunity to be vaccinated soon. Stay safe!",
          "Thrilled to receive my first dose of the Covid vaccine today. The vulnerable people I visit, support and work with in their own homes will be protected and that is so reassuring! It might be the tug that turns the tanker but at least the bugger is on the move! #PfizerBioNTech",
          "OHSU, Kaiser, St. Alphonsus Medical Center (in Ontario) are expected to get 975 doses each tomorrow.\n\n#LiveOnK2\n",
          "Replying to @AnitaOakville @PattyHajdu and 4 others\nCongratulations, job well done.",
          "Global coronavirus death toll reaches 1,611,637 #CoronavirusPandemic @WHO @Worldometers #PfizerBioNTech #PfizerCovidVaccine\nhttps://ilkha.com/english/health-life/global-coronavirus-death-toll-reaches-1-611-637-11055…",
          "How does the #Moderna #covidvaccine differ from the #PfizerBioNTech #vaccine? We answer this question and more in tonight's @TiaHealth medical segment! Catch us at 6PM! #healthnews #vaccination",
          "Trump announces #vaccine rollout 'in less than 24 hours'\n\nThe first Americans will be vaccinated against #coronavirus in the next 24hrs as the US last night authorised the #Pfizer/Biontech vaccine for emergency use -> http://buff.ly/37cTMqp\n\n#PfizerBioNTech #PfizerVaccine",
          "Replying to @JacksonHealth\n",
          "US HEALTH CARE WORKERS & MOST VULNERABLE TO RECEIVE THE PFIZER-BIONTECH SHOTS\nTrucks on Sunday began shipping millions of doses of Covid-19 vaccine in the United States, as part of the enormous logistics\n#US #HealthcareWorkers #Receive #Vaccines #PfizerBioNTech #DeathToll #Cases",
          "From Tuna #Fish To #COVID19 #Vaccine - How Container Freezers Used To Ship #Seafood Are Given A New Role - http://financetwitter.com/2020/12/from-tuna-fish-to-covid-19-vaccine-how-container-freezers-used-to-ship-seafood-are-given-a-new-role.html… #UnitedStates #Britain #Canada #Coronavirus #COVIDー19 #Pfizer #PfizerBioNTech #FDA #airlines #FedEx #UPS #transport #mRNA #Science #technology",
          "Two people in the United Kingdom have experienced an allergic reaction to the Pfizer/BioNTech COVID-19 vaccine.\nRead more https://bit.ly/3a4PHpY\n\n#VaccineReaction #PfizerBioNTech #Pfizer #BioNTech",
          "Concerned about the side effects of the #PfizerBioNTech #COVID19 vaccine?  Check out my recap ",
          "Replying to @yinonw\nChances are higher that one would die chocking on food than die due to covid.\nNobody skipps a single meal sue to choking risk but many stopped living alltogather due to covid. \nThink about it.",
          "US #COVID19 #Vaccine Shipments to 'Start Rolling' Sunday https://medscape.com/viewarticle/942556?src=soc_tw_share… via @medscape \n#OperationWarpSpeed #PfizerBioNTech #pandemic",
          "Boston health care workers dancing on the sidewalk to celebrate the arrival of the first  covid-19 vaccine.",
          "Approval for #Pfizer / #Biontech vaccine from FDA Advisory Board.\nLAST MINUTE NEWS: The US Food and Drug Administration (FDA) Advisory Board recommended that the Pfizer / Biontech vaccine given emergency use. #FDA #PfizerBioNTech #vaccination",
          "Considerations for the #COVID19Vaccine in Pregnant Women #ACIP\n",
          "Replying to @cnnbrk\nTRUMPVIRUS DEATH TOLL\n\nMar 1 - 1 Dead\n\nApril 1 – 6,460 Dead\n\nMay 1 – 67,044 Dead\n\nJune 1 – 109,509 Dead \n\nJuly 1 - 131,013 Dead\n\nAug 1 – 156,764  Dead\n\nSept 1 – 187,643 Dead\n\nOct 1 – 208,347 Dead\n\nNov 1 – 236,072 Dead\n\nNov 7 – 242,103 Dead\n\nDecember 12 302,762",
          "@JoeBiden @KamalaHarris Thanks to you both for bringing in fresh air, positivity and God’s hand and pushing us forward as we begin to crush this beast #PfizerBioNTech #pfizerproud #sciencewillwin #BidenHarris",
          "Salute to the #HealthcareHeroes who are risking their life everyday taking care of #COVID patients! May God give them strength! Help is on the way!\n#PfizerCovidVaccine \n#PfizerBioNTech",
          "And yes, odds of death for the elderly and at-risk is higher.... this is why our policies which try to prevent the healthy from being exposed has only shifts more of the burden to the elderly, and is therefore sadly responsible for more overall deaths.\n",
          "Replying to @cnnbrk\nI’ll be on the sidelines watching for the Zombie Apocalypse! ....",
          "#AstraZeneca to buy pharmaceutical firm #Alexion for $39 billion\n\n#COVID19vaccine #Pfizer #Pfizervaccine #PfizerBioNTech #PfizerCovidVaccine #astrazenecacovidvaccine #astrazenecacovid19vaccine",
          "What are the ingredients of Pfizer’s covid-19 vaccine? | MIT Technology Review #vaccination #CovidVaccine #Pfizer #Pfizervaccine #PfizerBioNTech",
          "Replying to @charlesadler and @RexChapman\nI don't believe it was a country. It was a worldwide network of researchers grinding the numbers and cleaning the glassware and posting the raw data to prevent duplication of work already done...my kind of new,world order..?",
          "Grossly unfair and absolutely inevitable - With First Dibs on Vaccines, Rich Countries Have ‘Cleared the Shelves’ https://nytimes.com/2020/12/15/us/coronavirus-vaccine-doses-reserved.html?smid=tw-share… #COVID19 #coronavirus #vaccine #Pfizer #BioNTech #PfizerBioNTech #Moderna #AstraZeneca #Oxford",
          "Hav genuine ? @ManCityCouncil is #Wythenshawe only place in #Manchester #southmanchester deliverin #covidvaccine #PfizerBioNTech #Pfizervaccine ?When will it made available 2 #Chorlton which has considerable number of over 80’s/homes/independent livin w’health issues @JoMidge?",
          "Replying to @yinonw\nThis is great stuff!",
          "More approvals to #PfizerBioNTech vaccine: #Singapore approves @pfizer #CovidVaccine, expects first shots by December-end.",
          "Replying to @sputnikvaccine and @AstraZeneca\nI wouldn’t trust a medical product from Russia. They poison political opponents.",
          "#Pfizervaccine #PfizerBioNTech\nWhy #Pfizer is NOT 100% transparent about it? #coronavirus #VaccinesWork #VaccinesSaveLives #VaccinoAntiCovid #Dubai\n#Toronto #emirates #SideEffect #allergies\nSource+Copyright- MIT Technology Review",
          "Politico.  December 13, 2020.  FDA's Hahn: Covid-19 vaccine authorization based in 'science and data'\nhttps://politico.com/news/2020/12/13/fdas-hahn-coronavirus-vaccine-approval-science-data-444854…\n#coronavirus #covid19 #coronavirusprevention #CoronaVirusUpdate #CoronavirusVaccine #COVID19Vaccine #PfizerBioNTech #business #technology #datascience",
          "Replying to @yinonw and @scientificecon\nYou are 18X more likely to have permanent heart damage and have 10X more odds of lung damage for every Covid death, among others. So, you may not die but become quite crippled too. I’d rather not take the risk. BTW, the side effects of vaccines seem to be pretty bad too...",
          "Coronavirus vaccine ships today, expect hospitals to be overwhelmed in nine  months  ...with baby deliveries  #COVID19 #vaccination #PfizerBioNTech #mondaythoughts",
          "Good heavens - you are too stupid to reason with even on a slow day. get a dummy for #pademics and slither away already. Give credit to #AngelaMerkel of German for supporting the #PfizerBioNTech #vaccine https://twitter.com/realDonaldTrump/status/1338263195941818370…",
          "Something interesting I learned during an interview with @b_kazaz today: \n\nThere's been a lot of chatter about how cold the #PfizerBioNTech vaccine must be kept. But many vaccines used for livestock around the world must be stored at -200 degrees, so this is nothing **too** new.",
          "Stand-up too trump as the COURTS, other Republicans in office have we wouldn't have 300k plus included in the #TrumpVirusDeathToll or the 16 million confirmed cases. Until #DiaperDon take RESPONSIBILITY for the Cases/Deaths he gets no credit for the VACCINE after all this is all\n",
          "Here are the lipids used in lipid nanoparticle used the #mRNA  BioNTech/Pfizer #PfizerBioNTech  #CovidVaccine The top two are patented by Acutias #Acuitas while 1,2-disteraoyl-sn-glycero-3-phosphocholine and cholesterol are \"natural\" lipids common in many products (and food). 1/3",
          "What a great day for our Country & the World! @realDonaldTrump is ONE DAY CLOSER to leaving @WhiteHouse. The first shipments of the #PfizerBioNTech Vaccines are rolling out, which means we are beginning the end of the #TrumpVirusCatastrophe. Imagine if @GOP had enough Courage too",
          "Replying to @ShafiAhmed5\n",
          "Replying to @cnnbrk\nPfizer wasn't part of operation warp speed",
          "operation to vaccinate begins. As early as today in the nation worst hit by the coronavirus, health care workers and nursing home residents will be among the first to receive the Pfizer-BioNTech shots. Officials said it will likely be months before all those who want it can be\n",
          "Phase 3 begins Dec 28, #PfizerBioNTech vaccine first to arrive in #singapore by end Dec, and shots to be free for all citizens and long-term residents. #COVID19",
          "Replying to @maha_kaissi @UR_Med and 2 others\nSO EXCITED FOR YOU. @2ShotsInTheArm",
          "Replying to @yinonw and @jhaskinscabrera\nTime to ban driving and swimming!",
          "#UnitedStates : The Federal Aviation Administration (FAA) said Saturday it had approved the use of the #PfizerBioNTech #COVID19 vaccine by pilots and air traffic controllers.",
          "#notwastingmyshot 4th person in #Charleston to get the #PfizerBioNTech #CovidVaccine @MUSChealth @ID_MUSC \n\nI feel great and am doing well! I am getting the #vaccine because it helps protect me from getting #COVID19.  I want to stay healthy and help prevent spread of coronavirus.",
          "Infections #worldwide\n-\n#UnitedStates : 220,575\n#Brazil : 43,279\n#Turkey : 30,805\n-\n#coronavirus #Corona #Covid_19 #Covid #COVID19 #vaccine #vaccination #pfizer #Pfizervaccine #PfizerBioNTech #BioNTech #lockdown #virus #China #Wuhan #WuhanVirus #WuhanCoronavirus #VirusCorona",
          "#NEW: @methodistdallas has received its first shipment of #PfizerBioNTech's #COVID19 vaccine. Front line healthcare workers are the first to get the shot. Parkland and UT-Southwestern in Dallas and Texas Health in Fort Worth receive shipments tomorrow.",
          "@L_MitchellODP, every aspect of the vaccination was really well planned and went on smoothly without any hiccups. Thank you and keep up the great work!\n",
          "I’ve never been so excited to get a vaccine \n\n#CovidVaccine #PfizerBioNTech #VaccinesSaveLives #VaccinesWork",
          "\"The Moderna vaccine does not need some of the extra special handling requirements of the one from Pfizer, including ultra-cold freezers,” PM Trudeau said. #covid19vaccine #coronavirusvaccine #moderna #canada #pfizerbiontech",
          "Replying to @cnnbrk\nWhen given the opportunity to purchase additional vaccine doses, Trump passed.\n \nAnd now, fewer Americans will be vaccinated before June.\n \nMake no mistake, Trump's incompetence will cost American lives. It already has.\n \nSo much for America first.",
          "Welp, thanks already aren't going quite as planned with the #PfizerBioNTech #CovidVaccine distribution.  These aren't frontline healthcare workers or nursing home residents.",
          "Wear a mask, wash your hands, and remain socially distant when possible. #stayhome #StayAtHome #StayAtHomeSaveLives #Corona #Covid #coronavirus #pfizer #Pfizervaccine #PfizerBioNTech #BioNTech",
          "Replying to @Samla_Green\nNice one Sam ",
          "MT @murray_nyc Five years ahead of schedule? It’s a pandemic! There was no pre-determined schedule. How about acknowledging #Germany for contributing hundreds of millions of dollars to finance the #PfizerBioNTech vaccine? #TrumpVirus #GOPComplicitTraitors  https://twitter.com/realDonaldTrump/status/1338263195941818370?s=20…",
          "Despite #Lebanon’s dire shortage of foreign exchange, the government expects to sign the $18 million deal for supplies of the #PfizerBioNTech vaccine this week, Health Minister Hamad Hassan told Reuters",
          "“Thanks for being here and help us share the news of this historic moment,” said Dr. @liliabbo.\n0:41379 views",
          "2.Who cannot get the Pfizer COVID Vaccine? \n\nUnder the current EUA - those younger than 16 years cannot get the vaccine.\n",
          "Replying to @tschwarzromond @EricTopol and 3 others\nWhile sovereign independence of assessments is critical to drug safety, the risk/benefit ratio here under emergency use given release of data & ,  and  approvals surely expedites matters? Unless procurement is in doubt.",
          "(ENG) NHS workers: 'Vaccine is a game changer' | #hopenews\n\n#NHSheroes #bbcnews #vaccine #Covid19UK #COVID19 #pandemic #Health #Immunity #PfizerBioNTech #Pfizer #BioNTech",
          "Replying to @AnitaOakville @PattyHajdu and 4 others\nLight at the end of a dark tunnel",
          "#UnitedStates—The first #Covid19 vaccines are going out!\n#CDC officially allows\n#PfizerBioNTech—#coronavirus\n#vaccine to be administered as\nshipments begin in #US\nHealth care workers & long-term\ncare facility residents be first in\nline to receive the shot",
          "All respect to due process but why not give approval now instead of the 29th of December. Surely multiple other countries approving it already is proof enough? #PfizerBioNTech #COVID19 https://rte.ie/news/coronavirus/2020/1212/1183952-covid-ireland/… via @rte",
          "The Vaccine rolled out this week in several countries, bringing hope and scepticism with it. \n\n#vaccine #PfizerBioNTech #Moderna #pandemic #COVID19 #coronavirus",
          "US President Donald Trump announced that the vaccine will be free for all Americans and has thanked all the scientists, doctors, and workers for the vaccine.\n\n#USPresident #DonaldTrump #FreeVaccine #Pfizer #PfizerCovidVaccine #PfizerBioNTech #Coronavirus #COVIDVaccine #MangoNews",
          "The #PfizerBioNTech #CovidVaccine will NOT effect or interact with a person's DNA. DNA are located in the nucleus of the cell, and NOTHING from the vaccine enters the nucleus.",
          "Excited to have received the first part of my #PfizerBioNTech #CovidVaccine today.Impressive resource mobilization on display @CooperHealthNJ leading to a smooth and efficient start to a historic mass vaccination effort.  @CooperNeuroRes @CooperGME @coopermedschool",
          "\"The first batch of doses of Pfizer-BioNTech’s COVID-19 vaccine have arrived in Canada,” PM Trudeau said on Twitter.\n#covid19vaccine, #coronavirusvaccine #pfizerbiontech",
          "Replying to @AnitaOakville @PattyHajdu and 4 others\nThank you for all the hard work you put into getting this shipment here for Canada.",
          "Turkey’s coronavirus death toll reaches 16,417 @drfahrettinkoca #CoronavirusPandemic #Turkey #PfizerBioNTech #Sinopharm\nhttps://ilkha.com/english/health-life/turkey-s-coronavirus-death-toll-reaches-16-417-11068…",
          "Thank you Thank you Thank you to all of the scientists who worked on the development of the vaccine for COVID-19. The first vaccines will be administered today in the US! This is the beginning of the end of the pandemic. #vaccine #Pfizer #PfizerCovidVaccine #PfizerBioNTech",
          "TV ad in 2030: “Did you receive the CV19 vaccine in 2020 or 2021? You are entitled to financial compensation.” #CovidVaccine #corona #COVID #Pfizervaccine #vaccination #PfizerBioNTech #FDA #COVID19Vaccine #Agenda21 #BioNTech",
          "Replying to @Dr_Dee_Kumar\nUnfortunately not recommended at the moment if breastfeeding",
          "Pfizer received emergency use authorization from the Food and Drug Administration for the Covid-19 vaccine developed in partnership with Germany’s BioNTech (BNTX), with trucks rolling out from Pfizer’s Kalamazoo, Michigan, production plant over the weekend #PfizerBioNTech #invest",
          "Received my first dose of the #CovidVaccine #PfizerBioNTech today. I feel very privileged & lucky to have this to protect me & enable me to feel safer delivering care to patients @LPTnhs @BradgateUnit @LPTOTBradgate. Thank you to all involved in #LLR",
          "US is all set to start its #COVID19  #vaccination  drive with the doses of #PfizerBioNTech  #vaccine that is ready to be delivered to hospitals. US comes in the top list of the worst-hit countries from #coronavirus  #pandemic \n\nRead Full Article Here",
          "#New Vaccination campaign begins today in Quebec. Residents at Maimonides will be among the first seniors in #Canada to receive the #PfizerBioNTech #CovidVaccine Quebec Health Min Christian Dubé & Dr. Richard Massé from Public Health will be speaking at 1pm. Photo: CityNews staff",
          "The agency also released new information for health care providers and for patients as the US shipped millions of doses of the vaccine across the country. \n\n#COVID19Vaccine #CoronaVaccine #Pfizervaccine #PfizerBioNTech",
          "Replying to @sputnikvaccine and @AstraZeneca\nAstraZeneca analiza combinar su vacuna con la “Sputnik V”:",
          "Replying to @sputnikvaccine and @AstraZeneca\n",
          "Facts are immutable, Senator, even when you're not ethically sturdy enough to acknowledge them. (1) You were born in Canada. (2) #PfizerBioNTech vaccine was developed in Germany.(3) Scientists behind it, Muslim Turkish immigrants to Germany #UgurSahin & #ÖzlemTüreci @RexChapman",
          "Interesting Watch: @CNN's @NewDay live coverage of the loading of #PfizerBioNTech's vaccine at the Pfizer plant at Portage, Michigan for @Fedex and aerial delivery to various US destinations. #FirstCovid19VaccineShipmentsLeavePfizerPlant",
          "In the year 2022, I will also proudly post a picture of when I eventually receive \"the covid vaccine\"\n#CryMyBelovedCountry #frontlineworkers #PfizerBioNTech",
          "\"mRNA vaccines teach our cells how to make a protein that will trigger an immune response without using the live virus that causes COVID-19. Once triggered, our body then makes antibodies.\"\n\nhttps://canada.ca/en/health-canada/services/drugs-health-products/covid19-industry/drugs-vaccines-treatments/vaccines/pfizer-biontech.html… #mRNA #Pfizer #PfizerBioNTech #Pfizervaccine #VaccinesSaveLives",
          "#vaccine #PfizerBioNTech #Oxford_AstraZeneca #BharatBiotech #SputnikV Most of the companies have submitted application for Emergency Use Authorization (EUA) to the Drugs Controller General of India (DCGI) in India. #DGCI",
          "U.S. expects to have immunized 100 million against #COVID-19 by end of March -Slaoui https://reut.rs/2Km4KB3 #Covid_19 #vaccine #Trump #Biden #Fauci #WhiteHouse #Washington #NewYork #health #pharma #bigpharma #biotech #Pfizer #PfizerBioNTech #Pfizervaccine #Moderna #AstraZeneca",
          "@ElsTorreele \n@kamarulbahrin\n",
          "Replying to @DrMarcSiegel @kilmeade and 2 others\nWhy are medical staff under 50 with no co-mordities getting the vaccine before people over 75 or in LTC?",
          "Have to agree: UK, US vaccinate with technology pioneered in 2 German, one US-Biotechs; US celebrates distribution of millions #PfizerBioNTech dosages; #EU still caught up in paperwork? @EricTopol @ewanbirney @jwoodgett @METorresPadilla @MatthiasTschop\nhttps://eu.freep.com/story/news/health/2020/12/13/pfizer-covid-19-vaccines-kalamazoo-michigan/6529215002/…",
          "Replying to @ShafiAhmed5\nCongrats!!!",
          "while deaths are closing in on the 300,000 mark... millions of people wait #PfizerBioNTech #Vaccine !\n-\nThe first US #COVID19Vaccine shipments will arrive at 145 locations around the country on Monday morning, #USArmy General Gus Perna said on #Saturday during a press briefing.",
          "For an in-depth look into its repercussions, read @_whitneywebb 's   \"Engineering Contagion\" investigative series here:\nEngineering Contagion - Investigative SeriesDuring the presidency of George H.W. Bush in the early 1990s, something disturbing unfolded at the U.S.’ top biological warfare research facility at Fort Detrick, Maryland. Specimens of highly...unlimitedhangout.com",
          "it is a bit sad to claim the fame for success of #vaccination on patriotic competition between USA, Canada, UK and EU.\nwe are in it together, we win it together. All those companies #PfizerBioNTech #Biontech #AstraZeneca #Moderna we can all be proud of modern science & technology",
          "Replying to @JacksonHealth\nGreat !!!!!",
          "Turkey’s death toll from COVID-19 rises to 16,881 @drfahrettinkoca #coronavirus #PfizerBioNTech #Sinovac\nhttps://ilkha.com/english/world/turkey-s-death-toll-from-covid-19-rises-to-16-881-11101…",
          "Replying to @KwakuAkyeampong @_AfricanUnion and 2 others\nOh so you have given Western Sahara to Morocco too? Hmmm",
          "COVID 19 Vaccination. Latest Update.\nhttps://youtu.be/XBVOE0-lLV4 \n@YouTube \n@YouTubeCreators @YouTubeTrends @YouTubeIndia @YouTubeTV \n#COVID19 \n#CovidVaccine \n#COVID \n#CoronaVaccine \n#Pfizervaccine \n#PfizerBioNTech \n#adarpoonawalla",
          "Kuwait authorizes emergency use of Pfizer-BioNTech COVID-19 vaccine\nFor all COVID news, visit: https://bit.ly/34606y8\nhttps://news.writecaliber.com/healthcare-kuwait-coronavirus-kuwait-authorizes-emergency-use-of-pfizer-biontech-covid-19-vaccine/…\n#Kuwait #PfizerBioNTech #CovidVaccine",
          "#Pfizervaccine is unlikely to be available in India for mass distribution. Read to find out why.\n\n#PfizerBioNTech #Pfizer #COVIDVaccine #Coronavirus #CoronaVaccine",
          "We're talking about HUMAN LIVES here!\n\nLet's not repeat the mistake of the past! #Dengvaxia jeopardized many lives of our children.\n\nIf #PfizerBioNTech is most suitable then, let's have it! Let's not settle for less!\n\nMany of our Kababayans are skeptical w/\nChina #Sinovac",
          "Replying to @cnnbrk\nMoney can buy FDA approvals quickly. Money can buy everything. ",
          "@CDCDirector Redfield has just signed off on this recommendation. #CDC Panel Recommends #Pfizer's #COVID19 #Vaccine for People 16 and Over https://medscape.com/viewarticle/942558?src=soc_tw_share… via @medscape \n#PfizerBioNTech $PFE #IDtwitter #MedTwitter",
          "The US public will start receiving the Pfizer/BioNTech coronavirus vaccine from Monday after it was authorised for emergency use https://colombogazette.com/2020/12/13/first-round-of-us-vaccinations-to-begin/… via @colombogazette #US #vaccine #PfizerBioNTech #coronavirus #COVID19 #Covid_19",
          "Odds of death from an actual covid infection if you are under 50 is somewhere between odds of death by sunstroke and electrocution/radiation.\n\nYou won't hear this from the mainstream media, but the numbers are based on the CDC and National Safety Council, and easy to calculate.",
          "Dr. Kathy Lofy says the vaccine will be a new tool in our tool box, and says she’ll also get vaccinated as soon as she’s eligible. \n\nAlso says she personally reviewed #PfizerBioNTech Phase 3 trial info, and fully agrees w/ FDA decision to approve #Q13FOX #COVID19",
          "The synthesis of the Acuitas lipids is described in the patent linked below. ALC-0315 seems to be lipid III-3 in this patent and if so, the synthesis proceeds in 3 steps as per below scheme.  2/3 https://patents.google.com/patent/WO2018081480A1/en…\n",
          "Privileged be offered the #PfizerBioNTech vaccine. I would encourage everyone to take it up. It’ll help protect people around you, yourself and squeeze out #COVID19. A huge thank you to our magnificent #NHS staff, @MattHancock, @Jesse_Norman (Kate Bingham), @AllanNixon",
          "First Vaccine Shots in the US\nWatch video at https://youtu.be/y2eHlKSufbE\n\n#FirstVaccineShots #COVID #COVID19 #pfizervacine #BioNTech #BioNTechVacine #Pfizer #PfizerBioNTech",
          "Before you say you WILL OR WON’T take Pfizer’s vaccine for COVID-19 Read the report. https://fda.gov/media/144245/download?fbclid=IwAR2B6GHvblDaAsbjEj7Y6N_iS7lWCyF8iBpaPNoJWqH8EyUpjwJl3I6d1GE… #Pfizer #BioNTech #PfizerBioNTech #vaccine #CovidVaccines #coronavirus #Pfizervaccine \n#COVID19",
          "IT HAPPENED!!!!!!!! I got my first dose of the #PfizerBioNTech vaccine today - THE BEST HOLIDAY PRESENT EVER!!! Also pretty stoked to be named “the most excited person we’ve vaccinated today”!  Thank you @UR_Med! @URMed_GCH @pfizer (Please enjoy my windswept hair of excitement)",
          "WATCH LIVE: @JacksonHealth System news conference on receiving its first shipment of the #PfizerBioNTech COVID-19 vaccine today.\nLIVE STREAM: https://cbsloc.al/2YKv7T6",
          "Members of the @teamsters delivered the first #COVID19Vaccine this morning\n#teamsters\n#UPS\n#COVID19 \n#Pfizer \n#Pfizervaccine \n#PfizerBioNTech",
          "\n",
          "Interesting and very detailed article showing up how a well tested #supplychain, with #sharedvisibility will help delivering #PfizerBioNTech #COVIDー19 vaccines in each US area.",
          "Both recipients were over 55. One person had a heart attack 62 days after dose 2 and died 3 days later. The second person died from atherosclerosis 3 days after the first dose. So, no clear causal relationship between vaccination and death.\n",
          "Replying to @ShafiAhmed5\nWell done! Looks like most of us will be waiting a couple of months till we get to the top of the list. Trusts appear to have a differing approach to vaccinating staff .. despite the same government directive.",
          "@CNN @fox7austin @KXAN_News @TheBeatWithAri anyone?\n",
          "Here we go! Grateful to be among the first group of vaccinated healthcare workers in Tampa/FL against #COVID19 \n\nhighlights:\n-  no live or attenuated virus strains \n- 2-part vaccination\n- 20,000 in trial with 0 fatalities\n- 95% efficacy\n\n#CovidVaccine #PfizerBioNTech",
          "UPS, FedEx Collaborate to Ship Pfizer-BioNTech COVID-19 Vaccines in US\nhttps://latestly.com/agency-news/world-news-ups-fedex-collaborate-to-ship-pfizer-biontech-covid-19-vaccines-in-us-2195745.html…\n#UPS #FedEx #PfizerBioNTech #PfizerCovidVaccine #COVID19Vaccine",
          "#USA to start #vaccination from today! It has according to latest figures maximum #coronavirus cases (over 16.7 million) and deaths ( last count 304,459). The #vaccination drive will start from today (Dec 14) with #PfizerBioNTech’s #vaccine. \n#COVID19Vaccine",
          " #FDA #PfizerBioNTech #OperationWarpSpeed #CoronaVaccine #grateful #COVID #Corona FDA approves Pfizer’s COVID-19 vaccine for emergency distribution in the US",
          "#CovidVaccine \n\nStates will start getting #COVID19Vaccine Monday, #US says \n#pakustv #NYC #Healthcare #GlobalGoals #PfizerBioNTech",
          "COVID-19 vaccines have safely departed out of Grand Rapids and are continuing their journey to their final destinations.\n",
          "Replying to @JacksonHealth\nPoor souls.",
          "#coronavirus #SputnikV #AstraZeneca #PfizerBioNTech #Moderna #Covid_19 Russian vaccine is created to last 2-4 years after vaccination & gives 96% protection guarantee. Pfizer, AZ, Moderna at max 4 months & huge allergic side effects. This means frequency of jab could kill you. https://twitter.com/elimeliandme/status/1337858199140118533…",
          "In further #Phase3 details from @sporeMOH attractions may start applying to the Singapore Tourism Board (STB) @VisitSingapore to increase operating capacity from 50% to up to 65%\nhttps://moh.gov.sg/news-highlights/details/moving-into-phase-three-of-re-opening…\n",
          "We know wearing a mask when around others, staying at least 6 feet away, avoiding crowds, and washing your hands prevent you from getting the virus, but how can getting the COVID-19 vaccine help?\n\n#COVID19  #Pfizer #PfizerBioNTech  #CDC #maskupwisconsin #StopTheSpreadOfCOVID19",
          "The end is in sight, many of my coworkers and I are getting our first doses of the #PfizerBioNTech #CovidVaccine today. But as Dr. Milani at @OchsnerHealth emphasizes, stay #vigilant, #MaskUp, do your part and protect your community. #Covid_19 We can end this!",
          "Does this vaccine mean that I’m gonna have to eventually wear a proper bra again or are we all in agreement that underwires are the devil and sports bras are the way forward? #Pfizervaccine #CoronaVaccine #AstraZeneca #PfizerBioNTech #COVID19Vaccine #workingfromhome",
          "#COVID19, Sunday morning, 12/13/2020:\n\nConfirmed cases 16,563,650\nDeaths 305,144\n\nAs the #PfizerVaccine rolls out of Michigan, #WhinyLittleBitch #Trump continues his #TantrumTweets about his #Election loss & threatening vetos. What does this model for #Americans?\n\n#38Days",
          "The US public will start receiving the Pfizer/BioNTech coronavirus vaccine from Monday after it was authorised for emergency use https://colombogazette.com/2020/12/13/first-round-of-us-vaccinations-to-begin/… via @colombogazette #US #vaccine #PfizerBioNTech #coronavirus #COVID19 #Covid_19",
          "#AnitaQuidangen, a personal support worker in #Toronto, became one of the first people in #Canada to receive a #COVID19  #Vaccine on Dec. 14, 2020. 0:44\n1st doses of #PfizerBioNTech COVID-19 vaccine in Canada given in Toronto, #Quebec City",
          "#Singapore approves the #PfizerBioNTech #COVID-19 #vaccine \nFirst shipment expected by end-December \n\n#coronavirus #COVID19 #CoronaVaccine #Pfizer #BioNTech",
          "#COVID #PfizerBioNTech #vaccine  #Pennsylvania\nNursing homes in Pennsylvania prepare for COVID-19 vaccine distribution https://msnbc.com/yasmin-vossoughian/watch/nursing-homes-in-pennsylvania-prepare-for-covid-19-vaccine-distribution-97661509725… via @msnbc",
          "With several countries including the US and the UK now approving the use of #PfizerBioNTech's #COVID19Vaccine, #cybercriminals have sensed an opportunity to lure people into buying fake remedies on the dark web, said a report from #cybersecurity firm Check Point.",
          "If science is same everywhere so should be it's results. Entire world should approve vaccine which one country has approved and started using doesn't it makes sense #WHO role have been very wierd, unprofessional and suspicious in this entire pandemic..#vaccine #PfizerBioNTech",
          "Replying to @PSampathkumarMD and @VincentRK\nDo you think there will be enough Pfizer and Moderna doses to get to the high risk chronically ill and the elderly? I’m worried we won’t have enough vaccine to get to us in this first quarter. Then what? Need hope.",
          "Coronavirus: Iran reports 8,201 new cases, 221 deaths in the last 24 hours #Iran #coronavirus #PfizerBioNTech #CovidVaccine\n\nhttps://ilkha.com/english/world/coronavirus-iran-reports-8-201-new-cases-221-deaths-in-the-last-24-hours-11051…",
          "Such a great feeling. A big thank you to all the healthcare professionals; scientists, nurses, doctors, caregivers. #COVID19 #CovidVaccine #PfizerBioNTech #Pfizervaccine",
          "Vaccine!! Anyone?? #covid #Pfizervaccine #PfizerBioNTech",
          "More #HealthcareHeroes from Jackson North Medical Center getting their #COVID19 #PfizerBioNTech vaccine today.",
          "What we can learn from the victory over #Polio\nA good refresher on how polio came to an end. \nLet's not forget #VaccinesWork\n#PfizerBioNTech \n#COVID19",
          "Answers to questions about #COVID #vaccination  https://npr.org/sections/health-shots/2020/12/12/945288710/what-you-need-to-know-as-the-first-covid-19-vaccine-heads-your-way… #vaccine #Covid_19 #healthcare #health #pandemic #FDA #CDC #Pfizer #PfizerCovidVaccine #PfizerBioNTech #PfizerBiotech #Immunity #OperationWarpSpeed #Moderna #rtitbot @Retweet_Lyfe @BlazedRTs",
          "Had my Covid-19 Vaccination, doing my bit helping to save the human race.\nMega sore arm today as expected  small price to pay. Don't want coronavirus a second time.\n#CovidVaccine #Covid19UK #COVID19Vaccine #PfizerBioNTech",
          "Presenting you the top Medical News/Advancement of the past week you don't want to miss!\n\n#docnosofficial #covid19 #covidcount #pfizeruk #pfizervaccine #pfizerbiontech #spinesurgery #spinesurgeryrecovery #yellowfever #medicalnews #healthcare #docnos",
          "Replying to @charlesadler and @RexChapman\n",
          "#INBOX | @GovParsonMO says shipments of the #PfizerBioNTech vaccine will continue to ship to Missouri’s 21 vaccination sites throughout this week. These sites are hospitals and health care facilities. #moleg",
          "Pregnant women may likewise choose to get the vaccine after discussion with her HCP. Need to consider risks and benefits, local COVID19 transmission, personal risk of contracting the virus etc.\n",
          "Replying to @kfdmnews and @THEPAIGEREPORT1\nSeriously.",
          "Replying to @charlesadler and @RexChapman\nThe sad fact is that Canadian conservatives think these guys are a model to emulate. Lets get back to our progressive conservative roots.",
          "Our MD Dr Susannah Thompson pulling out all the stops leading a magnificent team of NHS staff & volunteers tonight as the 1st site in #NorthTyneside goes live to deliver the #PfizerBioNTech vaccine to >80 yr old residents in 1st wave of community #CovidVaccination @NTCouncilTeam",
          "It is coming. Vaccine will be here soon! So excited... #CovidVaccine #covid19 #Pfizervaccine #PfizerBioNTech #maskup",
          "That’s indeed a sight of relief \n\nThe #Saudi health minister @tfrabiah showcased a sample of #PfizerBioNTech vaccine during the state budget press conference, confirming first shipment of the #coronavirus vaccines have already arrived to the Kingdom few hours ago.",
          "With numbers likely to get worse over the holidays, the #vaccine is offering a bright spot in the fight against the #pandemic that's killed nearly 300,000 #Americans.\n#Pfizer #Pfizervaccine #PfizerBioNTech \n@pfizer",
          "The @pfizer-@BioNTech_Group vaccines are now in our U.S. network, and we’ll be delivering them to their destinations soon.  https://fedex.com/en-us/coronavirus/stories.html…",
          "Singapore's plan to tackle #COVID19\nhas been really effective.  \nEarly in pandemic,more than $1 bn was set aside for advanced purchase of vaccine candidates.\n#PfizerBioNTech to be the first vaccine approved by Singapore Health Sciences Authority. Shipment to arrive by Dec end.",
          "US says COVID-19 vaccine to start arriving in states Monday http://wtsp.com/article/news/health/coronavirus/vaccine/covid-19-vaccine-monday/507-ff6d9923-5f64-4429-9251-1a0309ed8444… via @10TampaBay  #Pfizervaccine #Pfizer #PfizerBioNTech #Vaccine #vaccines",
          "Pharmacists are essential for easing patient concerns about the safety of COVID-19 vaccines such as the Pfizer/BioNTech vaccine, a global health expert says in a C+D podcast\n#PfizerBioNTech @OksanaPyzikUCL\n\nhttps://chemistanddruggist.co.uk/feature/academic-pharmacists-critical-easing-covid-19-vaccine-concerns…",
          "Health #Canada has warned people allergic to any of the ingredients in the #PfizerBioNTech #COVID19 vaccine not to receive it.",
          "#Iran has told the World Health Organization it does not intend to import the #PfizerBioNTech Covid-19 #vaccine because it does not have the means to transport it, a health official said on Saturday. This is because the vaccine must be kept at minus-70 degrees. \n #COVID19 #WHO",
          "The announcement comes after federal authorities granted the Pfizer vaccine emergency use authorization.\n\nRead more: http://Oigetit.com\n\n#FDAAuthorized #PfizerBioNTech\n\nVideo credit: @Independent",
          "The first shipments of the #PfizerBioNTech #Covid_19 vaccine will begin arriving in #US states from Monday, an official of President @realDonaldTrump 's administration said.",
          "Delighted that @US_FDA approved vaccine for emergency use.\n",
          "Trump announces #vaccine rollout 'in less than 24 hours'\n\nThe first Americans will be vaccinated against #coronavirus in the next 24hrs as the US last night authorised the #Pfizer/#Biontech vaccine for emergency use -> https://cityam.com/trump-announces-vaccine-rollout-in-less-than-24-hours/…\n\n#PfizerBioNTech #PfizerVaccine",
          "Canada will be receiving up to 200,000 more doses of the #PfizerBioNTech vaccine next week & potentially up to 168,000 #Moderna vaccine doses by the end of year. This means thousands more ians will be vaccinated by the end of December 2020. http://ctv.news/8kj747E via @CTVNews",
          "Replying to @Anaridis\nLove this ",
          "Replying to @charlesadler and @RexChapman\nI remember when he ran for president. I kept saying he's going to have to answer to his Canadian heritage as he wouldn't be illegible anyways. \n\nOh and yeah, pesky facts like that don't exist in his world.",
          "Doses of Pfizer’s Covid-19 vaccines will arrive at 145 US sites on Monday, Operation Warp Speed official says https://cnn.it/3qTPf4a",
          "#BreakingNews A nurse in New York City on Monday became the first person in the United States to receive the coronavirus vaccine, receiving the #PfizerBioNTech shot live on television. (AFP)",
          "Hey @pfizer with respect to your #CovidVaccine, say someone gets vaccinated and builds antibodies, can they donate blood for convalescent plasma treatment of others? #COVID19 #Pfizervaccine #PfizerBioNTech",
          "#Singapore Approves Pfizer #COVID19 Vaccine, First Shipment Expected by End of #December, Says PM Lee Hsien Loong\n#PfizerBioNTech #Pfizervaccine @leehsienloong",
          "Boxes containing the first shipment of the Pfizer-BioNTech #COVID19 #vaccine are prepared to be sent at the #Pfizer Global Supply Kalamazoo manufacturing plant : Morry Gash, Pool #PfizerBioNTech #Pfizervaccine",
          "#UgurSahin #ozlemtureci the #Muslim Scientists Husband-Wife are saving the world with their #PfizerBioNTech #PfizerCovidVaccine #PfizerBiotech #Pfizervaccine #PfizerProud",
          "Replying to @Anaridis and @ScottKirsner\nHow do they have time for this?",
          "What kind of #America will he leave behind?\n-\n#Trump #DonaldTrump #JoeBiden #NewYork #Washington #WhiteHouse #WashingtonDC #HateSpeech #BlackLivesMatter #racism #UnitedStates #MeToo #COVID19 #PoliceBrutality #PoliceViolence #FDA #Pfizer #PfizerBioNTech #vaccine #USA #KamalaHarris",
          "#Singapore became on Monday the first Asian country to approve #PfizerBioNTech's #CoronavirusVaccine and said it expects to start receiving shots by the end of the year",
          "Replying to @AnitaOakville @PattyHajdu and 4 others\nThank you for the organization and foresight that made this arrival happen. @JustinTrudeau",
          "While the world has been on the wrong side of history this year, hopefully, the biggest vaccination effort we've ever known will put us back on the right one https://nbcnews.com/news/us-news/first-trucks-covid-19-vaccine-roll-out-pfizer-plant-michigan-n1251037… @DohaMadani #covid19 #supplychain #logistics #vaccine #unitedstates #pandemic #pfizerbiontech",
          "Replying to @charlesadler and @RexChapman\nPsst... we don't want him back.",
          "Doses of the #PfizerBioNTech vaccine will begin leaving the company's factory in #Kalamazoo #Michigan on Sunday.\nThe #US is seeking to inoculate 20 million people in the first month.\nRead more:",
          "Replying to @charlesadler and @RexChapman\nWell said Charles. Ted Cruz and his ilk have made it very difficult to be a person who is both progressive and conservative.",
          "Tragedy. Another life taken by corporate greed and the evil pharmaceutical companies. #vaccination #vaccine #CovidVaccine #Pfizer #PfizerBioNTech #modernavaccine https://twitter.com/MajorPatriot/status/1339219266906763267…",
          "@AFP #UPDATE The #PfizerBioNTech #Covid-19 vaccine began leaving the company's #Michigan factory on Sunday, set to be injected into the arms of millions of the most vulnerable Americans as the global death toll topped 1.6 million http://u.afp.com/UZZM",
          "This is excellent news!  Our great President Trump and his administration have pushed to get this vaccine ready quickly and have been prepared long in advance to distribute it to the public and that glorious day has now come.  Simply amazing.  \n#PfizerBioNTech",
          "So pleased to get my #PfizerBioNTech #Covid_19 vaccine just now!  \nIt is so important that as many people as possible get vaccinated. Hopefully this is the beginning of the end and 2021 can be better for all of us",
          "Welcoming the 1st #COVID19vaccines to  tonight!\n\nThe 1st 30K doses of #PfizerBioNTech are arriving across the country tonight & tomorrow  initial deliveries of ’s 20M doses of this vaccine.\n\nWhile we have a long way to go, this marks the beginning of our bridge to recovery.",
          "Turkey’s death toll from COVID-19 rises to 16,881 @drfahrettinkoca #coronavirus #PfizerBioNTech #Sinovac\nhttps://ilkha.com/english/world/turkey-s-death-toll-from-covid-19-rises-to-16-881-11101…",
          "Over the weekend, the #FAA issued guidance for pilots following use of the new #PfizerBioNTech #vaccine for #COVID19, generally permitting their ability to fly after a brief waiting period. #flying #pilots",
          "Replying to @AnitaOakville @PattyHajdu and 4 others\nCongratulations - best news ever!!",
          "COVID-19 Vaccine Update: Initial Doses of Pfizer Coronavirus Vaccine in US to Begin from Tomorrow\nhttps://latestly.com/agency-news/world-news-initial-doses-of-pfizer-covid-19-vaccine-in-us-to-begin-from-monday-2195638.html…\n#COVID19Vaccine #PfizerBioNTech #US",
          "#TwitterPoll: DYK: the #UK, #Bahrain, #Canada & the #USA are among the first nations to approve the #PfizerBioNTech #Covid19 #vaccine . \n\nIf a #vaccination is free & accessible where you live, will you plan to get #vaccinated?",
          "“I’m just honored to be one of the first getting vaccinated. Protect yourself and protect your loved ones by getting the vaccine,” said Dr. @liliabbo, chief of infection prevention and infectious diseases at @JacksonHealth. #PfizerBioNTech",
          "@ManchesterHCC @Dr_PWright @GMSCNews @GM_HSC @GMEC_SCN @doctormkumar @ManCityCouncil @AndyBurnhamGM important day for GM. Can’t stress enough the importance of Covid -19 vaccine #CovidVaccines #PfizerBioNTech #Covid_19 #staysafe",
          "Replying to @AnitaOakville @PattyHajdu and 4 others\nNice",
          "Replying to @Anaridis\nMust be tough in their 24/7 battle to find time for nonsense.",
          "After 10 months and 3 weeks since its first case, finally some relief for Uncle Sam. Vaccination starts Monday. #Pfizervaccine #BioNTech #PfizerBioNTech",
          "This little vial carries so much.\n\nto all the scientists who worked tirelessly to get this out. \n\n#vaccinated #PfizerBioNTech",
          "Replying to @yinonw\nWhat a 130,000+ COVID-19 deaths looks like . . . ",
          "Replying to @FlyingMagazine\nWell. How about driving? New excuse for teachers not to go to work.",
          "Replying to @CurtisSChin\nYes",
          "Replying to @charlesadler and @RexChapman\n@tedcruz this sums up your 'Dear Leaders\" ignoring and dereliction of duty in his response to Covid:",
          "New PODCAST: Vaccinating Our Way Out of the Pandemic\n@larrybrilliant, @PeterHotez & @RaySuarezNews discuss the #PfizerBioNTech, other promising vaccines in the pipeline & what it will take to end the pandemic. https://apple.co/37cNozy",
          "The trump administration failed to deliver on vaccine promises, *shocker* #COVIDIOTS #coronavirus #CovidVaccine #PfizerBioNTech"
         ],
         "legendgroup": "",
         "marker": {
          "color": "#636efa",
          "symbol": "circle"
         },
         "mode": "markers",
         "name": "",
         "orientation": "v",
         "showlegend": false,
         "type": "scatter",
         "x": [
          10.013545036315918,
          3.098881483078003,
          10.061460494995117,
          8.36727237701416,
          8.959715843200684,
          2.544431447982788,
          7.386653900146484,
          7.794373512268066,
          9.532918930053711,
          6.646142959594727,
          10.422248840332031,
          7.669267177581787,
          8.406813621520996,
          9.378569602966309,
          9.576723098754883,
          9.874691009521484,
          7.794158935546875,
          8.404572486877441,
          6.883153915405273,
          10.60380744934082,
          6.633066177368164,
          2.472769260406494,
          7.942287445068359,
          8.787165641784668,
          7.456604480743408,
          9.824763298034668,
          10.082222938537598,
          2.771372079849243,
          9.197480201721191,
          7.765625953674316,
          6.964293956756592,
          10.589308738708496,
          2.646974802017212,
          7.217207908630371,
          8.556992530822754,
          8.97160816192627,
          7.407092571258545,
          8.389073371887207,
          6.3829731941223145,
          2.8998637199401855,
          7.695589065551758,
          7.548388481140137,
          2.7779791355133057,
          7.391745567321777,
          1.9760302305221558,
          9.303790092468262,
          8.697174072265625,
          10.447807312011719,
          2.4389214515686035,
          8.252642631530762,
          9.271341323852539,
          6.877065658569336,
          8.390222549438477,
          8.738187789916992,
          9.54511833190918,
          9.636964797973633,
          6.776966094970703,
          7.704415798187256,
          6.948270797729492,
          8.90170669555664,
          7.23462438583374,
          9.19152545928955,
          8.069692611694336,
          7.526800155639648,
          8.964476585388184,
          7.8774847984313965,
          9.055246353149414,
          10.159570693969727,
          9.592231750488281,
          8.360967636108398,
          10.100798606872559,
          3.0928232669830322,
          9.116196632385254,
          9.42119026184082,
          8.359074592590332,
          2.4743492603302,
          2.2419650554656982,
          3.2417757511138916,
          3.023681640625,
          2.5388472080230713,
          10.114235877990723,
          5.859172344207764,
          9.829875946044922,
          9.102373123168945,
          9.749185562133789,
          8.438943862915039,
          8.33393669128418,
          2.534379005432129,
          7.038225173950195,
          6.569120407104492,
          2.3982834815979004,
          2.956403970718384,
          8.241394996643066,
          8.4525728225708,
          7.807967662811279,
          3.025067090988159,
          9.407842636108398,
          2.6516835689544678,
          8.514925003051758,
          8.788731575012207,
          8.081063270568848,
          8.339320182800293,
          8.91164779663086,
          8.447928428649902,
          10.21810531616211,
          9.587925910949707,
          6.99985933303833,
          2.4824488162994385,
          2.873739242553711,
          7.170587539672852,
          7.8782639503479,
          8.922089576721191,
          6.87535285949707,
          2.446244239807129,
          7.219985485076904,
          8.510746002197266,
          8.240663528442383,
          2.6934468746185303,
          8.119532585144043,
          2.456902503967285,
          10.954252243041992,
          7.927518844604492,
          9.50429916381836,
          7.471794605255127,
          9.928939819335938,
          9.661445617675781,
          6.8445892333984375,
          7.403457164764404,
          7.804978847503662,
          9.162778854370117,
          2.9190547466278076,
          5.836949348449707,
          7.436142444610596,
          11.060458183288574,
          2.098144054412842,
          9.353987693786621,
          7.7959394454956055,
          8.501287460327148,
          7.952365875244141,
          6.700886249542236,
          10.094930648803711,
          7.968249320983887,
          9.536955833435059,
          7.824979782104492,
          5.898229598999023,
          7.394898414611816,
          7.038144588470459,
          7.080251693725586,
          7.9967827796936035,
          8.178234100341797,
          7.554490089416504,
          8.88381576538086,
          9.339015007019043,
          6.7303948402404785,
          2.5507044792175293,
          10.347251892089844,
          9.451963424682617,
          7.559601306915283,
          8.203743934631348,
          6.972719192504883,
          10.66331672668457,
          8.856483459472656,
          9.402975082397461,
          8.097330093383789,
          9.597925186157227,
          7.8825178146362305,
          2.4975507259368896,
          2.6290547847747803,
          11.14051628112793,
          10.526036262512207,
          2.3951377868652344,
          2.3717641830444336,
          9.982590675354004,
          7.718262195587158,
          6.86647891998291,
          8.611760139465332,
          7.65342903137207,
          7.833808422088623,
          8.187065124511719,
          8.376028060913086,
          6.899049758911133,
          6.779209613800049,
          2.597249984741211,
          8.850014686584473,
          10.459403038024902,
          2.5713436603546143,
          8.170244216918945,
          9.440648078918457,
          7.969610691070557,
          2.861772298812866,
          10.712101936340332,
          9.3536376953125,
          8.168937683105469,
          8.224571228027344,
          7.889413833618164,
          7.0981268882751465,
          9.696662902832031,
          3.083265542984009,
          5.844051837921143,
          8.393475532531738,
          7.797845363616943,
          7.857433319091797,
          9.625149726867676,
          6.859627723693848,
          10.630098342895508,
          10.890042304992676,
          7.776321887969971,
          9.484684944152832,
          9.454543113708496,
          8.789329528808594,
          9.180712699890137,
          8.04975700378418,
          7.893222332000732,
          9.527002334594727,
          7.432626247406006,
          2.6082611083984375,
          8.670869827270508,
          9.239611625671387,
          2.3590450286865234,
          9.859346389770508,
          8.585349082946777,
          8.925832748413086,
          2.1857006549835205,
          6.003520965576172,
          3.019442081451416,
          7.059100151062012,
          8.951973915100098,
          10.134430885314941,
          8.676407814025879,
          8.947503089904785,
          8.01221752166748,
          11.011700630187988,
          6.814096927642822,
          8.372410774230957,
          9.648628234863281,
          7.2763543128967285,
          8.358305931091309,
          8.003273963928223,
          8.317946434020996,
          8.709779739379883,
          7.391570091247559,
          3.1947081089019775,
          9.63397216796875,
          8.473706245422363,
          9.092846870422363,
          2.335592746734619,
          7.689812660217285,
          9.355411529541016,
          10.848341941833496,
          8.585515022277832,
          10.396024703979492,
          9.704853057861328,
          2.105623483657837,
          9.39852523803711,
          9.656463623046875,
          7.639277458190918,
          6.793839931488037,
          8.124017715454102,
          7.595572471618652,
          11.058161735534668,
          9.311979293823242,
          10.396271705627441,
          8.776834487915039,
          9.823734283447266,
          9.297750473022461,
          9.182934761047363,
          5.841235160827637,
          6.896760940551758,
          6.989595413208008,
          8.316669464111328,
          7.400160789489746,
          7.419909477233887,
          7.509635925292969,
          6.88586950302124,
          2.8408167362213135,
          9.389716148376465,
          7.990174293518066,
          2.5826494693756104,
          3.3027045726776123,
          7.18056058883667,
          8.132953643798828,
          10.943138122558594,
          8.395310401916504,
          9.997797966003418,
          10.225757598876953,
          10.27315616607666,
          8.30828857421875,
          8.414584159851074,
          8.50838565826416,
          9.498449325561523,
          10.08678913116455,
          9.613335609436035,
          10.957464218139648,
          9.638697624206543,
          2.6221764087677,
          3.3658881187438965,
          9.943333625793457,
          11.148517608642578,
          7.194605350494385,
          10.373074531555176,
          9.276925086975098,
          7.412041187286377,
          2.6450376510620117,
          7.780893802642822,
          10.492968559265137,
          2.990447759628296,
          8.389130592346191,
          3.044351816177368,
          9.83544921875,
          3.0520341396331787,
          8.372248649597168,
          9.582842826843262,
          8.523981094360352,
          8.129103660583496,
          9.401596069335938,
          5.992615699768066,
          9.838537216186523,
          2.7629690170288086,
          10.825340270996094,
          9.470120429992676,
          7.825485706329346,
          7.011312961578369,
          2.8888614177703857,
          2.4320969581604004,
          8.507259368896484,
          8.714286804199219,
          6.14069128036499,
          2.435777425765991,
          2.9469833374023438,
          2.9986748695373535,
          8.353282928466797,
          8.038272857666016
         ],
         "xaxis": "x",
         "y": [
          14.919698715209961,
          6.826986789703369,
          11.81772232055664,
          12.204488754272461,
          15.214119911193848,
          7.154744625091553,
          12.92198657989502,
          14.335949897766113,
          12.682541847229004,
          14.987171173095703,
          12.477670669555664,
          12.289641380310059,
          11.880073547363281,
          15.017955780029297,
          16.22625732421875,
          13.845627784729004,
          13.382237434387207,
          14.595653533935547,
          13.982056617736816,
          14.615310668945312,
          14.885833740234375,
          7.004465103149414,
          15.043622970581055,
          12.22603702545166,
          15.424019813537598,
          15.141817092895508,
          14.820451736450195,
          6.845524787902832,
          14.57445240020752,
          12.058459281921387,
          15.043807983398438,
          15.040395736694336,
          8.439082145690918,
          13.301680564880371,
          13.537205696105957,
          13.10167121887207,
          14.694685935974121,
          12.1110200881958,
          14.771557807922363,
          7.6745991706848145,
          15.84020709991455,
          12.673128128051758,
          7.722301006317139,
          12.965177536010742,
          7.209379196166992,
          16.06720733642578,
          14.110750198364258,
          12.471324920654297,
          7.817873954772949,
          11.996094703674316,
          13.892067909240723,
          13.48803424835205,
          15.087276458740234,
          14.319957733154297,
          12.610418319702148,
          15.951996803283691,
          15.048873901367188,
          13.553997039794922,
          13.043643951416016,
          13.621381759643555,
          14.262874603271484,
          13.827900886535645,
          11.777769088745117,
          12.751018524169922,
          12.773801803588867,
          11.288414001464844,
          13.767450332641602,
          14.763808250427246,
          11.51326847076416,
          14.464735984802246,
          13.211939811706543,
          7.989522457122803,
          11.796285629272461,
          11.613240242004395,
          12.65084171295166,
          6.695533275604248,
          7.27743673324585,
          7.418513774871826,
          6.720833778381348,
          8.164215087890625,
          15.105352401733398,
          11.247092247009277,
          15.48766040802002,
          11.968735694885254,
          16.05908966064453,
          11.467560768127441,
          11.753870010375977,
          7.813462257385254,
          13.212488174438477,
          14.629307746887207,
          6.83765983581543,
          7.85275936126709,
          15.722044944763184,
          11.379985809326172,
          13.755988121032715,
          6.666274547576904,
          14.842183113098145,
          7.164377212524414,
          13.542922019958496,
          12.462055206298828,
          11.455726623535156,
          14.456792831420898,
          15.779252052307129,
          15.85988712310791,
          13.859684944152832,
          15.252206802368164,
          13.349650382995605,
          7.875330924987793,
          6.854819297790527,
          13.471561431884766,
          11.241643905639648,
          15.325128555297852,
          15.517321586608887,
          7.954036235809326,
          12.691645622253418,
          15.131038665771484,
          15.43477725982666,
          7.732810020446777,
          11.772614479064941,
          8.222726821899414,
          14.838399887084961,
          15.556163787841797,
          16.0269832611084,
          13.715598106384277,
          13.77713680267334,
          14.794017791748047,
          13.458524703979492,
          15.277663230895996,
          15.544886589050293,
          15.78662109375,
          6.991419792175293,
          11.260519027709961,
          12.514970779418945,
          14.627413749694824,
          7.242963790893555,
          15.24241828918457,
          13.06170654296875,
          11.635330200195312,
          11.590476036071777,
          11.758953094482422,
          15.423933029174805,
          15.679596900939941,
          11.612113952636719,
          11.33647632598877,
          11.328855514526367,
          14.570975303649902,
          15.19620132446289,
          11.872476577758789,
          14.04269027709961,
          12.665670394897461,
          12.272652626037598,
          13.944446563720703,
          13.869178771972656,
          15.206485748291016,
          7.2261457443237305,
          12.443438529968262,
          12.591858863830566,
          12.736841201782227,
          12.42254638671875,
          11.783451080322266,
          15.073044776916504,
          13.685966491699219,
          14.707754135131836,
          13.955867767333984,
          12.071511268615723,
          14.222843170166016,
          7.555534839630127,
          7.918509006500244,
          14.914949417114258,
          12.739945411682129,
          6.929052352905273,
          8.336112976074219,
          11.701849937438965,
          15.718389511108398,
          13.063987731933594,
          15.722479820251465,
          14.952982902526855,
          15.135899543762207,
          13.135555267333984,
          13.83316707611084,
          15.517560958862305,
          13.427489280700684,
          7.092189788818359,
          14.071086883544922,
          14.583988189697266,
          6.593522548675537,
          12.129469871520996,
          11.639360427856445,
          14.139939308166504,
          7.184609413146973,
          15.189697265625,
          13.701000213623047,
          13.37778377532959,
          13.56937313079834,
          11.974671363830566,
          15.056790351867676,
          15.980878829956055,
          6.700627326965332,
          11.21965217590332,
          15.629878997802734,
          12.71613883972168,
          11.2333402633667,
          11.465509414672852,
          15.08190631866455,
          15.391195297241211,
          15.281905174255371,
          13.089437484741211,
          12.623733520507812,
          12.55732250213623,
          13.596906661987305,
          14.960205078125,
          15.236818313598633,
          12.169761657714844,
          11.829865455627441,
          13.24341106414795,
          7.496746063232422,
          13.3894624710083,
          13.901782989501953,
          7.202199459075928,
          15.553580284118652,
          13.93432903289795,
          14.031614303588867,
          7.0492119789123535,
          11.23666000366211,
          6.740419864654541,
          13.188298225402832,
          11.722105026245117,
          13.945075988769531,
          14.231649398803711,
          12.584251403808594,
          11.836601257324219,
          14.847711563110352,
          11.800044059753418,
          12.419587135314941,
          12.020857810974121,
          15.164621353149414,
          15.3193359375,
          12.197026252746582,
          15.07822036743164,
          15.52905559539795,
          15.081177711486816,
          7.429852485656738,
          14.377103805541992,
          13.1648530960083,
          13.651307106018066,
          7.785986423492432,
          15.675322532653809,
          14.786628723144531,
          15.193714141845703,
          12.182323455810547,
          15.437583923339844,
          15.73580265045166,
          7.394881248474121,
          12.945016860961914,
          13.1710786819458,
          12.361833572387695,
          14.789426803588867,
          14.78011703491211,
          14.215076446533203,
          14.82949447631836,
          16.19567108154297,
          12.811654090881348,
          15.17738151550293,
          13.67935848236084,
          13.824163436889648,
          14.365297317504883,
          11.254714012145996,
          14.701321601867676,
          13.600333213806152,
          15.592538833618164,
          14.253824234008789,
          13.150503158569336,
          15.53941822052002,
          14.115171432495117,
          7.9659576416015625,
          15.128808975219727,
          11.375550270080566,
          7.8630595207214355,
          8.126924514770508,
          15.13967514038086,
          14.856429100036621,
          14.715683937072754,
          14.140449523925781,
          14.589225769042969,
          13.00908374786377,
          15.66175365447998,
          11.5387601852417,
          11.406147956848145,
          11.385915756225586,
          11.549147605895996,
          15.401183128356934,
          11.48056697845459,
          14.713147163391113,
          15.959983825683594,
          7.3596062660217285,
          8.32836627960205,
          15.520469665527344,
          14.956221580505371,
          15.112954139709473,
          12.52517032623291,
          15.1299409866333,
          14.529252052307129,
          8.018523216247559,
          14.118492126464844,
          12.777015686035156,
          6.692846775054932,
          14.114964485168457,
          8.121941566467285,
          15.249399185180664,
          8.216621398925781,
          13.976027488708496,
          15.44091510772705,
          14.637913703918457,
          14.987470626831055,
          15.808207511901855,
          11.376496315002441,
          11.670680046081543,
          6.870264053344727,
          15.145898818969727,
          14.018567085266113,
          15.191255569458008,
          13.792245864868164,
          6.835325717926025,
          8.138455390930176,
          14.806806564331055,
          15.092625617980957,
          11.444796562194824,
          8.256245613098145,
          7.6659979820251465,
          8.149290084838867,
          14.273946762084961,
          13.458327293395996
         ],
         "yaxis": "y"
        }
       ],
       "layout": {
        "legend": {
         "tracegroupgap": 0
        },
        "margin": {
         "t": 60
        },
        "template": {
         "data": {
          "bar": [
           {
            "error_x": {
             "color": "#2a3f5f"
            },
            "error_y": {
             "color": "#2a3f5f"
            },
            "marker": {
             "line": {
              "color": "#E5ECF6",
              "width": 0.5
             },
             "pattern": {
              "fillmode": "overlay",
              "size": 10,
              "solidity": 0.2
             }
            },
            "type": "bar"
           }
          ],
          "barpolar": [
           {
            "marker": {
             "line": {
              "color": "#E5ECF6",
              "width": 0.5
             },
             "pattern": {
              "fillmode": "overlay",
              "size": 10,
              "solidity": 0.2
             }
            },
            "type": "barpolar"
           }
          ],
          "carpet": [
           {
            "aaxis": {
             "endlinecolor": "#2a3f5f",
             "gridcolor": "white",
             "linecolor": "white",
             "minorgridcolor": "white",
             "startlinecolor": "#2a3f5f"
            },
            "baxis": {
             "endlinecolor": "#2a3f5f",
             "gridcolor": "white",
             "linecolor": "white",
             "minorgridcolor": "white",
             "startlinecolor": "#2a3f5f"
            },
            "type": "carpet"
           }
          ],
          "choropleth": [
           {
            "colorbar": {
             "outlinewidth": 0,
             "ticks": ""
            },
            "type": "choropleth"
           }
          ],
          "contour": [
           {
            "colorbar": {
             "outlinewidth": 0,
             "ticks": ""
            },
            "colorscale": [
             [
              0,
              "#0d0887"
             ],
             [
              0.1111111111111111,
              "#46039f"
             ],
             [
              0.2222222222222222,
              "#7201a8"
             ],
             [
              0.3333333333333333,
              "#9c179e"
             ],
             [
              0.4444444444444444,
              "#bd3786"
             ],
             [
              0.5555555555555556,
              "#d8576b"
             ],
             [
              0.6666666666666666,
              "#ed7953"
             ],
             [
              0.7777777777777778,
              "#fb9f3a"
             ],
             [
              0.8888888888888888,
              "#fdca26"
             ],
             [
              1,
              "#f0f921"
             ]
            ],
            "type": "contour"
           }
          ],
          "contourcarpet": [
           {
            "colorbar": {
             "outlinewidth": 0,
             "ticks": ""
            },
            "type": "contourcarpet"
           }
          ],
          "heatmap": [
           {
            "colorbar": {
             "outlinewidth": 0,
             "ticks": ""
            },
            "colorscale": [
             [
              0,
              "#0d0887"
             ],
             [
              0.1111111111111111,
              "#46039f"
             ],
             [
              0.2222222222222222,
              "#7201a8"
             ],
             [
              0.3333333333333333,
              "#9c179e"
             ],
             [
              0.4444444444444444,
              "#bd3786"
             ],
             [
              0.5555555555555556,
              "#d8576b"
             ],
             [
              0.6666666666666666,
              "#ed7953"
             ],
             [
              0.7777777777777778,
              "#fb9f3a"
             ],
             [
              0.8888888888888888,
              "#fdca26"
             ],
             [
              1,
              "#f0f921"
             ]
            ],
            "type": "heatmap"
           }
          ],
          "heatmapgl": [
           {
            "colorbar": {
             "outlinewidth": 0,
             "ticks": ""
            },
            "colorscale": [
             [
              0,
              "#0d0887"
             ],
             [
              0.1111111111111111,
              "#46039f"
             ],
             [
              0.2222222222222222,
              "#7201a8"
             ],
             [
              0.3333333333333333,
              "#9c179e"
             ],
             [
              0.4444444444444444,
              "#bd3786"
             ],
             [
              0.5555555555555556,
              "#d8576b"
             ],
             [
              0.6666666666666666,
              "#ed7953"
             ],
             [
              0.7777777777777778,
              "#fb9f3a"
             ],
             [
              0.8888888888888888,
              "#fdca26"
             ],
             [
              1,
              "#f0f921"
             ]
            ],
            "type": "heatmapgl"
           }
          ],
          "histogram": [
           {
            "marker": {
             "pattern": {
              "fillmode": "overlay",
              "size": 10,
              "solidity": 0.2
             }
            },
            "type": "histogram"
           }
          ],
          "histogram2d": [
           {
            "colorbar": {
             "outlinewidth": 0,
             "ticks": ""
            },
            "colorscale": [
             [
              0,
              "#0d0887"
             ],
             [
              0.1111111111111111,
              "#46039f"
             ],
             [
              0.2222222222222222,
              "#7201a8"
             ],
             [
              0.3333333333333333,
              "#9c179e"
             ],
             [
              0.4444444444444444,
              "#bd3786"
             ],
             [
              0.5555555555555556,
              "#d8576b"
             ],
             [
              0.6666666666666666,
              "#ed7953"
             ],
             [
              0.7777777777777778,
              "#fb9f3a"
             ],
             [
              0.8888888888888888,
              "#fdca26"
             ],
             [
              1,
              "#f0f921"
             ]
            ],
            "type": "histogram2d"
           }
          ],
          "histogram2dcontour": [
           {
            "colorbar": {
             "outlinewidth": 0,
             "ticks": ""
            },
            "colorscale": [
             [
              0,
              "#0d0887"
             ],
             [
              0.1111111111111111,
              "#46039f"
             ],
             [
              0.2222222222222222,
              "#7201a8"
             ],
             [
              0.3333333333333333,
              "#9c179e"
             ],
             [
              0.4444444444444444,
              "#bd3786"
             ],
             [
              0.5555555555555556,
              "#d8576b"
             ],
             [
              0.6666666666666666,
              "#ed7953"
             ],
             [
              0.7777777777777778,
              "#fb9f3a"
             ],
             [
              0.8888888888888888,
              "#fdca26"
             ],
             [
              1,
              "#f0f921"
             ]
            ],
            "type": "histogram2dcontour"
           }
          ],
          "mesh3d": [
           {
            "colorbar": {
             "outlinewidth": 0,
             "ticks": ""
            },
            "type": "mesh3d"
           }
          ],
          "parcoords": [
           {
            "line": {
             "colorbar": {
              "outlinewidth": 0,
              "ticks": ""
             }
            },
            "type": "parcoords"
           }
          ],
          "pie": [
           {
            "automargin": true,
            "type": "pie"
           }
          ],
          "scatter": [
           {
            "marker": {
             "colorbar": {
              "outlinewidth": 0,
              "ticks": ""
             }
            },
            "type": "scatter"
           }
          ],
          "scatter3d": [
           {
            "line": {
             "colorbar": {
              "outlinewidth": 0,
              "ticks": ""
             }
            },
            "marker": {
             "colorbar": {
              "outlinewidth": 0,
              "ticks": ""
             }
            },
            "type": "scatter3d"
           }
          ],
          "scattercarpet": [
           {
            "marker": {
             "colorbar": {
              "outlinewidth": 0,
              "ticks": ""
             }
            },
            "type": "scattercarpet"
           }
          ],
          "scattergeo": [
           {
            "marker": {
             "colorbar": {
              "outlinewidth": 0,
              "ticks": ""
             }
            },
            "type": "scattergeo"
           }
          ],
          "scattergl": [
           {
            "marker": {
             "colorbar": {
              "outlinewidth": 0,
              "ticks": ""
             }
            },
            "type": "scattergl"
           }
          ],
          "scattermapbox": [
           {
            "marker": {
             "colorbar": {
              "outlinewidth": 0,
              "ticks": ""
             }
            },
            "type": "scattermapbox"
           }
          ],
          "scatterpolar": [
           {
            "marker": {
             "colorbar": {
              "outlinewidth": 0,
              "ticks": ""
             }
            },
            "type": "scatterpolar"
           }
          ],
          "scatterpolargl": [
           {
            "marker": {
             "colorbar": {
              "outlinewidth": 0,
              "ticks": ""
             }
            },
            "type": "scatterpolargl"
           }
          ],
          "scatterternary": [
           {
            "marker": {
             "colorbar": {
              "outlinewidth": 0,
              "ticks": ""
             }
            },
            "type": "scatterternary"
           }
          ],
          "surface": [
           {
            "colorbar": {
             "outlinewidth": 0,
             "ticks": ""
            },
            "colorscale": [
             [
              0,
              "#0d0887"
             ],
             [
              0.1111111111111111,
              "#46039f"
             ],
             [
              0.2222222222222222,
              "#7201a8"
             ],
             [
              0.3333333333333333,
              "#9c179e"
             ],
             [
              0.4444444444444444,
              "#bd3786"
             ],
             [
              0.5555555555555556,
              "#d8576b"
             ],
             [
              0.6666666666666666,
              "#ed7953"
             ],
             [
              0.7777777777777778,
              "#fb9f3a"
             ],
             [
              0.8888888888888888,
              "#fdca26"
             ],
             [
              1,
              "#f0f921"
             ]
            ],
            "type": "surface"
           }
          ],
          "table": [
           {
            "cells": {
             "fill": {
              "color": "#EBF0F8"
             },
             "line": {
              "color": "white"
             }
            },
            "header": {
             "fill": {
              "color": "#C8D4E3"
             },
             "line": {
              "color": "white"
             }
            },
            "type": "table"
           }
          ]
         },
         "layout": {
          "annotationdefaults": {
           "arrowcolor": "#2a3f5f",
           "arrowhead": 0,
           "arrowwidth": 1
          },
          "autotypenumbers": "strict",
          "coloraxis": {
           "colorbar": {
            "outlinewidth": 0,
            "ticks": ""
           }
          },
          "colorscale": {
           "diverging": [
            [
             0,
             "#8e0152"
            ],
            [
             0.1,
             "#c51b7d"
            ],
            [
             0.2,
             "#de77ae"
            ],
            [
             0.3,
             "#f1b6da"
            ],
            [
             0.4,
             "#fde0ef"
            ],
            [
             0.5,
             "#f7f7f7"
            ],
            [
             0.6,
             "#e6f5d0"
            ],
            [
             0.7,
             "#b8e186"
            ],
            [
             0.8,
             "#7fbc41"
            ],
            [
             0.9,
             "#4d9221"
            ],
            [
             1,
             "#276419"
            ]
           ],
           "sequential": [
            [
             0,
             "#0d0887"
            ],
            [
             0.1111111111111111,
             "#46039f"
            ],
            [
             0.2222222222222222,
             "#7201a8"
            ],
            [
             0.3333333333333333,
             "#9c179e"
            ],
            [
             0.4444444444444444,
             "#bd3786"
            ],
            [
             0.5555555555555556,
             "#d8576b"
            ],
            [
             0.6666666666666666,
             "#ed7953"
            ],
            [
             0.7777777777777778,
             "#fb9f3a"
            ],
            [
             0.8888888888888888,
             "#fdca26"
            ],
            [
             1,
             "#f0f921"
            ]
           ],
           "sequentialminus": [
            [
             0,
             "#0d0887"
            ],
            [
             0.1111111111111111,
             "#46039f"
            ],
            [
             0.2222222222222222,
             "#7201a8"
            ],
            [
             0.3333333333333333,
             "#9c179e"
            ],
            [
             0.4444444444444444,
             "#bd3786"
            ],
            [
             0.5555555555555556,
             "#d8576b"
            ],
            [
             0.6666666666666666,
             "#ed7953"
            ],
            [
             0.7777777777777778,
             "#fb9f3a"
            ],
            [
             0.8888888888888888,
             "#fdca26"
            ],
            [
             1,
             "#f0f921"
            ]
           ]
          },
          "colorway": [
           "#636efa",
           "#EF553B",
           "#00cc96",
           "#ab63fa",
           "#FFA15A",
           "#19d3f3",
           "#FF6692",
           "#B6E880",
           "#FF97FF",
           "#FECB52"
          ],
          "font": {
           "color": "#2a3f5f"
          },
          "geo": {
           "bgcolor": "white",
           "lakecolor": "white",
           "landcolor": "#E5ECF6",
           "showlakes": true,
           "showland": true,
           "subunitcolor": "white"
          },
          "hoverlabel": {
           "align": "left"
          },
          "hovermode": "closest",
          "mapbox": {
           "style": "light"
          },
          "paper_bgcolor": "white",
          "plot_bgcolor": "#E5ECF6",
          "polar": {
           "angularaxis": {
            "gridcolor": "white",
            "linecolor": "white",
            "ticks": ""
           },
           "bgcolor": "#E5ECF6",
           "radialaxis": {
            "gridcolor": "white",
            "linecolor": "white",
            "ticks": ""
           }
          },
          "scene": {
           "xaxis": {
            "backgroundcolor": "#E5ECF6",
            "gridcolor": "white",
            "gridwidth": 2,
            "linecolor": "white",
            "showbackground": true,
            "ticks": "",
            "zerolinecolor": "white"
           },
           "yaxis": {
            "backgroundcolor": "#E5ECF6",
            "gridcolor": "white",
            "gridwidth": 2,
            "linecolor": "white",
            "showbackground": true,
            "ticks": "",
            "zerolinecolor": "white"
           },
           "zaxis": {
            "backgroundcolor": "#E5ECF6",
            "gridcolor": "white",
            "gridwidth": 2,
            "linecolor": "white",
            "showbackground": true,
            "ticks": "",
            "zerolinecolor": "white"
           }
          },
          "shapedefaults": {
           "line": {
            "color": "#2a3f5f"
           }
          },
          "ternary": {
           "aaxis": {
            "gridcolor": "white",
            "linecolor": "white",
            "ticks": ""
           },
           "baxis": {
            "gridcolor": "white",
            "linecolor": "white",
            "ticks": ""
           },
           "bgcolor": "#E5ECF6",
           "caxis": {
            "gridcolor": "white",
            "linecolor": "white",
            "ticks": ""
           }
          },
          "title": {
           "x": 0.05
          },
          "xaxis": {
           "automargin": true,
           "gridcolor": "white",
           "linecolor": "white",
           "ticks": "",
           "title": {
            "standoff": 15
           },
           "zerolinecolor": "white",
           "zerolinewidth": 2
          },
          "yaxis": {
           "automargin": true,
           "gridcolor": "white",
           "linecolor": "white",
           "ticks": "",
           "title": {
            "standoff": 15
           },
           "zerolinecolor": "white",
           "zerolinewidth": 2
          }
         }
        },
        "xaxis": {
         "anchor": "y",
         "domain": [
          0,
          1
         ],
         "title": {
          "text": "x"
         }
        },
        "yaxis": {
         "anchor": "x",
         "domain": [
          0,
          1
         ],
         "title": {
          "text": "y"
         }
        }
       }
      },
      "text/html": [
       "<div>                            <div id=\"67717df5-3586-46cc-b7c9-d7be6ab6e1eb\" class=\"plotly-graph-div\" style=\"height:525px; width:100%;\"></div>            <script type=\"text/javascript\">                require([\"plotly\"], function(Plotly) {                    window.PLOTLYENV=window.PLOTLYENV || {};                                    if (document.getElementById(\"67717df5-3586-46cc-b7c9-d7be6ab6e1eb\")) {                    Plotly.newPlot(                        \"67717df5-3586-46cc-b7c9-d7be6ab6e1eb\",                        [{\"hovertemplate\":\"<b>%{hovertext}</b><br><br>x=%{x}<br>y=%{y}<extra></extra>\",\"hovertext\":[\"Supplier Fosun Pharma will be making an initial payment of \\u20ac125 mil by year-end for 50 million doses. #FMTNews #China #Vaccine #Covid19 #PfizerBioNTech\",\"Replying to @AnitaOakville @PattyHajdu and 4 others\\nphoto-op? don't slow the shipment....\",\"#UnitedStates : The Federal Aviation Administration (FAA) said Saturday it had approved the use of the #PfizerBioNTech #COVID19 vaccine by pilots and air traffic controllers. \\n@PIB_India @airnewsalerts\",\"Politico.  December 13, 2020.  FDA's Hahn: Covid-19 vaccine authorization based in 'science and data'\\nhttps://politico.com/news/2020/12/13/fdas-hahn-coronavirus-vaccine-approval-science-data-444854\\u2026\\n#coronavirus #covid19 #coronavirusprevention #CoronaVirusUpdate #CoronavirusVaccine #COVID19Vaccine #PfizerBioNTech #business #technology #datascience\",\"KFDM\\u2019s/FOX 4\\u2019s @THEPAIGEREPORT1 is at Baptist hospital getting a first hand look at where the Pfizer COVID-19 vaccines will be stored.\\n\\nTune into KFDM and FOX 4 news to find out how the hospital is preparing. #COVID19 #Vaccine #PfizerBioNTech\",\"Replying to @Anaridis and @Joyce_Karam\\nThis brings such a big smile to my face. I love it.\",\"In case anyone is interested here is a link to the #PfizerBioNTech #COVID19Vaccine patient information that is on the @US_FDA site. \\n\\nThis should be given to every patient who receives the vaccine https://fda.gov/media/144414/download\\u2026\",\"Ok I might be late to discovering this but... both #PfizerBioNTech  and #Moderna #COVID19 vaccines are being led by WOMEN @KizzyPhD @drkatherinjansen Women saving the world y\\u2019all! \",\"#SputnikV uses 2 different human adenoviral vectors for 2 vaccine shots to ensure that immunity to the 1st does not make the 2nd less effective. We offered @AstraZeneca to use one of our vectors so they can also have two vectors in their vaccine. AZ confirmed.\",\"No.1 of 2 done.\\n\\n#ThankYouNHS @NHSuk @MHRAgovuk and #PfizerBioNTech @pfizer for making the #CovidVaccine dream possible and come to fruition so soon in the UK. #HopeForTheFuture @TeamNUH @NUH_AcuteMed\",\"Singapore approves Pfizer vaccine , becomes first south East Asian country to approve the vaccine. Doses will be given from end of December #Singapore #Covid_19 #CovidVaccine #PfizerBioNTech\",\"How the #PfizerBioNTech Vaccine Works?\\nThis article made a detailed explanation.\\nhttps://nytimes.com/interactive/2020/health/pfizer-biontech-covid-19-vaccine.html\\u2026\\n\\n#COVID19 #CovidVaccine #vaccines #coronavirus #CoronaVaccine #SARSCoV2 #cellbiology #mRNA #biology #biotech #biotechnology\",\"The Advisory Committee on Immunization Practices\\u2019 Interim Recommendation for Use of Pfizer-BioNTech COVID-19 Vaccine \\u2014 United States, December 2020\\nvia @CDCgov @CDCMMWR this afternoon.\\n\\nhttps://cdc.gov/mmwr/volumes/69/wr/mm6950e2.htm?s_cid=mm6950e2_w\\u2026 \\n#COVID19Vaccine #Pfizer #PfizerBioNTech #covid19pandemic\",\"What an apt name: #Portage, Michigan!  #PfizerPlant\\n\",\"Toronto to receive Ontario's 1st doses of Pfizer COVID-19 vaccine today\\nhttps://indiablooms.com/world-details/USN/27188/toronto-to-receive-ontario-s-1st-doses-of-pfizer-covid-19-vaccine-today.html\\u2026\\n#Ontario #PfizerBioNTech #COVID19Vaccine #Toronto #FirstDose\",\"#APT29 aka #CozyBear hacker group suspected of hacking #PfizerBioNTech #IP and now federal agencies like U.S. Treasury Department, potentially spying on emails for months. \\n\\n#Infosec #CyberSecurity https://lnkd.in/g62qMiE\",\"Vaccines save lives  Hopefully HCW can assuage public fear and anxiety regarding this vaccine  so we can finally move forward #VaccinesSaveLives \\n#CovidVaccines #PfizerBioNTech \\n\\n**Coronavirus Update 116: Pfizer COVID 19 Vaccine Explained**\",\"Replying to @cnnbrk\\nGood luck with this experimental \\u201cvaccin\\u201d \",\"Excited about tomorrow \\nSo honoured to be part to this exciting team administering in primary care #Covid_19 #Covid19UK #PfizerBioNTech #BioNTech #CovidVaccine #teamGp #gp #COVID19Vaccine #primarycare #vaccination #Rcgp\",\"The #USA government is prepping millions of doses of the #PfizerBioNTech coronavirus #vaccine for shipment to sites across the nation in support of what may be the most ambitious immunization program in history.\\n\\n https://bit.ly/3nqxWFI\",\"Getting my first dose of the #PfizerBioNTech #CovidVaccine next weekend and seeing this #UNBOXING just made it so real. Are my hopes for this set too high?#OperationWarpSpeed\",\"Replying to @Anaridis and @devincole\\nDr. Blue Suit has been waiting months to show off those moves. Where\\u2019s his extended remix?\",\"Can\\u2019t wait to take my kids towards herd immunity   \\n#vaccines #PfizerBioNTech\",\"Pfizer-BioNTech COVID-19 Vaccine: Donald Trump, Mike Pence & Top US Officials to be Offered Early Access to Newly Approved Vaccine: https://latestly.com/world/pfizer-biontech-covid-19-vaccine-donald-trump-mike-pence-top-us-officials-to-be-offered-early-access-to-newly-approved-vaccine-2196957.html\\u2026 #coronavirus #Covid_19 @realDonaldTrump @VP @WhiteHouse #PfizerBioNTech\",\"Today I was lucky enough to get vaccinated against #COVID19. I did it not just for myself, but for my patients, my friends and family, and my community. When the vaccine becomes more widely available, I'd urge you to do the same!\\n#CovidVaccines #PfizerBioNTech #Thankful\",\"Sunday evening\\u2019s shipment is the first of an initial 30,000 doses of the Pfizer vaccine to be spread across 14 distribution centres. #COVID19AB #vaccine #pandemic #PHAC #PfizerBioNTech\",\"The first few million #PfizerBioNtech #vaccines have arrived in the US after a last-minute #emergencyauthorization last Friday. \\n\\nWill we see #risk #assets rising at the cost of #dollar early in the week today or will #investors wait for #jabs to begin first?\",\"Replying to @AnitaOakville @PattyHajdu and 4 others\\nWoo hoo!  Best news! \",\"\\\"The [temperature] issue with BioNtech/Pfizer - yes, it's challenging. But we know how to do it\\\".\\n\",\"This vaccine is special because it triggers an immune response without using the actual virus that causes covid-19.\\n https://edmonton.ctvnews.ca/mobile/how-the-pfizer-biontech-covid-19-vaccine-works-health-canada-1.5232525\\u2026 #pfizer #pfizerbiontech #covid19ab #pfizervaccine\",\"I am beyond relieved to share that I\\u2019ll be among the first to receive the #CovidVaccine from #PfizerBioNTech. Thank you @DrFNA for helping to make this possible by participating in a Phase 3 trial. Thank you also, for sharing your experience. #KnowledgeIsPower #TheMoreYouKnow\",\"The first trucks loaded with Pfizer\\u2019s coronavirus shot pulled out of a Michigan warehouse early Sunday \\u2014 starting the biggest vaccination effort in American history\\n\\n#Michigan #Pfizer #PfizerBioNTech #CovidVaccine  \\n\\nhttps://realtalktime.com/pfizer-covid-vaccine-portage-michigan/\\u2026\",\"Replying to @yinonw and @jhaskinscabrera\\nThat's why those people should just be living their lives.  And focused protection for the elderly.\",\"Will you be taking the COVID-19 vaccine once available to you? #COVID19 #Pfizer #BioNTech #vaccine #PfizerBioNTech #mRNA #AstraZeneca #coronavirus #usa #Canada #vaccination #CoronaVaccine #pandemic #Biden #trump #OperationWarpSpeed #CovidVaccines #Quarantine #antivaxxers #cdnpol\",\"This mandated anthrax vaccine killed 35k US soldiers* and maimed  many more, at about 2% serious adverse reactions rate. #PfizerBioNTech \\u2018s info quotes a 4% grade 3 rate! \\n\\nWatch the compelling testimonials of US & U.K. military an see for yourselves: https://t.co/k2uZDHIlxq\",\"\\u2066@AvgerinosMoscow\\u2069 #PfizerBioNTech #FDA approval Apprentice Style!\\n\\u2066@realDonaldTrump\\u2069: \\u201cApprove the #vaccine or you\\u2019re fired!\\u201d\\nNow that\\u2019s science!\",\"Building on last week\\u2019s \\u2018trial\\u2019 run and extending our vaccination  programme this week . So much effort going on behind the scenes . Trainers  tomorrow team #teampharmacy #lovemyjob #PfizerBioNTech @cab5554 @tracyr09 @Cymraes_Lois @OwenBerwyn\",\"Pfizer-BioNTech\\u2019s COVID19 vaccine is also urgently needed for Africa: #Ghana, #Nigeria, #Egypt, #SouthAfrica & rest of Africa \\nBy @KwakuAkyeampong \\n\\nRetweet\\n\\n#Pfizer #Pfizervaccine #PfizerCovidVaccine #PfizerBioNTech #PfizerBiotech @_AfricanUnion @CNNAfrica @ReutersAfrica #Africa\",\"Replying to @katie_crowfoot @LPTnhs and 2 others\\nGood luck, hope it works and the side effects aren't too bad\",\"Replying to @770CHQR\\nTruly defines, trickling in ....\",\"@UTSWNews starting the COVID vaccination program today. Socially distanced staff patiently waiting. #CovidVaccine #Covid_19 #PfizerBioNTech\",\"#Pfizervaccine #PfizerBioNTech WHAT'S IN THIS #vaccine? Why #Pfizer is NOT 100% transparent about it? \\n#coronavirus #VaccinesWork #VaccinesSaveLives #VaccinoAntiCovid #Dubai\\n#Toronto #emirates #SideEffect #allergies\\nSource+Copyright- MIT Technology Review\",\"Replying to @DrMarcSiegel @EricShawnTV and @ArthelNeville\\nSaid the person pretending to be a scientist as they send the tweet dressed in their pajamas from their mothers basement\",\"I love high quality infographics for getting across multiple ideas quickly \\n\\nHere is an excellent set from The Factivists on @Instagram (not on @Twitter) on the #PfizerBioNTech #vaccine\\n\\nhttps://instagram.com/p/CIorEb6no34/?igshid=74fkf2c2vldh\\u2026\\n\\n#Covid19UK #COVID19 #CovidVaccine #mRNA #DocsforVax #MedTwitter\",\"@HeartOTXHeartMD\\n\",\"The first COVID-19 vaccine doses have arrived in Oregon.  \\n\\nWatch #MorningsontheDove from 6am -9am tomorrow for details. \\n\\n#COVID19Vaccine #PfizerBioNTech #theDove #theDoveTV #theDoveRadio #theDoveNewsroom #Faith #hope #encouragment #affirmation #PNW #Oregon\",\"POTUS Donald Trump declared months ago the military would be rolling out distribution and he was scoffed for it.  He was completely right.  Now, it\\u2019s History.\\n\",\"Singapore approves @pfizer @BioNTech_Group  vaccine for local use. Vaccine safe to use on people aged 16 and above, and first batch of #PfizerBioNTech vaccine will arrive by end of December.\",\"Replying to @cnnbrk\\n@YOUCEFB45681191\",\"Per the CDC, persons with HIV and other immunocompromising conditions may still receive the COVID-19 vaccine unless otherwise contraindicated. #PfizerBioNTech #MedTwitter\",\"Anyone wondering why day after #PfizerBioNTech approval in the UK people were getting vaccinated but all we are told this point in US and #NewYork is it will happen in \\u201cnext few days\\u201d #CovidVaccine\",\"Half way there #COVID19 #CovidVaccine #vaccination #Pfizervaccine #PfizerBioNTech\",\"The hospital I work at has received the vaccine. Our IV room made the first five doses to be given in the state. I\\u2019m ready for this bad boy. #CovidVaccine #COVID19 #PfizerBioNTech\",\"#Canadian firm Acuitas - at heart of #PfizerBioNTech #vaccine - great story - @ubcprez #UBC - we helped early on with @NRC_CNRC #IRAP program when the firm was called AlCana Technologies Ltd ... #canpoli\",\"Kirill Dmitriev, RDIF CEO: #SputnikV is showing high efficacy itself and can also be combined with other vaccines. Gamaleya and RDIF welcome joint clinical trial with @AstraZeneca to explore adding #SputnikV human adenoviral vector to AZ vaccine.\\nAstraZeneca will test using component of Russia\\u2019s Sputnik V in clinical trials of its own vaccine...sputnikvaccine.com\",\"#WATCH: Shipments of initial doses of the COVID-19 vaccines arrived in selected ports of entry in Canada on Sunday night. https://instagram.com/p/CIxZTVAD_tm/?igshid=s6imubrpo54k\\u2026\\n\\nVideo credit: Canadian Armed Forces Combat Camera \\n\\n#PfizerBioNTech #COVID19 #CovidVaccine #covid19Qc #COVIDCanada\",\"Happy and relieved to have the #PfizerBioNTech #Covidvaccine \\u2013 amazing work from all at @MHRAgovuk and @NHSuk since it\\u2019s less than 2 weeks since CHM recommended that it be approved in the UK. #GetVaccinated!\",\"Explain to me again why we need a vaccine @BorisJohnson @MattHancock #whereareallthesickpeople #PfizerBioNTech #CovidVaccine #coronavirus #COVIDIOTS #saynotorhevaccine #markofthebeast\",\"#BillGates  caught on video admitting #CovidVaccine  will CHANGE our #DNA  FOREVER. https://youtu.be/ksEVaO806Oo via @YouTube He wasn't \\\"caught on tape\\\", he PROUDY stated it.\\n#Covid_19 #coronavirus   #Pfizer #PfizerBioNTech \\n#pfizervccineahoax #COVIDIOTS #AstraZeneca\",\"With #Germany announcing yet its strictest #lockdown starting Wed and #NHS warning #BoJo of a #thirdwave in a letter sent by the group\\u2019s CEO, the risk asset basket narrows down to a select few though.\\n\",\"There have not been many bright days in 2020 but here are some of the best \\n1. #BidenHarris winning #Election2020 \\n2. #PfizerBioNTech #CovidVaccine getting @US_FDA #EUA\\n3. #ACIP recommending the #PfizerBioNTech #CovidVaccine \\n\\nLooking ahead\\n- 12/15 when I get my #CovidVaccine\",\"I pucking do not intend to get vaccinated. Wht if my employer force to get vaccinated? Like they did for Arogya Setu App.\\n\\n#FarmBills2020 #WashingtonDC #HongKong #Argentina #PfizerBioNTech\",\"FAQs on Pfizer COVID vaccine.\\nThread\\n\\n1.Which COVID vaccine should I get? Is one better than others? \\n\\nYou should get the vaccine  you are offered. Getting a large number of people vaccinated is more important than differences in vaccine efficacy\",\"#vaccine #Pfizervaccine #PfizerBioNTech WHAT'S IN THIS VACCINE? #Pfizer is NOT 100% transparent about it.\\n#coronavirus #VaccinesWork #VaccinesSaveLives #VaccinoAntiCovid #Dubai\\n#Toronto #emirates #SideEffect #allergies\\nCopyright- MIT Technology Review\",\" Some #FDA Advisors Tapped to Review #Coronavirus #Vaccines Received Payments from Vaccine Companies\\nJust pray that Trump\\u2019s  frantic push on new #PfizerBioNTech vaccine without any long term damage or peer review, that we don\\u2019t lose even more people\",\"Does anyone have any useful advice/guidance for whether the COVID vaccine is safe whilst breastfeeding? #CovidVaccines #PfizerBioNTech #breastfeeding\",\"https://nytimes.com/live/2020/12/12/world/covid-19-coronavirus/britain-canada-and-the-us-start-their-vaccination-campaigns-and-other-news-from-around-the-world\\u2026. #Canada ordered enough of the #PfizerBioNTech #vaccine for all of its people- we were too smart for that... #TrumpWorstPresidentEver  why does anyone support him???\",\"Just hours after being authorized by the #FDA, doses of #PfizerBioNTech #coronavirus #vaccine are being packaged and readied for distribution by UPS and FedEx, the head of Operation Warp Speed said Saturday.\",\"The US Food and Drug Administration (FDA) has granted emergency use authorization to Pfizer-BioNTech's mRNA #COVID19 vaccine making it the first vaccine to receive approval in the USA. #PfizerBioNTech #coronavirus #vaccine @US_FDA @pfizer @BioNTech_Group\",\"Eric Shawn: The vaccine is here...in record time! https://video.foxnews.com/v/6215905201001 thanks @EricShawnTV @ArthelNeville for allowing me to join on this historic day #PfizerBioNTech #PfizerCovidVaccine stop the #COVID19 #pandemic #VaccinesWork #Masks #SocialDistancing #KindnessMatters\",\"Fascinating to see how the messenger RNA vaccine delivery approach has helped enable a dramatically shorter time to market. Viral sequencing selection to stage 1 trials took 20 months with SARS (2003) and is only taking ~3 months with Covid-19. #vaccines #PfizerBioNTech #Moderna\",\"Replying to @charlesadler and @RexChapman\\nAtta boy Chuck...\",\"The FDA Authorizes Emergency Use Of The Pfizer Vaccine\\nhttp://thenewdispatch.com/the-fda-authorizes-emergency-use-of-the-pfizer-vaccine\\u2026\\n#PFE #Pfizer #Pfizervaccine #PfizerBioNTech #FDA #CovidVaccine #COVID19Vaccine #COVID19 #COVID #Vaccine #USA #Coronavirus #CoronavirusVaccine #PfizerCovidVaccine #Covid_19 #Vaccination\",\"The US Food and Drug Administration (FDA) issued yesterday the first emergency use authorization of the Pfizer-BioNTech vaccine.\\n#Kuwait #BioNtech #PfizerBioNTech #Covid19Vaccine \\n\\nhttps://thepeninsulaqatar.com/article/13/12/2020/Kuwait-authorizes-emergency-use-of-Pfizer-BioNTech-covid-19-vaccine\\u2026\",\"#AstraZeneca to buy pharmaceutical firm #Alexion for $39 billion\\nhttp://nationalbusinessmirror.com/astrazeneca-to-buy-pharmaceutical-firm-alexion-for-39-billion/\\u2026\\n#COVID19vaccine #Pfizer #Pfizervaccine #PfizerBioNTech #PfizerCovidVaccine #astrazenecacovidvaccine #astrazenecacovid19vaccine\",\"We found the guy in the tan coat! \\n\\\"We just wanted to highlight this moment. It's a really big deal. It's such a positive turning point....We wanted to highlight that, to give hope to everyone.\\\" Armani Thao of \\n@The_BMC talked to us about the dance video seen around the world.\\n2:1614.8K views\",\"Replying to @TudorGJovin @CooperHealthNJ and 3 others\\n\",\"\\n\",\"Replying to @AnitaOakville @MaryamMonsef and 5 others\\nThank goodness the Federal Liberals are in charge of this roll out ensuring it will be done well!!! Thank you @JustinTrudeau !! And all of the great ministers\",\"Replying to @Anaridis\\nIf I worked there I would be the one to throw the whole thing off, they're really good. \",\"US began shipments of #Covid19 #PfizerBioNTech #vaccine Sunday following final CDC approval. While #pandemic is far from over, investors are seeing light at end of the dark tunnel. Wall Street is expected to kick off Monday in the green - @husseinsayyed \\nhttps://financialmirror.com/2020/12/14/us-vaccine-roll-out-lifts-risk-assets-final-stretch-in-brexit-talks\\u2026\",\"Turkey\\u2019s coronavirus death toll reaches 16,417 @drfahrettinkoca #CoronavirusPandemic #Turkey #PfizerBioNTech #Sinopharm\\nhttps://ilkha.com/english/health-life/turkey-s-coronavirus-death-toll-reaches-16-417-11068\\u2026\",\"#PfizerBioNTech's #COVID19 vaccines are making their way to distributions sites nationwide. @FedEx says some of the first batches have been safely delivered.\",\"http://Pfizer-Biontech.Com\\nUS agency authorizes Pfizer-BioNTech COVID-19 vaccine\\nFirst vaccine will be administered in less than 24 hours, says US president\\nhttps://aa.com.tr/en/americas/us-agency-authorizes-pfizer-biontech-covid-19-vaccine/2074319\\u2026\\n#Pfizer  #Biontech  #PfizerBiontech  #Trump  #Ugursahin  #ozlemtureci  #vaccine\",\"Last night, the first #COVID19Vaccines arrived in Canada and as we speak, the first of the vaccines are being administered TODAY!\\n\\nThe #PfizerBioNTech vaccine requires storage in extremely low temperatures, and are currently being distributed to 14 locations across Canada.\",\"Pfizer-BioNTech COVID-19 Vaccine Side Effects: Canada Warns Allergic People Against Pfizer-BioNTech Coronavirus Vaccine\\nhttps://latestly.com/world/canada-warns-allergic-people-against-pfizer-biontech-covid-19-vaccine-2195725.html\\u2026\\n#PfizerBioNTech #COVID19Vaccine #COVID19VaccineSideEffects #Canada  #Allergic\",\"Surprised to learn those with autoimmune conditions or otherwise immunosuppressed are advised not to receive the #PfizerBioNTech vaccine per to NACI. These are higher risk folks, and not a live vaccine. I understand questions of efficacy but is there really any safety concern?\",\"Replying to @yinonw\\n@DrBenTapper1\",\"@LUDOVICOTODINI @Taxistalobbyst   caught on video admitting #Covidvaccine will CHANGE our #DNA FOREVER. https://youtu.be/ksEVaO806Oo via @YouTube #coronavirus #corona #Pfizer #Pfizervaccine \\n#PfizerBioNTech #Elections2020 #Election2020  @POTUS \\n#JoeBiden #BidenHarris2020 @ASP #COVID\",\"Replying to @KristenRogersMD and @OchsnerHealth\\nWhat is the end point ?   The get to a yes point on normal restaurants, normal life, no masks?   What is the standard by which this will be determined?\",\"Replying to @JacksonHealth and @tania_leets\\nOur heroes FINALLY getting the PPE they\\u2019ve been waiting for.\",\"Replying to @charlesadler\\n\",\"Healthcare workers receive the first dosis of Pfizer-BioNtech COVID-19 vaccine at Memorial Healthcare System in Miramar, Florida, U.S., on Monday, Dec. 14 2020. Photographer: Eva Marie Uzcategui/Bloomberg\\n#covid19vacccine #pfizerbiontech #healthcareworkers #photojournalism\",\"Health #Canada has warned people allergic to any of the ingredients in the #PfizerBioNTech #COVID19 vaccine not to receive it.\",\"#vaccination #vaccinehesitancy\\n\",\"Replying to @AnitaOakville @PattyHajdu and 4 others\\nThank you Minister Anand for your dedication & hard work. Canadians are very fortunate to have you serving us as Minister of Procurement in these uncertain times.\",\"Kudos UPS!\\n\\n@UPS announced on 13th, its involvement & full support of distribution efforts for #PfizerBioNTech's #COVID19 vaccine as part of Operation #WarpSpeed. Deployments began after the federal mandate to distribute vaccines. https://pressroom.ups.com/pressroom/ContentDetailsViewer.page?ConceptType=PressReleases&id=1607744626467-683\\u2026\\n#UPS #COVID19Vaccine\",\"Replying to @DrKatLiang\\nI love some of the replies  \\nhttps://twitter.com/giancarlolucia/status/1338547639294414849?s=19\\u2026\",\"Just watched @CapehartJ new #thesundayshow. @Maria_Hinojosa correctly stated that there were two deaths among the over 18000 recipients of the #PfizerBioNTech vaccine. However, there is no evidence that the vaccine caused the deaths.\",\"How much did the #fda get paid to approve this all of a sudden now? money makes the world go around. #vaccine #Pfizer #COVID19 #CovidVaccine #PfizerBioNTech\",\"#FDA Gives Guidance on Allergy, Pregnancy Concerns for #COVID Vaccine https://medscape.com/viewarticle/942557?src=soc_tw_share\\u2026 via @medscape \\n#COVID19 #PfizerBioNTech #pandemic #obgyntwitter $PFE #vaccine\",\"Replying to @cnnbrk\\nJust a hunch: the distribution of this vaccine is going to be a major cluster f**k.\",\"#BREAKING - just in from @OHAOregon on #COVID19 #vaccine:\\n-\\\"Legacy Health is the first registered COVID-19 vaccine provider in the state to receive the vaccine\\\"\\n-Just under 2,000 doses of the #PfizerBioNTech vaccine arrived this morning.\\n#LiveOnK2\",\"More than 1,000 Jackson employees have successfully received their first dose of the #PfizerBioNTech #COVID19 vaccine by 6:30 p.m. today. #JacksonStrong\",\"You're wrong: MALAYSIA has already pre-ordered #PfizerBioNTech #COVID19Vaccine (expected in 2021) plus is part of @WHO's #COVAX and is in China's list of free #CovidVaccine recipient countries: GET YOUR FACTS RIGHT!! \\n#COVIDVaccineFacts\",\"\\\"Expect 145 sites across all the states to receive vaccine on Monday, another 425 sites on Tuesday,\\\" said the official in charge of the distribution.\\n\\nRead more: https://bit.ly/37WoZNH\\n \\n#PfizerBioNTech #COVID19 #vaccine #UnitedStates\",\"Covid Vaccinated!! @SCCM @HMethodistMD @Covid19Docs #vaccination #PfizerBioNTech #CoronaVaccine @pfizer @pfizer_news #Pfizer #CovidVaccine\",\"Replying to @DDNewslive @PIB_India and @airnewsalerts\\n\\u0921\\u093e\\u092f\\u0932\\u093f\\u0938\\u093f\\u0938 \\u0921\\u093e\\u092f\\u0930\\u0940 :  \\u0938\\u0902\\u0938\\u094d\\u092e\\u0930\\u0923 - \\u0938\\u0902\\u0938\\u094d\\u0915\\u0930\\u0923 7 (\\u092d\\u093e\\u0917 2)\\n\\n\\u092a\\u0922\\u093c\\u0947\\u0902  \\u092a\\u0947\\u091c \\u0938\\u0947 \\u091c\\u0941\\u0921\\u093c\\u0915\\u0930 \\u0938\\u094d\\u0928\\u0947\\u0939 \\u0926\\u0947\\u0902 \\n#\\u0928\\u093f\\u0935\\u0947\\u0926\\u0928  #\\u0932\\u093f\\u0902\\u0915 : \\nhttps://facebook.com/2200081763540202/posts/2786532588228447/?sfnsn=wiwspmo\\u2026\",\"Replying to @AnitaOakville @PattyHajdu and 4 others\\ngood work MAA! \",\"UPDATED: #YellowFever & #COVID19 #ImmunityPassports - Part Two\\n\\n#SARSCoV2 #PfizerBioNtech #Britain #December #Christmas #Europe #Australia #Canada #lockdown #VitaminD #winter #travel #tourism #privacy #Trending \\n\\nhttps://stopcommonpass.org/yellow-fever-covid19-immunity-passports-part-two/\\u2026\",\"For all the women and healthcare providers who have been asking about the safety of the #PfizerBioNTech #COVID19Vaccine in pregnant and breastfeeding women here is the recommendations from the #ACIP this morning\",\"#PfizerBioNTech COVID-19 vaccine being distributed; #ElectoralCollege formally casts votes today; #DetroitLions lost to GB; Cleveland MLB team to drop \\\"Indians\\\" name. Those stories & more at 7am via http://classicfox.com and 103.9 The Fox mobile app!\",\"Replying to @TyneHealth and @NTCouncilTeam\\nGreat news so how do care home residents get there majority won\\u2019t be able too attend these sites and there carers they are first on list aren\\u2019t they\",\"Replying to @cnnbrk\\nPfizer isn\\u2019t a part of operation warp speed\",\"The entire ingredients of the #Pfizervaccine: See, it\\u2019s just like your #BigMac with a splash of a #superpower to fight #COVID. #PfizerBioNTech #Vaccineswork #yayscience #CovidVaccine #COVID19 #ByeByeCOVID #vaccinehesitancy #vaccine\",\"Historical moment #FirstDose of the #PfizerBioNTech #COVID_19 #Vaccine administered at #UPMC @upmchealthbeat @ Pittsburgh, Pennsylvania https://instagram.com/p/CIyMrMRpVEf/?igshid=1jjtyf253182i\\u2026\",\"One of the first vaccines receivers in the US. Momentous for science. Hope has arrived.\\n#COVID19 #CovidVaccine #VaccinesSaveLives #PfizerBioNTech #Pfizervaccine\",\"Replying to @Breaking911\",\"True question for #scientists:\\n\\nAs with many vaccines the #PfizerBioNTech vaccine needs to be given in 2 shots: a #prime, and a #boost (after 4 wks). Would a previous #COVIDinfection serve as a primer? It seems infection itself may not cause (long term) immunity?\",\"Replying to @Anaridis\\nOh God. Not this foolishness again.\",\"First Pfizer coronavirus vaccine doses set to arrive at hospitals https://video.foxnews.com/v/6216118293001 #PfizerBioNTech #PfizerCovidVaccine #VaccinesWork @kilmeade @foxandfriends @nyulangone\",\"Had the first dose of my COVID vaccine today. We still have to wear PPE and still socially distant but at least we are on the way to being able to live with this awful disease! #CovidVaccine #PfizerBioNTech\",\"1st doses of #PfizerBioNTech's #COVID19 vaccine arrive in #Canada\\n\\nBy @helloryanjones\\nhttps://cbc.ca/news/politics/first-doses-covid-19-vaccine-1.5839614\\u2026\",\"Are politicians #EssentialWorkers?  \\n\\n#COVID19 #PfizerBioNTech #CovidVaccine #VaccinesWork #ScienceMatters #HealthForAll #healthequity #CoronaVaccine\",\"#PfizerBioNTech #Vaccine hacked a few days ago\\n\\n#UsTreasury hack announced today. \\n\\nhttps://foxbusiness.com/technology/u-s-treasury-breached-by-hackers-backed-by-foreign-government-report\\u2026\\n\\nA whole lot of #hacking going on! #Infosec #CyberSecurity \\n\\nhttps://chron.com/news/article/EU-drug-regulator-hacked-data-on-COVID-19-15789016.php\\u2026\",\"The #FDA finally issues #EUA now comes the problem transporting this #PfizerBioNTech vaccine, needs to be kept at -70f and it can only be taken out of storage 4 times. Also you can still infect people after being #vaccinated\",\"It\\u2019s here. #Covid_19 #CovidVaccine  #PfizerBioNTech\",\"So incredibly grateful to have received the #PfizerBioNTech #CovidVaccine here @OSUWexMed!  Thanks to everyone who made this possible. #VaccinesWork #VaccinesSaveLives Hope that my colleagues, patients, & family will also have an opportunity to be vaccinated soon. Stay safe!\",\"Thrilled to receive my first dose of the Covid vaccine today. The vulnerable people I visit, support and work with in their own homes will be protected and that is so reassuring! It might be the tug that turns the tanker but at least the bugger is on the move! #PfizerBioNTech\",\"OHSU, Kaiser, St. Alphonsus Medical Center (in Ontario) are expected to get 975 doses each tomorrow.\\n\\n#LiveOnK2\\n\",\"Replying to @AnitaOakville @PattyHajdu and 4 others\\nCongratulations, job well done.\",\"Global coronavirus death toll reaches 1,611,637 #CoronavirusPandemic @WHO @Worldometers #PfizerBioNTech #PfizerCovidVaccine\\nhttps://ilkha.com/english/health-life/global-coronavirus-death-toll-reaches-1-611-637-11055\\u2026\",\"How does the #Moderna #covidvaccine differ from the #PfizerBioNTech #vaccine? We answer this question and more in tonight's @TiaHealth medical segment! Catch us at 6PM! #healthnews #vaccination\",\"Trump announces #vaccine rollout 'in less than 24 hours'\\n\\nThe first Americans will be vaccinated against #coronavirus in the next 24hrs as the US last night authorised the #Pfizer/Biontech vaccine for emergency use -> http://buff.ly/37cTMqp\\n\\n#PfizerBioNTech #PfizerVaccine\",\"Replying to @JacksonHealth\\n\",\"US HEALTH CARE WORKERS & MOST VULNERABLE TO RECEIVE THE PFIZER-BIONTECH SHOTS\\nTrucks on Sunday began shipping millions of doses of Covid-19 vaccine in the United States, as part of the enormous logistics\\n#US #HealthcareWorkers #Receive #Vaccines #PfizerBioNTech #DeathToll #Cases\",\"From Tuna #Fish To #COVID19 #Vaccine - How Container Freezers Used To Ship #Seafood Are Given A New Role - http://financetwitter.com/2020/12/from-tuna-fish-to-covid-19-vaccine-how-container-freezers-used-to-ship-seafood-are-given-a-new-role.html\\u2026 #UnitedStates #Britain #Canada #Coronavirus #COVID\\u30fc19 #Pfizer #PfizerBioNTech #FDA #airlines #FedEx #UPS #transport #mRNA #Science #technology\",\"Two people in the United Kingdom have experienced an allergic reaction to the Pfizer/BioNTech COVID-19 vaccine.\\nRead more https://bit.ly/3a4PHpY\\n\\n#VaccineReaction #PfizerBioNTech #Pfizer #BioNTech\",\"Concerned about the side effects of the #PfizerBioNTech #COVID19 vaccine?  Check out my recap \",\"Replying to @yinonw\\nChances are higher that one would die chocking on food than die due to covid.\\nNobody skipps a single meal sue to choking risk but many stopped living alltogather due to covid. \\nThink about it.\",\"US #COVID19 #Vaccine Shipments to 'Start Rolling' Sunday https://medscape.com/viewarticle/942556?src=soc_tw_share\\u2026 via @medscape \\n#OperationWarpSpeed #PfizerBioNTech #pandemic\",\"Boston health care workers dancing on the sidewalk to celebrate the arrival of the first  covid-19 vaccine.\",\"Approval for #Pfizer / #Biontech vaccine from FDA Advisory Board.\\nLAST MINUTE NEWS: The US Food and Drug Administration (FDA) Advisory Board recommended that the Pfizer / Biontech vaccine given emergency use. #FDA #PfizerBioNTech #vaccination\",\"Considerations for the #COVID19Vaccine in Pregnant Women #ACIP\\n\",\"Replying to @cnnbrk\\nTRUMPVIRUS DEATH TOLL\\n\\nMar 1 - 1 Dead\\n\\nApril 1 \\u2013 6,460 Dead\\n\\nMay 1 \\u2013 67,044 Dead\\n\\nJune 1 \\u2013 109,509 Dead \\n\\nJuly 1 - 131,013 Dead\\n\\nAug 1 \\u2013 156,764  Dead\\n\\nSept 1 \\u2013 187,643 Dead\\n\\nOct 1 \\u2013 208,347 Dead\\n\\nNov 1 \\u2013 236,072 Dead\\n\\nNov 7 \\u2013 242,103 Dead\\n\\nDecember 12 302,762\",\"@JoeBiden @KamalaHarris Thanks to you both for bringing in fresh air, positivity and God\\u2019s hand and pushing us forward as we begin to crush this beast #PfizerBioNTech #pfizerproud #sciencewillwin #BidenHarris\",\"Salute to the #HealthcareHeroes who are risking their life everyday taking care of #COVID patients! May God give them strength! Help is on the way!\\n#PfizerCovidVaccine \\n#PfizerBioNTech\",\"And yes, odds of death for the elderly and at-risk is higher.... this is why our policies which try to prevent the healthy from being exposed has only shifts more of the burden to the elderly, and is therefore sadly responsible for more overall deaths.\\n\",\"Replying to @cnnbrk\\nI\\u2019ll be on the sidelines watching for the Zombie Apocalypse! ....\",\"#AstraZeneca to buy pharmaceutical firm #Alexion for $39 billion\\n\\n#COVID19vaccine #Pfizer #Pfizervaccine #PfizerBioNTech #PfizerCovidVaccine #astrazenecacovidvaccine #astrazenecacovid19vaccine\",\"What are the ingredients of Pfizer\\u2019s covid-19 vaccine? | MIT Technology Review #vaccination #CovidVaccine #Pfizer #Pfizervaccine #PfizerBioNTech\",\"Replying to @charlesadler and @RexChapman\\nI don't believe it was a country. It was a worldwide network of researchers grinding the numbers and cleaning the glassware and posting the raw data to prevent duplication of work already done...my kind of new,world order..?\",\"Grossly unfair and absolutely inevitable - With First Dibs on Vaccines, Rich Countries Have \\u2018Cleared the Shelves\\u2019 https://nytimes.com/2020/12/15/us/coronavirus-vaccine-doses-reserved.html?smid=tw-share\\u2026 #COVID19 #coronavirus #vaccine #Pfizer #BioNTech #PfizerBioNTech #Moderna #AstraZeneca #Oxford\",\"Hav genuine ? @ManCityCouncil is #Wythenshawe only place in #Manchester #southmanchester deliverin #covidvaccine #PfizerBioNTech #Pfizervaccine ?When will it made available 2 #Chorlton which has considerable number of over 80\\u2019s/homes/independent livin w\\u2019health issues @JoMidge?\",\"Replying to @yinonw\\nThis is great stuff!\",\"More approvals to #PfizerBioNTech vaccine: #Singapore approves @pfizer #CovidVaccine, expects first shots by December-end.\",\"Replying to @sputnikvaccine and @AstraZeneca\\nI wouldn\\u2019t trust a medical product from Russia. They poison political opponents.\",\"#Pfizervaccine #PfizerBioNTech\\nWhy #Pfizer is NOT 100% transparent about it? #coronavirus #VaccinesWork #VaccinesSaveLives #VaccinoAntiCovid #Dubai\\n#Toronto #emirates #SideEffect #allergies\\nSource+Copyright- MIT Technology Review\",\"Politico.  December 13, 2020.  FDA's Hahn: Covid-19 vaccine authorization based in 'science and data'\\nhttps://politico.com/news/2020/12/13/fdas-hahn-coronavirus-vaccine-approval-science-data-444854\\u2026\\n#coronavirus #covid19 #coronavirusprevention #CoronaVirusUpdate #CoronavirusVaccine #COVID19Vaccine #PfizerBioNTech #business #technology #datascience\",\"Replying to @yinonw and @scientificecon\\nYou are 18X more likely to have permanent heart damage and have 10X more odds of lung damage for every Covid death, among others. So, you may not die but become quite crippled too. I\\u2019d rather not take the risk. BTW, the side effects of vaccines seem to be pretty bad too...\",\"Coronavirus vaccine ships today, expect hospitals to be overwhelmed in nine  months  ...with baby deliveries  #COVID19 #vaccination #PfizerBioNTech #mondaythoughts\",\"Good heavens - you are too stupid to reason with even on a slow day. get a dummy for #pademics and slither away already. Give credit to #AngelaMerkel of German for supporting the #PfizerBioNTech #vaccine https://twitter.com/realDonaldTrump/status/1338263195941818370\\u2026\",\"Something interesting I learned during an interview with @b_kazaz today: \\n\\nThere's been a lot of chatter about how cold the #PfizerBioNTech vaccine must be kept. But many vaccines used for livestock around the world must be stored at -200 degrees, so this is nothing **too** new.\",\"Stand-up too trump as the COURTS, other Republicans in office have we wouldn't have 300k plus included in the #TrumpVirusDeathToll or the 16 million confirmed cases. Until #DiaperDon take RESPONSIBILITY for the Cases/Deaths he gets no credit for the VACCINE after all this is all\\n\",\"Here are the lipids used in lipid nanoparticle used the #mRNA  BioNTech/Pfizer #PfizerBioNTech  #CovidVaccine The top two are patented by Acutias #Acuitas while 1,2-disteraoyl-sn-glycero-3-phosphocholine and cholesterol are \\\"natural\\\" lipids common in many products (and food). 1/3\",\"What a great day for our Country & the World! @realDonaldTrump is ONE DAY CLOSER to leaving @WhiteHouse. The first shipments of the #PfizerBioNTech Vaccines are rolling out, which means we are beginning the end of the #TrumpVirusCatastrophe. Imagine if @GOP had enough Courage too\",\"Replying to @ShafiAhmed5\\n\",\"Replying to @cnnbrk\\nPfizer wasn't part of operation warp speed\",\"operation to vaccinate begins. As early as today in the nation worst hit by the coronavirus, health care workers and nursing home residents will be among the first to receive the Pfizer-BioNTech shots. Officials said it will likely be months before all those who want it can be\\n\",\"Phase 3 begins Dec 28, #PfizerBioNTech vaccine first to arrive in #singapore by end Dec, and shots to be free for all citizens and long-term residents. #COVID19\",\"Replying to @maha_kaissi @UR_Med and 2 others\\nSO EXCITED FOR YOU. @2ShotsInTheArm\",\"Replying to @yinonw and @jhaskinscabrera\\nTime to ban driving and swimming!\",\"#UnitedStates : The Federal Aviation Administration (FAA) said Saturday it had approved the use of the #PfizerBioNTech #COVID19 vaccine by pilots and air traffic controllers.\",\"#notwastingmyshot 4th person in #Charleston to get the #PfizerBioNTech #CovidVaccine @MUSChealth @ID_MUSC \\n\\nI feel great and am doing well! I am getting the #vaccine because it helps protect me from getting #COVID19.  I want to stay healthy and help prevent spread of coronavirus.\",\"Infections #worldwide\\n-\\n#UnitedStates : 220,575\\n#Brazil : 43,279\\n#Turkey : 30,805\\n-\\n#coronavirus #Corona #Covid_19 #Covid #COVID19 #vaccine #vaccination #pfizer #Pfizervaccine #PfizerBioNTech #BioNTech #lockdown #virus #China #Wuhan #WuhanVirus #WuhanCoronavirus #VirusCorona\",\"#NEW: @methodistdallas has received its first shipment of #PfizerBioNTech's #COVID19 vaccine. Front line healthcare workers are the first to get the shot. Parkland and UT-Southwestern in Dallas and Texas Health in Fort Worth receive shipments tomorrow.\",\"@L_MitchellODP, every aspect of the vaccination was really well planned and went on smoothly without any hiccups. Thank you and keep up the great work!\\n\",\"I\\u2019ve never been so excited to get a vaccine \\n\\n#CovidVaccine #PfizerBioNTech #VaccinesSaveLives #VaccinesWork\",\"\\\"The Moderna vaccine does not need some of the extra special handling requirements of the one from Pfizer, including ultra-cold freezers,\\u201d PM Trudeau said. #covid19vaccine #coronavirusvaccine #moderna #canada #pfizerbiontech\",\"Replying to @cnnbrk\\nWhen given the opportunity to purchase additional vaccine doses, Trump passed.\\n\\u00a0\\nAnd now, fewer Americans will be vaccinated before June.\\n\\u00a0\\nMake no mistake, Trump's incompetence will cost American lives. It already has.\\n\\u00a0\\nSo much for America first.\",\"Welp, thanks already aren't going quite as planned with the #PfizerBioNTech #CovidVaccine distribution.  These aren't frontline healthcare workers or nursing home residents.\",\"Wear a mask, wash your hands, and remain socially distant when possible. #stayhome #StayAtHome #StayAtHomeSaveLives #Corona #Covid #coronavirus #pfizer #Pfizervaccine #PfizerBioNTech #BioNTech\",\"Replying to @Samla_Green\\nNice one Sam \",\"MT @murray_nyc Five years ahead of schedule? It\\u2019s a pandemic! There was no pre-determined schedule. How about acknowledging #Germany for contributing hundreds of millions of dollars to finance the #PfizerBioNTech vaccine? #TrumpVirus #GOPComplicitTraitors  https://twitter.com/realDonaldTrump/status/1338263195941818370?s=20\\u2026\",\"Despite #Lebanon\\u2019s dire shortage of foreign exchange, the government expects to sign the $18 million deal for supplies of the #PfizerBioNTech vaccine this week, Health Minister Hamad Hassan told Reuters\",\"\\u201cThanks for being here and help us share the news of this historic moment,\\u201d said Dr. @liliabbo.\\n0:41379 views\",\"2.Who cannot get the Pfizer COVID Vaccine? \\n\\nUnder the current EUA - those younger than 16 years cannot get the vaccine.\\n\",\"Replying to @tschwarzromond @EricTopol and 3 others\\nWhile sovereign independence of assessments is critical to drug safety, the risk/benefit ratio here under emergency use given release of data & ,  and  approvals surely expedites matters? Unless procurement is in doubt.\",\"(ENG) NHS workers: 'Vaccine is a game changer' | #hopenews\\n\\n#NHSheroes #bbcnews #vaccine #Covid19UK #COVID19 #pandemic #Health #Immunity #PfizerBioNTech #Pfizer #BioNTech\",\"Replying to @AnitaOakville @PattyHajdu and 4 others\\nLight at the end of a dark tunnel\",\"#UnitedStates\\u2014The first #Covid19 vaccines are going out!\\n#CDC officially allows\\n#PfizerBioNTech\\u2014#coronavirus\\n#vaccine to be administered as\\nshipments begin in #US\\nHealth care workers & long-term\\ncare facility residents be first in\\nline to receive the shot\",\"All respect to due process but why not give approval now instead of the 29th of December. Surely multiple other countries approving it already is proof enough? #PfizerBioNTech #COVID19 https://rte.ie/news/coronavirus/2020/1212/1183952-covid-ireland/\\u2026 via @rte\",\"The Vaccine rolled out this week in several countries, bringing hope and scepticism with it. \\n\\n#vaccine #PfizerBioNTech #Moderna #pandemic #COVID19 #coronavirus\",\"US President Donald Trump announced that the vaccine will be free for all Americans and has thanked all the scientists, doctors, and workers for the vaccine.\\n\\n#USPresident #DonaldTrump #FreeVaccine #Pfizer #PfizerCovidVaccine #PfizerBioNTech #Coronavirus #COVIDVaccine #MangoNews\",\"The #PfizerBioNTech #CovidVaccine will NOT effect or interact with a person's DNA. DNA are located in the nucleus of the cell, and NOTHING from the vaccine enters the nucleus.\",\"Excited to have received the first part of my #PfizerBioNTech #CovidVaccine today.Impressive resource mobilization on display @CooperHealthNJ leading to a smooth and efficient start to a historic mass vaccination effort.  @CooperNeuroRes @CooperGME @coopermedschool\",\"\\\"The first batch of doses of Pfizer-BioNTech\\u2019s COVID-19 vaccine have arrived in Canada,\\u201d PM Trudeau said on Twitter.\\n#covid19vaccine, #coronavirusvaccine #pfizerbiontech\",\"Replying to @AnitaOakville @PattyHajdu and 4 others\\nThank you for all the hard work you put into getting this shipment here for Canada.\",\"Turkey\\u2019s coronavirus death toll reaches 16,417 @drfahrettinkoca #CoronavirusPandemic #Turkey #PfizerBioNTech #Sinopharm\\nhttps://ilkha.com/english/health-life/turkey-s-coronavirus-death-toll-reaches-16-417-11068\\u2026\",\"Thank you Thank you Thank you to all of the scientists who worked on the development of the vaccine for COVID-19. The first vaccines will be administered today in the US! This is the beginning of the end of the pandemic. #vaccine #Pfizer #PfizerCovidVaccine #PfizerBioNTech\",\"TV ad in 2030: \\u201cDid you receive the CV19 vaccine in 2020 or 2021? You are entitled to financial compensation.\\u201d #CovidVaccine #corona #COVID #Pfizervaccine #vaccination #PfizerBioNTech #FDA #COVID19Vaccine #Agenda21 #BioNTech\",\"Replying to @Dr_Dee_Kumar\\nUnfortunately not recommended at the moment if breastfeeding\",\"Pfizer received emergency use authorization from the Food and Drug Administration for the Covid-19 vaccine developed in partnership with Germany\\u2019s BioNTech (BNTX), with trucks rolling out from Pfizer\\u2019s Kalamazoo, Michigan, production plant over the weekend #PfizerBioNTech #invest\",\"Received my first dose of the #CovidVaccine #PfizerBioNTech today. I feel very privileged & lucky to have this to protect me & enable me to feel safer delivering care to patients @LPTnhs @BradgateUnit @LPTOTBradgate. Thank you to all involved in #LLR\",\"US is all set to start its #COVID19  #vaccination  drive with the doses of #PfizerBioNTech  #vaccine that is ready to be delivered to hospitals. US comes in the top list of the worst-hit countries from #coronavirus  #pandemic \\n\\nRead Full Article Here\",\"#New Vaccination campaign begins today in Quebec. Residents at Maimonides will be among the first seniors in #Canada to receive the #PfizerBioNTech #CovidVaccine Quebec Health Min Christian Dub\\u00e9 & Dr. Richard Mass\\u00e9 from Public Health will be speaking at 1pm. Photo: CityNews staff\",\"The agency also released new information for health care providers and for patients as the US shipped millions of doses of the vaccine across the country. \\n\\n#COVID19Vaccine #CoronaVaccine #Pfizervaccine #PfizerBioNTech\",\"Replying to @sputnikvaccine and @AstraZeneca\\nAstraZeneca analiza combinar su vacuna con la \\u201cSputnik V\\u201d:\",\"Replying to @sputnikvaccine and @AstraZeneca\\n\",\"Facts are immutable, Senator, even when you're not ethically sturdy enough to acknowledge them. (1) You were born in Canada. (2) #PfizerBioNTech vaccine was developed in Germany.(3) Scientists behind it, Muslim Turkish immigrants to Germany #UgurSahin & #\\u00d6zlemT\\u00fcreci @RexChapman\",\"Interesting Watch: @CNN's @NewDay live coverage of the loading of #PfizerBioNTech's vaccine at the Pfizer plant at Portage, Michigan for @Fedex and aerial delivery to various US destinations. #FirstCovid19VaccineShipmentsLeavePfizerPlant\",\"In the year 2022, I will also proudly post a picture of when I eventually receive \\\"the covid vaccine\\\"\\n#CryMyBelovedCountry #frontlineworkers #PfizerBioNTech\",\"\\\"mRNA vaccines teach our cells how to make a protein that will trigger an immune response without using the live virus that causes COVID-19. Once triggered, our body then makes antibodies.\\\"\\n\\nhttps://canada.ca/en/health-canada/services/drugs-health-products/covid19-industry/drugs-vaccines-treatments/vaccines/pfizer-biontech.html\\u2026 #mRNA #Pfizer #PfizerBioNTech #Pfizervaccine #VaccinesSaveLives\",\"#vaccine #PfizerBioNTech #Oxford_AstraZeneca #BharatBiotech #SputnikV Most of the companies have submitted application for Emergency Use Authorization (EUA) to the Drugs Controller General of India (DCGI) in India. #DGCI\",\"U.S. expects to have immunized 100 million against #COVID-19 by end of March -Slaoui https://reut.rs/2Km4KB3 #Covid_19 #vaccine #Trump #Biden #Fauci #WhiteHouse #Washington #NewYork #health #pharma #bigpharma #biotech #Pfizer #PfizerBioNTech #Pfizervaccine #Moderna #AstraZeneca\",\"@ElsTorreele \\n@kamarulbahrin\\n\",\"Replying to @DrMarcSiegel @kilmeade and 2 others\\nWhy are medical staff under 50 with no co-mordities getting the vaccine before people over 75 or in LTC?\",\"Have to agree: UK, US vaccinate with technology pioneered in 2 German, one US-Biotechs; US celebrates distribution of millions #PfizerBioNTech dosages; #EU still caught up in paperwork? @EricTopol @ewanbirney @jwoodgett @METorresPadilla @MatthiasTschop\\nhttps://eu.freep.com/story/news/health/2020/12/13/pfizer-covid-19-vaccines-kalamazoo-michigan/6529215002/\\u2026\",\"Replying to @ShafiAhmed5\\nCongrats!!!\",\"while deaths are closing in on the 300,000 mark... millions of people wait #PfizerBioNTech #Vaccine !\\n-\\nThe first US #COVID19Vaccine shipments will arrive at 145 locations around the country on Monday morning, #USArmy General Gus Perna said on #Saturday during a press briefing.\",\"For an in-depth look into its repercussions, read @_whitneywebb 's   \\\"Engineering Contagion\\\" investigative series here:\\nEngineering Contagion - Investigative SeriesDuring the presidency of George H.W. Bush in the early 1990s, something disturbing unfolded at the U.S.\\u2019 top biological warfare research facility at Fort Detrick, Maryland. Specimens of highly...unlimitedhangout.com\",\"it is a bit sad to claim the fame for success of #vaccination on patriotic competition between USA, Canada, UK and EU.\\nwe are in it together, we win it together. All those companies #PfizerBioNTech #Biontech #AstraZeneca #Moderna we can all be proud of modern science & technology\",\"Replying to @JacksonHealth\\nGreat !!!!!\",\"Turkey\\u2019s death toll from COVID-19 rises to 16,881 @drfahrettinkoca #coronavirus #PfizerBioNTech #Sinovac\\nhttps://ilkha.com/english/world/turkey-s-death-toll-from-covid-19-rises-to-16-881-11101\\u2026\",\"Replying to @KwakuAkyeampong @_AfricanUnion and 2 others\\nOh so you have given Western Sahara to Morocco too? Hmmm\",\"COVID 19 Vaccination. Latest Update.\\nhttps://youtu.be/XBVOE0-lLV4 \\n@YouTube \\n@YouTubeCreators @YouTubeTrends @YouTubeIndia @YouTubeTV \\n#COVID19 \\n#CovidVaccine \\n#COVID \\n#CoronaVaccine \\n#Pfizervaccine \\n#PfizerBioNTech \\n#adarpoonawalla\",\"Kuwait authorizes emergency use of Pfizer-BioNTech COVID-19 vaccine\\nFor all COVID news, visit: https://bit.ly/34606y8\\nhttps://news.writecaliber.com/healthcare-kuwait-coronavirus-kuwait-authorizes-emergency-use-of-pfizer-biontech-covid-19-vaccine/\\u2026\\n#Kuwait #PfizerBioNTech #CovidVaccine\",\"#Pfizervaccine is unlikely to be available in India for mass distribution. Read to find out why.\\n\\n#PfizerBioNTech #Pfizer #COVIDVaccine #Coronavirus #CoronaVaccine\",\"We're talking about HUMAN LIVES here!\\n\\nLet's not repeat the mistake of the past! #Dengvaxia jeopardized many lives of our children.\\n\\nIf #PfizerBioNTech is most suitable then, let's have it! Let's not settle for less!\\n\\nMany of our Kababayans are skeptical w/\\nChina #Sinovac\",\"Replying to @cnnbrk\\nMoney can buy FDA approvals quickly. Money can buy everything. \",\"@CDCDirector Redfield has just signed off on this recommendation. #CDC Panel Recommends #Pfizer's #COVID19 #Vaccine for People 16 and Over https://medscape.com/viewarticle/942558?src=soc_tw_share\\u2026 via @medscape \\n#PfizerBioNTech $PFE #IDtwitter #MedTwitter\",\"The US public will start receiving the Pfizer/BioNTech coronavirus vaccine from Monday after it was authorised for emergency use https://colombogazette.com/2020/12/13/first-round-of-us-vaccinations-to-begin/\\u2026 via @colombogazette #US #vaccine #PfizerBioNTech #coronavirus #COVID19 #Covid_19\",\"Odds of death from an actual covid infection if you are under 50 is somewhere between odds of death by sunstroke and electrocution/radiation.\\n\\nYou won't hear this from the mainstream media, but the numbers are based on the CDC and National Safety Council, and easy to calculate.\",\"Dr. Kathy Lofy says the vaccine will be a new tool in our tool box, and says she\\u2019ll also get vaccinated as soon as she\\u2019s eligible. \\n\\nAlso says she personally reviewed #PfizerBioNTech Phase 3 trial info, and fully agrees w/ FDA decision to approve #Q13FOX #COVID19\",\"The synthesis of the Acuitas lipids is described in the patent linked below. ALC-0315 seems to be lipid III-3 in this patent and if so, the synthesis proceeds in 3 steps as per below scheme.  2/3 https://patents.google.com/patent/WO2018081480A1/en\\u2026\\n\",\"Privileged be offered the #PfizerBioNTech vaccine. I would encourage everyone to take it up. It\\u2019ll help protect people around you, yourself and squeeze out #COVID19. A huge thank you to our magnificent #NHS staff, @MattHancock, @Jesse_Norman (Kate Bingham), @AllanNixon\",\"First Vaccine Shots in the US\\nWatch video at https://youtu.be/y2eHlKSufbE\\n\\n#FirstVaccineShots #COVID #COVID19 #pfizervacine #BioNTech #BioNTechVacine #Pfizer #PfizerBioNTech\",\"Before you say you WILL OR WON\\u2019T take Pfizer\\u2019s vaccine for COVID-19 Read the report. https://fda.gov/media/144245/download?fbclid=IwAR2B6GHvblDaAsbjEj7Y6N_iS7lWCyF8iBpaPNoJWqH8EyUpjwJl3I6d1GE\\u2026 #Pfizer #BioNTech #PfizerBioNTech #vaccine #CovidVaccines #coronavirus #Pfizervaccine \\n#COVID19\",\"IT HAPPENED!!!!!!!! I got my first dose of the #PfizerBioNTech vaccine today - THE BEST HOLIDAY PRESENT EVER!!! Also pretty stoked to be named \\u201cthe most excited person we\\u2019ve vaccinated today\\u201d!  Thank you @UR_Med! @URMed_GCH @pfizer (Please enjoy my windswept hair of excitement)\",\"WATCH LIVE: @JacksonHealth System news conference on receiving its first shipment of the #PfizerBioNTech COVID-19 vaccine today.\\nLIVE STREAM: https://cbsloc.al/2YKv7T6\",\"Members of the @teamsters delivered the first #COVID19Vaccine this morning\\n#teamsters\\n#UPS\\n#COVID19 \\n#Pfizer \\n#Pfizervaccine \\n#PfizerBioNTech\",\"\\n\",\"Interesting and very detailed article showing up how a well tested #supplychain, with #sharedvisibility will help delivering #PfizerBioNTech #COVID\\u30fc19 vaccines in each US area.\",\"Both recipients were over 55. One person had a heart attack 62 days after dose 2 and died 3 days later. The second person died from atherosclerosis 3 days after the first dose. So, no clear causal relationship between vaccination and death.\\n\",\"Replying to @ShafiAhmed5\\nWell done! Looks like most of us will be waiting a couple of months till we get to the top of the list. Trusts appear to have a differing approach to vaccinating staff .. despite the same government directive.\",\"@CNN @fox7austin @KXAN_News @TheBeatWithAri anyone?\\n\",\"Here we go! Grateful to be among the first group of vaccinated healthcare workers in Tampa/FL against #COVID19 \\n\\nhighlights:\\n-  no live or attenuated virus strains \\n- 2-part vaccination\\n- 20,000 in trial with 0 fatalities\\n- 95% efficacy\\n\\n#CovidVaccine #PfizerBioNTech\",\"UPS, FedEx Collaborate to Ship Pfizer-BioNTech COVID-19 Vaccines in US\\nhttps://latestly.com/agency-news/world-news-ups-fedex-collaborate-to-ship-pfizer-biontech-covid-19-vaccines-in-us-2195745.html\\u2026\\n#UPS #FedEx #PfizerBioNTech #PfizerCovidVaccine #COVID19Vaccine\",\"#USA to start #vaccination from today! It has according to latest figures maximum #coronavirus cases (over 16.7 million) and deaths ( last count 304,459). The #vaccination drive will start from today (Dec 14) with #PfizerBioNTech\\u2019s #vaccine. \\n#COVID19Vaccine\",\" #FDA #PfizerBioNTech #OperationWarpSpeed #CoronaVaccine #grateful #COVID #Corona FDA approves Pfizer\\u2019s COVID-19 vaccine for emergency distribution in the US\",\"#CovidVaccine \\n\\nStates will start getting #COVID19Vaccine Monday, #US says \\n#pakustv #NYC #Healthcare #GlobalGoals #PfizerBioNTech\",\"COVID-19 vaccines have safely departed out of Grand Rapids and are continuing their journey to their final destinations.\\n\",\"Replying to @JacksonHealth\\nPoor souls.\",\"#coronavirus #SputnikV #AstraZeneca #PfizerBioNTech #Moderna #Covid_19 Russian vaccine is created to last 2-4 years after vaccination & gives 96% protection guarantee. Pfizer, AZ, Moderna at max 4 months & huge allergic side effects. This means frequency of jab could kill you. https://twitter.com/elimeliandme/status/1337858199140118533\\u2026\",\"In further #Phase3 details from @sporeMOH attractions may start applying to the Singapore Tourism Board (STB) @VisitSingapore to increase operating capacity from 50% to up to 65%\\nhttps://moh.gov.sg/news-highlights/details/moving-into-phase-three-of-re-opening\\u2026\\n\",\"We know wearing a mask when around others, staying at least 6 feet away, avoiding crowds, and washing your hands prevent you from getting the virus, but how can getting the COVID-19 vaccine help?\\n\\n#COVID19  #Pfizer #PfizerBioNTech  #CDC #maskupwisconsin #StopTheSpreadOfCOVID19\",\"The end is in sight, many of my coworkers and I are getting our first doses of the #PfizerBioNTech #CovidVaccine today. But as Dr. Milani at @OchsnerHealth emphasizes, stay #vigilant, #MaskUp, do your part and protect your community. #Covid_19 We can end this!\",\"Does this vaccine mean that I\\u2019m gonna have to eventually wear a proper bra again or are we all in agreement that underwires are the devil and sports bras are the way forward? #Pfizervaccine #CoronaVaccine #AstraZeneca #PfizerBioNTech #COVID19Vaccine #workingfromhome\",\"#COVID19, Sunday morning, 12/13/2020:\\n\\nConfirmed cases 16,563,650\\nDeaths 305,144\\n\\nAs the #PfizerVaccine rolls out of Michigan, #WhinyLittleBitch #Trump continues his #TantrumTweets about his #Election loss & threatening vetos. What does this model for #Americans?\\n\\n#38Days\",\"The US public will start receiving the Pfizer/BioNTech coronavirus vaccine from Monday after it was authorised for emergency use https://colombogazette.com/2020/12/13/first-round-of-us-vaccinations-to-begin/\\u2026 via @colombogazette #US #vaccine #PfizerBioNTech #coronavirus #COVID19 #Covid_19\",\"#AnitaQuidangen, a personal support worker in #Toronto, became one of the first people in #Canada to receive a #COVID19  #Vaccine on Dec. 14, 2020. 0:44\\n1st doses of #PfizerBioNTech COVID-19 vaccine in Canada given in Toronto, #Quebec City\",\"#Singapore approves the #PfizerBioNTech #COVID-19 #vaccine \\nFirst shipment expected by end-December \\n\\n#coronavirus #COVID19 #CoronaVaccine #Pfizer #BioNTech\",\"#COVID #PfizerBioNTech #vaccine  #Pennsylvania\\nNursing homes in Pennsylvania prepare for COVID-19 vaccine distribution https://msnbc.com/yasmin-vossoughian/watch/nursing-homes-in-pennsylvania-prepare-for-covid-19-vaccine-distribution-97661509725\\u2026 via @msnbc\",\"With several countries including the US and the UK now approving the use of #PfizerBioNTech's #COVID19Vaccine, #cybercriminals have sensed an opportunity to lure people into buying fake remedies on the dark web, said a report from #cybersecurity firm Check Point.\",\"If science is same everywhere so should be it's results. Entire world should approve vaccine which one country has approved and started using doesn't it makes sense #WHO role have been very wierd, unprofessional and suspicious in this entire pandemic..#vaccine #PfizerBioNTech\",\"Replying to @PSampathkumarMD and @VincentRK\\nDo you think there will be enough Pfizer and Moderna doses to get to the high risk chronically ill and the elderly? I\\u2019m worried we won\\u2019t have enough vaccine to get to us in this first quarter. Then what? Need hope.\",\"Coronavirus: Iran reports 8,201 new cases, 221 deaths in the last 24 hours #Iran #coronavirus #PfizerBioNTech #CovidVaccine\\n\\nhttps://ilkha.com/english/world/coronavirus-iran-reports-8-201-new-cases-221-deaths-in-the-last-24-hours-11051\\u2026\",\"Such a great feeling. A big thank you to all the healthcare professionals; scientists, nurses, doctors, caregivers. #COVID19 #CovidVaccine #PfizerBioNTech #Pfizervaccine\",\"Vaccine!! Anyone?? #covid #Pfizervaccine #PfizerBioNTech\",\"More #HealthcareHeroes from Jackson North Medical Center getting their #COVID19 #PfizerBioNTech vaccine today.\",\"What we can learn from the victory over #Polio\\nA good refresher on how polio came to an end. \\nLet's not forget #VaccinesWork\\n#PfizerBioNTech \\n#COVID19\",\"Answers to questions about #COVID #vaccination  https://npr.org/sections/health-shots/2020/12/12/945288710/what-you-need-to-know-as-the-first-covid-19-vaccine-heads-your-way\\u2026 #vaccine #Covid_19 #healthcare #health #pandemic #FDA #CDC #Pfizer #PfizerCovidVaccine #PfizerBioNTech #PfizerBiotech #Immunity #OperationWarpSpeed #Moderna #rtitbot @Retweet_Lyfe @BlazedRTs\",\"Had my Covid-19 Vaccination, doing my bit helping to save the human race.\\nMega sore arm today as expected  small price to pay. Don't want coronavirus a second time.\\n#CovidVaccine #Covid19UK #COVID19Vaccine #PfizerBioNTech\",\"Presenting you the top Medical News/Advancement of the past week you don't want to miss!\\n\\n#docnosofficial #covid19 #covidcount #pfizeruk #pfizervaccine #pfizerbiontech #spinesurgery #spinesurgeryrecovery #yellowfever #medicalnews #healthcare #docnos\",\"Replying to @charlesadler and @RexChapman\\n\",\"#INBOX | @GovParsonMO says shipments of the #PfizerBioNTech vaccine will continue to ship to Missouri\\u2019s 21 vaccination sites throughout this week. These sites are hospitals and health care facilities. #moleg\",\"Pregnant women may likewise choose to get the vaccine after discussion with her HCP. Need to consider risks and benefits, local COVID19 transmission, personal risk of contracting the virus etc.\\n\",\"Replying to @kfdmnews and @THEPAIGEREPORT1\\nSeriously.\",\"Replying to @charlesadler and @RexChapman\\nThe sad fact is that Canadian conservatives think these guys are a model to emulate. Lets get back to our progressive conservative roots.\",\"Our MD Dr Susannah Thompson pulling out all the stops leading a magnificent team of NHS staff & volunteers tonight as the 1st site in #NorthTyneside goes live to deliver the #PfizerBioNTech vaccine to >80 yr old residents in 1st wave of community #CovidVaccination @NTCouncilTeam\",\"It is coming. Vaccine will be here soon! So excited... #CovidVaccine #covid19 #Pfizervaccine #PfizerBioNTech #maskup\",\"That\\u2019s indeed a sight of relief \\n\\nThe #Saudi health minister @tfrabiah showcased a sample of #PfizerBioNTech vaccine during the state budget press conference, confirming first shipment of the #coronavirus vaccines have already arrived to the Kingdom few hours ago.\",\"With numbers likely to get worse over the holidays, the #vaccine is offering a bright spot in the fight against the #pandemic that's killed nearly 300,000 #Americans.\\n#Pfizer #Pfizervaccine #PfizerBioNTech \\n@pfizer\",\"The @pfizer-@BioNTech_Group vaccines are now in our U.S. network, and we\\u2019ll be delivering them to their destinations soon.  https://fedex.com/en-us/coronavirus/stories.html\\u2026\",\"Singapore's plan to tackle #COVID19\\nhas been really effective.  \\nEarly in pandemic,more than $1 bn was set aside for advanced purchase of vaccine candidates.\\n#PfizerBioNTech to be the first vaccine approved by Singapore Health Sciences Authority. Shipment to arrive by Dec end.\",\"US says COVID-19 vaccine to start arriving in states Monday http://wtsp.com/article/news/health/coronavirus/vaccine/covid-19-vaccine-monday/507-ff6d9923-5f64-4429-9251-1a0309ed8444\\u2026 via @10TampaBay  #Pfizervaccine #Pfizer #PfizerBioNTech #Vaccine #vaccines\",\"Pharmacists are essential for easing patient concerns about the safety of COVID-19 vaccines such as the Pfizer/BioNTech vaccine, a global health expert says in a C+D podcast\\n#PfizerBioNTech @OksanaPyzikUCL\\n\\nhttps://chemistanddruggist.co.uk/feature/academic-pharmacists-critical-easing-covid-19-vaccine-concerns\\u2026\",\"Health #Canada has warned people allergic to any of the ingredients in the #PfizerBioNTech #COVID19 vaccine not to receive it.\",\"#Iran has told the World Health Organization it does not intend to import the #PfizerBioNTech Covid-19 #vaccine because it does not have the means to transport it, a health official said on Saturday. This is because the vaccine must be kept at minus-70 degrees. \\n #COVID19 #WHO\",\"The announcement comes after federal authorities granted the Pfizer vaccine emergency use authorization.\\n\\nRead more: http://Oigetit.com\\n\\n#FDAAuthorized #PfizerBioNTech\\n\\nVideo credit: @Independent\",\"The first shipments of the #PfizerBioNTech #Covid_19 vaccine will begin arriving in #US states from Monday, an official of President @realDonaldTrump 's administration said.\",\"Delighted that @US_FDA approved vaccine for emergency use.\\n\",\"Trump announces #vaccine rollout 'in less than 24 hours'\\n\\nThe first Americans will be vaccinated against #coronavirus in the next 24hrs as the US last night authorised the #Pfizer/#Biontech vaccine for emergency use -> https://cityam.com/trump-announces-vaccine-rollout-in-less-than-24-hours/\\u2026\\n\\n#PfizerBioNTech #PfizerVaccine\",\"Canada will be receiving up to 200,000 more doses of the #PfizerBioNTech vaccine next week & potentially up to 168,000 #Moderna vaccine doses by the end of year. This means thousands more ians will be vaccinated by the end of December 2020. http://ctv.news/8kj747E via @CTVNews\",\"Replying to @Anaridis\\nLove this \",\"Replying to @charlesadler and @RexChapman\\nI remember when he ran for president. I kept saying he's going to have to answer to his Canadian heritage as he wouldn't be illegible anyways. \\n\\nOh and yeah, pesky facts like that don't exist in his world.\",\"Doses of Pfizer\\u2019s Covid-19 vaccines will arrive at 145 US sites on Monday, Operation Warp Speed official says https://cnn.it/3qTPf4a\",\"#BreakingNews A nurse in New York City on Monday became the first person in the United States to receive the coronavirus vaccine, receiving the #PfizerBioNTech shot live on television. (AFP)\",\"Hey @pfizer with respect to your #CovidVaccine, say someone gets vaccinated and builds antibodies, can they donate blood for convalescent plasma treatment of others? #COVID19 #Pfizervaccine #PfizerBioNTech\",\"#Singapore Approves Pfizer #COVID19 Vaccine, First Shipment Expected by End of #December, Says PM Lee Hsien Loong\\n#PfizerBioNTech #Pfizervaccine @leehsienloong\",\"Boxes containing the first shipment of the Pfizer-BioNTech #COVID19 #vaccine are prepared to be sent at the #Pfizer Global Supply Kalamazoo manufacturing plant : Morry Gash, Pool #PfizerBioNTech #Pfizervaccine\",\"#UgurSahin #ozlemtureci the #Muslim Scientists Husband-Wife are saving the world with their #PfizerBioNTech #PfizerCovidVaccine #PfizerBiotech #Pfizervaccine #PfizerProud\",\"Replying to @Anaridis and @ScottKirsner\\nHow do they have time for this?\",\"What kind of #America will he leave behind?\\n-\\n#Trump #DonaldTrump #JoeBiden #NewYork #Washington #WhiteHouse #WashingtonDC #HateSpeech #BlackLivesMatter #racism #UnitedStates #MeToo #COVID19 #PoliceBrutality #PoliceViolence #FDA #Pfizer #PfizerBioNTech #vaccine #USA #KamalaHarris\",\"#Singapore became on Monday the first Asian country to approve #PfizerBioNTech's #CoronavirusVaccine and said it expects to start receiving shots by the end of the year\",\"Replying to @AnitaOakville @PattyHajdu and 4 others\\nThank you for the organization and foresight that made this arrival happen. @JustinTrudeau\",\"While the world has been on the wrong side of history this year, hopefully, the biggest vaccination effort we've ever known will put us back on the right one https://nbcnews.com/news/us-news/first-trucks-covid-19-vaccine-roll-out-pfizer-plant-michigan-n1251037\\u2026 @DohaMadani #covid19 #supplychain #logistics #vaccine #unitedstates #pandemic #pfizerbiontech\",\"Replying to @charlesadler and @RexChapman\\nPsst... we don't want him back.\",\"Doses of the #PfizerBioNTech vaccine will begin leaving the company's factory in #Kalamazoo #Michigan on Sunday.\\nThe #US is seeking to inoculate 20 million people in the first month.\\nRead more:\",\"Replying to @charlesadler and @RexChapman\\nWell said Charles. Ted Cruz and his ilk have made it very difficult to be a person who is both progressive and conservative.\",\"Tragedy. Another life taken by corporate greed and the evil pharmaceutical companies. #vaccination #vaccine #CovidVaccine #Pfizer #PfizerBioNTech #modernavaccine https://twitter.com/MajorPatriot/status/1339219266906763267\\u2026\",\"@AFP #UPDATE The #PfizerBioNTech #Covid-19 vaccine began leaving the company's #Michigan factory on Sunday, set to be injected into the arms of millions of the most vulnerable Americans as the global death toll topped 1.6 million http://u.afp.com/UZZM\",\"This is excellent news!  Our great President Trump and his administration have pushed to get this vaccine ready quickly and have been prepared long in advance to distribute it to the public and that glorious day has now come.  Simply amazing.  \\n#PfizerBioNTech\",\"So pleased to get my #PfizerBioNTech #Covid_19 vaccine just now!  \\nIt is so important that as many people as possible get vaccinated. Hopefully this is the beginning of the end and 2021 can be better for all of us\",\"Welcoming the 1st #COVID19vaccines to  tonight!\\n\\nThe 1st 30K doses of #PfizerBioNTech are arriving across the country tonight & tomorrow  initial deliveries of \\u2019s 20M doses of this vaccine.\\n\\nWhile we have a long way to go, this marks the beginning of our bridge to recovery.\",\"Turkey\\u2019s death toll from COVID-19 rises to 16,881 @drfahrettinkoca #coronavirus #PfizerBioNTech #Sinovac\\nhttps://ilkha.com/english/world/turkey-s-death-toll-from-covid-19-rises-to-16-881-11101\\u2026\",\"Over the weekend, the #FAA issued guidance for pilots following use of the new #PfizerBioNTech #vaccine for #COVID19, generally permitting their ability to fly after a brief waiting period. #flying #pilots\",\"Replying to @AnitaOakville @PattyHajdu and 4 others\\nCongratulations - best news ever!!\",\"COVID-19 Vaccine Update: Initial Doses of Pfizer Coronavirus Vaccine in US to Begin from Tomorrow\\nhttps://latestly.com/agency-news/world-news-initial-doses-of-pfizer-covid-19-vaccine-in-us-to-begin-from-monday-2195638.html\\u2026\\n#COVID19Vaccine #PfizerBioNTech #US\",\"#TwitterPoll: DYK: the #UK, #Bahrain, #Canada & the #USA are among the first nations to approve the #PfizerBioNTech #Covid19 #vaccine . \\n\\nIf a #vaccination is free & accessible where you live, will you plan to get #vaccinated?\",\"\\u201cI\\u2019m just honored to be one of the first getting vaccinated. Protect yourself and protect your loved ones by getting the vaccine,\\u201d said Dr. @liliabbo, chief of infection prevention and infectious diseases at @JacksonHealth. #PfizerBioNTech\",\"@ManchesterHCC @Dr_PWright @GMSCNews @GM_HSC @GMEC_SCN @doctormkumar @ManCityCouncil @AndyBurnhamGM important day for GM. Can\\u2019t stress enough the importance of Covid -19 vaccine #CovidVaccines #PfizerBioNTech #Covid_19 #staysafe\",\"Replying to @AnitaOakville @PattyHajdu and 4 others\\nNice\",\"Replying to @Anaridis\\nMust be tough in their 24/7 battle to find time for nonsense.\",\"After 10 months and 3 weeks since its first case, finally some relief for Uncle Sam. Vaccination starts Monday. #Pfizervaccine #BioNTech #PfizerBioNTech\",\"This little vial carries so much.\\n\\nto all the scientists who worked tirelessly to get this out. \\n\\n#vaccinated #PfizerBioNTech\",\"Replying to @yinonw\\nWhat a 130,000+ COVID-19 deaths looks like . . . \",\"Replying to @FlyingMagazine\\nWell. How about driving? New excuse for teachers not to go to work.\",\"Replying to @CurtisSChin\\nYes\",\"Replying to @charlesadler and @RexChapman\\n@tedcruz this sums up your 'Dear Leaders\\\" ignoring and dereliction of duty in his response to Covid:\",\"New PODCAST: Vaccinating Our Way Out of the Pandemic\\n@larrybrilliant, @PeterHotez & @RaySuarezNews discuss the #PfizerBioNTech, other promising vaccines in the pipeline & what it will take to end the pandemic. https://apple.co/37cNozy\",\"The trump administration failed to deliver on vaccine promises, *shocker* #COVIDIOTS #coronavirus #CovidVaccine #PfizerBioNTech\"],\"legendgroup\":\"\",\"marker\":{\"color\":\"#636efa\",\"symbol\":\"circle\"},\"mode\":\"markers\",\"name\":\"\",\"orientation\":\"v\",\"showlegend\":false,\"type\":\"scatter\",\"x\":[10.013545036315918,3.098881483078003,10.061460494995117,8.36727237701416,8.959715843200684,2.544431447982788,7.386653900146484,7.794373512268066,9.532918930053711,6.646142959594727,10.422248840332031,7.669267177581787,8.406813621520996,9.378569602966309,9.576723098754883,9.874691009521484,7.794158935546875,8.404572486877441,6.883153915405273,10.60380744934082,6.633066177368164,2.472769260406494,7.942287445068359,8.787165641784668,7.456604480743408,9.824763298034668,10.082222938537598,2.771372079849243,9.197480201721191,7.765625953674316,6.964293956756592,10.589308738708496,2.646974802017212,7.217207908630371,8.556992530822754,8.97160816192627,7.407092571258545,8.389073371887207,6.3829731941223145,2.8998637199401855,7.695589065551758,7.548388481140137,2.7779791355133057,7.391745567321777,1.9760302305221558,9.303790092468262,8.697174072265625,10.447807312011719,2.4389214515686035,8.252642631530762,9.271341323852539,6.877065658569336,8.390222549438477,8.738187789916992,9.54511833190918,9.636964797973633,6.776966094970703,7.704415798187256,6.948270797729492,8.90170669555664,7.23462438583374,9.19152545928955,8.069692611694336,7.526800155639648,8.964476585388184,7.8774847984313965,9.055246353149414,10.159570693969727,9.592231750488281,8.360967636108398,10.100798606872559,3.0928232669830322,9.116196632385254,9.42119026184082,8.359074592590332,2.4743492603302,2.2419650554656982,3.2417757511138916,3.023681640625,2.5388472080230713,10.114235877990723,5.859172344207764,9.829875946044922,9.102373123168945,9.749185562133789,8.438943862915039,8.33393669128418,2.534379005432129,7.038225173950195,6.569120407104492,2.3982834815979004,2.956403970718384,8.241394996643066,8.4525728225708,7.807967662811279,3.025067090988159,9.407842636108398,2.6516835689544678,8.514925003051758,8.788731575012207,8.081063270568848,8.339320182800293,8.91164779663086,8.447928428649902,10.21810531616211,9.587925910949707,6.99985933303833,2.4824488162994385,2.873739242553711,7.170587539672852,7.8782639503479,8.922089576721191,6.87535285949707,2.446244239807129,7.219985485076904,8.510746002197266,8.240663528442383,2.6934468746185303,8.119532585144043,2.456902503967285,10.954252243041992,7.927518844604492,9.50429916381836,7.471794605255127,9.928939819335938,9.661445617675781,6.8445892333984375,7.403457164764404,7.804978847503662,9.162778854370117,2.9190547466278076,5.836949348449707,7.436142444610596,11.060458183288574,2.098144054412842,9.353987693786621,7.7959394454956055,8.501287460327148,7.952365875244141,6.700886249542236,10.094930648803711,7.968249320983887,9.536955833435059,7.824979782104492,5.898229598999023,7.394898414611816,7.038144588470459,7.080251693725586,7.9967827796936035,8.178234100341797,7.554490089416504,8.88381576538086,9.339015007019043,6.7303948402404785,2.5507044792175293,10.347251892089844,9.451963424682617,7.559601306915283,8.203743934631348,6.972719192504883,10.66331672668457,8.856483459472656,9.402975082397461,8.097330093383789,9.597925186157227,7.8825178146362305,2.4975507259368896,2.6290547847747803,11.14051628112793,10.526036262512207,2.3951377868652344,2.3717641830444336,9.982590675354004,7.718262195587158,6.86647891998291,8.611760139465332,7.65342903137207,7.833808422088623,8.187065124511719,8.376028060913086,6.899049758911133,6.779209613800049,2.597249984741211,8.850014686584473,10.459403038024902,2.5713436603546143,8.170244216918945,9.440648078918457,7.969610691070557,2.861772298812866,10.712101936340332,9.3536376953125,8.168937683105469,8.224571228027344,7.889413833618164,7.0981268882751465,9.696662902832031,3.083265542984009,5.844051837921143,8.393475532531738,7.797845363616943,7.857433319091797,9.625149726867676,6.859627723693848,10.630098342895508,10.890042304992676,7.776321887969971,9.484684944152832,9.454543113708496,8.789329528808594,9.180712699890137,8.04975700378418,7.893222332000732,9.527002334594727,7.432626247406006,2.6082611083984375,8.670869827270508,9.239611625671387,2.3590450286865234,9.859346389770508,8.585349082946777,8.925832748413086,2.1857006549835205,6.003520965576172,3.019442081451416,7.059100151062012,8.951973915100098,10.134430885314941,8.676407814025879,8.947503089904785,8.01221752166748,11.011700630187988,6.814096927642822,8.372410774230957,9.648628234863281,7.2763543128967285,8.358305931091309,8.003273963928223,8.317946434020996,8.709779739379883,7.391570091247559,3.1947081089019775,9.63397216796875,8.473706245422363,9.092846870422363,2.335592746734619,7.689812660217285,9.355411529541016,10.848341941833496,8.585515022277832,10.396024703979492,9.704853057861328,2.105623483657837,9.39852523803711,9.656463623046875,7.639277458190918,6.793839931488037,8.124017715454102,7.595572471618652,11.058161735534668,9.311979293823242,10.396271705627441,8.776834487915039,9.823734283447266,9.297750473022461,9.182934761047363,5.841235160827637,6.896760940551758,6.989595413208008,8.316669464111328,7.400160789489746,7.419909477233887,7.509635925292969,6.88586950302124,2.8408167362213135,9.389716148376465,7.990174293518066,2.5826494693756104,3.3027045726776123,7.18056058883667,8.132953643798828,10.943138122558594,8.395310401916504,9.997797966003418,10.225757598876953,10.27315616607666,8.30828857421875,8.414584159851074,8.50838565826416,9.498449325561523,10.08678913116455,9.613335609436035,10.957464218139648,9.638697624206543,2.6221764087677,3.3658881187438965,9.943333625793457,11.148517608642578,7.194605350494385,10.373074531555176,9.276925086975098,7.412041187286377,2.6450376510620117,7.780893802642822,10.492968559265137,2.990447759628296,8.389130592346191,3.044351816177368,9.83544921875,3.0520341396331787,8.372248649597168,9.582842826843262,8.523981094360352,8.129103660583496,9.401596069335938,5.992615699768066,9.838537216186523,2.7629690170288086,10.825340270996094,9.470120429992676,7.825485706329346,7.011312961578369,2.8888614177703857,2.4320969581604004,8.507259368896484,8.714286804199219,6.14069128036499,2.435777425765991,2.9469833374023438,2.9986748695373535,8.353282928466797,8.038272857666016],\"xaxis\":\"x\",\"y\":[14.919698715209961,6.826986789703369,11.81772232055664,12.204488754272461,15.214119911193848,7.154744625091553,12.92198657989502,14.335949897766113,12.682541847229004,14.987171173095703,12.477670669555664,12.289641380310059,11.880073547363281,15.017955780029297,16.22625732421875,13.845627784729004,13.382237434387207,14.595653533935547,13.982056617736816,14.615310668945312,14.885833740234375,7.004465103149414,15.043622970581055,12.22603702545166,15.424019813537598,15.141817092895508,14.820451736450195,6.845524787902832,14.57445240020752,12.058459281921387,15.043807983398438,15.040395736694336,8.439082145690918,13.301680564880371,13.537205696105957,13.10167121887207,14.694685935974121,12.1110200881958,14.771557807922363,7.6745991706848145,15.84020709991455,12.673128128051758,7.722301006317139,12.965177536010742,7.209379196166992,16.06720733642578,14.110750198364258,12.471324920654297,7.817873954772949,11.996094703674316,13.892067909240723,13.48803424835205,15.087276458740234,14.319957733154297,12.610418319702148,15.951996803283691,15.048873901367188,13.553997039794922,13.043643951416016,13.621381759643555,14.262874603271484,13.827900886535645,11.777769088745117,12.751018524169922,12.773801803588867,11.288414001464844,13.767450332641602,14.763808250427246,11.51326847076416,14.464735984802246,13.211939811706543,7.989522457122803,11.796285629272461,11.613240242004395,12.65084171295166,6.695533275604248,7.27743673324585,7.418513774871826,6.720833778381348,8.164215087890625,15.105352401733398,11.247092247009277,15.48766040802002,11.968735694885254,16.05908966064453,11.467560768127441,11.753870010375977,7.813462257385254,13.212488174438477,14.629307746887207,6.83765983581543,7.85275936126709,15.722044944763184,11.379985809326172,13.755988121032715,6.666274547576904,14.842183113098145,7.164377212524414,13.542922019958496,12.462055206298828,11.455726623535156,14.456792831420898,15.779252052307129,15.85988712310791,13.859684944152832,15.252206802368164,13.349650382995605,7.875330924987793,6.854819297790527,13.471561431884766,11.241643905639648,15.325128555297852,15.517321586608887,7.954036235809326,12.691645622253418,15.131038665771484,15.43477725982666,7.732810020446777,11.772614479064941,8.222726821899414,14.838399887084961,15.556163787841797,16.0269832611084,13.715598106384277,13.77713680267334,14.794017791748047,13.458524703979492,15.277663230895996,15.544886589050293,15.78662109375,6.991419792175293,11.260519027709961,12.514970779418945,14.627413749694824,7.242963790893555,15.24241828918457,13.06170654296875,11.635330200195312,11.590476036071777,11.758953094482422,15.423933029174805,15.679596900939941,11.612113952636719,11.33647632598877,11.328855514526367,14.570975303649902,15.19620132446289,11.872476577758789,14.04269027709961,12.665670394897461,12.272652626037598,13.944446563720703,13.869178771972656,15.206485748291016,7.2261457443237305,12.443438529968262,12.591858863830566,12.736841201782227,12.42254638671875,11.783451080322266,15.073044776916504,13.685966491699219,14.707754135131836,13.955867767333984,12.071511268615723,14.222843170166016,7.555534839630127,7.918509006500244,14.914949417114258,12.739945411682129,6.929052352905273,8.336112976074219,11.701849937438965,15.718389511108398,13.063987731933594,15.722479820251465,14.952982902526855,15.135899543762207,13.135555267333984,13.83316707611084,15.517560958862305,13.427489280700684,7.092189788818359,14.071086883544922,14.583988189697266,6.593522548675537,12.129469871520996,11.639360427856445,14.139939308166504,7.184609413146973,15.189697265625,13.701000213623047,13.37778377532959,13.56937313079834,11.974671363830566,15.056790351867676,15.980878829956055,6.700627326965332,11.21965217590332,15.629878997802734,12.71613883972168,11.2333402633667,11.465509414672852,15.08190631866455,15.391195297241211,15.281905174255371,13.089437484741211,12.623733520507812,12.55732250213623,13.596906661987305,14.960205078125,15.236818313598633,12.169761657714844,11.829865455627441,13.24341106414795,7.496746063232422,13.3894624710083,13.901782989501953,7.202199459075928,15.553580284118652,13.93432903289795,14.031614303588867,7.0492119789123535,11.23666000366211,6.740419864654541,13.188298225402832,11.722105026245117,13.945075988769531,14.231649398803711,12.584251403808594,11.836601257324219,14.847711563110352,11.800044059753418,12.419587135314941,12.020857810974121,15.164621353149414,15.3193359375,12.197026252746582,15.07822036743164,15.52905559539795,15.081177711486816,7.429852485656738,14.377103805541992,13.1648530960083,13.651307106018066,7.785986423492432,15.675322532653809,14.786628723144531,15.193714141845703,12.182323455810547,15.437583923339844,15.73580265045166,7.394881248474121,12.945016860961914,13.1710786819458,12.361833572387695,14.789426803588867,14.78011703491211,14.215076446533203,14.82949447631836,16.19567108154297,12.811654090881348,15.17738151550293,13.67935848236084,13.824163436889648,14.365297317504883,11.254714012145996,14.701321601867676,13.600333213806152,15.592538833618164,14.253824234008789,13.150503158569336,15.53941822052002,14.115171432495117,7.9659576416015625,15.128808975219727,11.375550270080566,7.8630595207214355,8.126924514770508,15.13967514038086,14.856429100036621,14.715683937072754,14.140449523925781,14.589225769042969,13.00908374786377,15.66175365447998,11.5387601852417,11.406147956848145,11.385915756225586,11.549147605895996,15.401183128356934,11.48056697845459,14.713147163391113,15.959983825683594,7.3596062660217285,8.32836627960205,15.520469665527344,14.956221580505371,15.112954139709473,12.52517032623291,15.1299409866333,14.529252052307129,8.018523216247559,14.118492126464844,12.777015686035156,6.692846775054932,14.114964485168457,8.121941566467285,15.249399185180664,8.216621398925781,13.976027488708496,15.44091510772705,14.637913703918457,14.987470626831055,15.808207511901855,11.376496315002441,11.670680046081543,6.870264053344727,15.145898818969727,14.018567085266113,15.191255569458008,13.792245864868164,6.835325717926025,8.138455390930176,14.806806564331055,15.092625617980957,11.444796562194824,8.256245613098145,7.6659979820251465,8.149290084838867,14.273946762084961,13.458327293395996],\"yaxis\":\"y\"}],                        {\"legend\":{\"tracegroupgap\":0},\"margin\":{\"t\":60},\"template\":{\"data\":{\"bar\":[{\"error_x\":{\"color\":\"#2a3f5f\"},\"error_y\":{\"color\":\"#2a3f5f\"},\"marker\":{\"line\":{\"color\":\"#E5ECF6\",\"width\":0.5},\"pattern\":{\"fillmode\":\"overlay\",\"size\":10,\"solidity\":0.2}},\"type\":\"bar\"}],\"barpolar\":[{\"marker\":{\"line\":{\"color\":\"#E5ECF6\",\"width\":0.5},\"pattern\":{\"fillmode\":\"overlay\",\"size\":10,\"solidity\":0.2}},\"type\":\"barpolar\"}],\"carpet\":[{\"aaxis\":{\"endlinecolor\":\"#2a3f5f\",\"gridcolor\":\"white\",\"linecolor\":\"white\",\"minorgridcolor\":\"white\",\"startlinecolor\":\"#2a3f5f\"},\"baxis\":{\"endlinecolor\":\"#2a3f5f\",\"gridcolor\":\"white\",\"linecolor\":\"white\",\"minorgridcolor\":\"white\",\"startlinecolor\":\"#2a3f5f\"},\"type\":\"carpet\"}],\"choropleth\":[{\"colorbar\":{\"outlinewidth\":0,\"ticks\":\"\"},\"type\":\"choropleth\"}],\"contour\":[{\"colorbar\":{\"outlinewidth\":0,\"ticks\":\"\"},\"colorscale\":[[0.0,\"#0d0887\"],[0.1111111111111111,\"#46039f\"],[0.2222222222222222,\"#7201a8\"],[0.3333333333333333,\"#9c179e\"],[0.4444444444444444,\"#bd3786\"],[0.5555555555555556,\"#d8576b\"],[0.6666666666666666,\"#ed7953\"],[0.7777777777777778,\"#fb9f3a\"],[0.8888888888888888,\"#fdca26\"],[1.0,\"#f0f921\"]],\"type\":\"contour\"}],\"contourcarpet\":[{\"colorbar\":{\"outlinewidth\":0,\"ticks\":\"\"},\"type\":\"contourcarpet\"}],\"heatmap\":[{\"colorbar\":{\"outlinewidth\":0,\"ticks\":\"\"},\"colorscale\":[[0.0,\"#0d0887\"],[0.1111111111111111,\"#46039f\"],[0.2222222222222222,\"#7201a8\"],[0.3333333333333333,\"#9c179e\"],[0.4444444444444444,\"#bd3786\"],[0.5555555555555556,\"#d8576b\"],[0.6666666666666666,\"#ed7953\"],[0.7777777777777778,\"#fb9f3a\"],[0.8888888888888888,\"#fdca26\"],[1.0,\"#f0f921\"]],\"type\":\"heatmap\"}],\"heatmapgl\":[{\"colorbar\":{\"outlinewidth\":0,\"ticks\":\"\"},\"colorscale\":[[0.0,\"#0d0887\"],[0.1111111111111111,\"#46039f\"],[0.2222222222222222,\"#7201a8\"],[0.3333333333333333,\"#9c179e\"],[0.4444444444444444,\"#bd3786\"],[0.5555555555555556,\"#d8576b\"],[0.6666666666666666,\"#ed7953\"],[0.7777777777777778,\"#fb9f3a\"],[0.8888888888888888,\"#fdca26\"],[1.0,\"#f0f921\"]],\"type\":\"heatmapgl\"}],\"histogram\":[{\"marker\":{\"pattern\":{\"fillmode\":\"overlay\",\"size\":10,\"solidity\":0.2}},\"type\":\"histogram\"}],\"histogram2d\":[{\"colorbar\":{\"outlinewidth\":0,\"ticks\":\"\"},\"colorscale\":[[0.0,\"#0d0887\"],[0.1111111111111111,\"#46039f\"],[0.2222222222222222,\"#7201a8\"],[0.3333333333333333,\"#9c179e\"],[0.4444444444444444,\"#bd3786\"],[0.5555555555555556,\"#d8576b\"],[0.6666666666666666,\"#ed7953\"],[0.7777777777777778,\"#fb9f3a\"],[0.8888888888888888,\"#fdca26\"],[1.0,\"#f0f921\"]],\"type\":\"histogram2d\"}],\"histogram2dcontour\":[{\"colorbar\":{\"outlinewidth\":0,\"ticks\":\"\"},\"colorscale\":[[0.0,\"#0d0887\"],[0.1111111111111111,\"#46039f\"],[0.2222222222222222,\"#7201a8\"],[0.3333333333333333,\"#9c179e\"],[0.4444444444444444,\"#bd3786\"],[0.5555555555555556,\"#d8576b\"],[0.6666666666666666,\"#ed7953\"],[0.7777777777777778,\"#fb9f3a\"],[0.8888888888888888,\"#fdca26\"],[1.0,\"#f0f921\"]],\"type\":\"histogram2dcontour\"}],\"mesh3d\":[{\"colorbar\":{\"outlinewidth\":0,\"ticks\":\"\"},\"type\":\"mesh3d\"}],\"parcoords\":[{\"line\":{\"colorbar\":{\"outlinewidth\":0,\"ticks\":\"\"}},\"type\":\"parcoords\"}],\"pie\":[{\"automargin\":true,\"type\":\"pie\"}],\"scatter\":[{\"marker\":{\"colorbar\":{\"outlinewidth\":0,\"ticks\":\"\"}},\"type\":\"scatter\"}],\"scatter3d\":[{\"line\":{\"colorbar\":{\"outlinewidth\":0,\"ticks\":\"\"}},\"marker\":{\"colorbar\":{\"outlinewidth\":0,\"ticks\":\"\"}},\"type\":\"scatter3d\"}],\"scattercarpet\":[{\"marker\":{\"colorbar\":{\"outlinewidth\":0,\"ticks\":\"\"}},\"type\":\"scattercarpet\"}],\"scattergeo\":[{\"marker\":{\"colorbar\":{\"outlinewidth\":0,\"ticks\":\"\"}},\"type\":\"scattergeo\"}],\"scattergl\":[{\"marker\":{\"colorbar\":{\"outlinewidth\":0,\"ticks\":\"\"}},\"type\":\"scattergl\"}],\"scattermapbox\":[{\"marker\":{\"colorbar\":{\"outlinewidth\":0,\"ticks\":\"\"}},\"type\":\"scattermapbox\"}],\"scatterpolar\":[{\"marker\":{\"colorbar\":{\"outlinewidth\":0,\"ticks\":\"\"}},\"type\":\"scatterpolar\"}],\"scatterpolargl\":[{\"marker\":{\"colorbar\":{\"outlinewidth\":0,\"ticks\":\"\"}},\"type\":\"scatterpolargl\"}],\"scatterternary\":[{\"marker\":{\"colorbar\":{\"outlinewidth\":0,\"ticks\":\"\"}},\"type\":\"scatterternary\"}],\"surface\":[{\"colorbar\":{\"outlinewidth\":0,\"ticks\":\"\"},\"colorscale\":[[0.0,\"#0d0887\"],[0.1111111111111111,\"#46039f\"],[0.2222222222222222,\"#7201a8\"],[0.3333333333333333,\"#9c179e\"],[0.4444444444444444,\"#bd3786\"],[0.5555555555555556,\"#d8576b\"],[0.6666666666666666,\"#ed7953\"],[0.7777777777777778,\"#fb9f3a\"],[0.8888888888888888,\"#fdca26\"],[1.0,\"#f0f921\"]],\"type\":\"surface\"}],\"table\":[{\"cells\":{\"fill\":{\"color\":\"#EBF0F8\"},\"line\":{\"color\":\"white\"}},\"header\":{\"fill\":{\"color\":\"#C8D4E3\"},\"line\":{\"color\":\"white\"}},\"type\":\"table\"}]},\"layout\":{\"annotationdefaults\":{\"arrowcolor\":\"#2a3f5f\",\"arrowhead\":0,\"arrowwidth\":1},\"autotypenumbers\":\"strict\",\"coloraxis\":{\"colorbar\":{\"outlinewidth\":0,\"ticks\":\"\"}},\"colorscale\":{\"diverging\":[[0,\"#8e0152\"],[0.1,\"#c51b7d\"],[0.2,\"#de77ae\"],[0.3,\"#f1b6da\"],[0.4,\"#fde0ef\"],[0.5,\"#f7f7f7\"],[0.6,\"#e6f5d0\"],[0.7,\"#b8e186\"],[0.8,\"#7fbc41\"],[0.9,\"#4d9221\"],[1,\"#276419\"]],\"sequential\":[[0.0,\"#0d0887\"],[0.1111111111111111,\"#46039f\"],[0.2222222222222222,\"#7201a8\"],[0.3333333333333333,\"#9c179e\"],[0.4444444444444444,\"#bd3786\"],[0.5555555555555556,\"#d8576b\"],[0.6666666666666666,\"#ed7953\"],[0.7777777777777778,\"#fb9f3a\"],[0.8888888888888888,\"#fdca26\"],[1.0,\"#f0f921\"]],\"sequentialminus\":[[0.0,\"#0d0887\"],[0.1111111111111111,\"#46039f\"],[0.2222222222222222,\"#7201a8\"],[0.3333333333333333,\"#9c179e\"],[0.4444444444444444,\"#bd3786\"],[0.5555555555555556,\"#d8576b\"],[0.6666666666666666,\"#ed7953\"],[0.7777777777777778,\"#fb9f3a\"],[0.8888888888888888,\"#fdca26\"],[1.0,\"#f0f921\"]]},\"colorway\":[\"#636efa\",\"#EF553B\",\"#00cc96\",\"#ab63fa\",\"#FFA15A\",\"#19d3f3\",\"#FF6692\",\"#B6E880\",\"#FF97FF\",\"#FECB52\"],\"font\":{\"color\":\"#2a3f5f\"},\"geo\":{\"bgcolor\":\"white\",\"lakecolor\":\"white\",\"landcolor\":\"#E5ECF6\",\"showlakes\":true,\"showland\":true,\"subunitcolor\":\"white\"},\"hoverlabel\":{\"align\":\"left\"},\"hovermode\":\"closest\",\"mapbox\":{\"style\":\"light\"},\"paper_bgcolor\":\"white\",\"plot_bgcolor\":\"#E5ECF6\",\"polar\":{\"angularaxis\":{\"gridcolor\":\"white\",\"linecolor\":\"white\",\"ticks\":\"\"},\"bgcolor\":\"#E5ECF6\",\"radialaxis\":{\"gridcolor\":\"white\",\"linecolor\":\"white\",\"ticks\":\"\"}},\"scene\":{\"xaxis\":{\"backgroundcolor\":\"#E5ECF6\",\"gridcolor\":\"white\",\"gridwidth\":2,\"linecolor\":\"white\",\"showbackground\":true,\"ticks\":\"\",\"zerolinecolor\":\"white\"},\"yaxis\":{\"backgroundcolor\":\"#E5ECF6\",\"gridcolor\":\"white\",\"gridwidth\":2,\"linecolor\":\"white\",\"showbackground\":true,\"ticks\":\"\",\"zerolinecolor\":\"white\"},\"zaxis\":{\"backgroundcolor\":\"#E5ECF6\",\"gridcolor\":\"white\",\"gridwidth\":2,\"linecolor\":\"white\",\"showbackground\":true,\"ticks\":\"\",\"zerolinecolor\":\"white\"}},\"shapedefaults\":{\"line\":{\"color\":\"#2a3f5f\"}},\"ternary\":{\"aaxis\":{\"gridcolor\":\"white\",\"linecolor\":\"white\",\"ticks\":\"\"},\"baxis\":{\"gridcolor\":\"white\",\"linecolor\":\"white\",\"ticks\":\"\"},\"bgcolor\":\"#E5ECF6\",\"caxis\":{\"gridcolor\":\"white\",\"linecolor\":\"white\",\"ticks\":\"\"}},\"title\":{\"x\":0.05},\"xaxis\":{\"automargin\":true,\"gridcolor\":\"white\",\"linecolor\":\"white\",\"ticks\":\"\",\"title\":{\"standoff\":15},\"zerolinecolor\":\"white\",\"zerolinewidth\":2},\"yaxis\":{\"automargin\":true,\"gridcolor\":\"white\",\"linecolor\":\"white\",\"ticks\":\"\",\"title\":{\"standoff\":15},\"zerolinecolor\":\"white\",\"zerolinewidth\":2}}},\"xaxis\":{\"anchor\":\"y\",\"domain\":[0.0,1.0],\"title\":{\"text\":\"x\"}},\"yaxis\":{\"anchor\":\"x\",\"domain\":[0.0,1.0],\"title\":{\"text\":\"y\"}}},                        {\"responsive\": true}                    ).then(function(){\n",
       "                            \n",
       "var gd = document.getElementById('67717df5-3586-46cc-b7c9-d7be6ab6e1eb');\n",
       "var x = new MutationObserver(function (mutations, observer) {{\n",
       "        var display = window.getComputedStyle(gd).display;\n",
       "        if (!display || display === 'none') {{\n",
       "            console.log([gd, 'removed!']);\n",
       "            Plotly.purge(gd);\n",
       "            observer.disconnect();\n",
       "        }}\n",
       "}});\n",
       "\n",
       "// Listen for the removal of the full notebook cells\n",
       "var notebookContainer = gd.closest('#notebook-container');\n",
       "if (notebookContainer) {{\n",
       "    x.observe(notebookContainer, {childList: true});\n",
       "}}\n",
       "\n",
       "// Listen for the clearing of the current output cell\n",
       "var outputEl = gd.closest('.output');\n",
       "if (outputEl) {{\n",
       "    x.observe(outputEl, {childList: true});\n",
       "}}\n",
       "\n",
       "                        })                };                });            </script>        </div>"
      ]
     },
     "metadata": {},
     "output_type": "display_data"
    }
   ],
   "source": [
    "import plotly.express as px\n",
    "\n",
    "reducer = UMAP()\n",
    "\n",
    "coords = reducer.fit_transform(embeddings).transpose()  # Create a 2-D version for visualization\n",
    "dataframe = pd.DataFrame({'text': sentences, 'x': coords[0], 'y': coords[1]})\n",
    "\n",
    "fig = px.scatter(dataframe, x='x', y='y', hover_name='text')\n",
    "fig.show()"
   ]
  },
  {
   "cell_type": "code",
   "execution_count": 46,
   "id": "7fa994ab",
   "metadata": {},
   "outputs": [
    {
     "data": {
      "application/vnd.plotly.v1+json": {
       "config": {
        "plotlyServerURL": "https://plot.ly"
       },
       "data": [
        {
         "hovertemplate": "<b>%{hovertext}</b><br><br>x=%{x}<br>y=%{y}<extra></extra>",
         "hovertext": [
          "Supplier Fosun Pharma will be making an initial payment of €125 mil by year-end for 50 million doses. #FMTNews #China #Vaccine #Covid19 #PfizerBioNTech",
          "Replying to @AnitaOakville @PattyHajdu and 4 others\nphoto-op? don't slow the shipment....",
          "#UnitedStates : The Federal Aviation Administration (FAA) said Saturday it had approved the use of the #PfizerBioNTech #COVID19 vaccine by pilots and air traffic controllers. \n@PIB_India @airnewsalerts",
          "Politico.  December 13, 2020.  FDA's Hahn: Covid-19 vaccine authorization based in 'science and data'\nhttps://politico.com/news/2020/12/13/fdas-hahn-coronavirus-vaccine-approval-science-data-444854…\n#coronavirus #covid19 #coronavirusprevention #CoronaVirusUpdate #CoronavirusVaccine #COVID19Vaccine #PfizerBioNTech #business #technology #datascience",
          "KFDM’s/FOX 4’s @THEPAIGEREPORT1 is at Baptist hospital getting a first hand look at where the Pfizer COVID-19 vaccines will be stored.\n\nTune into KFDM and FOX 4 news to find out how the hospital is preparing. #COVID19 #Vaccine #PfizerBioNTech",
          "Replying to @Anaridis and @Joyce_Karam\nThis brings such a big smile to my face. I love it.",
          "In case anyone is interested here is a link to the #PfizerBioNTech #COVID19Vaccine patient information that is on the @US_FDA site. \n\nThis should be given to every patient who receives the vaccine https://fda.gov/media/144414/download…",
          "Ok I might be late to discovering this but... both #PfizerBioNTech  and #Moderna #COVID19 vaccines are being led by WOMEN @KizzyPhD @drkatherinjansen Women saving the world y’all! ",
          "#SputnikV uses 2 different human adenoviral vectors for 2 vaccine shots to ensure that immunity to the 1st does not make the 2nd less effective. We offered @AstraZeneca to use one of our vectors so they can also have two vectors in their vaccine. AZ confirmed.",
          "No.1 of 2 done.\n\n#ThankYouNHS @NHSuk @MHRAgovuk and #PfizerBioNTech @pfizer for making the #CovidVaccine dream possible and come to fruition so soon in the UK. #HopeForTheFuture @TeamNUH @NUH_AcuteMed",
          "Singapore approves Pfizer vaccine , becomes first south East Asian country to approve the vaccine. Doses will be given from end of December #Singapore #Covid_19 #CovidVaccine #PfizerBioNTech",
          "How the #PfizerBioNTech Vaccine Works?\nThis article made a detailed explanation.\nhttps://nytimes.com/interactive/2020/health/pfizer-biontech-covid-19-vaccine.html…\n\n#COVID19 #CovidVaccine #vaccines #coronavirus #CoronaVaccine #SARSCoV2 #cellbiology #mRNA #biology #biotech #biotechnology",
          "The Advisory Committee on Immunization Practices’ Interim Recommendation for Use of Pfizer-BioNTech COVID-19 Vaccine — United States, December 2020\nvia @CDCgov @CDCMMWR this afternoon.\n\nhttps://cdc.gov/mmwr/volumes/69/wr/mm6950e2.htm?s_cid=mm6950e2_w… \n#COVID19Vaccine #Pfizer #PfizerBioNTech #covid19pandemic",
          "What an apt name: #Portage, Michigan!  #PfizerPlant\n",
          "Toronto to receive Ontario's 1st doses of Pfizer COVID-19 vaccine today\nhttps://indiablooms.com/world-details/USN/27188/toronto-to-receive-ontario-s-1st-doses-of-pfizer-covid-19-vaccine-today.html…\n#Ontario #PfizerBioNTech #COVID19Vaccine #Toronto #FirstDose",
          "#APT29 aka #CozyBear hacker group suspected of hacking #PfizerBioNTech #IP and now federal agencies like U.S. Treasury Department, potentially spying on emails for months. \n\n#Infosec #CyberSecurity https://lnkd.in/g62qMiE",
          "Vaccines save lives  Hopefully HCW can assuage public fear and anxiety regarding this vaccine  so we can finally move forward #VaccinesSaveLives \n#CovidVaccines #PfizerBioNTech \n\n**Coronavirus Update 116: Pfizer COVID 19 Vaccine Explained**",
          "Replying to @cnnbrk\nGood luck with this experimental “vaccin” ",
          "Excited about tomorrow \nSo honoured to be part to this exciting team administering in primary care #Covid_19 #Covid19UK #PfizerBioNTech #BioNTech #CovidVaccine #teamGp #gp #COVID19Vaccine #primarycare #vaccination #Rcgp",
          "The #USA government is prepping millions of doses of the #PfizerBioNTech coronavirus #vaccine for shipment to sites across the nation in support of what may be the most ambitious immunization program in history.\n\n https://bit.ly/3nqxWFI",
          "Getting my first dose of the #PfizerBioNTech #CovidVaccine next weekend and seeing this #UNBOXING just made it so real. Are my hopes for this set too high?#OperationWarpSpeed",
          "Replying to @Anaridis and @devincole\nDr. Blue Suit has been waiting months to show off those moves. Where’s his extended remix?",
          "Can’t wait to take my kids towards herd immunity   \n#vaccines #PfizerBioNTech",
          "Pfizer-BioNTech COVID-19 Vaccine: Donald Trump, Mike Pence & Top US Officials to be Offered Early Access to Newly Approved Vaccine: https://latestly.com/world/pfizer-biontech-covid-19-vaccine-donald-trump-mike-pence-top-us-officials-to-be-offered-early-access-to-newly-approved-vaccine-2196957.html… #coronavirus #Covid_19 @realDonaldTrump @VP @WhiteHouse #PfizerBioNTech",
          "Today I was lucky enough to get vaccinated against #COVID19. I did it not just for myself, but for my patients, my friends and family, and my community. When the vaccine becomes more widely available, I'd urge you to do the same!\n#CovidVaccines #PfizerBioNTech #Thankful",
          "Sunday evening’s shipment is the first of an initial 30,000 doses of the Pfizer vaccine to be spread across 14 distribution centres. #COVID19AB #vaccine #pandemic #PHAC #PfizerBioNTech",
          "The first few million #PfizerBioNtech #vaccines have arrived in the US after a last-minute #emergencyauthorization last Friday. \n\nWill we see #risk #assets rising at the cost of #dollar early in the week today or will #investors wait for #jabs to begin first?",
          "Replying to @AnitaOakville @PattyHajdu and 4 others\nWoo hoo!  Best news! ",
          "\"The [temperature] issue with BioNtech/Pfizer - yes, it's challenging. But we know how to do it\".\n",
          "This vaccine is special because it triggers an immune response without using the actual virus that causes covid-19.\n https://edmonton.ctvnews.ca/mobile/how-the-pfizer-biontech-covid-19-vaccine-works-health-canada-1.5232525… #pfizer #pfizerbiontech #covid19ab #pfizervaccine",
          "I am beyond relieved to share that I’ll be among the first to receive the #CovidVaccine from #PfizerBioNTech. Thank you @DrFNA for helping to make this possible by participating in a Phase 3 trial. Thank you also, for sharing your experience. #KnowledgeIsPower #TheMoreYouKnow",
          "The first trucks loaded with Pfizer’s coronavirus shot pulled out of a Michigan warehouse early Sunday — starting the biggest vaccination effort in American history\n\n#Michigan #Pfizer #PfizerBioNTech #CovidVaccine  \n\nhttps://realtalktime.com/pfizer-covid-vaccine-portage-michigan/…",
          "Replying to @yinonw and @jhaskinscabrera\nThat's why those people should just be living their lives.  And focused protection for the elderly.",
          "Will you be taking the COVID-19 vaccine once available to you? #COVID19 #Pfizer #BioNTech #vaccine #PfizerBioNTech #mRNA #AstraZeneca #coronavirus #usa #Canada #vaccination #CoronaVaccine #pandemic #Biden #trump #OperationWarpSpeed #CovidVaccines #Quarantine #antivaxxers #cdnpol",
          "This mandated anthrax vaccine killed 35k US soldiers* and maimed  many more, at about 2% serious adverse reactions rate. #PfizerBioNTech ‘s info quotes a 4% grade 3 rate! \n\nWatch the compelling testimonials of US & U.K. military an see for yourselves: https://t.co/k2uZDHIlxq",
          "⁦@AvgerinosMoscow⁩ #PfizerBioNTech #FDA approval Apprentice Style!\n⁦@realDonaldTrump⁩: “Approve the #vaccine or you’re fired!”\nNow that’s science!",
          "Building on last week’s ‘trial’ run and extending our vaccination  programme this week . So much effort going on behind the scenes . Trainers  tomorrow team #teampharmacy #lovemyjob #PfizerBioNTech @cab5554 @tracyr09 @Cymraes_Lois @OwenBerwyn",
          "Pfizer-BioNTech’s COVID19 vaccine is also urgently needed for Africa: #Ghana, #Nigeria, #Egypt, #SouthAfrica & rest of Africa \nBy @KwakuAkyeampong \n\nRetweet\n\n#Pfizer #Pfizervaccine #PfizerCovidVaccine #PfizerBioNTech #PfizerBiotech @_AfricanUnion @CNNAfrica @ReutersAfrica #Africa",
          "Replying to @katie_crowfoot @LPTnhs and 2 others\nGood luck, hope it works and the side effects aren't too bad",
          "Replying to @770CHQR\nTruly defines, trickling in ....",
          "@UTSWNews starting the COVID vaccination program today. Socially distanced staff patiently waiting. #CovidVaccine #Covid_19 #PfizerBioNTech",
          "#Pfizervaccine #PfizerBioNTech WHAT'S IN THIS #vaccine? Why #Pfizer is NOT 100% transparent about it? \n#coronavirus #VaccinesWork #VaccinesSaveLives #VaccinoAntiCovid #Dubai\n#Toronto #emirates #SideEffect #allergies\nSource+Copyright- MIT Technology Review",
          "Replying to @DrMarcSiegel @EricShawnTV and @ArthelNeville\nSaid the person pretending to be a scientist as they send the tweet dressed in their pajamas from their mothers basement",
          "I love high quality infographics for getting across multiple ideas quickly \n\nHere is an excellent set from The Factivists on @Instagram (not on @Twitter) on the #PfizerBioNTech #vaccine\n\nhttps://instagram.com/p/CIorEb6no34/?igshid=74fkf2c2vldh…\n\n#Covid19UK #COVID19 #CovidVaccine #mRNA #DocsforVax #MedTwitter",
          "@HeartOTXHeartMD\n",
          "The first COVID-19 vaccine doses have arrived in Oregon.  \n\nWatch #MorningsontheDove from 6am -9am tomorrow for details. \n\n#COVID19Vaccine #PfizerBioNTech #theDove #theDoveTV #theDoveRadio #theDoveNewsroom #Faith #hope #encouragment #affirmation #PNW #Oregon",
          "POTUS Donald Trump declared months ago the military would be rolling out distribution and he was scoffed for it.  He was completely right.  Now, it’s History.\n",
          "Singapore approves @pfizer @BioNTech_Group  vaccine for local use. Vaccine safe to use on people aged 16 and above, and first batch of #PfizerBioNTech vaccine will arrive by end of December.",
          "Replying to @cnnbrk\n@YOUCEFB45681191",
          "Per the CDC, persons with HIV and other immunocompromising conditions may still receive the COVID-19 vaccine unless otherwise contraindicated. #PfizerBioNTech #MedTwitter",
          "Anyone wondering why day after #PfizerBioNTech approval in the UK people were getting vaccinated but all we are told this point in US and #NewYork is it will happen in “next few days” #CovidVaccine",
          "Half way there #COVID19 #CovidVaccine #vaccination #Pfizervaccine #PfizerBioNTech",
          "The hospital I work at has received the vaccine. Our IV room made the first five doses to be given in the state. I’m ready for this bad boy. #CovidVaccine #COVID19 #PfizerBioNTech",
          "#Canadian firm Acuitas - at heart of #PfizerBioNTech #vaccine - great story - @ubcprez #UBC - we helped early on with @NRC_CNRC #IRAP program when the firm was called AlCana Technologies Ltd ... #canpoli",
          "Kirill Dmitriev, RDIF CEO: #SputnikV is showing high efficacy itself and can also be combined with other vaccines. Gamaleya and RDIF welcome joint clinical trial with @AstraZeneca to explore adding #SputnikV human adenoviral vector to AZ vaccine.\nAstraZeneca will test using component of Russia’s Sputnik V in clinical trials of its own vaccine...sputnikvaccine.com",
          "#WATCH: Shipments of initial doses of the COVID-19 vaccines arrived in selected ports of entry in Canada on Sunday night. https://instagram.com/p/CIxZTVAD_tm/?igshid=s6imubrpo54k…\n\nVideo credit: Canadian Armed Forces Combat Camera \n\n#PfizerBioNTech #COVID19 #CovidVaccine #covid19Qc #COVIDCanada",
          "Happy and relieved to have the #PfizerBioNTech #Covidvaccine – amazing work from all at @MHRAgovuk and @NHSuk since it’s less than 2 weeks since CHM recommended that it be approved in the UK. #GetVaccinated!",
          "Explain to me again why we need a vaccine @BorisJohnson @MattHancock #whereareallthesickpeople #PfizerBioNTech #CovidVaccine #coronavirus #COVIDIOTS #saynotorhevaccine #markofthebeast",
          "#BillGates  caught on video admitting #CovidVaccine  will CHANGE our #DNA  FOREVER. https://youtu.be/ksEVaO806Oo via @YouTube He wasn't \"caught on tape\", he PROUDY stated it.\n#Covid_19 #coronavirus   #Pfizer #PfizerBioNTech \n#pfizervccineahoax #COVIDIOTS #AstraZeneca",
          "With #Germany announcing yet its strictest #lockdown starting Wed and #NHS warning #BoJo of a #thirdwave in a letter sent by the group’s CEO, the risk asset basket narrows down to a select few though.\n",
          "There have not been many bright days in 2020 but here are some of the best \n1. #BidenHarris winning #Election2020 \n2. #PfizerBioNTech #CovidVaccine getting @US_FDA #EUA\n3. #ACIP recommending the #PfizerBioNTech #CovidVaccine \n\nLooking ahead\n- 12/15 when I get my #CovidVaccine",
          "I pucking do not intend to get vaccinated. Wht if my employer force to get vaccinated? Like they did for Arogya Setu App.\n\n#FarmBills2020 #WashingtonDC #HongKong #Argentina #PfizerBioNTech",
          "FAQs on Pfizer COVID vaccine.\nThread\n\n1.Which COVID vaccine should I get? Is one better than others? \n\nYou should get the vaccine  you are offered. Getting a large number of people vaccinated is more important than differences in vaccine efficacy",
          "#vaccine #Pfizervaccine #PfizerBioNTech WHAT'S IN THIS VACCINE? #Pfizer is NOT 100% transparent about it.\n#coronavirus #VaccinesWork #VaccinesSaveLives #VaccinoAntiCovid #Dubai\n#Toronto #emirates #SideEffect #allergies\nCopyright- MIT Technology Review",
          " Some #FDA Advisors Tapped to Review #Coronavirus #Vaccines Received Payments from Vaccine Companies\nJust pray that Trump’s  frantic push on new #PfizerBioNTech vaccine without any long term damage or peer review, that we don’t lose even more people",
          "Does anyone have any useful advice/guidance for whether the COVID vaccine is safe whilst breastfeeding? #CovidVaccines #PfizerBioNTech #breastfeeding",
          "https://nytimes.com/live/2020/12/12/world/covid-19-coronavirus/britain-canada-and-the-us-start-their-vaccination-campaigns-and-other-news-from-around-the-world…. #Canada ordered enough of the #PfizerBioNTech #vaccine for all of its people- we were too smart for that... #TrumpWorstPresidentEver  why does anyone support him???",
          "Just hours after being authorized by the #FDA, doses of #PfizerBioNTech #coronavirus #vaccine are being packaged and readied for distribution by UPS and FedEx, the head of Operation Warp Speed said Saturday.",
          "The US Food and Drug Administration (FDA) has granted emergency use authorization to Pfizer-BioNTech's mRNA #COVID19 vaccine making it the first vaccine to receive approval in the USA. #PfizerBioNTech #coronavirus #vaccine @US_FDA @pfizer @BioNTech_Group",
          "Eric Shawn: The vaccine is here...in record time! https://video.foxnews.com/v/6215905201001 thanks @EricShawnTV @ArthelNeville for allowing me to join on this historic day #PfizerBioNTech #PfizerCovidVaccine stop the #COVID19 #pandemic #VaccinesWork #Masks #SocialDistancing #KindnessMatters",
          "Fascinating to see how the messenger RNA vaccine delivery approach has helped enable a dramatically shorter time to market. Viral sequencing selection to stage 1 trials took 20 months with SARS (2003) and is only taking ~3 months with Covid-19. #vaccines #PfizerBioNTech #Moderna",
          "Replying to @charlesadler and @RexChapman\nAtta boy Chuck...",
          "The FDA Authorizes Emergency Use Of The Pfizer Vaccine\nhttp://thenewdispatch.com/the-fda-authorizes-emergency-use-of-the-pfizer-vaccine…\n#PFE #Pfizer #Pfizervaccine #PfizerBioNTech #FDA #CovidVaccine #COVID19Vaccine #COVID19 #COVID #Vaccine #USA #Coronavirus #CoronavirusVaccine #PfizerCovidVaccine #Covid_19 #Vaccination",
          "The US Food and Drug Administration (FDA) issued yesterday the first emergency use authorization of the Pfizer-BioNTech vaccine.\n#Kuwait #BioNtech #PfizerBioNTech #Covid19Vaccine \n\nhttps://thepeninsulaqatar.com/article/13/12/2020/Kuwait-authorizes-emergency-use-of-Pfizer-BioNTech-covid-19-vaccine…",
          "#AstraZeneca to buy pharmaceutical firm #Alexion for $39 billion\nhttp://nationalbusinessmirror.com/astrazeneca-to-buy-pharmaceutical-firm-alexion-for-39-billion/…\n#COVID19vaccine #Pfizer #Pfizervaccine #PfizerBioNTech #PfizerCovidVaccine #astrazenecacovidvaccine #astrazenecacovid19vaccine",
          "We found the guy in the tan coat! \n\"We just wanted to highlight this moment. It's a really big deal. It's such a positive turning point....We wanted to highlight that, to give hope to everyone.\" Armani Thao of \n@The_BMC talked to us about the dance video seen around the world.\n2:1614.8K views",
          "Replying to @TudorGJovin @CooperHealthNJ and 3 others\n",
          "\n",
          "Replying to @AnitaOakville @MaryamMonsef and 5 others\nThank goodness the Federal Liberals are in charge of this roll out ensuring it will be done well!!! Thank you @JustinTrudeau !! And all of the great ministers",
          "Replying to @Anaridis\nIf I worked there I would be the one to throw the whole thing off, they're really good. ",
          "US began shipments of #Covid19 #PfizerBioNTech #vaccine Sunday following final CDC approval. While #pandemic is far from over, investors are seeing light at end of the dark tunnel. Wall Street is expected to kick off Monday in the green - @husseinsayyed \nhttps://financialmirror.com/2020/12/14/us-vaccine-roll-out-lifts-risk-assets-final-stretch-in-brexit-talks…",
          "Turkey’s coronavirus death toll reaches 16,417 @drfahrettinkoca #CoronavirusPandemic #Turkey #PfizerBioNTech #Sinopharm\nhttps://ilkha.com/english/health-life/turkey-s-coronavirus-death-toll-reaches-16-417-11068…",
          "#PfizerBioNTech's #COVID19 vaccines are making their way to distributions sites nationwide. @FedEx says some of the first batches have been safely delivered.",
          "http://Pfizer-Biontech.Com\nUS agency authorizes Pfizer-BioNTech COVID-19 vaccine\nFirst vaccine will be administered in less than 24 hours, says US president\nhttps://aa.com.tr/en/americas/us-agency-authorizes-pfizer-biontech-covid-19-vaccine/2074319…\n#Pfizer  #Biontech  #PfizerBiontech  #Trump  #Ugursahin  #ozlemtureci  #vaccine",
          "Last night, the first #COVID19Vaccines arrived in Canada and as we speak, the first of the vaccines are being administered TODAY!\n\nThe #PfizerBioNTech vaccine requires storage in extremely low temperatures, and are currently being distributed to 14 locations across Canada.",
          "Pfizer-BioNTech COVID-19 Vaccine Side Effects: Canada Warns Allergic People Against Pfizer-BioNTech Coronavirus Vaccine\nhttps://latestly.com/world/canada-warns-allergic-people-against-pfizer-biontech-covid-19-vaccine-2195725.html…\n#PfizerBioNTech #COVID19Vaccine #COVID19VaccineSideEffects #Canada  #Allergic",
          "Surprised to learn those with autoimmune conditions or otherwise immunosuppressed are advised not to receive the #PfizerBioNTech vaccine per to NACI. These are higher risk folks, and not a live vaccine. I understand questions of efficacy but is there really any safety concern?",
          "Replying to @yinonw\n@DrBenTapper1",
          "@LUDOVICOTODINI @Taxistalobbyst   caught on video admitting #Covidvaccine will CHANGE our #DNA FOREVER. https://youtu.be/ksEVaO806Oo via @YouTube #coronavirus #corona #Pfizer #Pfizervaccine \n#PfizerBioNTech #Elections2020 #Election2020  @POTUS \n#JoeBiden #BidenHarris2020 @ASP #COVID",
          "Replying to @KristenRogersMD and @OchsnerHealth\nWhat is the end point ?   The get to a yes point on normal restaurants, normal life, no masks?   What is the standard by which this will be determined?",
          "Replying to @JacksonHealth and @tania_leets\nOur heroes FINALLY getting the PPE they’ve been waiting for.",
          "Replying to @charlesadler\n",
          "Healthcare workers receive the first dosis of Pfizer-BioNtech COVID-19 vaccine at Memorial Healthcare System in Miramar, Florida, U.S., on Monday, Dec. 14 2020. Photographer: Eva Marie Uzcategui/Bloomberg\n#covid19vacccine #pfizerbiontech #healthcareworkers #photojournalism",
          "Health #Canada has warned people allergic to any of the ingredients in the #PfizerBioNTech #COVID19 vaccine not to receive it.",
          "#vaccination #vaccinehesitancy\n",
          "Replying to @AnitaOakville @PattyHajdu and 4 others\nThank you Minister Anand for your dedication & hard work. Canadians are very fortunate to have you serving us as Minister of Procurement in these uncertain times.",
          "Kudos UPS!\n\n@UPS announced on 13th, its involvement & full support of distribution efforts for #PfizerBioNTech's #COVID19 vaccine as part of Operation #WarpSpeed. Deployments began after the federal mandate to distribute vaccines. https://pressroom.ups.com/pressroom/ContentDetailsViewer.page?ConceptType=PressReleases&id=1607744626467-683…\n#UPS #COVID19Vaccine",
          "Replying to @DrKatLiang\nI love some of the replies  \nhttps://twitter.com/giancarlolucia/status/1338547639294414849?s=19…",
          "Just watched @CapehartJ new #thesundayshow. @Maria_Hinojosa correctly stated that there were two deaths among the over 18000 recipients of the #PfizerBioNTech vaccine. However, there is no evidence that the vaccine caused the deaths.",
          "How much did the #fda get paid to approve this all of a sudden now? money makes the world go around. #vaccine #Pfizer #COVID19 #CovidVaccine #PfizerBioNTech",
          "#FDA Gives Guidance on Allergy, Pregnancy Concerns for #COVID Vaccine https://medscape.com/viewarticle/942557?src=soc_tw_share… via @medscape \n#COVID19 #PfizerBioNTech #pandemic #obgyntwitter $PFE #vaccine",
          "Replying to @cnnbrk\nJust a hunch: the distribution of this vaccine is going to be a major cluster f**k.",
          "#BREAKING - just in from @OHAOregon on #COVID19 #vaccine:\n-\"Legacy Health is the first registered COVID-19 vaccine provider in the state to receive the vaccine\"\n-Just under 2,000 doses of the #PfizerBioNTech vaccine arrived this morning.\n#LiveOnK2",
          "More than 1,000 Jackson employees have successfully received their first dose of the #PfizerBioNTech #COVID19 vaccine by 6:30 p.m. today. #JacksonStrong",
          "You're wrong: MALAYSIA has already pre-ordered #PfizerBioNTech #COVID19Vaccine (expected in 2021) plus is part of @WHO's #COVAX and is in China's list of free #CovidVaccine recipient countries: GET YOUR FACTS RIGHT!! \n#COVIDVaccineFacts",
          "\"Expect 145 sites across all the states to receive vaccine on Monday, another 425 sites on Tuesday,\" said the official in charge of the distribution.\n\nRead more: https://bit.ly/37WoZNH\n \n#PfizerBioNTech #COVID19 #vaccine #UnitedStates",
          "Covid Vaccinated!! @SCCM @HMethodistMD @Covid19Docs #vaccination #PfizerBioNTech #CoronaVaccine @pfizer @pfizer_news #Pfizer #CovidVaccine",
          "Replying to @DDNewslive @PIB_India and @airnewsalerts\nडायलिसिस डायरी :  संस्मरण - संस्करण 7 (भाग 2)\n\nपढ़ें  पेज से जुड़कर स्नेह दें \n#निवेदन  #लिंक : \nhttps://facebook.com/2200081763540202/posts/2786532588228447/?sfnsn=wiwspmo…",
          "Replying to @AnitaOakville @PattyHajdu and 4 others\ngood work MAA! ",
          "UPDATED: #YellowFever & #COVID19 #ImmunityPassports - Part Two\n\n#SARSCoV2 #PfizerBioNtech #Britain #December #Christmas #Europe #Australia #Canada #lockdown #VitaminD #winter #travel #tourism #privacy #Trending \n\nhttps://stopcommonpass.org/yellow-fever-covid19-immunity-passports-part-two/…",
          "For all the women and healthcare providers who have been asking about the safety of the #PfizerBioNTech #COVID19Vaccine in pregnant and breastfeeding women here is the recommendations from the #ACIP this morning",
          "#PfizerBioNTech COVID-19 vaccine being distributed; #ElectoralCollege formally casts votes today; #DetroitLions lost to GB; Cleveland MLB team to drop \"Indians\" name. Those stories & more at 7am via http://classicfox.com and 103.9 The Fox mobile app!",
          "Replying to @TyneHealth and @NTCouncilTeam\nGreat news so how do care home residents get there majority won’t be able too attend these sites and there carers they are first on list aren’t they",
          "Replying to @cnnbrk\nPfizer isn’t a part of operation warp speed",
          "The entire ingredients of the #Pfizervaccine: See, it’s just like your #BigMac with a splash of a #superpower to fight #COVID. #PfizerBioNTech #Vaccineswork #yayscience #CovidVaccine #COVID19 #ByeByeCOVID #vaccinehesitancy #vaccine",
          "Historical moment #FirstDose of the #PfizerBioNTech #COVID_19 #Vaccine administered at #UPMC @upmchealthbeat @ Pittsburgh, Pennsylvania https://instagram.com/p/CIyMrMRpVEf/?igshid=1jjtyf253182i…",
          "One of the first vaccines receivers in the US. Momentous for science. Hope has arrived.\n#COVID19 #CovidVaccine #VaccinesSaveLives #PfizerBioNTech #Pfizervaccine",
          "Replying to @Breaking911",
          "True question for #scientists:\n\nAs with many vaccines the #PfizerBioNTech vaccine needs to be given in 2 shots: a #prime, and a #boost (after 4 wks). Would a previous #COVIDinfection serve as a primer? It seems infection itself may not cause (long term) immunity?",
          "Replying to @Anaridis\nOh God. Not this foolishness again.",
          "First Pfizer coronavirus vaccine doses set to arrive at hospitals https://video.foxnews.com/v/6216118293001 #PfizerBioNTech #PfizerCovidVaccine #VaccinesWork @kilmeade @foxandfriends @nyulangone",
          "Had the first dose of my COVID vaccine today. We still have to wear PPE and still socially distant but at least we are on the way to being able to live with this awful disease! #CovidVaccine #PfizerBioNTech",
          "1st doses of #PfizerBioNTech's #COVID19 vaccine arrive in #Canada\n\nBy @helloryanjones\nhttps://cbc.ca/news/politics/first-doses-covid-19-vaccine-1.5839614…",
          "Are politicians #EssentialWorkers?  \n\n#COVID19 #PfizerBioNTech #CovidVaccine #VaccinesWork #ScienceMatters #HealthForAll #healthequity #CoronaVaccine",
          "#PfizerBioNTech #Vaccine hacked a few days ago\n\n#UsTreasury hack announced today. \n\nhttps://foxbusiness.com/technology/u-s-treasury-breached-by-hackers-backed-by-foreign-government-report…\n\nA whole lot of #hacking going on! #Infosec #CyberSecurity \n\nhttps://chron.com/news/article/EU-drug-regulator-hacked-data-on-COVID-19-15789016.php…",
          "The #FDA finally issues #EUA now comes the problem transporting this #PfizerBioNTech vaccine, needs to be kept at -70f and it can only be taken out of storage 4 times. Also you can still infect people after being #vaccinated",
          "It’s here. #Covid_19 #CovidVaccine  #PfizerBioNTech",
          "So incredibly grateful to have received the #PfizerBioNTech #CovidVaccine here @OSUWexMed!  Thanks to everyone who made this possible. #VaccinesWork #VaccinesSaveLives Hope that my colleagues, patients, & family will also have an opportunity to be vaccinated soon. Stay safe!",
          "Thrilled to receive my first dose of the Covid vaccine today. The vulnerable people I visit, support and work with in their own homes will be protected and that is so reassuring! It might be the tug that turns the tanker but at least the bugger is on the move! #PfizerBioNTech",
          "OHSU, Kaiser, St. Alphonsus Medical Center (in Ontario) are expected to get 975 doses each tomorrow.\n\n#LiveOnK2\n",
          "Replying to @AnitaOakville @PattyHajdu and 4 others\nCongratulations, job well done.",
          "Global coronavirus death toll reaches 1,611,637 #CoronavirusPandemic @WHO @Worldometers #PfizerBioNTech #PfizerCovidVaccine\nhttps://ilkha.com/english/health-life/global-coronavirus-death-toll-reaches-1-611-637-11055…",
          "How does the #Moderna #covidvaccine differ from the #PfizerBioNTech #vaccine? We answer this question and more in tonight's @TiaHealth medical segment! Catch us at 6PM! #healthnews #vaccination",
          "Trump announces #vaccine rollout 'in less than 24 hours'\n\nThe first Americans will be vaccinated against #coronavirus in the next 24hrs as the US last night authorised the #Pfizer/Biontech vaccine for emergency use -> http://buff.ly/37cTMqp\n\n#PfizerBioNTech #PfizerVaccine",
          "Replying to @JacksonHealth\n",
          "US HEALTH CARE WORKERS & MOST VULNERABLE TO RECEIVE THE PFIZER-BIONTECH SHOTS\nTrucks on Sunday began shipping millions of doses of Covid-19 vaccine in the United States, as part of the enormous logistics\n#US #HealthcareWorkers #Receive #Vaccines #PfizerBioNTech #DeathToll #Cases",
          "From Tuna #Fish To #COVID19 #Vaccine - How Container Freezers Used To Ship #Seafood Are Given A New Role - http://financetwitter.com/2020/12/from-tuna-fish-to-covid-19-vaccine-how-container-freezers-used-to-ship-seafood-are-given-a-new-role.html… #UnitedStates #Britain #Canada #Coronavirus #COVIDー19 #Pfizer #PfizerBioNTech #FDA #airlines #FedEx #UPS #transport #mRNA #Science #technology",
          "Two people in the United Kingdom have experienced an allergic reaction to the Pfizer/BioNTech COVID-19 vaccine.\nRead more https://bit.ly/3a4PHpY\n\n#VaccineReaction #PfizerBioNTech #Pfizer #BioNTech",
          "Concerned about the side effects of the #PfizerBioNTech #COVID19 vaccine?  Check out my recap ",
          "Replying to @yinonw\nChances are higher that one would die chocking on food than die due to covid.\nNobody skipps a single meal sue to choking risk but many stopped living alltogather due to covid. \nThink about it.",
          "US #COVID19 #Vaccine Shipments to 'Start Rolling' Sunday https://medscape.com/viewarticle/942556?src=soc_tw_share… via @medscape \n#OperationWarpSpeed #PfizerBioNTech #pandemic",
          "Boston health care workers dancing on the sidewalk to celebrate the arrival of the first  covid-19 vaccine.",
          "Approval for #Pfizer / #Biontech vaccine from FDA Advisory Board.\nLAST MINUTE NEWS: The US Food and Drug Administration (FDA) Advisory Board recommended that the Pfizer / Biontech vaccine given emergency use. #FDA #PfizerBioNTech #vaccination",
          "Considerations for the #COVID19Vaccine in Pregnant Women #ACIP\n",
          "Replying to @cnnbrk\nTRUMPVIRUS DEATH TOLL\n\nMar 1 - 1 Dead\n\nApril 1 – 6,460 Dead\n\nMay 1 – 67,044 Dead\n\nJune 1 – 109,509 Dead \n\nJuly 1 - 131,013 Dead\n\nAug 1 – 156,764  Dead\n\nSept 1 – 187,643 Dead\n\nOct 1 – 208,347 Dead\n\nNov 1 – 236,072 Dead\n\nNov 7 – 242,103 Dead\n\nDecember 12 302,762",
          "@JoeBiden @KamalaHarris Thanks to you both for bringing in fresh air, positivity and God’s hand and pushing us forward as we begin to crush this beast #PfizerBioNTech #pfizerproud #sciencewillwin #BidenHarris",
          "Salute to the #HealthcareHeroes who are risking their life everyday taking care of #COVID patients! May God give them strength! Help is on the way!\n#PfizerCovidVaccine \n#PfizerBioNTech",
          "And yes, odds of death for the elderly and at-risk is higher.... this is why our policies which try to prevent the healthy from being exposed has only shifts more of the burden to the elderly, and is therefore sadly responsible for more overall deaths.\n",
          "Replying to @cnnbrk\nI’ll be on the sidelines watching for the Zombie Apocalypse! ....",
          "#AstraZeneca to buy pharmaceutical firm #Alexion for $39 billion\n\n#COVID19vaccine #Pfizer #Pfizervaccine #PfizerBioNTech #PfizerCovidVaccine #astrazenecacovidvaccine #astrazenecacovid19vaccine",
          "What are the ingredients of Pfizer’s covid-19 vaccine? | MIT Technology Review #vaccination #CovidVaccine #Pfizer #Pfizervaccine #PfizerBioNTech",
          "Replying to @charlesadler and @RexChapman\nI don't believe it was a country. It was a worldwide network of researchers grinding the numbers and cleaning the glassware and posting the raw data to prevent duplication of work already done...my kind of new,world order..?",
          "Grossly unfair and absolutely inevitable - With First Dibs on Vaccines, Rich Countries Have ‘Cleared the Shelves’ https://nytimes.com/2020/12/15/us/coronavirus-vaccine-doses-reserved.html?smid=tw-share… #COVID19 #coronavirus #vaccine #Pfizer #BioNTech #PfizerBioNTech #Moderna #AstraZeneca #Oxford",
          "Hav genuine ? @ManCityCouncil is #Wythenshawe only place in #Manchester #southmanchester deliverin #covidvaccine #PfizerBioNTech #Pfizervaccine ?When will it made available 2 #Chorlton which has considerable number of over 80’s/homes/independent livin w’health issues @JoMidge?",
          "Replying to @yinonw\nThis is great stuff!",
          "More approvals to #PfizerBioNTech vaccine: #Singapore approves @pfizer #CovidVaccine, expects first shots by December-end.",
          "Replying to @sputnikvaccine and @AstraZeneca\nI wouldn’t trust a medical product from Russia. They poison political opponents.",
          "#Pfizervaccine #PfizerBioNTech\nWhy #Pfizer is NOT 100% transparent about it? #coronavirus #VaccinesWork #VaccinesSaveLives #VaccinoAntiCovid #Dubai\n#Toronto #emirates #SideEffect #allergies\nSource+Copyright- MIT Technology Review",
          "Politico.  December 13, 2020.  FDA's Hahn: Covid-19 vaccine authorization based in 'science and data'\nhttps://politico.com/news/2020/12/13/fdas-hahn-coronavirus-vaccine-approval-science-data-444854…\n#coronavirus #covid19 #coronavirusprevention #CoronaVirusUpdate #CoronavirusVaccine #COVID19Vaccine #PfizerBioNTech #business #technology #datascience",
          "Replying to @yinonw and @scientificecon\nYou are 18X more likely to have permanent heart damage and have 10X more odds of lung damage for every Covid death, among others. So, you may not die but become quite crippled too. I’d rather not take the risk. BTW, the side effects of vaccines seem to be pretty bad too...",
          "Coronavirus vaccine ships today, expect hospitals to be overwhelmed in nine  months  ...with baby deliveries  #COVID19 #vaccination #PfizerBioNTech #mondaythoughts",
          "Good heavens - you are too stupid to reason with even on a slow day. get a dummy for #pademics and slither away already. Give credit to #AngelaMerkel of German for supporting the #PfizerBioNTech #vaccine https://twitter.com/realDonaldTrump/status/1338263195941818370…",
          "Something interesting I learned during an interview with @b_kazaz today: \n\nThere's been a lot of chatter about how cold the #PfizerBioNTech vaccine must be kept. But many vaccines used for livestock around the world must be stored at -200 degrees, so this is nothing **too** new.",
          "Stand-up too trump as the COURTS, other Republicans in office have we wouldn't have 300k plus included in the #TrumpVirusDeathToll or the 16 million confirmed cases. Until #DiaperDon take RESPONSIBILITY for the Cases/Deaths he gets no credit for the VACCINE after all this is all\n",
          "Here are the lipids used in lipid nanoparticle used the #mRNA  BioNTech/Pfizer #PfizerBioNTech  #CovidVaccine The top two are patented by Acutias #Acuitas while 1,2-disteraoyl-sn-glycero-3-phosphocholine and cholesterol are \"natural\" lipids common in many products (and food). 1/3",
          "What a great day for our Country & the World! @realDonaldTrump is ONE DAY CLOSER to leaving @WhiteHouse. The first shipments of the #PfizerBioNTech Vaccines are rolling out, which means we are beginning the end of the #TrumpVirusCatastrophe. Imagine if @GOP had enough Courage too",
          "Replying to @ShafiAhmed5\n",
          "Replying to @cnnbrk\nPfizer wasn't part of operation warp speed",
          "operation to vaccinate begins. As early as today in the nation worst hit by the coronavirus, health care workers and nursing home residents will be among the first to receive the Pfizer-BioNTech shots. Officials said it will likely be months before all those who want it can be\n",
          "Phase 3 begins Dec 28, #PfizerBioNTech vaccine first to arrive in #singapore by end Dec, and shots to be free for all citizens and long-term residents. #COVID19",
          "Replying to @maha_kaissi @UR_Med and 2 others\nSO EXCITED FOR YOU. @2ShotsInTheArm",
          "Replying to @yinonw and @jhaskinscabrera\nTime to ban driving and swimming!",
          "#UnitedStates : The Federal Aviation Administration (FAA) said Saturday it had approved the use of the #PfizerBioNTech #COVID19 vaccine by pilots and air traffic controllers.",
          "#notwastingmyshot 4th person in #Charleston to get the #PfizerBioNTech #CovidVaccine @MUSChealth @ID_MUSC \n\nI feel great and am doing well! I am getting the #vaccine because it helps protect me from getting #COVID19.  I want to stay healthy and help prevent spread of coronavirus.",
          "Infections #worldwide\n-\n#UnitedStates : 220,575\n#Brazil : 43,279\n#Turkey : 30,805\n-\n#coronavirus #Corona #Covid_19 #Covid #COVID19 #vaccine #vaccination #pfizer #Pfizervaccine #PfizerBioNTech #BioNTech #lockdown #virus #China #Wuhan #WuhanVirus #WuhanCoronavirus #VirusCorona",
          "#NEW: @methodistdallas has received its first shipment of #PfizerBioNTech's #COVID19 vaccine. Front line healthcare workers are the first to get the shot. Parkland and UT-Southwestern in Dallas and Texas Health in Fort Worth receive shipments tomorrow.",
          "@L_MitchellODP, every aspect of the vaccination was really well planned and went on smoothly without any hiccups. Thank you and keep up the great work!\n",
          "I’ve never been so excited to get a vaccine \n\n#CovidVaccine #PfizerBioNTech #VaccinesSaveLives #VaccinesWork",
          "\"The Moderna vaccine does not need some of the extra special handling requirements of the one from Pfizer, including ultra-cold freezers,” PM Trudeau said. #covid19vaccine #coronavirusvaccine #moderna #canada #pfizerbiontech",
          "Replying to @cnnbrk\nWhen given the opportunity to purchase additional vaccine doses, Trump passed.\n \nAnd now, fewer Americans will be vaccinated before June.\n \nMake no mistake, Trump's incompetence will cost American lives. It already has.\n \nSo much for America first.",
          "Welp, thanks already aren't going quite as planned with the #PfizerBioNTech #CovidVaccine distribution.  These aren't frontline healthcare workers or nursing home residents.",
          "Wear a mask, wash your hands, and remain socially distant when possible. #stayhome #StayAtHome #StayAtHomeSaveLives #Corona #Covid #coronavirus #pfizer #Pfizervaccine #PfizerBioNTech #BioNTech",
          "Replying to @Samla_Green\nNice one Sam ",
          "MT @murray_nyc Five years ahead of schedule? It’s a pandemic! There was no pre-determined schedule. How about acknowledging #Germany for contributing hundreds of millions of dollars to finance the #PfizerBioNTech vaccine? #TrumpVirus #GOPComplicitTraitors  https://twitter.com/realDonaldTrump/status/1338263195941818370?s=20…",
          "Despite #Lebanon’s dire shortage of foreign exchange, the government expects to sign the $18 million deal for supplies of the #PfizerBioNTech vaccine this week, Health Minister Hamad Hassan told Reuters",
          "“Thanks for being here and help us share the news of this historic moment,” said Dr. @liliabbo.\n0:41379 views",
          "2.Who cannot get the Pfizer COVID Vaccine? \n\nUnder the current EUA - those younger than 16 years cannot get the vaccine.\n",
          "Replying to @tschwarzromond @EricTopol and 3 others\nWhile sovereign independence of assessments is critical to drug safety, the risk/benefit ratio here under emergency use given release of data & ,  and  approvals surely expedites matters? Unless procurement is in doubt.",
          "(ENG) NHS workers: 'Vaccine is a game changer' | #hopenews\n\n#NHSheroes #bbcnews #vaccine #Covid19UK #COVID19 #pandemic #Health #Immunity #PfizerBioNTech #Pfizer #BioNTech",
          "Replying to @AnitaOakville @PattyHajdu and 4 others\nLight at the end of a dark tunnel",
          "#UnitedStates—The first #Covid19 vaccines are going out!\n#CDC officially allows\n#PfizerBioNTech—#coronavirus\n#vaccine to be administered as\nshipments begin in #US\nHealth care workers & long-term\ncare facility residents be first in\nline to receive the shot",
          "All respect to due process but why not give approval now instead of the 29th of December. Surely multiple other countries approving it already is proof enough? #PfizerBioNTech #COVID19 https://rte.ie/news/coronavirus/2020/1212/1183952-covid-ireland/… via @rte",
          "The Vaccine rolled out this week in several countries, bringing hope and scepticism with it. \n\n#vaccine #PfizerBioNTech #Moderna #pandemic #COVID19 #coronavirus",
          "US President Donald Trump announced that the vaccine will be free for all Americans and has thanked all the scientists, doctors, and workers for the vaccine.\n\n#USPresident #DonaldTrump #FreeVaccine #Pfizer #PfizerCovidVaccine #PfizerBioNTech #Coronavirus #COVIDVaccine #MangoNews",
          "The #PfizerBioNTech #CovidVaccine will NOT effect or interact with a person's DNA. DNA are located in the nucleus of the cell, and NOTHING from the vaccine enters the nucleus.",
          "Excited to have received the first part of my #PfizerBioNTech #CovidVaccine today.Impressive resource mobilization on display @CooperHealthNJ leading to a smooth and efficient start to a historic mass vaccination effort.  @CooperNeuroRes @CooperGME @coopermedschool",
          "\"The first batch of doses of Pfizer-BioNTech’s COVID-19 vaccine have arrived in Canada,” PM Trudeau said on Twitter.\n#covid19vaccine, #coronavirusvaccine #pfizerbiontech",
          "Replying to @AnitaOakville @PattyHajdu and 4 others\nThank you for all the hard work you put into getting this shipment here for Canada.",
          "Turkey’s coronavirus death toll reaches 16,417 @drfahrettinkoca #CoronavirusPandemic #Turkey #PfizerBioNTech #Sinopharm\nhttps://ilkha.com/english/health-life/turkey-s-coronavirus-death-toll-reaches-16-417-11068…",
          "Thank you Thank you Thank you to all of the scientists who worked on the development of the vaccine for COVID-19. The first vaccines will be administered today in the US! This is the beginning of the end of the pandemic. #vaccine #Pfizer #PfizerCovidVaccine #PfizerBioNTech",
          "TV ad in 2030: “Did you receive the CV19 vaccine in 2020 or 2021? You are entitled to financial compensation.” #CovidVaccine #corona #COVID #Pfizervaccine #vaccination #PfizerBioNTech #FDA #COVID19Vaccine #Agenda21 #BioNTech",
          "Replying to @Dr_Dee_Kumar\nUnfortunately not recommended at the moment if breastfeeding",
          "Pfizer received emergency use authorization from the Food and Drug Administration for the Covid-19 vaccine developed in partnership with Germany’s BioNTech (BNTX), with trucks rolling out from Pfizer’s Kalamazoo, Michigan, production plant over the weekend #PfizerBioNTech #invest",
          "Received my first dose of the #CovidVaccine #PfizerBioNTech today. I feel very privileged & lucky to have this to protect me & enable me to feel safer delivering care to patients @LPTnhs @BradgateUnit @LPTOTBradgate. Thank you to all involved in #LLR",
          "US is all set to start its #COVID19  #vaccination  drive with the doses of #PfizerBioNTech  #vaccine that is ready to be delivered to hospitals. US comes in the top list of the worst-hit countries from #coronavirus  #pandemic \n\nRead Full Article Here",
          "#New Vaccination campaign begins today in Quebec. Residents at Maimonides will be among the first seniors in #Canada to receive the #PfizerBioNTech #CovidVaccine Quebec Health Min Christian Dubé & Dr. Richard Massé from Public Health will be speaking at 1pm. Photo: CityNews staff",
          "The agency also released new information for health care providers and for patients as the US shipped millions of doses of the vaccine across the country. \n\n#COVID19Vaccine #CoronaVaccine #Pfizervaccine #PfizerBioNTech",
          "Replying to @sputnikvaccine and @AstraZeneca\nAstraZeneca analiza combinar su vacuna con la “Sputnik V”:",
          "Replying to @sputnikvaccine and @AstraZeneca\n",
          "Facts are immutable, Senator, even when you're not ethically sturdy enough to acknowledge them. (1) You were born in Canada. (2) #PfizerBioNTech vaccine was developed in Germany.(3) Scientists behind it, Muslim Turkish immigrants to Germany #UgurSahin & #ÖzlemTüreci @RexChapman",
          "Interesting Watch: @CNN's @NewDay live coverage of the loading of #PfizerBioNTech's vaccine at the Pfizer plant at Portage, Michigan for @Fedex and aerial delivery to various US destinations. #FirstCovid19VaccineShipmentsLeavePfizerPlant",
          "In the year 2022, I will also proudly post a picture of when I eventually receive \"the covid vaccine\"\n#CryMyBelovedCountry #frontlineworkers #PfizerBioNTech",
          "\"mRNA vaccines teach our cells how to make a protein that will trigger an immune response without using the live virus that causes COVID-19. Once triggered, our body then makes antibodies.\"\n\nhttps://canada.ca/en/health-canada/services/drugs-health-products/covid19-industry/drugs-vaccines-treatments/vaccines/pfizer-biontech.html… #mRNA #Pfizer #PfizerBioNTech #Pfizervaccine #VaccinesSaveLives",
          "#vaccine #PfizerBioNTech #Oxford_AstraZeneca #BharatBiotech #SputnikV Most of the companies have submitted application for Emergency Use Authorization (EUA) to the Drugs Controller General of India (DCGI) in India. #DGCI",
          "U.S. expects to have immunized 100 million against #COVID-19 by end of March -Slaoui https://reut.rs/2Km4KB3 #Covid_19 #vaccine #Trump #Biden #Fauci #WhiteHouse #Washington #NewYork #health #pharma #bigpharma #biotech #Pfizer #PfizerBioNTech #Pfizervaccine #Moderna #AstraZeneca",
          "@ElsTorreele \n@kamarulbahrin\n",
          "Replying to @DrMarcSiegel @kilmeade and 2 others\nWhy are medical staff under 50 with no co-mordities getting the vaccine before people over 75 or in LTC?",
          "Have to agree: UK, US vaccinate with technology pioneered in 2 German, one US-Biotechs; US celebrates distribution of millions #PfizerBioNTech dosages; #EU still caught up in paperwork? @EricTopol @ewanbirney @jwoodgett @METorresPadilla @MatthiasTschop\nhttps://eu.freep.com/story/news/health/2020/12/13/pfizer-covid-19-vaccines-kalamazoo-michigan/6529215002/…",
          "Replying to @ShafiAhmed5\nCongrats!!!",
          "while deaths are closing in on the 300,000 mark... millions of people wait #PfizerBioNTech #Vaccine !\n-\nThe first US #COVID19Vaccine shipments will arrive at 145 locations around the country on Monday morning, #USArmy General Gus Perna said on #Saturday during a press briefing.",
          "For an in-depth look into its repercussions, read @_whitneywebb 's   \"Engineering Contagion\" investigative series here:\nEngineering Contagion - Investigative SeriesDuring the presidency of George H.W. Bush in the early 1990s, something disturbing unfolded at the U.S.’ top biological warfare research facility at Fort Detrick, Maryland. Specimens of highly...unlimitedhangout.com",
          "it is a bit sad to claim the fame for success of #vaccination on patriotic competition between USA, Canada, UK and EU.\nwe are in it together, we win it together. All those companies #PfizerBioNTech #Biontech #AstraZeneca #Moderna we can all be proud of modern science & technology",
          "Replying to @JacksonHealth\nGreat !!!!!",
          "Turkey’s death toll from COVID-19 rises to 16,881 @drfahrettinkoca #coronavirus #PfizerBioNTech #Sinovac\nhttps://ilkha.com/english/world/turkey-s-death-toll-from-covid-19-rises-to-16-881-11101…",
          "Replying to @KwakuAkyeampong @_AfricanUnion and 2 others\nOh so you have given Western Sahara to Morocco too? Hmmm",
          "COVID 19 Vaccination. Latest Update.\nhttps://youtu.be/XBVOE0-lLV4 \n@YouTube \n@YouTubeCreators @YouTubeTrends @YouTubeIndia @YouTubeTV \n#COVID19 \n#CovidVaccine \n#COVID \n#CoronaVaccine \n#Pfizervaccine \n#PfizerBioNTech \n#adarpoonawalla",
          "Kuwait authorizes emergency use of Pfizer-BioNTech COVID-19 vaccine\nFor all COVID news, visit: https://bit.ly/34606y8\nhttps://news.writecaliber.com/healthcare-kuwait-coronavirus-kuwait-authorizes-emergency-use-of-pfizer-biontech-covid-19-vaccine/…\n#Kuwait #PfizerBioNTech #CovidVaccine",
          "#Pfizervaccine is unlikely to be available in India for mass distribution. Read to find out why.\n\n#PfizerBioNTech #Pfizer #COVIDVaccine #Coronavirus #CoronaVaccine",
          "We're talking about HUMAN LIVES here!\n\nLet's not repeat the mistake of the past! #Dengvaxia jeopardized many lives of our children.\n\nIf #PfizerBioNTech is most suitable then, let's have it! Let's not settle for less!\n\nMany of our Kababayans are skeptical w/\nChina #Sinovac",
          "Replying to @cnnbrk\nMoney can buy FDA approvals quickly. Money can buy everything. ",
          "@CDCDirector Redfield has just signed off on this recommendation. #CDC Panel Recommends #Pfizer's #COVID19 #Vaccine for People 16 and Over https://medscape.com/viewarticle/942558?src=soc_tw_share… via @medscape \n#PfizerBioNTech $PFE #IDtwitter #MedTwitter",
          "The US public will start receiving the Pfizer/BioNTech coronavirus vaccine from Monday after it was authorised for emergency use https://colombogazette.com/2020/12/13/first-round-of-us-vaccinations-to-begin/… via @colombogazette #US #vaccine #PfizerBioNTech #coronavirus #COVID19 #Covid_19",
          "Odds of death from an actual covid infection if you are under 50 is somewhere between odds of death by sunstroke and electrocution/radiation.\n\nYou won't hear this from the mainstream media, but the numbers are based on the CDC and National Safety Council, and easy to calculate.",
          "Dr. Kathy Lofy says the vaccine will be a new tool in our tool box, and says she’ll also get vaccinated as soon as she’s eligible. \n\nAlso says she personally reviewed #PfizerBioNTech Phase 3 trial info, and fully agrees w/ FDA decision to approve #Q13FOX #COVID19",
          "The synthesis of the Acuitas lipids is described in the patent linked below. ALC-0315 seems to be lipid III-3 in this patent and if so, the synthesis proceeds in 3 steps as per below scheme.  2/3 https://patents.google.com/patent/WO2018081480A1/en…\n",
          "Privileged be offered the #PfizerBioNTech vaccine. I would encourage everyone to take it up. It’ll help protect people around you, yourself and squeeze out #COVID19. A huge thank you to our magnificent #NHS staff, @MattHancock, @Jesse_Norman (Kate Bingham), @AllanNixon",
          "First Vaccine Shots in the US\nWatch video at https://youtu.be/y2eHlKSufbE\n\n#FirstVaccineShots #COVID #COVID19 #pfizervacine #BioNTech #BioNTechVacine #Pfizer #PfizerBioNTech",
          "Before you say you WILL OR WON’T take Pfizer’s vaccine for COVID-19 Read the report. https://fda.gov/media/144245/download?fbclid=IwAR2B6GHvblDaAsbjEj7Y6N_iS7lWCyF8iBpaPNoJWqH8EyUpjwJl3I6d1GE… #Pfizer #BioNTech #PfizerBioNTech #vaccine #CovidVaccines #coronavirus #Pfizervaccine \n#COVID19",
          "IT HAPPENED!!!!!!!! I got my first dose of the #PfizerBioNTech vaccine today - THE BEST HOLIDAY PRESENT EVER!!! Also pretty stoked to be named “the most excited person we’ve vaccinated today”!  Thank you @UR_Med! @URMed_GCH @pfizer (Please enjoy my windswept hair of excitement)",
          "WATCH LIVE: @JacksonHealth System news conference on receiving its first shipment of the #PfizerBioNTech COVID-19 vaccine today.\nLIVE STREAM: https://cbsloc.al/2YKv7T6",
          "Members of the @teamsters delivered the first #COVID19Vaccine this morning\n#teamsters\n#UPS\n#COVID19 \n#Pfizer \n#Pfizervaccine \n#PfizerBioNTech",
          "\n",
          "Interesting and very detailed article showing up how a well tested #supplychain, with #sharedvisibility will help delivering #PfizerBioNTech #COVIDー19 vaccines in each US area.",
          "Both recipients were over 55. One person had a heart attack 62 days after dose 2 and died 3 days later. The second person died from atherosclerosis 3 days after the first dose. So, no clear causal relationship between vaccination and death.\n",
          "Replying to @ShafiAhmed5\nWell done! Looks like most of us will be waiting a couple of months till we get to the top of the list. Trusts appear to have a differing approach to vaccinating staff .. despite the same government directive.",
          "@CNN @fox7austin @KXAN_News @TheBeatWithAri anyone?\n",
          "Here we go! Grateful to be among the first group of vaccinated healthcare workers in Tampa/FL against #COVID19 \n\nhighlights:\n-  no live or attenuated virus strains \n- 2-part vaccination\n- 20,000 in trial with 0 fatalities\n- 95% efficacy\n\n#CovidVaccine #PfizerBioNTech",
          "UPS, FedEx Collaborate to Ship Pfizer-BioNTech COVID-19 Vaccines in US\nhttps://latestly.com/agency-news/world-news-ups-fedex-collaborate-to-ship-pfizer-biontech-covid-19-vaccines-in-us-2195745.html…\n#UPS #FedEx #PfizerBioNTech #PfizerCovidVaccine #COVID19Vaccine",
          "#USA to start #vaccination from today! It has according to latest figures maximum #coronavirus cases (over 16.7 million) and deaths ( last count 304,459). The #vaccination drive will start from today (Dec 14) with #PfizerBioNTech’s #vaccine. \n#COVID19Vaccine",
          " #FDA #PfizerBioNTech #OperationWarpSpeed #CoronaVaccine #grateful #COVID #Corona FDA approves Pfizer’s COVID-19 vaccine for emergency distribution in the US",
          "#CovidVaccine \n\nStates will start getting #COVID19Vaccine Monday, #US says \n#pakustv #NYC #Healthcare #GlobalGoals #PfizerBioNTech",
          "COVID-19 vaccines have safely departed out of Grand Rapids and are continuing their journey to their final destinations.\n",
          "Replying to @JacksonHealth\nPoor souls.",
          "#coronavirus #SputnikV #AstraZeneca #PfizerBioNTech #Moderna #Covid_19 Russian vaccine is created to last 2-4 years after vaccination & gives 96% protection guarantee. Pfizer, AZ, Moderna at max 4 months & huge allergic side effects. This means frequency of jab could kill you. https://twitter.com/elimeliandme/status/1337858199140118533…",
          "In further #Phase3 details from @sporeMOH attractions may start applying to the Singapore Tourism Board (STB) @VisitSingapore to increase operating capacity from 50% to up to 65%\nhttps://moh.gov.sg/news-highlights/details/moving-into-phase-three-of-re-opening…\n",
          "We know wearing a mask when around others, staying at least 6 feet away, avoiding crowds, and washing your hands prevent you from getting the virus, but how can getting the COVID-19 vaccine help?\n\n#COVID19  #Pfizer #PfizerBioNTech  #CDC #maskupwisconsin #StopTheSpreadOfCOVID19",
          "The end is in sight, many of my coworkers and I are getting our first doses of the #PfizerBioNTech #CovidVaccine today. But as Dr. Milani at @OchsnerHealth emphasizes, stay #vigilant, #MaskUp, do your part and protect your community. #Covid_19 We can end this!",
          "Does this vaccine mean that I’m gonna have to eventually wear a proper bra again or are we all in agreement that underwires are the devil and sports bras are the way forward? #Pfizervaccine #CoronaVaccine #AstraZeneca #PfizerBioNTech #COVID19Vaccine #workingfromhome",
          "#COVID19, Sunday morning, 12/13/2020:\n\nConfirmed cases 16,563,650\nDeaths 305,144\n\nAs the #PfizerVaccine rolls out of Michigan, #WhinyLittleBitch #Trump continues his #TantrumTweets about his #Election loss & threatening vetos. What does this model for #Americans?\n\n#38Days",
          "The US public will start receiving the Pfizer/BioNTech coronavirus vaccine from Monday after it was authorised for emergency use https://colombogazette.com/2020/12/13/first-round-of-us-vaccinations-to-begin/… via @colombogazette #US #vaccine #PfizerBioNTech #coronavirus #COVID19 #Covid_19",
          "#AnitaQuidangen, a personal support worker in #Toronto, became one of the first people in #Canada to receive a #COVID19  #Vaccine on Dec. 14, 2020. 0:44\n1st doses of #PfizerBioNTech COVID-19 vaccine in Canada given in Toronto, #Quebec City",
          "#Singapore approves the #PfizerBioNTech #COVID-19 #vaccine \nFirst shipment expected by end-December \n\n#coronavirus #COVID19 #CoronaVaccine #Pfizer #BioNTech",
          "#COVID #PfizerBioNTech #vaccine  #Pennsylvania\nNursing homes in Pennsylvania prepare for COVID-19 vaccine distribution https://msnbc.com/yasmin-vossoughian/watch/nursing-homes-in-pennsylvania-prepare-for-covid-19-vaccine-distribution-97661509725… via @msnbc",
          "With several countries including the US and the UK now approving the use of #PfizerBioNTech's #COVID19Vaccine, #cybercriminals have sensed an opportunity to lure people into buying fake remedies on the dark web, said a report from #cybersecurity firm Check Point.",
          "If science is same everywhere so should be it's results. Entire world should approve vaccine which one country has approved and started using doesn't it makes sense #WHO role have been very wierd, unprofessional and suspicious in this entire pandemic..#vaccine #PfizerBioNTech",
          "Replying to @PSampathkumarMD and @VincentRK\nDo you think there will be enough Pfizer and Moderna doses to get to the high risk chronically ill and the elderly? I’m worried we won’t have enough vaccine to get to us in this first quarter. Then what? Need hope.",
          "Coronavirus: Iran reports 8,201 new cases, 221 deaths in the last 24 hours #Iran #coronavirus #PfizerBioNTech #CovidVaccine\n\nhttps://ilkha.com/english/world/coronavirus-iran-reports-8-201-new-cases-221-deaths-in-the-last-24-hours-11051…",
          "Such a great feeling. A big thank you to all the healthcare professionals; scientists, nurses, doctors, caregivers. #COVID19 #CovidVaccine #PfizerBioNTech #Pfizervaccine",
          "Vaccine!! Anyone?? #covid #Pfizervaccine #PfizerBioNTech",
          "More #HealthcareHeroes from Jackson North Medical Center getting their #COVID19 #PfizerBioNTech vaccine today.",
          "What we can learn from the victory over #Polio\nA good refresher on how polio came to an end. \nLet's not forget #VaccinesWork\n#PfizerBioNTech \n#COVID19",
          "Answers to questions about #COVID #vaccination  https://npr.org/sections/health-shots/2020/12/12/945288710/what-you-need-to-know-as-the-first-covid-19-vaccine-heads-your-way… #vaccine #Covid_19 #healthcare #health #pandemic #FDA #CDC #Pfizer #PfizerCovidVaccine #PfizerBioNTech #PfizerBiotech #Immunity #OperationWarpSpeed #Moderna #rtitbot @Retweet_Lyfe @BlazedRTs",
          "Had my Covid-19 Vaccination, doing my bit helping to save the human race.\nMega sore arm today as expected  small price to pay. Don't want coronavirus a second time.\n#CovidVaccine #Covid19UK #COVID19Vaccine #PfizerBioNTech",
          "Presenting you the top Medical News/Advancement of the past week you don't want to miss!\n\n#docnosofficial #covid19 #covidcount #pfizeruk #pfizervaccine #pfizerbiontech #spinesurgery #spinesurgeryrecovery #yellowfever #medicalnews #healthcare #docnos",
          "Replying to @charlesadler and @RexChapman\n",
          "#INBOX | @GovParsonMO says shipments of the #PfizerBioNTech vaccine will continue to ship to Missouri’s 21 vaccination sites throughout this week. These sites are hospitals and health care facilities. #moleg",
          "Pregnant women may likewise choose to get the vaccine after discussion with her HCP. Need to consider risks and benefits, local COVID19 transmission, personal risk of contracting the virus etc.\n",
          "Replying to @kfdmnews and @THEPAIGEREPORT1\nSeriously.",
          "Replying to @charlesadler and @RexChapman\nThe sad fact is that Canadian conservatives think these guys are a model to emulate. Lets get back to our progressive conservative roots.",
          "Our MD Dr Susannah Thompson pulling out all the stops leading a magnificent team of NHS staff & volunteers tonight as the 1st site in #NorthTyneside goes live to deliver the #PfizerBioNTech vaccine to >80 yr old residents in 1st wave of community #CovidVaccination @NTCouncilTeam",
          "It is coming. Vaccine will be here soon! So excited... #CovidVaccine #covid19 #Pfizervaccine #PfizerBioNTech #maskup",
          "That’s indeed a sight of relief \n\nThe #Saudi health minister @tfrabiah showcased a sample of #PfizerBioNTech vaccine during the state budget press conference, confirming first shipment of the #coronavirus vaccines have already arrived to the Kingdom few hours ago.",
          "With numbers likely to get worse over the holidays, the #vaccine is offering a bright spot in the fight against the #pandemic that's killed nearly 300,000 #Americans.\n#Pfizer #Pfizervaccine #PfizerBioNTech \n@pfizer",
          "The @pfizer-@BioNTech_Group vaccines are now in our U.S. network, and we’ll be delivering them to their destinations soon.  https://fedex.com/en-us/coronavirus/stories.html…",
          "Singapore's plan to tackle #COVID19\nhas been really effective.  \nEarly in pandemic,more than $1 bn was set aside for advanced purchase of vaccine candidates.\n#PfizerBioNTech to be the first vaccine approved by Singapore Health Sciences Authority. Shipment to arrive by Dec end.",
          "US says COVID-19 vaccine to start arriving in states Monday http://wtsp.com/article/news/health/coronavirus/vaccine/covid-19-vaccine-monday/507-ff6d9923-5f64-4429-9251-1a0309ed8444… via @10TampaBay  #Pfizervaccine #Pfizer #PfizerBioNTech #Vaccine #vaccines",
          "Pharmacists are essential for easing patient concerns about the safety of COVID-19 vaccines such as the Pfizer/BioNTech vaccine, a global health expert says in a C+D podcast\n#PfizerBioNTech @OksanaPyzikUCL\n\nhttps://chemistanddruggist.co.uk/feature/academic-pharmacists-critical-easing-covid-19-vaccine-concerns…",
          "Health #Canada has warned people allergic to any of the ingredients in the #PfizerBioNTech #COVID19 vaccine not to receive it.",
          "#Iran has told the World Health Organization it does not intend to import the #PfizerBioNTech Covid-19 #vaccine because it does not have the means to transport it, a health official said on Saturday. This is because the vaccine must be kept at minus-70 degrees. \n #COVID19 #WHO",
          "The announcement comes after federal authorities granted the Pfizer vaccine emergency use authorization.\n\nRead more: http://Oigetit.com\n\n#FDAAuthorized #PfizerBioNTech\n\nVideo credit: @Independent",
          "The first shipments of the #PfizerBioNTech #Covid_19 vaccine will begin arriving in #US states from Monday, an official of President @realDonaldTrump 's administration said.",
          "Delighted that @US_FDA approved vaccine for emergency use.\n",
          "Trump announces #vaccine rollout 'in less than 24 hours'\n\nThe first Americans will be vaccinated against #coronavirus in the next 24hrs as the US last night authorised the #Pfizer/#Biontech vaccine for emergency use -> https://cityam.com/trump-announces-vaccine-rollout-in-less-than-24-hours/…\n\n#PfizerBioNTech #PfizerVaccine",
          "Canada will be receiving up to 200,000 more doses of the #PfizerBioNTech vaccine next week & potentially up to 168,000 #Moderna vaccine doses by the end of year. This means thousands more ians will be vaccinated by the end of December 2020. http://ctv.news/8kj747E via @CTVNews",
          "Replying to @Anaridis\nLove this ",
          "Replying to @charlesadler and @RexChapman\nI remember when he ran for president. I kept saying he's going to have to answer to his Canadian heritage as he wouldn't be illegible anyways. \n\nOh and yeah, pesky facts like that don't exist in his world.",
          "Doses of Pfizer’s Covid-19 vaccines will arrive at 145 US sites on Monday, Operation Warp Speed official says https://cnn.it/3qTPf4a",
          "#BreakingNews A nurse in New York City on Monday became the first person in the United States to receive the coronavirus vaccine, receiving the #PfizerBioNTech shot live on television. (AFP)",
          "Hey @pfizer with respect to your #CovidVaccine, say someone gets vaccinated and builds antibodies, can they donate blood for convalescent plasma treatment of others? #COVID19 #Pfizervaccine #PfizerBioNTech",
          "#Singapore Approves Pfizer #COVID19 Vaccine, First Shipment Expected by End of #December, Says PM Lee Hsien Loong\n#PfizerBioNTech #Pfizervaccine @leehsienloong",
          "Boxes containing the first shipment of the Pfizer-BioNTech #COVID19 #vaccine are prepared to be sent at the #Pfizer Global Supply Kalamazoo manufacturing plant : Morry Gash, Pool #PfizerBioNTech #Pfizervaccine",
          "#UgurSahin #ozlemtureci the #Muslim Scientists Husband-Wife are saving the world with their #PfizerBioNTech #PfizerCovidVaccine #PfizerBiotech #Pfizervaccine #PfizerProud",
          "Replying to @Anaridis and @ScottKirsner\nHow do they have time for this?",
          "What kind of #America will he leave behind?\n-\n#Trump #DonaldTrump #JoeBiden #NewYork #Washington #WhiteHouse #WashingtonDC #HateSpeech #BlackLivesMatter #racism #UnitedStates #MeToo #COVID19 #PoliceBrutality #PoliceViolence #FDA #Pfizer #PfizerBioNTech #vaccine #USA #KamalaHarris",
          "#Singapore became on Monday the first Asian country to approve #PfizerBioNTech's #CoronavirusVaccine and said it expects to start receiving shots by the end of the year",
          "Replying to @AnitaOakville @PattyHajdu and 4 others\nThank you for the organization and foresight that made this arrival happen. @JustinTrudeau",
          "While the world has been on the wrong side of history this year, hopefully, the biggest vaccination effort we've ever known will put us back on the right one https://nbcnews.com/news/us-news/first-trucks-covid-19-vaccine-roll-out-pfizer-plant-michigan-n1251037… @DohaMadani #covid19 #supplychain #logistics #vaccine #unitedstates #pandemic #pfizerbiontech",
          "Replying to @charlesadler and @RexChapman\nPsst... we don't want him back.",
          "Doses of the #PfizerBioNTech vaccine will begin leaving the company's factory in #Kalamazoo #Michigan on Sunday.\nThe #US is seeking to inoculate 20 million people in the first month.\nRead more:",
          "Replying to @charlesadler and @RexChapman\nWell said Charles. Ted Cruz and his ilk have made it very difficult to be a person who is both progressive and conservative.",
          "Tragedy. Another life taken by corporate greed and the evil pharmaceutical companies. #vaccination #vaccine #CovidVaccine #Pfizer #PfizerBioNTech #modernavaccine https://twitter.com/MajorPatriot/status/1339219266906763267…",
          "@AFP #UPDATE The #PfizerBioNTech #Covid-19 vaccine began leaving the company's #Michigan factory on Sunday, set to be injected into the arms of millions of the most vulnerable Americans as the global death toll topped 1.6 million http://u.afp.com/UZZM",
          "This is excellent news!  Our great President Trump and his administration have pushed to get this vaccine ready quickly and have been prepared long in advance to distribute it to the public and that glorious day has now come.  Simply amazing.  \n#PfizerBioNTech",
          "So pleased to get my #PfizerBioNTech #Covid_19 vaccine just now!  \nIt is so important that as many people as possible get vaccinated. Hopefully this is the beginning of the end and 2021 can be better for all of us",
          "Welcoming the 1st #COVID19vaccines to  tonight!\n\nThe 1st 30K doses of #PfizerBioNTech are arriving across the country tonight & tomorrow  initial deliveries of ’s 20M doses of this vaccine.\n\nWhile we have a long way to go, this marks the beginning of our bridge to recovery.",
          "Turkey’s death toll from COVID-19 rises to 16,881 @drfahrettinkoca #coronavirus #PfizerBioNTech #Sinovac\nhttps://ilkha.com/english/world/turkey-s-death-toll-from-covid-19-rises-to-16-881-11101…",
          "Over the weekend, the #FAA issued guidance for pilots following use of the new #PfizerBioNTech #vaccine for #COVID19, generally permitting their ability to fly after a brief waiting period. #flying #pilots",
          "Replying to @AnitaOakville @PattyHajdu and 4 others\nCongratulations - best news ever!!",
          "COVID-19 Vaccine Update: Initial Doses of Pfizer Coronavirus Vaccine in US to Begin from Tomorrow\nhttps://latestly.com/agency-news/world-news-initial-doses-of-pfizer-covid-19-vaccine-in-us-to-begin-from-monday-2195638.html…\n#COVID19Vaccine #PfizerBioNTech #US",
          "#TwitterPoll: DYK: the #UK, #Bahrain, #Canada & the #USA are among the first nations to approve the #PfizerBioNTech #Covid19 #vaccine . \n\nIf a #vaccination is free & accessible where you live, will you plan to get #vaccinated?",
          "“I’m just honored to be one of the first getting vaccinated. Protect yourself and protect your loved ones by getting the vaccine,” said Dr. @liliabbo, chief of infection prevention and infectious diseases at @JacksonHealth. #PfizerBioNTech",
          "@ManchesterHCC @Dr_PWright @GMSCNews @GM_HSC @GMEC_SCN @doctormkumar @ManCityCouncil @AndyBurnhamGM important day for GM. Can’t stress enough the importance of Covid -19 vaccine #CovidVaccines #PfizerBioNTech #Covid_19 #staysafe",
          "Replying to @AnitaOakville @PattyHajdu and 4 others\nNice",
          "Replying to @Anaridis\nMust be tough in their 24/7 battle to find time for nonsense.",
          "After 10 months and 3 weeks since its first case, finally some relief for Uncle Sam. Vaccination starts Monday. #Pfizervaccine #BioNTech #PfizerBioNTech",
          "This little vial carries so much.\n\nto all the scientists who worked tirelessly to get this out. \n\n#vaccinated #PfizerBioNTech",
          "Replying to @yinonw\nWhat a 130,000+ COVID-19 deaths looks like . . . ",
          "Replying to @FlyingMagazine\nWell. How about driving? New excuse for teachers not to go to work.",
          "Replying to @CurtisSChin\nYes",
          "Replying to @charlesadler and @RexChapman\n@tedcruz this sums up your 'Dear Leaders\" ignoring and dereliction of duty in his response to Covid:",
          "New PODCAST: Vaccinating Our Way Out of the Pandemic\n@larrybrilliant, @PeterHotez & @RaySuarezNews discuss the #PfizerBioNTech, other promising vaccines in the pipeline & what it will take to end the pandemic. https://apple.co/37cNozy",
          "The trump administration failed to deliver on vaccine promises, *shocker* #COVIDIOTS #coronavirus #CovidVaccine #PfizerBioNTech"
         ],
         "legendgroup": "",
         "marker": {
          "color": "#636efa",
          "symbol": "circle"
         },
         "mode": "markers",
         "name": "",
         "orientation": "v",
         "showlegend": false,
         "type": "scatter",
         "x": [
          11.527336120605469,
          -12.255906105041504,
          9.90284252166748,
          -0.36086225509643555,
          7.1022844314575195,
          -16.30927848815918,
          3.964254379272461,
          -4.03701639175415,
          -15.27589225769043,
          3.407210350036621,
          12.65735149383545,
          4.553953647613525,
          2.359009027481079,
          14.461408615112305,
          12.492061614990234,
          0.4293166399002075,
          -2.5152463912963867,
          -10.288491249084473,
          -0.8358949422836304,
          15.170799255371094,
          4.5412983894348145,
          -18.062467575073242,
          6.997128009796143,
          5.8471879959106445,
          1.6606764793395996,
          9.895976066589355,
          11.062865257263184,
          -14.244482040405273,
          -3.9408929347991943,
          3.8522050380706787,
          3.563232421875,
          15.6105318069458,
          -15.200409889221191,
          -0.7514269948005676,
          -7.697871208190918,
          -1.2538214921951294,
          -1.4187573194503784,
          -5.593956470489502,
          -8.074629783630371,
          -16.136476516723633,
          2.90507173538208,
          -3.4443182945251465,
          -15.293405532836914,
          2.705173969268799,
          -9.92416000366211,
          10.558682441711426,
          11.159947395324707,
          12.585610389709473,
          -18.87051010131836,
          0.5685402154922485,
          -5.008791923522949,
          0.867188572883606,
          6.367315769195557,
          -4.399383068084717,
          -15.273175239562988,
          12.904809951782227,
          3.491105318069458,
          -3.2417855262756348,
          -6.667593479156494,
          -9.45390510559082,
          -4.952744483947754,
          -6.010817050933838,
          3.9159674644470215,
          -3.507309913635254,
          -0.19323933124542236,
          8.182367324829102,
          -3.835298776626587,
          14.611374855041504,
          6.487916469573975,
          3.9995999336242676,
          15.856271743774414,
          -13.697005271911621,
          5.2927165031433105,
          6.611968517303467,
          -18.021535873413086,
          -17.412790298461914,
          -12.681295394897461,
          -21.068071365356445,
          -11.351786613464355,
          -17.489316940307617,
          11.395170211791992,
          -15.09610366821289,
          12.46194839477539,
          6.452019214630127,
          11.690637588500977,
          3.5799386501312256,
          1.0414410829544067,
          -15.47008228302002,
          -6.634194850921631,
          -11.77840805053711,
          -14.975592613220215,
          -14.418548583984375,
          7.1382222175598145,
          2.868907928466797,
          -4.3775224685668945,
          -10.806663513183594,
          7.655593395233154,
          -16.59255599975586,
          -8.519489288330078,
          0.35664939880371094,
          2.3669207096099854,
          -10.346572875976562,
          9.073391914367676,
          19.353748321533203,
          10.465689659118652,
          12.852423667907715,
          0.10894161462783813,
          -17.416046142578125,
          -13.8893461227417,
          -2.4593284130096436,
          7.996319770812988,
          8.387687683105469,
          1.877643346786499,
          -20.312150955200195,
          2.4911282062530518,
          5.923657417297363,
          4.894176959991455,
          -13.980666160583496,
          4.8594279289245605,
          -16.61982536315918,
          17.1076602935791,
          4.049957275390625,
          12.342751502990723,
          -4.019614219665527,
          0.6119022965431213,
          7.874996662139893,
          1.1189004182815552,
          3.5809967517852783,
          4.2104573249816895,
          13.738027572631836,
          -13.437828063964844,
          -14.461063385009766,
          3.860137462615967,
          18.784927368164062,
          -11.4620361328125,
          8.626818656921387,
          -1.5417530536651611,
          3.7870264053344727,
          2.805232048034668,
          -13.707771301269531,
          11.592401504516602,
          -8.046550750732422,
          5.219482898712158,
          7.9887847900390625,
          -13.408839225769043,
          -5.377416610717773,
          -0.027300922200083733,
          -12.649262428283691,
          -10.99604606628418,
          -18.022329330444336,
          2.9546544551849365,
          -7.659358978271484,
          -2.7225077152252197,
          3.0957729816436768,
          -15.577268600463867,
          12.327505111694336,
          -16.552003860473633,
          -3.3577678203582764,
          -0.36106356978416443,
          -12.855538368225098,
          16.64095687866211,
          -7.286838054656982,
          6.876906871795654,
          -8.260771751403809,
          -2.4579145908355713,
          -5.876811981201172,
          -17.129154205322266,
          -20.34517478942871,
          19.7851505279541,
          12.59831714630127,
          -15.458342552185059,
          -15.931601524353027,
          9.902617454528809,
          1.4849742650985718,
          -0.8610920310020447,
          8.408979415893555,
          -1.503530502319336,
          5.792243480682373,
          16.892541885375977,
          -8.376965522766113,
          1.6716704368591309,
          -0.6618831157684326,
          -15.016730308532715,
          -6.624404430389404,
          2.6105947494506836,
          -16.572612762451172,
          9.56577205657959,
          3.970804452896118,
          -3.68821382522583,
          -13.512123107910156,
          15.5430326461792,
          -4.286517143249512,
          16.760757446289062,
          18.041236877441406,
          5.286150932312012,
          2.9146008491516113,
          12.445289611816406,
          -11.581547737121582,
          -15.096141815185547,
          4.767253875732422,
          0.16227367520332336,
          7.495168209075928,
          6.219747543334961,
          3.852938413619995,
          17.166780471801758,
          20.218765258789062,
          1.482988953590393,
          -16.135700225830078,
          -16.177541732788086,
          -8.37711238861084,
          8.076655387878418,
          5.166782855987549,
          4.285556793212891,
          5.354960918426514,
          -1.2730287313461304,
          -18.523828506469727,
          -11.212711334228516,
          -4.645789623260498,
          -16.968048095703125,
          11.204582214355469,
          -8.332805633544922,
          -5.150706768035889,
          -11.19006633758545,
          -14.738359451293945,
          -12.675068855285645,
          0.09378542006015778,
          6.950903415679932,
          9.73282527923584,
          -4.389520168304443,
          0.03544802963733673,
          1.8090773820877075,
          16.939781188964844,
          -13.25563907623291,
          1.7334022521972656,
          -2.499295234680176,
          0.5204184055328369,
          5.269834995269775,
          2.944868803024292,
          7.76282262802124,
          7.426585674285889,
          2.936680793762207,
          -21.068103790283203,
          9.227729797363281,
          -10.614630699157715,
          -11.258118629455566,
          -19.999692916870117,
          2.8220388889312744,
          7.552752494812012,
          18.156648635864258,
          5.257457733154297,
          11.693976402282715,
          14.699503898620605,
          -11.618025779724121,
          16.677289962768555,
          -12.388484954833984,
          -1.7889682054519653,
          2.29927134513855,
          7.959552764892578,
          11.248600959777832,
          16.940004348754883,
          11.630709648132324,
          13.193499565124512,
          6.029468536376953,
          0.9284403324127197,
          -3.4851999282836914,
          -9.657479286193848,
          -15.166244506835938,
          0.08857632428407669,
          2.517369508743286,
          7.012113571166992,
          -3.586691379547119,
          -1.1644998788833618,
          0.8945679664611816,
          -1.6421964168548584,
          -14.261868476867676,
          13.512104034423828,
          9.883169174194336,
          -16.552160263061523,
          -11.340365409851074,
          -0.1091219037771225,
          6.225127696990967,
          16.034582138061523,
          -6.163129806518555,
          14.05686092376709,
          14.27101993560791,
          13.948058128356934,
          1.5351831912994385,
          2.869126796722412,
          2.879070997238159,
          5.5008320808410645,
          11.926626205444336,
          7.07710075378418,
          18.75624656677246,
          13.9492769241333,
          -16.420143127441406,
          -10.828908920288086,
          13.180233001708984,
          18.535987854003906,
          1.43754243850708,
          12.551167488098145,
          8.967510223388672,
          -5.191612243652344,
          -15.656859397888184,
          -7.130014419555664,
          14.097380638122559,
          -11.635281562805176,
          -5.0381855964660645,
          -13.549973487854004,
          10.125665664672852,
          -12.194228172302246,
          -5.829802513122559,
          9.750005722045898,
          7.267271041870117,
          6.1093244552612305,
          10.945415496826172,
          -14.738363265991211,
          10.066652297973633,
          -14.168294906616211,
          16.41945457458496,
          9.541688919067383,
          5.841315269470215,
          -1.3757295608520508,
          -13.724020957946777,
          -15.997174263000488,
          9.09129810333252,
          9.256826400756836,
          -14.49319839477539,
          -16.70452308654785,
          -14.997237205505371,
          -12.296072006225586,
          -6.1717023849487305,
          -6.8742547035217285
         ],
         "xaxis": "x",
         "y": [
          7.4542927742004395,
          -20.203378677368164,
          15.75873851776123,
          7.618659973144531,
          2.3149454593658447,
          -18.962556838989258,
          1.8691380023956299,
          -2.2221691608428955,
          -1.4596787691116333,
          -8.79492473602295,
          13.036759376525879,
          4.7165632247924805,
          6.528013229370117,
          -5.442648887634277,
          -0.589695155620575,
          18.44338607788086,
          0.2527998387813568,
          -2.886007785797119,
          -3.589005708694458,
          4.944906711578369,
          -8.819326400756836,
          -22.04652976989746,
          -5.926095962524414,
          9.131223678588867,
          -5.164927005767822,
          2.604827404022217,
          5.940975189208984,
          -20.674110412597656,
          -4.615581512451172,
          5.944483757019043,
          -6.939943313598633,
          1.9059149026870728,
          -10.7476806640625,
          2.1706464290618896,
          4.18261194229126,
          12.233373641967773,
          -8.851609230041504,
          -0.8987782001495361,
          -18.811071395874023,
          -15.573380470275879,
          -3.1916580200195312,
          15.75300407409668,
          -14.161568641662598,
          1.5420953035354614,
          -16.232891082763672,
          -0.14252671599388123,
          -8.62378978729248,
          13.462508201599121,
          -15.063776969909668,
          5.652220249176025,
          10.26610279083252,
          -0.9025530219078064,
          -2.4454004764556885,
          5.878390789031982,
          -1.45494544506073,
          1.216583251953125,
          -7.8857808113098145,
          0.942297637462616,
          -3.6990907192230225,
          6.626387119293213,
          -7.410269737243652,
          11.25394344329834,
          -14.575577735900879,
          15.981947898864746,
          9.861738204956055,
          -13.097031593322754,
          8.583070755004883,
          4.9393229484558105,
          13.515206336975098,
          -0.3971205949783325,
          9.786916732788086,
          -13.916240692138672,
          11.60568904876709,
          12.9624662399292,
          2.315195083618164,
          -22.27522850036621,
          -16.947717666625977,
          -7.0497612953186035,
          -22.05488395690918,
          -12.24247932434082,
          5.2421793937683105,
          11.646834373474121,
          2.8495354652404785,
          9.510917663574219,
          0.8473424911499023,
          9.263565063476562,
          9.367258071899414,
          -16.736812591552734,
          -3.689835786819458,
          -7.883089542388916,
          -21.897130966186523,
          -14.80970573425293,
          -0.9822593927383423,
          10.40229606628418,
          1.9415991306304932,
          -21.07198715209961,
          6.846729278564453,
          -19.80729103088379,
          3.567939519882202,
          12.371634483337402,
          8.542186737060547,
          -3.143512487411499,
          -0.11894107609987259,
          8.827360153198242,
          10.100005149841309,
          4.622774124145508,
          0.020142629742622375,
          -14.88895320892334,
          -19.63582420349121,
          2.7901527881622314,
          -12.848873138427734,
          0.7075497508049011,
          -11.49273681640625,
          -12.626259803771973,
          2.8492019176483154,
          -0.10570771247148514,
          -1.445598840713501,
          -15.967581748962402,
          7.282064914703369,
          -12.24155330657959,
          5.204379081726074,
          -4.489097595214844,
          0.43891584873199463,
          0.4243553876876831,
          17.816957473754883,
          4.6534104347229,
          -1.1333800554275513,
          -6.105170726776123,
          -4.393860816955566,
          7.5618672370910645,
          -20.085296630859375,
          12.304920196533203,
          3.3437089920043945,
          3.88858962059021,
          -16.876689910888672,
          3.3651418685913086,
          4.693548202514648,
          8.346870422363281,
          6.934348106384277,
          6.663080215454102,
          4.534462928771973,
          15.23065185546875,
          13.807072639465332,
          -12.187422752380371,
          11.82558822631836,
          -10.14797306060791,
          -5.868387222290039,
          4.5751495361328125,
          -4.543626308441162,
          2.3155689239501953,
          3.6191203594207764,
          7.032509803771973,
          9.962474822998047,
          -10.710479736328125,
          -17.5049991607666,
          12.358501434326172,
          -3.4638028144836426,
          15.376120567321777,
          7.618788719177246,
          5.541233539581299,
          1.1042448282241821,
          9.380106925964355,
          3.982818126678467,
          -0.45306268334388733,
          6.856328010559082,
          -7.02871561050415,
          -16.821212768554688,
          -12.60173225402832,
          2.9397244453430176,
          10.322805404663086,
          -20.399126052856445,
          -10.426727294921875,
          15.736248016357422,
          -3.7230117321014404,
          0.37048134207725525,
          -0.9520490169525146,
          -10.244617462158203,
          -5.124747276306152,
          -2.470978021621704,
          0.36234599351882935,
          -9.935905456542969,
          -1.5613797903060913,
          -18.693368911743164,
          9.122302055358887,
          13.422735214233398,
          -22.141971588134766,
          -1.8445053100585938,
          15.24892807006836,
          -1.078279972076416,
          -18.70203399658203,
          2.728038787841797,
          12.128030776977539,
          -0.1437617838382721,
          -0.9381549954414368,
          5.804267883300781,
          -6.214653015136719,
          0.3528520166873932,
          -20.846572875976562,
          11.646848678588867,
          -1.7134569883346558,
          3.5026867389678955,
          -13.986771583557129,
          13.716565132141113,
          -7.175413608551025,
          2.2544243335723877,
          1.2019438743591309,
          1.7227747440338135,
          -4.250019550323486,
          -4.187675952911377,
          9.923741340637207,
          1.9518165588378906,
          -3.368231773376465,
          5.675948143005371,
          15.41492748260498,
          2.3906948566436768,
          -17.707197189331055,
          2.3158915042877197,
          9.731791496276855,
          -17.36197280883789,
          2.3640105724334717,
          6.329353332519531,
          8.392114639282227,
          -17.49581527709961,
          10.254988670349121,
          -23.358766555786133,
          0.20580944418907166,
          11.744690895080566,
          10.94032096862793,
          4.253039836883545,
          13.30222225189209,
          6.396235466003418,
          4.239799499511719,
          6.0399489402771,
          4.954520225524902,
          6.854895114898682,
          -7.566978931427002,
          -0.3509591519832611,
          6.239846229553223,
          -4.459911823272705,
          0.593124270439148,
          -2.0063180923461914,
          -7.04953145980835,
          6.179069519042969,
          3.9016201496124268,
          1.0021381378173828,
          -15.319916725158691,
          -3.7154617309570312,
          6.8877177238464355,
          2.043644428253174,
          10.885167121887207,
          -4.302771091461182,
          -1.3008897304534912,
          -16.62188720703125,
          8.210514068603516,
          0.263913631439209,
          -1.2294631004333496,
          -8.636458396911621,
          -7.925596714019775,
          -4.9349775314331055,
          4.2397990226745605,
          -1.5794620513916016,
          11.833861351013184,
          2.128568172454834,
          17.301719665527344,
          10.571861267089844,
          1.4540220499038696,
          12.847671508789062,
          -5.570830345153809,
          0.002110315253958106,
          -0.7287008762359619,
          -7.518420219421387,
          2.8372318744659424,
          -3.062211513519287,
          -5.328245639801025,
          -14.383512496948242,
          -2.9712884426116943,
          -12.496442794799805,
          -14.481425285339355,
          -11.894787788391113,
          -8.594090461730957,
          -3.2299869060516357,
          5.784951210021973,
          3.4942896366119385,
          5.769034385681152,
          10.58759880065918,
          2.529346227645874,
          7.706188678741455,
          10.402294158935547,
          11.833197593688965,
          13.16814136505127,
          3.457383632659912,
          14.586526870727539,
          3.896137237548828,
          0.11627015471458435,
          -18.751256942749023,
          -11.518223762512207,
          3.7587857246398926,
          5.793739318847656,
          -6.9704132080078125,
          11.998138427734375,
          2.6543776988983154,
          -10.2255859375,
          -12.687495231628418,
          -7.187164783477783,
          12.562070846557617,
          -21.707687377929688,
          4.229912757873535,
          -12.753947257995605,
          4.117599964141846,
          -11.822638511657715,
          5.091869831085205,
          3.827833652496338,
          -3.630530595779419,
          -4.093161106109619,
          1.3414398431777954,
          10.25502872467041,
          16.645723342895508,
          -20.771238327026367,
          3.348371982574463,
          8.848406791687012,
          -6.273538112640381,
          -3.3097147941589355,
          -19.30322265625,
          -12.546438217163086,
          -5.638386249542236,
          -3.4778871536254883,
          8.812822341918945,
          -10.371060371398926,
          -15.706598281860352,
          -13.559330940246582,
          2.7803969383239746,
          0.705134391784668
         ],
         "yaxis": "y"
        }
       ],
       "layout": {
        "legend": {
         "tracegroupgap": 0
        },
        "margin": {
         "t": 60
        },
        "template": {
         "data": {
          "bar": [
           {
            "error_x": {
             "color": "#2a3f5f"
            },
            "error_y": {
             "color": "#2a3f5f"
            },
            "marker": {
             "line": {
              "color": "#E5ECF6",
              "width": 0.5
             },
             "pattern": {
              "fillmode": "overlay",
              "size": 10,
              "solidity": 0.2
             }
            },
            "type": "bar"
           }
          ],
          "barpolar": [
           {
            "marker": {
             "line": {
              "color": "#E5ECF6",
              "width": 0.5
             },
             "pattern": {
              "fillmode": "overlay",
              "size": 10,
              "solidity": 0.2
             }
            },
            "type": "barpolar"
           }
          ],
          "carpet": [
           {
            "aaxis": {
             "endlinecolor": "#2a3f5f",
             "gridcolor": "white",
             "linecolor": "white",
             "minorgridcolor": "white",
             "startlinecolor": "#2a3f5f"
            },
            "baxis": {
             "endlinecolor": "#2a3f5f",
             "gridcolor": "white",
             "linecolor": "white",
             "minorgridcolor": "white",
             "startlinecolor": "#2a3f5f"
            },
            "type": "carpet"
           }
          ],
          "choropleth": [
           {
            "colorbar": {
             "outlinewidth": 0,
             "ticks": ""
            },
            "type": "choropleth"
           }
          ],
          "contour": [
           {
            "colorbar": {
             "outlinewidth": 0,
             "ticks": ""
            },
            "colorscale": [
             [
              0,
              "#0d0887"
             ],
             [
              0.1111111111111111,
              "#46039f"
             ],
             [
              0.2222222222222222,
              "#7201a8"
             ],
             [
              0.3333333333333333,
              "#9c179e"
             ],
             [
              0.4444444444444444,
              "#bd3786"
             ],
             [
              0.5555555555555556,
              "#d8576b"
             ],
             [
              0.6666666666666666,
              "#ed7953"
             ],
             [
              0.7777777777777778,
              "#fb9f3a"
             ],
             [
              0.8888888888888888,
              "#fdca26"
             ],
             [
              1,
              "#f0f921"
             ]
            ],
            "type": "contour"
           }
          ],
          "contourcarpet": [
           {
            "colorbar": {
             "outlinewidth": 0,
             "ticks": ""
            },
            "type": "contourcarpet"
           }
          ],
          "heatmap": [
           {
            "colorbar": {
             "outlinewidth": 0,
             "ticks": ""
            },
            "colorscale": [
             [
              0,
              "#0d0887"
             ],
             [
              0.1111111111111111,
              "#46039f"
             ],
             [
              0.2222222222222222,
              "#7201a8"
             ],
             [
              0.3333333333333333,
              "#9c179e"
             ],
             [
              0.4444444444444444,
              "#bd3786"
             ],
             [
              0.5555555555555556,
              "#d8576b"
             ],
             [
              0.6666666666666666,
              "#ed7953"
             ],
             [
              0.7777777777777778,
              "#fb9f3a"
             ],
             [
              0.8888888888888888,
              "#fdca26"
             ],
             [
              1,
              "#f0f921"
             ]
            ],
            "type": "heatmap"
           }
          ],
          "heatmapgl": [
           {
            "colorbar": {
             "outlinewidth": 0,
             "ticks": ""
            },
            "colorscale": [
             [
              0,
              "#0d0887"
             ],
             [
              0.1111111111111111,
              "#46039f"
             ],
             [
              0.2222222222222222,
              "#7201a8"
             ],
             [
              0.3333333333333333,
              "#9c179e"
             ],
             [
              0.4444444444444444,
              "#bd3786"
             ],
             [
              0.5555555555555556,
              "#d8576b"
             ],
             [
              0.6666666666666666,
              "#ed7953"
             ],
             [
              0.7777777777777778,
              "#fb9f3a"
             ],
             [
              0.8888888888888888,
              "#fdca26"
             ],
             [
              1,
              "#f0f921"
             ]
            ],
            "type": "heatmapgl"
           }
          ],
          "histogram": [
           {
            "marker": {
             "pattern": {
              "fillmode": "overlay",
              "size": 10,
              "solidity": 0.2
             }
            },
            "type": "histogram"
           }
          ],
          "histogram2d": [
           {
            "colorbar": {
             "outlinewidth": 0,
             "ticks": ""
            },
            "colorscale": [
             [
              0,
              "#0d0887"
             ],
             [
              0.1111111111111111,
              "#46039f"
             ],
             [
              0.2222222222222222,
              "#7201a8"
             ],
             [
              0.3333333333333333,
              "#9c179e"
             ],
             [
              0.4444444444444444,
              "#bd3786"
             ],
             [
              0.5555555555555556,
              "#d8576b"
             ],
             [
              0.6666666666666666,
              "#ed7953"
             ],
             [
              0.7777777777777778,
              "#fb9f3a"
             ],
             [
              0.8888888888888888,
              "#fdca26"
             ],
             [
              1,
              "#f0f921"
             ]
            ],
            "type": "histogram2d"
           }
          ],
          "histogram2dcontour": [
           {
            "colorbar": {
             "outlinewidth": 0,
             "ticks": ""
            },
            "colorscale": [
             [
              0,
              "#0d0887"
             ],
             [
              0.1111111111111111,
              "#46039f"
             ],
             [
              0.2222222222222222,
              "#7201a8"
             ],
             [
              0.3333333333333333,
              "#9c179e"
             ],
             [
              0.4444444444444444,
              "#bd3786"
             ],
             [
              0.5555555555555556,
              "#d8576b"
             ],
             [
              0.6666666666666666,
              "#ed7953"
             ],
             [
              0.7777777777777778,
              "#fb9f3a"
             ],
             [
              0.8888888888888888,
              "#fdca26"
             ],
             [
              1,
              "#f0f921"
             ]
            ],
            "type": "histogram2dcontour"
           }
          ],
          "mesh3d": [
           {
            "colorbar": {
             "outlinewidth": 0,
             "ticks": ""
            },
            "type": "mesh3d"
           }
          ],
          "parcoords": [
           {
            "line": {
             "colorbar": {
              "outlinewidth": 0,
              "ticks": ""
             }
            },
            "type": "parcoords"
           }
          ],
          "pie": [
           {
            "automargin": true,
            "type": "pie"
           }
          ],
          "scatter": [
           {
            "marker": {
             "colorbar": {
              "outlinewidth": 0,
              "ticks": ""
             }
            },
            "type": "scatter"
           }
          ],
          "scatter3d": [
           {
            "line": {
             "colorbar": {
              "outlinewidth": 0,
              "ticks": ""
             }
            },
            "marker": {
             "colorbar": {
              "outlinewidth": 0,
              "ticks": ""
             }
            },
            "type": "scatter3d"
           }
          ],
          "scattercarpet": [
           {
            "marker": {
             "colorbar": {
              "outlinewidth": 0,
              "ticks": ""
             }
            },
            "type": "scattercarpet"
           }
          ],
          "scattergeo": [
           {
            "marker": {
             "colorbar": {
              "outlinewidth": 0,
              "ticks": ""
             }
            },
            "type": "scattergeo"
           }
          ],
          "scattergl": [
           {
            "marker": {
             "colorbar": {
              "outlinewidth": 0,
              "ticks": ""
             }
            },
            "type": "scattergl"
           }
          ],
          "scattermapbox": [
           {
            "marker": {
             "colorbar": {
              "outlinewidth": 0,
              "ticks": ""
             }
            },
            "type": "scattermapbox"
           }
          ],
          "scatterpolar": [
           {
            "marker": {
             "colorbar": {
              "outlinewidth": 0,
              "ticks": ""
             }
            },
            "type": "scatterpolar"
           }
          ],
          "scatterpolargl": [
           {
            "marker": {
             "colorbar": {
              "outlinewidth": 0,
              "ticks": ""
             }
            },
            "type": "scatterpolargl"
           }
          ],
          "scatterternary": [
           {
            "marker": {
             "colorbar": {
              "outlinewidth": 0,
              "ticks": ""
             }
            },
            "type": "scatterternary"
           }
          ],
          "surface": [
           {
            "colorbar": {
             "outlinewidth": 0,
             "ticks": ""
            },
            "colorscale": [
             [
              0,
              "#0d0887"
             ],
             [
              0.1111111111111111,
              "#46039f"
             ],
             [
              0.2222222222222222,
              "#7201a8"
             ],
             [
              0.3333333333333333,
              "#9c179e"
             ],
             [
              0.4444444444444444,
              "#bd3786"
             ],
             [
              0.5555555555555556,
              "#d8576b"
             ],
             [
              0.6666666666666666,
              "#ed7953"
             ],
             [
              0.7777777777777778,
              "#fb9f3a"
             ],
             [
              0.8888888888888888,
              "#fdca26"
             ],
             [
              1,
              "#f0f921"
             ]
            ],
            "type": "surface"
           }
          ],
          "table": [
           {
            "cells": {
             "fill": {
              "color": "#EBF0F8"
             },
             "line": {
              "color": "white"
             }
            },
            "header": {
             "fill": {
              "color": "#C8D4E3"
             },
             "line": {
              "color": "white"
             }
            },
            "type": "table"
           }
          ]
         },
         "layout": {
          "annotationdefaults": {
           "arrowcolor": "#2a3f5f",
           "arrowhead": 0,
           "arrowwidth": 1
          },
          "autotypenumbers": "strict",
          "coloraxis": {
           "colorbar": {
            "outlinewidth": 0,
            "ticks": ""
           }
          },
          "colorscale": {
           "diverging": [
            [
             0,
             "#8e0152"
            ],
            [
             0.1,
             "#c51b7d"
            ],
            [
             0.2,
             "#de77ae"
            ],
            [
             0.3,
             "#f1b6da"
            ],
            [
             0.4,
             "#fde0ef"
            ],
            [
             0.5,
             "#f7f7f7"
            ],
            [
             0.6,
             "#e6f5d0"
            ],
            [
             0.7,
             "#b8e186"
            ],
            [
             0.8,
             "#7fbc41"
            ],
            [
             0.9,
             "#4d9221"
            ],
            [
             1,
             "#276419"
            ]
           ],
           "sequential": [
            [
             0,
             "#0d0887"
            ],
            [
             0.1111111111111111,
             "#46039f"
            ],
            [
             0.2222222222222222,
             "#7201a8"
            ],
            [
             0.3333333333333333,
             "#9c179e"
            ],
            [
             0.4444444444444444,
             "#bd3786"
            ],
            [
             0.5555555555555556,
             "#d8576b"
            ],
            [
             0.6666666666666666,
             "#ed7953"
            ],
            [
             0.7777777777777778,
             "#fb9f3a"
            ],
            [
             0.8888888888888888,
             "#fdca26"
            ],
            [
             1,
             "#f0f921"
            ]
           ],
           "sequentialminus": [
            [
             0,
             "#0d0887"
            ],
            [
             0.1111111111111111,
             "#46039f"
            ],
            [
             0.2222222222222222,
             "#7201a8"
            ],
            [
             0.3333333333333333,
             "#9c179e"
            ],
            [
             0.4444444444444444,
             "#bd3786"
            ],
            [
             0.5555555555555556,
             "#d8576b"
            ],
            [
             0.6666666666666666,
             "#ed7953"
            ],
            [
             0.7777777777777778,
             "#fb9f3a"
            ],
            [
             0.8888888888888888,
             "#fdca26"
            ],
            [
             1,
             "#f0f921"
            ]
           ]
          },
          "colorway": [
           "#636efa",
           "#EF553B",
           "#00cc96",
           "#ab63fa",
           "#FFA15A",
           "#19d3f3",
           "#FF6692",
           "#B6E880",
           "#FF97FF",
           "#FECB52"
          ],
          "font": {
           "color": "#2a3f5f"
          },
          "geo": {
           "bgcolor": "white",
           "lakecolor": "white",
           "landcolor": "#E5ECF6",
           "showlakes": true,
           "showland": true,
           "subunitcolor": "white"
          },
          "hoverlabel": {
           "align": "left"
          },
          "hovermode": "closest",
          "mapbox": {
           "style": "light"
          },
          "paper_bgcolor": "white",
          "plot_bgcolor": "#E5ECF6",
          "polar": {
           "angularaxis": {
            "gridcolor": "white",
            "linecolor": "white",
            "ticks": ""
           },
           "bgcolor": "#E5ECF6",
           "radialaxis": {
            "gridcolor": "white",
            "linecolor": "white",
            "ticks": ""
           }
          },
          "scene": {
           "xaxis": {
            "backgroundcolor": "#E5ECF6",
            "gridcolor": "white",
            "gridwidth": 2,
            "linecolor": "white",
            "showbackground": true,
            "ticks": "",
            "zerolinecolor": "white"
           },
           "yaxis": {
            "backgroundcolor": "#E5ECF6",
            "gridcolor": "white",
            "gridwidth": 2,
            "linecolor": "white",
            "showbackground": true,
            "ticks": "",
            "zerolinecolor": "white"
           },
           "zaxis": {
            "backgroundcolor": "#E5ECF6",
            "gridcolor": "white",
            "gridwidth": 2,
            "linecolor": "white",
            "showbackground": true,
            "ticks": "",
            "zerolinecolor": "white"
           }
          },
          "shapedefaults": {
           "line": {
            "color": "#2a3f5f"
           }
          },
          "ternary": {
           "aaxis": {
            "gridcolor": "white",
            "linecolor": "white",
            "ticks": ""
           },
           "baxis": {
            "gridcolor": "white",
            "linecolor": "white",
            "ticks": ""
           },
           "bgcolor": "#E5ECF6",
           "caxis": {
            "gridcolor": "white",
            "linecolor": "white",
            "ticks": ""
           }
          },
          "title": {
           "x": 0.05
          },
          "xaxis": {
           "automargin": true,
           "gridcolor": "white",
           "linecolor": "white",
           "ticks": "",
           "title": {
            "standoff": 15
           },
           "zerolinecolor": "white",
           "zerolinewidth": 2
          },
          "yaxis": {
           "automargin": true,
           "gridcolor": "white",
           "linecolor": "white",
           "ticks": "",
           "title": {
            "standoff": 15
           },
           "zerolinecolor": "white",
           "zerolinewidth": 2
          }
         }
        },
        "xaxis": {
         "anchor": "y",
         "domain": [
          0,
          1
         ],
         "title": {
          "text": "x"
         }
        },
        "yaxis": {
         "anchor": "x",
         "domain": [
          0,
          1
         ],
         "title": {
          "text": "y"
         }
        }
       }
      },
      "text/html": [
       "<div>                            <div id=\"a27c3acf-aa47-4157-ad47-379b968899b5\" class=\"plotly-graph-div\" style=\"height:525px; width:100%;\"></div>            <script type=\"text/javascript\">                require([\"plotly\"], function(Plotly) {                    window.PLOTLYENV=window.PLOTLYENV || {};                                    if (document.getElementById(\"a27c3acf-aa47-4157-ad47-379b968899b5\")) {                    Plotly.newPlot(                        \"a27c3acf-aa47-4157-ad47-379b968899b5\",                        [{\"hovertemplate\":\"<b>%{hovertext}</b><br><br>x=%{x}<br>y=%{y}<extra></extra>\",\"hovertext\":[\"Supplier Fosun Pharma will be making an initial payment of \\u20ac125 mil by year-end for 50 million doses. #FMTNews #China #Vaccine #Covid19 #PfizerBioNTech\",\"Replying to @AnitaOakville @PattyHajdu and 4 others\\nphoto-op? don't slow the shipment....\",\"#UnitedStates : The Federal Aviation Administration (FAA) said Saturday it had approved the use of the #PfizerBioNTech #COVID19 vaccine by pilots and air traffic controllers. \\n@PIB_India @airnewsalerts\",\"Politico.  December 13, 2020.  FDA's Hahn: Covid-19 vaccine authorization based in 'science and data'\\nhttps://politico.com/news/2020/12/13/fdas-hahn-coronavirus-vaccine-approval-science-data-444854\\u2026\\n#coronavirus #covid19 #coronavirusprevention #CoronaVirusUpdate #CoronavirusVaccine #COVID19Vaccine #PfizerBioNTech #business #technology #datascience\",\"KFDM\\u2019s/FOX 4\\u2019s @THEPAIGEREPORT1 is at Baptist hospital getting a first hand look at where the Pfizer COVID-19 vaccines will be stored.\\n\\nTune into KFDM and FOX 4 news to find out how the hospital is preparing. #COVID19 #Vaccine #PfizerBioNTech\",\"Replying to @Anaridis and @Joyce_Karam\\nThis brings such a big smile to my face. I love it.\",\"In case anyone is interested here is a link to the #PfizerBioNTech #COVID19Vaccine patient information that is on the @US_FDA site. \\n\\nThis should be given to every patient who receives the vaccine https://fda.gov/media/144414/download\\u2026\",\"Ok I might be late to discovering this but... both #PfizerBioNTech  and #Moderna #COVID19 vaccines are being led by WOMEN @KizzyPhD @drkatherinjansen Women saving the world y\\u2019all! \",\"#SputnikV uses 2 different human adenoviral vectors for 2 vaccine shots to ensure that immunity to the 1st does not make the 2nd less effective. We offered @AstraZeneca to use one of our vectors so they can also have two vectors in their vaccine. AZ confirmed.\",\"No.1 of 2 done.\\n\\n#ThankYouNHS @NHSuk @MHRAgovuk and #PfizerBioNTech @pfizer for making the #CovidVaccine dream possible and come to fruition so soon in the UK. #HopeForTheFuture @TeamNUH @NUH_AcuteMed\",\"Singapore approves Pfizer vaccine , becomes first south East Asian country to approve the vaccine. Doses will be given from end of December #Singapore #Covid_19 #CovidVaccine #PfizerBioNTech\",\"How the #PfizerBioNTech Vaccine Works?\\nThis article made a detailed explanation.\\nhttps://nytimes.com/interactive/2020/health/pfizer-biontech-covid-19-vaccine.html\\u2026\\n\\n#COVID19 #CovidVaccine #vaccines #coronavirus #CoronaVaccine #SARSCoV2 #cellbiology #mRNA #biology #biotech #biotechnology\",\"The Advisory Committee on Immunization Practices\\u2019 Interim Recommendation for Use of Pfizer-BioNTech COVID-19 Vaccine \\u2014 United States, December 2020\\nvia @CDCgov @CDCMMWR this afternoon.\\n\\nhttps://cdc.gov/mmwr/volumes/69/wr/mm6950e2.htm?s_cid=mm6950e2_w\\u2026 \\n#COVID19Vaccine #Pfizer #PfizerBioNTech #covid19pandemic\",\"What an apt name: #Portage, Michigan!  #PfizerPlant\\n\",\"Toronto to receive Ontario's 1st doses of Pfizer COVID-19 vaccine today\\nhttps://indiablooms.com/world-details/USN/27188/toronto-to-receive-ontario-s-1st-doses-of-pfizer-covid-19-vaccine-today.html\\u2026\\n#Ontario #PfizerBioNTech #COVID19Vaccine #Toronto #FirstDose\",\"#APT29 aka #CozyBear hacker group suspected of hacking #PfizerBioNTech #IP and now federal agencies like U.S. Treasury Department, potentially spying on emails for months. \\n\\n#Infosec #CyberSecurity https://lnkd.in/g62qMiE\",\"Vaccines save lives  Hopefully HCW can assuage public fear and anxiety regarding this vaccine  so we can finally move forward #VaccinesSaveLives \\n#CovidVaccines #PfizerBioNTech \\n\\n**Coronavirus Update 116: Pfizer COVID 19 Vaccine Explained**\",\"Replying to @cnnbrk\\nGood luck with this experimental \\u201cvaccin\\u201d \",\"Excited about tomorrow \\nSo honoured to be part to this exciting team administering in primary care #Covid_19 #Covid19UK #PfizerBioNTech #BioNTech #CovidVaccine #teamGp #gp #COVID19Vaccine #primarycare #vaccination #Rcgp\",\"The #USA government is prepping millions of doses of the #PfizerBioNTech coronavirus #vaccine for shipment to sites across the nation in support of what may be the most ambitious immunization program in history.\\n\\n https://bit.ly/3nqxWFI\",\"Getting my first dose of the #PfizerBioNTech #CovidVaccine next weekend and seeing this #UNBOXING just made it so real. Are my hopes for this set too high?#OperationWarpSpeed\",\"Replying to @Anaridis and @devincole\\nDr. Blue Suit has been waiting months to show off those moves. Where\\u2019s his extended remix?\",\"Can\\u2019t wait to take my kids towards herd immunity   \\n#vaccines #PfizerBioNTech\",\"Pfizer-BioNTech COVID-19 Vaccine: Donald Trump, Mike Pence & Top US Officials to be Offered Early Access to Newly Approved Vaccine: https://latestly.com/world/pfizer-biontech-covid-19-vaccine-donald-trump-mike-pence-top-us-officials-to-be-offered-early-access-to-newly-approved-vaccine-2196957.html\\u2026 #coronavirus #Covid_19 @realDonaldTrump @VP @WhiteHouse #PfizerBioNTech\",\"Today I was lucky enough to get vaccinated against #COVID19. I did it not just for myself, but for my patients, my friends and family, and my community. When the vaccine becomes more widely available, I'd urge you to do the same!\\n#CovidVaccines #PfizerBioNTech #Thankful\",\"Sunday evening\\u2019s shipment is the first of an initial 30,000 doses of the Pfizer vaccine to be spread across 14 distribution centres. #COVID19AB #vaccine #pandemic #PHAC #PfizerBioNTech\",\"The first few million #PfizerBioNtech #vaccines have arrived in the US after a last-minute #emergencyauthorization last Friday. \\n\\nWill we see #risk #assets rising at the cost of #dollar early in the week today or will #investors wait for #jabs to begin first?\",\"Replying to @AnitaOakville @PattyHajdu and 4 others\\nWoo hoo!  Best news! \",\"\\\"The [temperature] issue with BioNtech/Pfizer - yes, it's challenging. But we know how to do it\\\".\\n\",\"This vaccine is special because it triggers an immune response without using the actual virus that causes covid-19.\\n https://edmonton.ctvnews.ca/mobile/how-the-pfizer-biontech-covid-19-vaccine-works-health-canada-1.5232525\\u2026 #pfizer #pfizerbiontech #covid19ab #pfizervaccine\",\"I am beyond relieved to share that I\\u2019ll be among the first to receive the #CovidVaccine from #PfizerBioNTech. Thank you @DrFNA for helping to make this possible by participating in a Phase 3 trial. Thank you also, for sharing your experience. #KnowledgeIsPower #TheMoreYouKnow\",\"The first trucks loaded with Pfizer\\u2019s coronavirus shot pulled out of a Michigan warehouse early Sunday \\u2014 starting the biggest vaccination effort in American history\\n\\n#Michigan #Pfizer #PfizerBioNTech #CovidVaccine  \\n\\nhttps://realtalktime.com/pfizer-covid-vaccine-portage-michigan/\\u2026\",\"Replying to @yinonw and @jhaskinscabrera\\nThat's why those people should just be living their lives.  And focused protection for the elderly.\",\"Will you be taking the COVID-19 vaccine once available to you? #COVID19 #Pfizer #BioNTech #vaccine #PfizerBioNTech #mRNA #AstraZeneca #coronavirus #usa #Canada #vaccination #CoronaVaccine #pandemic #Biden #trump #OperationWarpSpeed #CovidVaccines #Quarantine #antivaxxers #cdnpol\",\"This mandated anthrax vaccine killed 35k US soldiers* and maimed  many more, at about 2% serious adverse reactions rate. #PfizerBioNTech \\u2018s info quotes a 4% grade 3 rate! \\n\\nWatch the compelling testimonials of US & U.K. military an see for yourselves: https://t.co/k2uZDHIlxq\",\"\\u2066@AvgerinosMoscow\\u2069 #PfizerBioNTech #FDA approval Apprentice Style!\\n\\u2066@realDonaldTrump\\u2069: \\u201cApprove the #vaccine or you\\u2019re fired!\\u201d\\nNow that\\u2019s science!\",\"Building on last week\\u2019s \\u2018trial\\u2019 run and extending our vaccination  programme this week . So much effort going on behind the scenes . Trainers  tomorrow team #teampharmacy #lovemyjob #PfizerBioNTech @cab5554 @tracyr09 @Cymraes_Lois @OwenBerwyn\",\"Pfizer-BioNTech\\u2019s COVID19 vaccine is also urgently needed for Africa: #Ghana, #Nigeria, #Egypt, #SouthAfrica & rest of Africa \\nBy @KwakuAkyeampong \\n\\nRetweet\\n\\n#Pfizer #Pfizervaccine #PfizerCovidVaccine #PfizerBioNTech #PfizerBiotech @_AfricanUnion @CNNAfrica @ReutersAfrica #Africa\",\"Replying to @katie_crowfoot @LPTnhs and 2 others\\nGood luck, hope it works and the side effects aren't too bad\",\"Replying to @770CHQR\\nTruly defines, trickling in ....\",\"@UTSWNews starting the COVID vaccination program today. Socially distanced staff patiently waiting. #CovidVaccine #Covid_19 #PfizerBioNTech\",\"#Pfizervaccine #PfizerBioNTech WHAT'S IN THIS #vaccine? Why #Pfizer is NOT 100% transparent about it? \\n#coronavirus #VaccinesWork #VaccinesSaveLives #VaccinoAntiCovid #Dubai\\n#Toronto #emirates #SideEffect #allergies\\nSource+Copyright- MIT Technology Review\",\"Replying to @DrMarcSiegel @EricShawnTV and @ArthelNeville\\nSaid the person pretending to be a scientist as they send the tweet dressed in their pajamas from their mothers basement\",\"I love high quality infographics for getting across multiple ideas quickly \\n\\nHere is an excellent set from The Factivists on @Instagram (not on @Twitter) on the #PfizerBioNTech #vaccine\\n\\nhttps://instagram.com/p/CIorEb6no34/?igshid=74fkf2c2vldh\\u2026\\n\\n#Covid19UK #COVID19 #CovidVaccine #mRNA #DocsforVax #MedTwitter\",\"@HeartOTXHeartMD\\n\",\"The first COVID-19 vaccine doses have arrived in Oregon.  \\n\\nWatch #MorningsontheDove from 6am -9am tomorrow for details. \\n\\n#COVID19Vaccine #PfizerBioNTech #theDove #theDoveTV #theDoveRadio #theDoveNewsroom #Faith #hope #encouragment #affirmation #PNW #Oregon\",\"POTUS Donald Trump declared months ago the military would be rolling out distribution and he was scoffed for it.  He was completely right.  Now, it\\u2019s History.\\n\",\"Singapore approves @pfizer @BioNTech_Group  vaccine for local use. Vaccine safe to use on people aged 16 and above, and first batch of #PfizerBioNTech vaccine will arrive by end of December.\",\"Replying to @cnnbrk\\n@YOUCEFB45681191\",\"Per the CDC, persons with HIV and other immunocompromising conditions may still receive the COVID-19 vaccine unless otherwise contraindicated. #PfizerBioNTech #MedTwitter\",\"Anyone wondering why day after #PfizerBioNTech approval in the UK people were getting vaccinated but all we are told this point in US and #NewYork is it will happen in \\u201cnext few days\\u201d #CovidVaccine\",\"Half way there #COVID19 #CovidVaccine #vaccination #Pfizervaccine #PfizerBioNTech\",\"The hospital I work at has received the vaccine. Our IV room made the first five doses to be given in the state. I\\u2019m ready for this bad boy. #CovidVaccine #COVID19 #PfizerBioNTech\",\"#Canadian firm Acuitas - at heart of #PfizerBioNTech #vaccine - great story - @ubcprez #UBC - we helped early on with @NRC_CNRC #IRAP program when the firm was called AlCana Technologies Ltd ... #canpoli\",\"Kirill Dmitriev, RDIF CEO: #SputnikV is showing high efficacy itself and can also be combined with other vaccines. Gamaleya and RDIF welcome joint clinical trial with @AstraZeneca to explore adding #SputnikV human adenoviral vector to AZ vaccine.\\nAstraZeneca will test using component of Russia\\u2019s Sputnik V in clinical trials of its own vaccine...sputnikvaccine.com\",\"#WATCH: Shipments of initial doses of the COVID-19 vaccines arrived in selected ports of entry in Canada on Sunday night. https://instagram.com/p/CIxZTVAD_tm/?igshid=s6imubrpo54k\\u2026\\n\\nVideo credit: Canadian Armed Forces Combat Camera \\n\\n#PfizerBioNTech #COVID19 #CovidVaccine #covid19Qc #COVIDCanada\",\"Happy and relieved to have the #PfizerBioNTech #Covidvaccine \\u2013 amazing work from all at @MHRAgovuk and @NHSuk since it\\u2019s less than 2 weeks since CHM recommended that it be approved in the UK. #GetVaccinated!\",\"Explain to me again why we need a vaccine @BorisJohnson @MattHancock #whereareallthesickpeople #PfizerBioNTech #CovidVaccine #coronavirus #COVIDIOTS #saynotorhevaccine #markofthebeast\",\"#BillGates  caught on video admitting #CovidVaccine  will CHANGE our #DNA  FOREVER. https://youtu.be/ksEVaO806Oo via @YouTube He wasn't \\\"caught on tape\\\", he PROUDY stated it.\\n#Covid_19 #coronavirus   #Pfizer #PfizerBioNTech \\n#pfizervccineahoax #COVIDIOTS #AstraZeneca\",\"With #Germany announcing yet its strictest #lockdown starting Wed and #NHS warning #BoJo of a #thirdwave in a letter sent by the group\\u2019s CEO, the risk asset basket narrows down to a select few though.\\n\",\"There have not been many bright days in 2020 but here are some of the best \\n1. #BidenHarris winning #Election2020 \\n2. #PfizerBioNTech #CovidVaccine getting @US_FDA #EUA\\n3. #ACIP recommending the #PfizerBioNTech #CovidVaccine \\n\\nLooking ahead\\n- 12/15 when I get my #CovidVaccine\",\"I pucking do not intend to get vaccinated. Wht if my employer force to get vaccinated? Like they did for Arogya Setu App.\\n\\n#FarmBills2020 #WashingtonDC #HongKong #Argentina #PfizerBioNTech\",\"FAQs on Pfizer COVID vaccine.\\nThread\\n\\n1.Which COVID vaccine should I get? Is one better than others? \\n\\nYou should get the vaccine  you are offered. Getting a large number of people vaccinated is more important than differences in vaccine efficacy\",\"#vaccine #Pfizervaccine #PfizerBioNTech WHAT'S IN THIS VACCINE? #Pfizer is NOT 100% transparent about it.\\n#coronavirus #VaccinesWork #VaccinesSaveLives #VaccinoAntiCovid #Dubai\\n#Toronto #emirates #SideEffect #allergies\\nCopyright- MIT Technology Review\",\" Some #FDA Advisors Tapped to Review #Coronavirus #Vaccines Received Payments from Vaccine Companies\\nJust pray that Trump\\u2019s  frantic push on new #PfizerBioNTech vaccine without any long term damage or peer review, that we don\\u2019t lose even more people\",\"Does anyone have any useful advice/guidance for whether the COVID vaccine is safe whilst breastfeeding? #CovidVaccines #PfizerBioNTech #breastfeeding\",\"https://nytimes.com/live/2020/12/12/world/covid-19-coronavirus/britain-canada-and-the-us-start-their-vaccination-campaigns-and-other-news-from-around-the-world\\u2026. #Canada ordered enough of the #PfizerBioNTech #vaccine for all of its people- we were too smart for that... #TrumpWorstPresidentEver  why does anyone support him???\",\"Just hours after being authorized by the #FDA, doses of #PfizerBioNTech #coronavirus #vaccine are being packaged and readied for distribution by UPS and FedEx, the head of Operation Warp Speed said Saturday.\",\"The US Food and Drug Administration (FDA) has granted emergency use authorization to Pfizer-BioNTech's mRNA #COVID19 vaccine making it the first vaccine to receive approval in the USA. #PfizerBioNTech #coronavirus #vaccine @US_FDA @pfizer @BioNTech_Group\",\"Eric Shawn: The vaccine is here...in record time! https://video.foxnews.com/v/6215905201001 thanks @EricShawnTV @ArthelNeville for allowing me to join on this historic day #PfizerBioNTech #PfizerCovidVaccine stop the #COVID19 #pandemic #VaccinesWork #Masks #SocialDistancing #KindnessMatters\",\"Fascinating to see how the messenger RNA vaccine delivery approach has helped enable a dramatically shorter time to market. Viral sequencing selection to stage 1 trials took 20 months with SARS (2003) and is only taking ~3 months with Covid-19. #vaccines #PfizerBioNTech #Moderna\",\"Replying to @charlesadler and @RexChapman\\nAtta boy Chuck...\",\"The FDA Authorizes Emergency Use Of The Pfizer Vaccine\\nhttp://thenewdispatch.com/the-fda-authorizes-emergency-use-of-the-pfizer-vaccine\\u2026\\n#PFE #Pfizer #Pfizervaccine #PfizerBioNTech #FDA #CovidVaccine #COVID19Vaccine #COVID19 #COVID #Vaccine #USA #Coronavirus #CoronavirusVaccine #PfizerCovidVaccine #Covid_19 #Vaccination\",\"The US Food and Drug Administration (FDA) issued yesterday the first emergency use authorization of the Pfizer-BioNTech vaccine.\\n#Kuwait #BioNtech #PfizerBioNTech #Covid19Vaccine \\n\\nhttps://thepeninsulaqatar.com/article/13/12/2020/Kuwait-authorizes-emergency-use-of-Pfizer-BioNTech-covid-19-vaccine\\u2026\",\"#AstraZeneca to buy pharmaceutical firm #Alexion for $39 billion\\nhttp://nationalbusinessmirror.com/astrazeneca-to-buy-pharmaceutical-firm-alexion-for-39-billion/\\u2026\\n#COVID19vaccine #Pfizer #Pfizervaccine #PfizerBioNTech #PfizerCovidVaccine #astrazenecacovidvaccine #astrazenecacovid19vaccine\",\"We found the guy in the tan coat! \\n\\\"We just wanted to highlight this moment. It's a really big deal. It's such a positive turning point....We wanted to highlight that, to give hope to everyone.\\\" Armani Thao of \\n@The_BMC talked to us about the dance video seen around the world.\\n2:1614.8K views\",\"Replying to @TudorGJovin @CooperHealthNJ and 3 others\\n\",\"\\n\",\"Replying to @AnitaOakville @MaryamMonsef and 5 others\\nThank goodness the Federal Liberals are in charge of this roll out ensuring it will be done well!!! Thank you @JustinTrudeau !! And all of the great ministers\",\"Replying to @Anaridis\\nIf I worked there I would be the one to throw the whole thing off, they're really good. \",\"US began shipments of #Covid19 #PfizerBioNTech #vaccine Sunday following final CDC approval. While #pandemic is far from over, investors are seeing light at end of the dark tunnel. Wall Street is expected to kick off Monday in the green - @husseinsayyed \\nhttps://financialmirror.com/2020/12/14/us-vaccine-roll-out-lifts-risk-assets-final-stretch-in-brexit-talks\\u2026\",\"Turkey\\u2019s coronavirus death toll reaches 16,417 @drfahrettinkoca #CoronavirusPandemic #Turkey #PfizerBioNTech #Sinopharm\\nhttps://ilkha.com/english/health-life/turkey-s-coronavirus-death-toll-reaches-16-417-11068\\u2026\",\"#PfizerBioNTech's #COVID19 vaccines are making their way to distributions sites nationwide. @FedEx says some of the first batches have been safely delivered.\",\"http://Pfizer-Biontech.Com\\nUS agency authorizes Pfizer-BioNTech COVID-19 vaccine\\nFirst vaccine will be administered in less than 24 hours, says US president\\nhttps://aa.com.tr/en/americas/us-agency-authorizes-pfizer-biontech-covid-19-vaccine/2074319\\u2026\\n#Pfizer  #Biontech  #PfizerBiontech  #Trump  #Ugursahin  #ozlemtureci  #vaccine\",\"Last night, the first #COVID19Vaccines arrived in Canada and as we speak, the first of the vaccines are being administered TODAY!\\n\\nThe #PfizerBioNTech vaccine requires storage in extremely low temperatures, and are currently being distributed to 14 locations across Canada.\",\"Pfizer-BioNTech COVID-19 Vaccine Side Effects: Canada Warns Allergic People Against Pfizer-BioNTech Coronavirus Vaccine\\nhttps://latestly.com/world/canada-warns-allergic-people-against-pfizer-biontech-covid-19-vaccine-2195725.html\\u2026\\n#PfizerBioNTech #COVID19Vaccine #COVID19VaccineSideEffects #Canada  #Allergic\",\"Surprised to learn those with autoimmune conditions or otherwise immunosuppressed are advised not to receive the #PfizerBioNTech vaccine per to NACI. These are higher risk folks, and not a live vaccine. I understand questions of efficacy but is there really any safety concern?\",\"Replying to @yinonw\\n@DrBenTapper1\",\"@LUDOVICOTODINI @Taxistalobbyst   caught on video admitting #Covidvaccine will CHANGE our #DNA FOREVER. https://youtu.be/ksEVaO806Oo via @YouTube #coronavirus #corona #Pfizer #Pfizervaccine \\n#PfizerBioNTech #Elections2020 #Election2020  @POTUS \\n#JoeBiden #BidenHarris2020 @ASP #COVID\",\"Replying to @KristenRogersMD and @OchsnerHealth\\nWhat is the end point ?   The get to a yes point on normal restaurants, normal life, no masks?   What is the standard by which this will be determined?\",\"Replying to @JacksonHealth and @tania_leets\\nOur heroes FINALLY getting the PPE they\\u2019ve been waiting for.\",\"Replying to @charlesadler\\n\",\"Healthcare workers receive the first dosis of Pfizer-BioNtech COVID-19 vaccine at Memorial Healthcare System in Miramar, Florida, U.S., on Monday, Dec. 14 2020. Photographer: Eva Marie Uzcategui/Bloomberg\\n#covid19vacccine #pfizerbiontech #healthcareworkers #photojournalism\",\"Health #Canada has warned people allergic to any of the ingredients in the #PfizerBioNTech #COVID19 vaccine not to receive it.\",\"#vaccination #vaccinehesitancy\\n\",\"Replying to @AnitaOakville @PattyHajdu and 4 others\\nThank you Minister Anand for your dedication & hard work. Canadians are very fortunate to have you serving us as Minister of Procurement in these uncertain times.\",\"Kudos UPS!\\n\\n@UPS announced on 13th, its involvement & full support of distribution efforts for #PfizerBioNTech's #COVID19 vaccine as part of Operation #WarpSpeed. Deployments began after the federal mandate to distribute vaccines. https://pressroom.ups.com/pressroom/ContentDetailsViewer.page?ConceptType=PressReleases&id=1607744626467-683\\u2026\\n#UPS #COVID19Vaccine\",\"Replying to @DrKatLiang\\nI love some of the replies  \\nhttps://twitter.com/giancarlolucia/status/1338547639294414849?s=19\\u2026\",\"Just watched @CapehartJ new #thesundayshow. @Maria_Hinojosa correctly stated that there were two deaths among the over 18000 recipients of the #PfizerBioNTech vaccine. However, there is no evidence that the vaccine caused the deaths.\",\"How much did the #fda get paid to approve this all of a sudden now? money makes the world go around. #vaccine #Pfizer #COVID19 #CovidVaccine #PfizerBioNTech\",\"#FDA Gives Guidance on Allergy, Pregnancy Concerns for #COVID Vaccine https://medscape.com/viewarticle/942557?src=soc_tw_share\\u2026 via @medscape \\n#COVID19 #PfizerBioNTech #pandemic #obgyntwitter $PFE #vaccine\",\"Replying to @cnnbrk\\nJust a hunch: the distribution of this vaccine is going to be a major cluster f**k.\",\"#BREAKING - just in from @OHAOregon on #COVID19 #vaccine:\\n-\\\"Legacy Health is the first registered COVID-19 vaccine provider in the state to receive the vaccine\\\"\\n-Just under 2,000 doses of the #PfizerBioNTech vaccine arrived this morning.\\n#LiveOnK2\",\"More than 1,000 Jackson employees have successfully received their first dose of the #PfizerBioNTech #COVID19 vaccine by 6:30 p.m. today. #JacksonStrong\",\"You're wrong: MALAYSIA has already pre-ordered #PfizerBioNTech #COVID19Vaccine (expected in 2021) plus is part of @WHO's #COVAX and is in China's list of free #CovidVaccine recipient countries: GET YOUR FACTS RIGHT!! \\n#COVIDVaccineFacts\",\"\\\"Expect 145 sites across all the states to receive vaccine on Monday, another 425 sites on Tuesday,\\\" said the official in charge of the distribution.\\n\\nRead more: https://bit.ly/37WoZNH\\n \\n#PfizerBioNTech #COVID19 #vaccine #UnitedStates\",\"Covid Vaccinated!! @SCCM @HMethodistMD @Covid19Docs #vaccination #PfizerBioNTech #CoronaVaccine @pfizer @pfizer_news #Pfizer #CovidVaccine\",\"Replying to @DDNewslive @PIB_India and @airnewsalerts\\n\\u0921\\u093e\\u092f\\u0932\\u093f\\u0938\\u093f\\u0938 \\u0921\\u093e\\u092f\\u0930\\u0940 :  \\u0938\\u0902\\u0938\\u094d\\u092e\\u0930\\u0923 - \\u0938\\u0902\\u0938\\u094d\\u0915\\u0930\\u0923 7 (\\u092d\\u093e\\u0917 2)\\n\\n\\u092a\\u0922\\u093c\\u0947\\u0902  \\u092a\\u0947\\u091c \\u0938\\u0947 \\u091c\\u0941\\u0921\\u093c\\u0915\\u0930 \\u0938\\u094d\\u0928\\u0947\\u0939 \\u0926\\u0947\\u0902 \\n#\\u0928\\u093f\\u0935\\u0947\\u0926\\u0928  #\\u0932\\u093f\\u0902\\u0915 : \\nhttps://facebook.com/2200081763540202/posts/2786532588228447/?sfnsn=wiwspmo\\u2026\",\"Replying to @AnitaOakville @PattyHajdu and 4 others\\ngood work MAA! \",\"UPDATED: #YellowFever & #COVID19 #ImmunityPassports - Part Two\\n\\n#SARSCoV2 #PfizerBioNtech #Britain #December #Christmas #Europe #Australia #Canada #lockdown #VitaminD #winter #travel #tourism #privacy #Trending \\n\\nhttps://stopcommonpass.org/yellow-fever-covid19-immunity-passports-part-two/\\u2026\",\"For all the women and healthcare providers who have been asking about the safety of the #PfizerBioNTech #COVID19Vaccine in pregnant and breastfeeding women here is the recommendations from the #ACIP this morning\",\"#PfizerBioNTech COVID-19 vaccine being distributed; #ElectoralCollege formally casts votes today; #DetroitLions lost to GB; Cleveland MLB team to drop \\\"Indians\\\" name. Those stories & more at 7am via http://classicfox.com and 103.9 The Fox mobile app!\",\"Replying to @TyneHealth and @NTCouncilTeam\\nGreat news so how do care home residents get there majority won\\u2019t be able too attend these sites and there carers they are first on list aren\\u2019t they\",\"Replying to @cnnbrk\\nPfizer isn\\u2019t a part of operation warp speed\",\"The entire ingredients of the #Pfizervaccine: See, it\\u2019s just like your #BigMac with a splash of a #superpower to fight #COVID. #PfizerBioNTech #Vaccineswork #yayscience #CovidVaccine #COVID19 #ByeByeCOVID #vaccinehesitancy #vaccine\",\"Historical moment #FirstDose of the #PfizerBioNTech #COVID_19 #Vaccine administered at #UPMC @upmchealthbeat @ Pittsburgh, Pennsylvania https://instagram.com/p/CIyMrMRpVEf/?igshid=1jjtyf253182i\\u2026\",\"One of the first vaccines receivers in the US. Momentous for science. Hope has arrived.\\n#COVID19 #CovidVaccine #VaccinesSaveLives #PfizerBioNTech #Pfizervaccine\",\"Replying to @Breaking911\",\"True question for #scientists:\\n\\nAs with many vaccines the #PfizerBioNTech vaccine needs to be given in 2 shots: a #prime, and a #boost (after 4 wks). Would a previous #COVIDinfection serve as a primer? It seems infection itself may not cause (long term) immunity?\",\"Replying to @Anaridis\\nOh God. Not this foolishness again.\",\"First Pfizer coronavirus vaccine doses set to arrive at hospitals https://video.foxnews.com/v/6216118293001 #PfizerBioNTech #PfizerCovidVaccine #VaccinesWork @kilmeade @foxandfriends @nyulangone\",\"Had the first dose of my COVID vaccine today. We still have to wear PPE and still socially distant but at least we are on the way to being able to live with this awful disease! #CovidVaccine #PfizerBioNTech\",\"1st doses of #PfizerBioNTech's #COVID19 vaccine arrive in #Canada\\n\\nBy @helloryanjones\\nhttps://cbc.ca/news/politics/first-doses-covid-19-vaccine-1.5839614\\u2026\",\"Are politicians #EssentialWorkers?  \\n\\n#COVID19 #PfizerBioNTech #CovidVaccine #VaccinesWork #ScienceMatters #HealthForAll #healthequity #CoronaVaccine\",\"#PfizerBioNTech #Vaccine hacked a few days ago\\n\\n#UsTreasury hack announced today. \\n\\nhttps://foxbusiness.com/technology/u-s-treasury-breached-by-hackers-backed-by-foreign-government-report\\u2026\\n\\nA whole lot of #hacking going on! #Infosec #CyberSecurity \\n\\nhttps://chron.com/news/article/EU-drug-regulator-hacked-data-on-COVID-19-15789016.php\\u2026\",\"The #FDA finally issues #EUA now comes the problem transporting this #PfizerBioNTech vaccine, needs to be kept at -70f and it can only be taken out of storage 4 times. Also you can still infect people after being #vaccinated\",\"It\\u2019s here. #Covid_19 #CovidVaccine  #PfizerBioNTech\",\"So incredibly grateful to have received the #PfizerBioNTech #CovidVaccine here @OSUWexMed!  Thanks to everyone who made this possible. #VaccinesWork #VaccinesSaveLives Hope that my colleagues, patients, & family will also have an opportunity to be vaccinated soon. Stay safe!\",\"Thrilled to receive my first dose of the Covid vaccine today. The vulnerable people I visit, support and work with in their own homes will be protected and that is so reassuring! It might be the tug that turns the tanker but at least the bugger is on the move! #PfizerBioNTech\",\"OHSU, Kaiser, St. Alphonsus Medical Center (in Ontario) are expected to get 975 doses each tomorrow.\\n\\n#LiveOnK2\\n\",\"Replying to @AnitaOakville @PattyHajdu and 4 others\\nCongratulations, job well done.\",\"Global coronavirus death toll reaches 1,611,637 #CoronavirusPandemic @WHO @Worldometers #PfizerBioNTech #PfizerCovidVaccine\\nhttps://ilkha.com/english/health-life/global-coronavirus-death-toll-reaches-1-611-637-11055\\u2026\",\"How does the #Moderna #covidvaccine differ from the #PfizerBioNTech #vaccine? We answer this question and more in tonight's @TiaHealth medical segment! Catch us at 6PM! #healthnews #vaccination\",\"Trump announces #vaccine rollout 'in less than 24 hours'\\n\\nThe first Americans will be vaccinated against #coronavirus in the next 24hrs as the US last night authorised the #Pfizer/Biontech vaccine for emergency use -> http://buff.ly/37cTMqp\\n\\n#PfizerBioNTech #PfizerVaccine\",\"Replying to @JacksonHealth\\n\",\"US HEALTH CARE WORKERS & MOST VULNERABLE TO RECEIVE THE PFIZER-BIONTECH SHOTS\\nTrucks on Sunday began shipping millions of doses of Covid-19 vaccine in the United States, as part of the enormous logistics\\n#US #HealthcareWorkers #Receive #Vaccines #PfizerBioNTech #DeathToll #Cases\",\"From Tuna #Fish To #COVID19 #Vaccine - How Container Freezers Used To Ship #Seafood Are Given A New Role - http://financetwitter.com/2020/12/from-tuna-fish-to-covid-19-vaccine-how-container-freezers-used-to-ship-seafood-are-given-a-new-role.html\\u2026 #UnitedStates #Britain #Canada #Coronavirus #COVID\\u30fc19 #Pfizer #PfizerBioNTech #FDA #airlines #FedEx #UPS #transport #mRNA #Science #technology\",\"Two people in the United Kingdom have experienced an allergic reaction to the Pfizer/BioNTech COVID-19 vaccine.\\nRead more https://bit.ly/3a4PHpY\\n\\n#VaccineReaction #PfizerBioNTech #Pfizer #BioNTech\",\"Concerned about the side effects of the #PfizerBioNTech #COVID19 vaccine?  Check out my recap \",\"Replying to @yinonw\\nChances are higher that one would die chocking on food than die due to covid.\\nNobody skipps a single meal sue to choking risk but many stopped living alltogather due to covid. \\nThink about it.\",\"US #COVID19 #Vaccine Shipments to 'Start Rolling' Sunday https://medscape.com/viewarticle/942556?src=soc_tw_share\\u2026 via @medscape \\n#OperationWarpSpeed #PfizerBioNTech #pandemic\",\"Boston health care workers dancing on the sidewalk to celebrate the arrival of the first  covid-19 vaccine.\",\"Approval for #Pfizer / #Biontech vaccine from FDA Advisory Board.\\nLAST MINUTE NEWS: The US Food and Drug Administration (FDA) Advisory Board recommended that the Pfizer / Biontech vaccine given emergency use. #FDA #PfizerBioNTech #vaccination\",\"Considerations for the #COVID19Vaccine in Pregnant Women #ACIP\\n\",\"Replying to @cnnbrk\\nTRUMPVIRUS DEATH TOLL\\n\\nMar 1 - 1 Dead\\n\\nApril 1 \\u2013 6,460 Dead\\n\\nMay 1 \\u2013 67,044 Dead\\n\\nJune 1 \\u2013 109,509 Dead \\n\\nJuly 1 - 131,013 Dead\\n\\nAug 1 \\u2013 156,764  Dead\\n\\nSept 1 \\u2013 187,643 Dead\\n\\nOct 1 \\u2013 208,347 Dead\\n\\nNov 1 \\u2013 236,072 Dead\\n\\nNov 7 \\u2013 242,103 Dead\\n\\nDecember 12 302,762\",\"@JoeBiden @KamalaHarris Thanks to you both for bringing in fresh air, positivity and God\\u2019s hand and pushing us forward as we begin to crush this beast #PfizerBioNTech #pfizerproud #sciencewillwin #BidenHarris\",\"Salute to the #HealthcareHeroes who are risking their life everyday taking care of #COVID patients! May God give them strength! Help is on the way!\\n#PfizerCovidVaccine \\n#PfizerBioNTech\",\"And yes, odds of death for the elderly and at-risk is higher.... this is why our policies which try to prevent the healthy from being exposed has only shifts more of the burden to the elderly, and is therefore sadly responsible for more overall deaths.\\n\",\"Replying to @cnnbrk\\nI\\u2019ll be on the sidelines watching for the Zombie Apocalypse! ....\",\"#AstraZeneca to buy pharmaceutical firm #Alexion for $39 billion\\n\\n#COVID19vaccine #Pfizer #Pfizervaccine #PfizerBioNTech #PfizerCovidVaccine #astrazenecacovidvaccine #astrazenecacovid19vaccine\",\"What are the ingredients of Pfizer\\u2019s covid-19 vaccine? | MIT Technology Review #vaccination #CovidVaccine #Pfizer #Pfizervaccine #PfizerBioNTech\",\"Replying to @charlesadler and @RexChapman\\nI don't believe it was a country. It was a worldwide network of researchers grinding the numbers and cleaning the glassware and posting the raw data to prevent duplication of work already done...my kind of new,world order..?\",\"Grossly unfair and absolutely inevitable - With First Dibs on Vaccines, Rich Countries Have \\u2018Cleared the Shelves\\u2019 https://nytimes.com/2020/12/15/us/coronavirus-vaccine-doses-reserved.html?smid=tw-share\\u2026 #COVID19 #coronavirus #vaccine #Pfizer #BioNTech #PfizerBioNTech #Moderna #AstraZeneca #Oxford\",\"Hav genuine ? @ManCityCouncil is #Wythenshawe only place in #Manchester #southmanchester deliverin #covidvaccine #PfizerBioNTech #Pfizervaccine ?When will it made available 2 #Chorlton which has considerable number of over 80\\u2019s/homes/independent livin w\\u2019health issues @JoMidge?\",\"Replying to @yinonw\\nThis is great stuff!\",\"More approvals to #PfizerBioNTech vaccine: #Singapore approves @pfizer #CovidVaccine, expects first shots by December-end.\",\"Replying to @sputnikvaccine and @AstraZeneca\\nI wouldn\\u2019t trust a medical product from Russia. They poison political opponents.\",\"#Pfizervaccine #PfizerBioNTech\\nWhy #Pfizer is NOT 100% transparent about it? #coronavirus #VaccinesWork #VaccinesSaveLives #VaccinoAntiCovid #Dubai\\n#Toronto #emirates #SideEffect #allergies\\nSource+Copyright- MIT Technology Review\",\"Politico.  December 13, 2020.  FDA's Hahn: Covid-19 vaccine authorization based in 'science and data'\\nhttps://politico.com/news/2020/12/13/fdas-hahn-coronavirus-vaccine-approval-science-data-444854\\u2026\\n#coronavirus #covid19 #coronavirusprevention #CoronaVirusUpdate #CoronavirusVaccine #COVID19Vaccine #PfizerBioNTech #business #technology #datascience\",\"Replying to @yinonw and @scientificecon\\nYou are 18X more likely to have permanent heart damage and have 10X more odds of lung damage for every Covid death, among others. So, you may not die but become quite crippled too. I\\u2019d rather not take the risk. BTW, the side effects of vaccines seem to be pretty bad too...\",\"Coronavirus vaccine ships today, expect hospitals to be overwhelmed in nine  months  ...with baby deliveries  #COVID19 #vaccination #PfizerBioNTech #mondaythoughts\",\"Good heavens - you are too stupid to reason with even on a slow day. get a dummy for #pademics and slither away already. Give credit to #AngelaMerkel of German for supporting the #PfizerBioNTech #vaccine https://twitter.com/realDonaldTrump/status/1338263195941818370\\u2026\",\"Something interesting I learned during an interview with @b_kazaz today: \\n\\nThere's been a lot of chatter about how cold the #PfizerBioNTech vaccine must be kept. But many vaccines used for livestock around the world must be stored at -200 degrees, so this is nothing **too** new.\",\"Stand-up too trump as the COURTS, other Republicans in office have we wouldn't have 300k plus included in the #TrumpVirusDeathToll or the 16 million confirmed cases. Until #DiaperDon take RESPONSIBILITY for the Cases/Deaths he gets no credit for the VACCINE after all this is all\\n\",\"Here are the lipids used in lipid nanoparticle used the #mRNA  BioNTech/Pfizer #PfizerBioNTech  #CovidVaccine The top two are patented by Acutias #Acuitas while 1,2-disteraoyl-sn-glycero-3-phosphocholine and cholesterol are \\\"natural\\\" lipids common in many products (and food). 1/3\",\"What a great day for our Country & the World! @realDonaldTrump is ONE DAY CLOSER to leaving @WhiteHouse. The first shipments of the #PfizerBioNTech Vaccines are rolling out, which means we are beginning the end of the #TrumpVirusCatastrophe. Imagine if @GOP had enough Courage too\",\"Replying to @ShafiAhmed5\\n\",\"Replying to @cnnbrk\\nPfizer wasn't part of operation warp speed\",\"operation to vaccinate begins. As early as today in the nation worst hit by the coronavirus, health care workers and nursing home residents will be among the first to receive the Pfizer-BioNTech shots. Officials said it will likely be months before all those who want it can be\\n\",\"Phase 3 begins Dec 28, #PfizerBioNTech vaccine first to arrive in #singapore by end Dec, and shots to be free for all citizens and long-term residents. #COVID19\",\"Replying to @maha_kaissi @UR_Med and 2 others\\nSO EXCITED FOR YOU. @2ShotsInTheArm\",\"Replying to @yinonw and @jhaskinscabrera\\nTime to ban driving and swimming!\",\"#UnitedStates : The Federal Aviation Administration (FAA) said Saturday it had approved the use of the #PfizerBioNTech #COVID19 vaccine by pilots and air traffic controllers.\",\"#notwastingmyshot 4th person in #Charleston to get the #PfizerBioNTech #CovidVaccine @MUSChealth @ID_MUSC \\n\\nI feel great and am doing well! I am getting the #vaccine because it helps protect me from getting #COVID19.  I want to stay healthy and help prevent spread of coronavirus.\",\"Infections #worldwide\\n-\\n#UnitedStates : 220,575\\n#Brazil : 43,279\\n#Turkey : 30,805\\n-\\n#coronavirus #Corona #Covid_19 #Covid #COVID19 #vaccine #vaccination #pfizer #Pfizervaccine #PfizerBioNTech #BioNTech #lockdown #virus #China #Wuhan #WuhanVirus #WuhanCoronavirus #VirusCorona\",\"#NEW: @methodistdallas has received its first shipment of #PfizerBioNTech's #COVID19 vaccine. Front line healthcare workers are the first to get the shot. Parkland and UT-Southwestern in Dallas and Texas Health in Fort Worth receive shipments tomorrow.\",\"@L_MitchellODP, every aspect of the vaccination was really well planned and went on smoothly without any hiccups. Thank you and keep up the great work!\\n\",\"I\\u2019ve never been so excited to get a vaccine \\n\\n#CovidVaccine #PfizerBioNTech #VaccinesSaveLives #VaccinesWork\",\"\\\"The Moderna vaccine does not need some of the extra special handling requirements of the one from Pfizer, including ultra-cold freezers,\\u201d PM Trudeau said. #covid19vaccine #coronavirusvaccine #moderna #canada #pfizerbiontech\",\"Replying to @cnnbrk\\nWhen given the opportunity to purchase additional vaccine doses, Trump passed.\\n\\u00a0\\nAnd now, fewer Americans will be vaccinated before June.\\n\\u00a0\\nMake no mistake, Trump's incompetence will cost American lives. It already has.\\n\\u00a0\\nSo much for America first.\",\"Welp, thanks already aren't going quite as planned with the #PfizerBioNTech #CovidVaccine distribution.  These aren't frontline healthcare workers or nursing home residents.\",\"Wear a mask, wash your hands, and remain socially distant when possible. #stayhome #StayAtHome #StayAtHomeSaveLives #Corona #Covid #coronavirus #pfizer #Pfizervaccine #PfizerBioNTech #BioNTech\",\"Replying to @Samla_Green\\nNice one Sam \",\"MT @murray_nyc Five years ahead of schedule? It\\u2019s a pandemic! There was no pre-determined schedule. How about acknowledging #Germany for contributing hundreds of millions of dollars to finance the #PfizerBioNTech vaccine? #TrumpVirus #GOPComplicitTraitors  https://twitter.com/realDonaldTrump/status/1338263195941818370?s=20\\u2026\",\"Despite #Lebanon\\u2019s dire shortage of foreign exchange, the government expects to sign the $18 million deal for supplies of the #PfizerBioNTech vaccine this week, Health Minister Hamad Hassan told Reuters\",\"\\u201cThanks for being here and help us share the news of this historic moment,\\u201d said Dr. @liliabbo.\\n0:41379 views\",\"2.Who cannot get the Pfizer COVID Vaccine? \\n\\nUnder the current EUA - those younger than 16 years cannot get the vaccine.\\n\",\"Replying to @tschwarzromond @EricTopol and 3 others\\nWhile sovereign independence of assessments is critical to drug safety, the risk/benefit ratio here under emergency use given release of data & ,  and  approvals surely expedites matters? Unless procurement is in doubt.\",\"(ENG) NHS workers: 'Vaccine is a game changer' | #hopenews\\n\\n#NHSheroes #bbcnews #vaccine #Covid19UK #COVID19 #pandemic #Health #Immunity #PfizerBioNTech #Pfizer #BioNTech\",\"Replying to @AnitaOakville @PattyHajdu and 4 others\\nLight at the end of a dark tunnel\",\"#UnitedStates\\u2014The first #Covid19 vaccines are going out!\\n#CDC officially allows\\n#PfizerBioNTech\\u2014#coronavirus\\n#vaccine to be administered as\\nshipments begin in #US\\nHealth care workers & long-term\\ncare facility residents be first in\\nline to receive the shot\",\"All respect to due process but why not give approval now instead of the 29th of December. Surely multiple other countries approving it already is proof enough? #PfizerBioNTech #COVID19 https://rte.ie/news/coronavirus/2020/1212/1183952-covid-ireland/\\u2026 via @rte\",\"The Vaccine rolled out this week in several countries, bringing hope and scepticism with it. \\n\\n#vaccine #PfizerBioNTech #Moderna #pandemic #COVID19 #coronavirus\",\"US President Donald Trump announced that the vaccine will be free for all Americans and has thanked all the scientists, doctors, and workers for the vaccine.\\n\\n#USPresident #DonaldTrump #FreeVaccine #Pfizer #PfizerCovidVaccine #PfizerBioNTech #Coronavirus #COVIDVaccine #MangoNews\",\"The #PfizerBioNTech #CovidVaccine will NOT effect or interact with a person's DNA. DNA are located in the nucleus of the cell, and NOTHING from the vaccine enters the nucleus.\",\"Excited to have received the first part of my #PfizerBioNTech #CovidVaccine today.Impressive resource mobilization on display @CooperHealthNJ leading to a smooth and efficient start to a historic mass vaccination effort.  @CooperNeuroRes @CooperGME @coopermedschool\",\"\\\"The first batch of doses of Pfizer-BioNTech\\u2019s COVID-19 vaccine have arrived in Canada,\\u201d PM Trudeau said on Twitter.\\n#covid19vaccine, #coronavirusvaccine #pfizerbiontech\",\"Replying to @AnitaOakville @PattyHajdu and 4 others\\nThank you for all the hard work you put into getting this shipment here for Canada.\",\"Turkey\\u2019s coronavirus death toll reaches 16,417 @drfahrettinkoca #CoronavirusPandemic #Turkey #PfizerBioNTech #Sinopharm\\nhttps://ilkha.com/english/health-life/turkey-s-coronavirus-death-toll-reaches-16-417-11068\\u2026\",\"Thank you Thank you Thank you to all of the scientists who worked on the development of the vaccine for COVID-19. The first vaccines will be administered today in the US! This is the beginning of the end of the pandemic. #vaccine #Pfizer #PfizerCovidVaccine #PfizerBioNTech\",\"TV ad in 2030: \\u201cDid you receive the CV19 vaccine in 2020 or 2021? You are entitled to financial compensation.\\u201d #CovidVaccine #corona #COVID #Pfizervaccine #vaccination #PfizerBioNTech #FDA #COVID19Vaccine #Agenda21 #BioNTech\",\"Replying to @Dr_Dee_Kumar\\nUnfortunately not recommended at the moment if breastfeeding\",\"Pfizer received emergency use authorization from the Food and Drug Administration for the Covid-19 vaccine developed in partnership with Germany\\u2019s BioNTech (BNTX), with trucks rolling out from Pfizer\\u2019s Kalamazoo, Michigan, production plant over the weekend #PfizerBioNTech #invest\",\"Received my first dose of the #CovidVaccine #PfizerBioNTech today. I feel very privileged & lucky to have this to protect me & enable me to feel safer delivering care to patients @LPTnhs @BradgateUnit @LPTOTBradgate. Thank you to all involved in #LLR\",\"US is all set to start its #COVID19  #vaccination  drive with the doses of #PfizerBioNTech  #vaccine that is ready to be delivered to hospitals. US comes in the top list of the worst-hit countries from #coronavirus  #pandemic \\n\\nRead Full Article Here\",\"#New Vaccination campaign begins today in Quebec. Residents at Maimonides will be among the first seniors in #Canada to receive the #PfizerBioNTech #CovidVaccine Quebec Health Min Christian Dub\\u00e9 & Dr. Richard Mass\\u00e9 from Public Health will be speaking at 1pm. Photo: CityNews staff\",\"The agency also released new information for health care providers and for patients as the US shipped millions of doses of the vaccine across the country. \\n\\n#COVID19Vaccine #CoronaVaccine #Pfizervaccine #PfizerBioNTech\",\"Replying to @sputnikvaccine and @AstraZeneca\\nAstraZeneca analiza combinar su vacuna con la \\u201cSputnik V\\u201d:\",\"Replying to @sputnikvaccine and @AstraZeneca\\n\",\"Facts are immutable, Senator, even when you're not ethically sturdy enough to acknowledge them. (1) You were born in Canada. (2) #PfizerBioNTech vaccine was developed in Germany.(3) Scientists behind it, Muslim Turkish immigrants to Germany #UgurSahin & #\\u00d6zlemT\\u00fcreci @RexChapman\",\"Interesting Watch: @CNN's @NewDay live coverage of the loading of #PfizerBioNTech's vaccine at the Pfizer plant at Portage, Michigan for @Fedex and aerial delivery to various US destinations. #FirstCovid19VaccineShipmentsLeavePfizerPlant\",\"In the year 2022, I will also proudly post a picture of when I eventually receive \\\"the covid vaccine\\\"\\n#CryMyBelovedCountry #frontlineworkers #PfizerBioNTech\",\"\\\"mRNA vaccines teach our cells how to make a protein that will trigger an immune response without using the live virus that causes COVID-19. Once triggered, our body then makes antibodies.\\\"\\n\\nhttps://canada.ca/en/health-canada/services/drugs-health-products/covid19-industry/drugs-vaccines-treatments/vaccines/pfizer-biontech.html\\u2026 #mRNA #Pfizer #PfizerBioNTech #Pfizervaccine #VaccinesSaveLives\",\"#vaccine #PfizerBioNTech #Oxford_AstraZeneca #BharatBiotech #SputnikV Most of the companies have submitted application for Emergency Use Authorization (EUA) to the Drugs Controller General of India (DCGI) in India. #DGCI\",\"U.S. expects to have immunized 100 million against #COVID-19 by end of March -Slaoui https://reut.rs/2Km4KB3 #Covid_19 #vaccine #Trump #Biden #Fauci #WhiteHouse #Washington #NewYork #health #pharma #bigpharma #biotech #Pfizer #PfizerBioNTech #Pfizervaccine #Moderna #AstraZeneca\",\"@ElsTorreele \\n@kamarulbahrin\\n\",\"Replying to @DrMarcSiegel @kilmeade and 2 others\\nWhy are medical staff under 50 with no co-mordities getting the vaccine before people over 75 or in LTC?\",\"Have to agree: UK, US vaccinate with technology pioneered in 2 German, one US-Biotechs; US celebrates distribution of millions #PfizerBioNTech dosages; #EU still caught up in paperwork? @EricTopol @ewanbirney @jwoodgett @METorresPadilla @MatthiasTschop\\nhttps://eu.freep.com/story/news/health/2020/12/13/pfizer-covid-19-vaccines-kalamazoo-michigan/6529215002/\\u2026\",\"Replying to @ShafiAhmed5\\nCongrats!!!\",\"while deaths are closing in on the 300,000 mark... millions of people wait #PfizerBioNTech #Vaccine !\\n-\\nThe first US #COVID19Vaccine shipments will arrive at 145 locations around the country on Monday morning, #USArmy General Gus Perna said on #Saturday during a press briefing.\",\"For an in-depth look into its repercussions, read @_whitneywebb 's   \\\"Engineering Contagion\\\" investigative series here:\\nEngineering Contagion - Investigative SeriesDuring the presidency of George H.W. Bush in the early 1990s, something disturbing unfolded at the U.S.\\u2019 top biological warfare research facility at Fort Detrick, Maryland. Specimens of highly...unlimitedhangout.com\",\"it is a bit sad to claim the fame for success of #vaccination on patriotic competition between USA, Canada, UK and EU.\\nwe are in it together, we win it together. All those companies #PfizerBioNTech #Biontech #AstraZeneca #Moderna we can all be proud of modern science & technology\",\"Replying to @JacksonHealth\\nGreat !!!!!\",\"Turkey\\u2019s death toll from COVID-19 rises to 16,881 @drfahrettinkoca #coronavirus #PfizerBioNTech #Sinovac\\nhttps://ilkha.com/english/world/turkey-s-death-toll-from-covid-19-rises-to-16-881-11101\\u2026\",\"Replying to @KwakuAkyeampong @_AfricanUnion and 2 others\\nOh so you have given Western Sahara to Morocco too? Hmmm\",\"COVID 19 Vaccination. Latest Update.\\nhttps://youtu.be/XBVOE0-lLV4 \\n@YouTube \\n@YouTubeCreators @YouTubeTrends @YouTubeIndia @YouTubeTV \\n#COVID19 \\n#CovidVaccine \\n#COVID \\n#CoronaVaccine \\n#Pfizervaccine \\n#PfizerBioNTech \\n#adarpoonawalla\",\"Kuwait authorizes emergency use of Pfizer-BioNTech COVID-19 vaccine\\nFor all COVID news, visit: https://bit.ly/34606y8\\nhttps://news.writecaliber.com/healthcare-kuwait-coronavirus-kuwait-authorizes-emergency-use-of-pfizer-biontech-covid-19-vaccine/\\u2026\\n#Kuwait #PfizerBioNTech #CovidVaccine\",\"#Pfizervaccine is unlikely to be available in India for mass distribution. Read to find out why.\\n\\n#PfizerBioNTech #Pfizer #COVIDVaccine #Coronavirus #CoronaVaccine\",\"We're talking about HUMAN LIVES here!\\n\\nLet's not repeat the mistake of the past! #Dengvaxia jeopardized many lives of our children.\\n\\nIf #PfizerBioNTech is most suitable then, let's have it! Let's not settle for less!\\n\\nMany of our Kababayans are skeptical w/\\nChina #Sinovac\",\"Replying to @cnnbrk\\nMoney can buy FDA approvals quickly. Money can buy everything. \",\"@CDCDirector Redfield has just signed off on this recommendation. #CDC Panel Recommends #Pfizer's #COVID19 #Vaccine for People 16 and Over https://medscape.com/viewarticle/942558?src=soc_tw_share\\u2026 via @medscape \\n#PfizerBioNTech $PFE #IDtwitter #MedTwitter\",\"The US public will start receiving the Pfizer/BioNTech coronavirus vaccine from Monday after it was authorised for emergency use https://colombogazette.com/2020/12/13/first-round-of-us-vaccinations-to-begin/\\u2026 via @colombogazette #US #vaccine #PfizerBioNTech #coronavirus #COVID19 #Covid_19\",\"Odds of death from an actual covid infection if you are under 50 is somewhere between odds of death by sunstroke and electrocution/radiation.\\n\\nYou won't hear this from the mainstream media, but the numbers are based on the CDC and National Safety Council, and easy to calculate.\",\"Dr. Kathy Lofy says the vaccine will be a new tool in our tool box, and says she\\u2019ll also get vaccinated as soon as she\\u2019s eligible. \\n\\nAlso says she personally reviewed #PfizerBioNTech Phase 3 trial info, and fully agrees w/ FDA decision to approve #Q13FOX #COVID19\",\"The synthesis of the Acuitas lipids is described in the patent linked below. ALC-0315 seems to be lipid III-3 in this patent and if so, the synthesis proceeds in 3 steps as per below scheme.  2/3 https://patents.google.com/patent/WO2018081480A1/en\\u2026\\n\",\"Privileged be offered the #PfizerBioNTech vaccine. I would encourage everyone to take it up. It\\u2019ll help protect people around you, yourself and squeeze out #COVID19. A huge thank you to our magnificent #NHS staff, @MattHancock, @Jesse_Norman (Kate Bingham), @AllanNixon\",\"First Vaccine Shots in the US\\nWatch video at https://youtu.be/y2eHlKSufbE\\n\\n#FirstVaccineShots #COVID #COVID19 #pfizervacine #BioNTech #BioNTechVacine #Pfizer #PfizerBioNTech\",\"Before you say you WILL OR WON\\u2019T take Pfizer\\u2019s vaccine for COVID-19 Read the report. https://fda.gov/media/144245/download?fbclid=IwAR2B6GHvblDaAsbjEj7Y6N_iS7lWCyF8iBpaPNoJWqH8EyUpjwJl3I6d1GE\\u2026 #Pfizer #BioNTech #PfizerBioNTech #vaccine #CovidVaccines #coronavirus #Pfizervaccine \\n#COVID19\",\"IT HAPPENED!!!!!!!! I got my first dose of the #PfizerBioNTech vaccine today - THE BEST HOLIDAY PRESENT EVER!!! Also pretty stoked to be named \\u201cthe most excited person we\\u2019ve vaccinated today\\u201d!  Thank you @UR_Med! @URMed_GCH @pfizer (Please enjoy my windswept hair of excitement)\",\"WATCH LIVE: @JacksonHealth System news conference on receiving its first shipment of the #PfizerBioNTech COVID-19 vaccine today.\\nLIVE STREAM: https://cbsloc.al/2YKv7T6\",\"Members of the @teamsters delivered the first #COVID19Vaccine this morning\\n#teamsters\\n#UPS\\n#COVID19 \\n#Pfizer \\n#Pfizervaccine \\n#PfizerBioNTech\",\"\\n\",\"Interesting and very detailed article showing up how a well tested #supplychain, with #sharedvisibility will help delivering #PfizerBioNTech #COVID\\u30fc19 vaccines in each US area.\",\"Both recipients were over 55. One person had a heart attack 62 days after dose 2 and died 3 days later. The second person died from atherosclerosis 3 days after the first dose. So, no clear causal relationship between vaccination and death.\\n\",\"Replying to @ShafiAhmed5\\nWell done! Looks like most of us will be waiting a couple of months till we get to the top of the list. Trusts appear to have a differing approach to vaccinating staff .. despite the same government directive.\",\"@CNN @fox7austin @KXAN_News @TheBeatWithAri anyone?\\n\",\"Here we go! Grateful to be among the first group of vaccinated healthcare workers in Tampa/FL against #COVID19 \\n\\nhighlights:\\n-  no live or attenuated virus strains \\n- 2-part vaccination\\n- 20,000 in trial with 0 fatalities\\n- 95% efficacy\\n\\n#CovidVaccine #PfizerBioNTech\",\"UPS, FedEx Collaborate to Ship Pfizer-BioNTech COVID-19 Vaccines in US\\nhttps://latestly.com/agency-news/world-news-ups-fedex-collaborate-to-ship-pfizer-biontech-covid-19-vaccines-in-us-2195745.html\\u2026\\n#UPS #FedEx #PfizerBioNTech #PfizerCovidVaccine #COVID19Vaccine\",\"#USA to start #vaccination from today! It has according to latest figures maximum #coronavirus cases (over 16.7 million) and deaths ( last count 304,459). The #vaccination drive will start from today (Dec 14) with #PfizerBioNTech\\u2019s #vaccine. \\n#COVID19Vaccine\",\" #FDA #PfizerBioNTech #OperationWarpSpeed #CoronaVaccine #grateful #COVID #Corona FDA approves Pfizer\\u2019s COVID-19 vaccine for emergency distribution in the US\",\"#CovidVaccine \\n\\nStates will start getting #COVID19Vaccine Monday, #US says \\n#pakustv #NYC #Healthcare #GlobalGoals #PfizerBioNTech\",\"COVID-19 vaccines have safely departed out of Grand Rapids and are continuing their journey to their final destinations.\\n\",\"Replying to @JacksonHealth\\nPoor souls.\",\"#coronavirus #SputnikV #AstraZeneca #PfizerBioNTech #Moderna #Covid_19 Russian vaccine is created to last 2-4 years after vaccination & gives 96% protection guarantee. Pfizer, AZ, Moderna at max 4 months & huge allergic side effects. This means frequency of jab could kill you. https://twitter.com/elimeliandme/status/1337858199140118533\\u2026\",\"In further #Phase3 details from @sporeMOH attractions may start applying to the Singapore Tourism Board (STB) @VisitSingapore to increase operating capacity from 50% to up to 65%\\nhttps://moh.gov.sg/news-highlights/details/moving-into-phase-three-of-re-opening\\u2026\\n\",\"We know wearing a mask when around others, staying at least 6 feet away, avoiding crowds, and washing your hands prevent you from getting the virus, but how can getting the COVID-19 vaccine help?\\n\\n#COVID19  #Pfizer #PfizerBioNTech  #CDC #maskupwisconsin #StopTheSpreadOfCOVID19\",\"The end is in sight, many of my coworkers and I are getting our first doses of the #PfizerBioNTech #CovidVaccine today. But as Dr. Milani at @OchsnerHealth emphasizes, stay #vigilant, #MaskUp, do your part and protect your community. #Covid_19 We can end this!\",\"Does this vaccine mean that I\\u2019m gonna have to eventually wear a proper bra again or are we all in agreement that underwires are the devil and sports bras are the way forward? #Pfizervaccine #CoronaVaccine #AstraZeneca #PfizerBioNTech #COVID19Vaccine #workingfromhome\",\"#COVID19, Sunday morning, 12/13/2020:\\n\\nConfirmed cases 16,563,650\\nDeaths 305,144\\n\\nAs the #PfizerVaccine rolls out of Michigan, #WhinyLittleBitch #Trump continues his #TantrumTweets about his #Election loss & threatening vetos. What does this model for #Americans?\\n\\n#38Days\",\"The US public will start receiving the Pfizer/BioNTech coronavirus vaccine from Monday after it was authorised for emergency use https://colombogazette.com/2020/12/13/first-round-of-us-vaccinations-to-begin/\\u2026 via @colombogazette #US #vaccine #PfizerBioNTech #coronavirus #COVID19 #Covid_19\",\"#AnitaQuidangen, a personal support worker in #Toronto, became one of the first people in #Canada to receive a #COVID19  #Vaccine on Dec. 14, 2020. 0:44\\n1st doses of #PfizerBioNTech COVID-19 vaccine in Canada given in Toronto, #Quebec City\",\"#Singapore approves the #PfizerBioNTech #COVID-19 #vaccine \\nFirst shipment expected by end-December \\n\\n#coronavirus #COVID19 #CoronaVaccine #Pfizer #BioNTech\",\"#COVID #PfizerBioNTech #vaccine  #Pennsylvania\\nNursing homes in Pennsylvania prepare for COVID-19 vaccine distribution https://msnbc.com/yasmin-vossoughian/watch/nursing-homes-in-pennsylvania-prepare-for-covid-19-vaccine-distribution-97661509725\\u2026 via @msnbc\",\"With several countries including the US and the UK now approving the use of #PfizerBioNTech's #COVID19Vaccine, #cybercriminals have sensed an opportunity to lure people into buying fake remedies on the dark web, said a report from #cybersecurity firm Check Point.\",\"If science is same everywhere so should be it's results. Entire world should approve vaccine which one country has approved and started using doesn't it makes sense #WHO role have been very wierd, unprofessional and suspicious in this entire pandemic..#vaccine #PfizerBioNTech\",\"Replying to @PSampathkumarMD and @VincentRK\\nDo you think there will be enough Pfizer and Moderna doses to get to the high risk chronically ill and the elderly? I\\u2019m worried we won\\u2019t have enough vaccine to get to us in this first quarter. Then what? Need hope.\",\"Coronavirus: Iran reports 8,201 new cases, 221 deaths in the last 24 hours #Iran #coronavirus #PfizerBioNTech #CovidVaccine\\n\\nhttps://ilkha.com/english/world/coronavirus-iran-reports-8-201-new-cases-221-deaths-in-the-last-24-hours-11051\\u2026\",\"Such a great feeling. A big thank you to all the healthcare professionals; scientists, nurses, doctors, caregivers. #COVID19 #CovidVaccine #PfizerBioNTech #Pfizervaccine\",\"Vaccine!! Anyone?? #covid #Pfizervaccine #PfizerBioNTech\",\"More #HealthcareHeroes from Jackson North Medical Center getting their #COVID19 #PfizerBioNTech vaccine today.\",\"What we can learn from the victory over #Polio\\nA good refresher on how polio came to an end. \\nLet's not forget #VaccinesWork\\n#PfizerBioNTech \\n#COVID19\",\"Answers to questions about #COVID #vaccination  https://npr.org/sections/health-shots/2020/12/12/945288710/what-you-need-to-know-as-the-first-covid-19-vaccine-heads-your-way\\u2026 #vaccine #Covid_19 #healthcare #health #pandemic #FDA #CDC #Pfizer #PfizerCovidVaccine #PfizerBioNTech #PfizerBiotech #Immunity #OperationWarpSpeed #Moderna #rtitbot @Retweet_Lyfe @BlazedRTs\",\"Had my Covid-19 Vaccination, doing my bit helping to save the human race.\\nMega sore arm today as expected  small price to pay. Don't want coronavirus a second time.\\n#CovidVaccine #Covid19UK #COVID19Vaccine #PfizerBioNTech\",\"Presenting you the top Medical News/Advancement of the past week you don't want to miss!\\n\\n#docnosofficial #covid19 #covidcount #pfizeruk #pfizervaccine #pfizerbiontech #spinesurgery #spinesurgeryrecovery #yellowfever #medicalnews #healthcare #docnos\",\"Replying to @charlesadler and @RexChapman\\n\",\"#INBOX | @GovParsonMO says shipments of the #PfizerBioNTech vaccine will continue to ship to Missouri\\u2019s 21 vaccination sites throughout this week. These sites are hospitals and health care facilities. #moleg\",\"Pregnant women may likewise choose to get the vaccine after discussion with her HCP. Need to consider risks and benefits, local COVID19 transmission, personal risk of contracting the virus etc.\\n\",\"Replying to @kfdmnews and @THEPAIGEREPORT1\\nSeriously.\",\"Replying to @charlesadler and @RexChapman\\nThe sad fact is that Canadian conservatives think these guys are a model to emulate. Lets get back to our progressive conservative roots.\",\"Our MD Dr Susannah Thompson pulling out all the stops leading a magnificent team of NHS staff & volunteers tonight as the 1st site in #NorthTyneside goes live to deliver the #PfizerBioNTech vaccine to >80 yr old residents in 1st wave of community #CovidVaccination @NTCouncilTeam\",\"It is coming. Vaccine will be here soon! So excited... #CovidVaccine #covid19 #Pfizervaccine #PfizerBioNTech #maskup\",\"That\\u2019s indeed a sight of relief \\n\\nThe #Saudi health minister @tfrabiah showcased a sample of #PfizerBioNTech vaccine during the state budget press conference, confirming first shipment of the #coronavirus vaccines have already arrived to the Kingdom few hours ago.\",\"With numbers likely to get worse over the holidays, the #vaccine is offering a bright spot in the fight against the #pandemic that's killed nearly 300,000 #Americans.\\n#Pfizer #Pfizervaccine #PfizerBioNTech \\n@pfizer\",\"The @pfizer-@BioNTech_Group vaccines are now in our U.S. network, and we\\u2019ll be delivering them to their destinations soon.  https://fedex.com/en-us/coronavirus/stories.html\\u2026\",\"Singapore's plan to tackle #COVID19\\nhas been really effective.  \\nEarly in pandemic,more than $1 bn was set aside for advanced purchase of vaccine candidates.\\n#PfizerBioNTech to be the first vaccine approved by Singapore Health Sciences Authority. Shipment to arrive by Dec end.\",\"US says COVID-19 vaccine to start arriving in states Monday http://wtsp.com/article/news/health/coronavirus/vaccine/covid-19-vaccine-monday/507-ff6d9923-5f64-4429-9251-1a0309ed8444\\u2026 via @10TampaBay  #Pfizervaccine #Pfizer #PfizerBioNTech #Vaccine #vaccines\",\"Pharmacists are essential for easing patient concerns about the safety of COVID-19 vaccines such as the Pfizer/BioNTech vaccine, a global health expert says in a C+D podcast\\n#PfizerBioNTech @OksanaPyzikUCL\\n\\nhttps://chemistanddruggist.co.uk/feature/academic-pharmacists-critical-easing-covid-19-vaccine-concerns\\u2026\",\"Health #Canada has warned people allergic to any of the ingredients in the #PfizerBioNTech #COVID19 vaccine not to receive it.\",\"#Iran has told the World Health Organization it does not intend to import the #PfizerBioNTech Covid-19 #vaccine because it does not have the means to transport it, a health official said on Saturday. This is because the vaccine must be kept at minus-70 degrees. \\n #COVID19 #WHO\",\"The announcement comes after federal authorities granted the Pfizer vaccine emergency use authorization.\\n\\nRead more: http://Oigetit.com\\n\\n#FDAAuthorized #PfizerBioNTech\\n\\nVideo credit: @Independent\",\"The first shipments of the #PfizerBioNTech #Covid_19 vaccine will begin arriving in #US states from Monday, an official of President @realDonaldTrump 's administration said.\",\"Delighted that @US_FDA approved vaccine for emergency use.\\n\",\"Trump announces #vaccine rollout 'in less than 24 hours'\\n\\nThe first Americans will be vaccinated against #coronavirus in the next 24hrs as the US last night authorised the #Pfizer/#Biontech vaccine for emergency use -> https://cityam.com/trump-announces-vaccine-rollout-in-less-than-24-hours/\\u2026\\n\\n#PfizerBioNTech #PfizerVaccine\",\"Canada will be receiving up to 200,000 more doses of the #PfizerBioNTech vaccine next week & potentially up to 168,000 #Moderna vaccine doses by the end of year. This means thousands more ians will be vaccinated by the end of December 2020. http://ctv.news/8kj747E via @CTVNews\",\"Replying to @Anaridis\\nLove this \",\"Replying to @charlesadler and @RexChapman\\nI remember when he ran for president. I kept saying he's going to have to answer to his Canadian heritage as he wouldn't be illegible anyways. \\n\\nOh and yeah, pesky facts like that don't exist in his world.\",\"Doses of Pfizer\\u2019s Covid-19 vaccines will arrive at 145 US sites on Monday, Operation Warp Speed official says https://cnn.it/3qTPf4a\",\"#BreakingNews A nurse in New York City on Monday became the first person in the United States to receive the coronavirus vaccine, receiving the #PfizerBioNTech shot live on television. (AFP)\",\"Hey @pfizer with respect to your #CovidVaccine, say someone gets vaccinated and builds antibodies, can they donate blood for convalescent plasma treatment of others? #COVID19 #Pfizervaccine #PfizerBioNTech\",\"#Singapore Approves Pfizer #COVID19 Vaccine, First Shipment Expected by End of #December, Says PM Lee Hsien Loong\\n#PfizerBioNTech #Pfizervaccine @leehsienloong\",\"Boxes containing the first shipment of the Pfizer-BioNTech #COVID19 #vaccine are prepared to be sent at the #Pfizer Global Supply Kalamazoo manufacturing plant : Morry Gash, Pool #PfizerBioNTech #Pfizervaccine\",\"#UgurSahin #ozlemtureci the #Muslim Scientists Husband-Wife are saving the world with their #PfizerBioNTech #PfizerCovidVaccine #PfizerBiotech #Pfizervaccine #PfizerProud\",\"Replying to @Anaridis and @ScottKirsner\\nHow do they have time for this?\",\"What kind of #America will he leave behind?\\n-\\n#Trump #DonaldTrump #JoeBiden #NewYork #Washington #WhiteHouse #WashingtonDC #HateSpeech #BlackLivesMatter #racism #UnitedStates #MeToo #COVID19 #PoliceBrutality #PoliceViolence #FDA #Pfizer #PfizerBioNTech #vaccine #USA #KamalaHarris\",\"#Singapore became on Monday the first Asian country to approve #PfizerBioNTech's #CoronavirusVaccine and said it expects to start receiving shots by the end of the year\",\"Replying to @AnitaOakville @PattyHajdu and 4 others\\nThank you for the organization and foresight that made this arrival happen. @JustinTrudeau\",\"While the world has been on the wrong side of history this year, hopefully, the biggest vaccination effort we've ever known will put us back on the right one https://nbcnews.com/news/us-news/first-trucks-covid-19-vaccine-roll-out-pfizer-plant-michigan-n1251037\\u2026 @DohaMadani #covid19 #supplychain #logistics #vaccine #unitedstates #pandemic #pfizerbiontech\",\"Replying to @charlesadler and @RexChapman\\nPsst... we don't want him back.\",\"Doses of the #PfizerBioNTech vaccine will begin leaving the company's factory in #Kalamazoo #Michigan on Sunday.\\nThe #US is seeking to inoculate 20 million people in the first month.\\nRead more:\",\"Replying to @charlesadler and @RexChapman\\nWell said Charles. Ted Cruz and his ilk have made it very difficult to be a person who is both progressive and conservative.\",\"Tragedy. Another life taken by corporate greed and the evil pharmaceutical companies. #vaccination #vaccine #CovidVaccine #Pfizer #PfizerBioNTech #modernavaccine https://twitter.com/MajorPatriot/status/1339219266906763267\\u2026\",\"@AFP #UPDATE The #PfizerBioNTech #Covid-19 vaccine began leaving the company's #Michigan factory on Sunday, set to be injected into the arms of millions of the most vulnerable Americans as the global death toll topped 1.6 million http://u.afp.com/UZZM\",\"This is excellent news!  Our great President Trump and his administration have pushed to get this vaccine ready quickly and have been prepared long in advance to distribute it to the public and that glorious day has now come.  Simply amazing.  \\n#PfizerBioNTech\",\"So pleased to get my #PfizerBioNTech #Covid_19 vaccine just now!  \\nIt is so important that as many people as possible get vaccinated. Hopefully this is the beginning of the end and 2021 can be better for all of us\",\"Welcoming the 1st #COVID19vaccines to  tonight!\\n\\nThe 1st 30K doses of #PfizerBioNTech are arriving across the country tonight & tomorrow  initial deliveries of \\u2019s 20M doses of this vaccine.\\n\\nWhile we have a long way to go, this marks the beginning of our bridge to recovery.\",\"Turkey\\u2019s death toll from COVID-19 rises to 16,881 @drfahrettinkoca #coronavirus #PfizerBioNTech #Sinovac\\nhttps://ilkha.com/english/world/turkey-s-death-toll-from-covid-19-rises-to-16-881-11101\\u2026\",\"Over the weekend, the #FAA issued guidance for pilots following use of the new #PfizerBioNTech #vaccine for #COVID19, generally permitting their ability to fly after a brief waiting period. #flying #pilots\",\"Replying to @AnitaOakville @PattyHajdu and 4 others\\nCongratulations - best news ever!!\",\"COVID-19 Vaccine Update: Initial Doses of Pfizer Coronavirus Vaccine in US to Begin from Tomorrow\\nhttps://latestly.com/agency-news/world-news-initial-doses-of-pfizer-covid-19-vaccine-in-us-to-begin-from-monday-2195638.html\\u2026\\n#COVID19Vaccine #PfizerBioNTech #US\",\"#TwitterPoll: DYK: the #UK, #Bahrain, #Canada & the #USA are among the first nations to approve the #PfizerBioNTech #Covid19 #vaccine . \\n\\nIf a #vaccination is free & accessible where you live, will you plan to get #vaccinated?\",\"\\u201cI\\u2019m just honored to be one of the first getting vaccinated. Protect yourself and protect your loved ones by getting the vaccine,\\u201d said Dr. @liliabbo, chief of infection prevention and infectious diseases at @JacksonHealth. #PfizerBioNTech\",\"@ManchesterHCC @Dr_PWright @GMSCNews @GM_HSC @GMEC_SCN @doctormkumar @ManCityCouncil @AndyBurnhamGM important day for GM. Can\\u2019t stress enough the importance of Covid -19 vaccine #CovidVaccines #PfizerBioNTech #Covid_19 #staysafe\",\"Replying to @AnitaOakville @PattyHajdu and 4 others\\nNice\",\"Replying to @Anaridis\\nMust be tough in their 24/7 battle to find time for nonsense.\",\"After 10 months and 3 weeks since its first case, finally some relief for Uncle Sam. Vaccination starts Monday. #Pfizervaccine #BioNTech #PfizerBioNTech\",\"This little vial carries so much.\\n\\nto all the scientists who worked tirelessly to get this out. \\n\\n#vaccinated #PfizerBioNTech\",\"Replying to @yinonw\\nWhat a 130,000+ COVID-19 deaths looks like . . . \",\"Replying to @FlyingMagazine\\nWell. How about driving? New excuse for teachers not to go to work.\",\"Replying to @CurtisSChin\\nYes\",\"Replying to @charlesadler and @RexChapman\\n@tedcruz this sums up your 'Dear Leaders\\\" ignoring and dereliction of duty in his response to Covid:\",\"New PODCAST: Vaccinating Our Way Out of the Pandemic\\n@larrybrilliant, @PeterHotez & @RaySuarezNews discuss the #PfizerBioNTech, other promising vaccines in the pipeline & what it will take to end the pandemic. https://apple.co/37cNozy\",\"The trump administration failed to deliver on vaccine promises, *shocker* #COVIDIOTS #coronavirus #CovidVaccine #PfizerBioNTech\"],\"legendgroup\":\"\",\"marker\":{\"color\":\"#636efa\",\"symbol\":\"circle\"},\"mode\":\"markers\",\"name\":\"\",\"orientation\":\"v\",\"showlegend\":false,\"type\":\"scatter\",\"x\":[11.527336120605469,-12.255906105041504,9.90284252166748,-0.36086225509643555,7.1022844314575195,-16.30927848815918,3.964254379272461,-4.03701639175415,-15.27589225769043,3.407210350036621,12.65735149383545,4.553953647613525,2.359009027481079,14.461408615112305,12.492061614990234,0.4293166399002075,-2.5152463912963867,-10.288491249084473,-0.8358949422836304,15.170799255371094,4.5412983894348145,-18.062467575073242,6.997128009796143,5.8471879959106445,1.6606764793395996,9.895976066589355,11.062865257263184,-14.244482040405273,-3.9408929347991943,3.8522050380706787,3.563232421875,15.6105318069458,-15.200409889221191,-0.7514269948005676,-7.697871208190918,-1.2538214921951294,-1.4187573194503784,-5.593956470489502,-8.074629783630371,-16.136476516723633,2.90507173538208,-3.4443182945251465,-15.293405532836914,2.705173969268799,-9.92416000366211,10.558682441711426,11.159947395324707,12.585610389709473,-18.87051010131836,0.5685402154922485,-5.008791923522949,0.867188572883606,6.367315769195557,-4.399383068084717,-15.273175239562988,12.904809951782227,3.491105318069458,-3.2417855262756348,-6.667593479156494,-9.45390510559082,-4.952744483947754,-6.010817050933838,3.9159674644470215,-3.507309913635254,-0.19323933124542236,8.182367324829102,-3.835298776626587,14.611374855041504,6.487916469573975,3.9995999336242676,15.856271743774414,-13.697005271911621,5.2927165031433105,6.611968517303467,-18.021535873413086,-17.412790298461914,-12.681295394897461,-21.068071365356445,-11.351786613464355,-17.489316940307617,11.395170211791992,-15.09610366821289,12.46194839477539,6.452019214630127,11.690637588500977,3.5799386501312256,1.0414410829544067,-15.47008228302002,-6.634194850921631,-11.77840805053711,-14.975592613220215,-14.418548583984375,7.1382222175598145,2.868907928466797,-4.3775224685668945,-10.806663513183594,7.655593395233154,-16.59255599975586,-8.519489288330078,0.35664939880371094,2.3669207096099854,-10.346572875976562,9.073391914367676,19.353748321533203,10.465689659118652,12.852423667907715,0.10894161462783813,-17.416046142578125,-13.8893461227417,-2.4593284130096436,7.996319770812988,8.387687683105469,1.877643346786499,-20.312150955200195,2.4911282062530518,5.923657417297363,4.894176959991455,-13.980666160583496,4.8594279289245605,-16.61982536315918,17.1076602935791,4.049957275390625,12.342751502990723,-4.019614219665527,0.6119022965431213,7.874996662139893,1.1189004182815552,3.5809967517852783,4.2104573249816895,13.738027572631836,-13.437828063964844,-14.461063385009766,3.860137462615967,18.784927368164062,-11.4620361328125,8.626818656921387,-1.5417530536651611,3.7870264053344727,2.805232048034668,-13.707771301269531,11.592401504516602,-8.046550750732422,5.219482898712158,7.9887847900390625,-13.408839225769043,-5.377416610717773,-0.027300922200083733,-12.649262428283691,-10.99604606628418,-18.022329330444336,2.9546544551849365,-7.659358978271484,-2.7225077152252197,3.0957729816436768,-15.577268600463867,12.327505111694336,-16.552003860473633,-3.3577678203582764,-0.36106356978416443,-12.855538368225098,16.64095687866211,-7.286838054656982,6.876906871795654,-8.260771751403809,-2.4579145908355713,-5.876811981201172,-17.129154205322266,-20.34517478942871,19.7851505279541,12.59831714630127,-15.458342552185059,-15.931601524353027,9.902617454528809,1.4849742650985718,-0.8610920310020447,8.408979415893555,-1.503530502319336,5.792243480682373,16.892541885375977,-8.376965522766113,1.6716704368591309,-0.6618831157684326,-15.016730308532715,-6.624404430389404,2.6105947494506836,-16.572612762451172,9.56577205657959,3.970804452896118,-3.68821382522583,-13.512123107910156,15.5430326461792,-4.286517143249512,16.760757446289062,18.041236877441406,5.286150932312012,2.9146008491516113,12.445289611816406,-11.581547737121582,-15.096141815185547,4.767253875732422,0.16227367520332336,7.495168209075928,6.219747543334961,3.852938413619995,17.166780471801758,20.218765258789062,1.482988953590393,-16.135700225830078,-16.177541732788086,-8.37711238861084,8.076655387878418,5.166782855987549,4.285556793212891,5.354960918426514,-1.2730287313461304,-18.523828506469727,-11.212711334228516,-4.645789623260498,-16.968048095703125,11.204582214355469,-8.332805633544922,-5.150706768035889,-11.19006633758545,-14.738359451293945,-12.675068855285645,0.09378542006015778,6.950903415679932,9.73282527923584,-4.389520168304443,0.03544802963733673,1.8090773820877075,16.939781188964844,-13.25563907623291,1.7334022521972656,-2.499295234680176,0.5204184055328369,5.269834995269775,2.944868803024292,7.76282262802124,7.426585674285889,2.936680793762207,-21.068103790283203,9.227729797363281,-10.614630699157715,-11.258118629455566,-19.999692916870117,2.8220388889312744,7.552752494812012,18.156648635864258,5.257457733154297,11.693976402282715,14.699503898620605,-11.618025779724121,16.677289962768555,-12.388484954833984,-1.7889682054519653,2.29927134513855,7.959552764892578,11.248600959777832,16.940004348754883,11.630709648132324,13.193499565124512,6.029468536376953,0.9284403324127197,-3.4851999282836914,-9.657479286193848,-15.166244506835938,0.08857632428407669,2.517369508743286,7.012113571166992,-3.586691379547119,-1.1644998788833618,0.8945679664611816,-1.6421964168548584,-14.261868476867676,13.512104034423828,9.883169174194336,-16.552160263061523,-11.340365409851074,-0.1091219037771225,6.225127696990967,16.034582138061523,-6.163129806518555,14.05686092376709,14.27101993560791,13.948058128356934,1.5351831912994385,2.869126796722412,2.879070997238159,5.5008320808410645,11.926626205444336,7.07710075378418,18.75624656677246,13.9492769241333,-16.420143127441406,-10.828908920288086,13.180233001708984,18.535987854003906,1.43754243850708,12.551167488098145,8.967510223388672,-5.191612243652344,-15.656859397888184,-7.130014419555664,14.097380638122559,-11.635281562805176,-5.0381855964660645,-13.549973487854004,10.125665664672852,-12.194228172302246,-5.829802513122559,9.750005722045898,7.267271041870117,6.1093244552612305,10.945415496826172,-14.738363265991211,10.066652297973633,-14.168294906616211,16.41945457458496,9.541688919067383,5.841315269470215,-1.3757295608520508,-13.724020957946777,-15.997174263000488,9.09129810333252,9.256826400756836,-14.49319839477539,-16.70452308654785,-14.997237205505371,-12.296072006225586,-6.1717023849487305,-6.8742547035217285],\"xaxis\":\"x\",\"y\":[7.4542927742004395,-20.203378677368164,15.75873851776123,7.618659973144531,2.3149454593658447,-18.962556838989258,1.8691380023956299,-2.2221691608428955,-1.4596787691116333,-8.79492473602295,13.036759376525879,4.7165632247924805,6.528013229370117,-5.442648887634277,-0.589695155620575,18.44338607788086,0.2527998387813568,-2.886007785797119,-3.589005708694458,4.944906711578369,-8.819326400756836,-22.04652976989746,-5.926095962524414,9.131223678588867,-5.164927005767822,2.604827404022217,5.940975189208984,-20.674110412597656,-4.615581512451172,5.944483757019043,-6.939943313598633,1.9059149026870728,-10.7476806640625,2.1706464290618896,4.18261194229126,12.233373641967773,-8.851609230041504,-0.8987782001495361,-18.811071395874023,-15.573380470275879,-3.1916580200195312,15.75300407409668,-14.161568641662598,1.5420953035354614,-16.232891082763672,-0.14252671599388123,-8.62378978729248,13.462508201599121,-15.063776969909668,5.652220249176025,10.26610279083252,-0.9025530219078064,-2.4454004764556885,5.878390789031982,-1.45494544506073,1.216583251953125,-7.8857808113098145,0.942297637462616,-3.6990907192230225,6.626387119293213,-7.410269737243652,11.25394344329834,-14.575577735900879,15.981947898864746,9.861738204956055,-13.097031593322754,8.583070755004883,4.9393229484558105,13.515206336975098,-0.3971205949783325,9.786916732788086,-13.916240692138672,11.60568904876709,12.9624662399292,2.315195083618164,-22.27522850036621,-16.947717666625977,-7.0497612953186035,-22.05488395690918,-12.24247932434082,5.2421793937683105,11.646834373474121,2.8495354652404785,9.510917663574219,0.8473424911499023,9.263565063476562,9.367258071899414,-16.736812591552734,-3.689835786819458,-7.883089542388916,-21.897130966186523,-14.80970573425293,-0.9822593927383423,10.40229606628418,1.9415991306304932,-21.07198715209961,6.846729278564453,-19.80729103088379,3.567939519882202,12.371634483337402,8.542186737060547,-3.143512487411499,-0.11894107609987259,8.827360153198242,10.100005149841309,4.622774124145508,0.020142629742622375,-14.88895320892334,-19.63582420349121,2.7901527881622314,-12.848873138427734,0.7075497508049011,-11.49273681640625,-12.626259803771973,2.8492019176483154,-0.10570771247148514,-1.445598840713501,-15.967581748962402,7.282064914703369,-12.24155330657959,5.204379081726074,-4.489097595214844,0.43891584873199463,0.4243553876876831,17.816957473754883,4.6534104347229,-1.1333800554275513,-6.105170726776123,-4.393860816955566,7.5618672370910645,-20.085296630859375,12.304920196533203,3.3437089920043945,3.88858962059021,-16.876689910888672,3.3651418685913086,4.693548202514648,8.346870422363281,6.934348106384277,6.663080215454102,4.534462928771973,15.23065185546875,13.807072639465332,-12.187422752380371,11.82558822631836,-10.14797306060791,-5.868387222290039,4.5751495361328125,-4.543626308441162,2.3155689239501953,3.6191203594207764,7.032509803771973,9.962474822998047,-10.710479736328125,-17.5049991607666,12.358501434326172,-3.4638028144836426,15.376120567321777,7.618788719177246,5.541233539581299,1.1042448282241821,9.380106925964355,3.982818126678467,-0.45306268334388733,6.856328010559082,-7.02871561050415,-16.821212768554688,-12.60173225402832,2.9397244453430176,10.322805404663086,-20.399126052856445,-10.426727294921875,15.736248016357422,-3.7230117321014404,0.37048134207725525,-0.9520490169525146,-10.244617462158203,-5.124747276306152,-2.470978021621704,0.36234599351882935,-9.935905456542969,-1.5613797903060913,-18.693368911743164,9.122302055358887,13.422735214233398,-22.141971588134766,-1.8445053100585938,15.24892807006836,-1.078279972076416,-18.70203399658203,2.728038787841797,12.128030776977539,-0.1437617838382721,-0.9381549954414368,5.804267883300781,-6.214653015136719,0.3528520166873932,-20.846572875976562,11.646848678588867,-1.7134569883346558,3.5026867389678955,-13.986771583557129,13.716565132141113,-7.175413608551025,2.2544243335723877,1.2019438743591309,1.7227747440338135,-4.250019550323486,-4.187675952911377,9.923741340637207,1.9518165588378906,-3.368231773376465,5.675948143005371,15.41492748260498,2.3906948566436768,-17.707197189331055,2.3158915042877197,9.731791496276855,-17.36197280883789,2.3640105724334717,6.329353332519531,8.392114639282227,-17.49581527709961,10.254988670349121,-23.358766555786133,0.20580944418907166,11.744690895080566,10.94032096862793,4.253039836883545,13.30222225189209,6.396235466003418,4.239799499511719,6.0399489402771,4.954520225524902,6.854895114898682,-7.566978931427002,-0.3509591519832611,6.239846229553223,-4.459911823272705,0.593124270439148,-2.0063180923461914,-7.04953145980835,6.179069519042969,3.9016201496124268,1.0021381378173828,-15.319916725158691,-3.7154617309570312,6.8877177238464355,2.043644428253174,10.885167121887207,-4.302771091461182,-1.3008897304534912,-16.62188720703125,8.210514068603516,0.263913631439209,-1.2294631004333496,-8.636458396911621,-7.925596714019775,-4.9349775314331055,4.2397990226745605,-1.5794620513916016,11.833861351013184,2.128568172454834,17.301719665527344,10.571861267089844,1.4540220499038696,12.847671508789062,-5.570830345153809,0.002110315253958106,-0.7287008762359619,-7.518420219421387,2.8372318744659424,-3.062211513519287,-5.328245639801025,-14.383512496948242,-2.9712884426116943,-12.496442794799805,-14.481425285339355,-11.894787788391113,-8.594090461730957,-3.2299869060516357,5.784951210021973,3.4942896366119385,5.769034385681152,10.58759880065918,2.529346227645874,7.706188678741455,10.402294158935547,11.833197593688965,13.16814136505127,3.457383632659912,14.586526870727539,3.896137237548828,0.11627015471458435,-18.751256942749023,-11.518223762512207,3.7587857246398926,5.793739318847656,-6.9704132080078125,11.998138427734375,2.6543776988983154,-10.2255859375,-12.687495231628418,-7.187164783477783,12.562070846557617,-21.707687377929688,4.229912757873535,-12.753947257995605,4.117599964141846,-11.822638511657715,5.091869831085205,3.827833652496338,-3.630530595779419,-4.093161106109619,1.3414398431777954,10.25502872467041,16.645723342895508,-20.771238327026367,3.348371982574463,8.848406791687012,-6.273538112640381,-3.3097147941589355,-19.30322265625,-12.546438217163086,-5.638386249542236,-3.4778871536254883,8.812822341918945,-10.371060371398926,-15.706598281860352,-13.559330940246582,2.7803969383239746,0.705134391784668],\"yaxis\":\"y\"}],                        {\"legend\":{\"tracegroupgap\":0},\"margin\":{\"t\":60},\"template\":{\"data\":{\"bar\":[{\"error_x\":{\"color\":\"#2a3f5f\"},\"error_y\":{\"color\":\"#2a3f5f\"},\"marker\":{\"line\":{\"color\":\"#E5ECF6\",\"width\":0.5},\"pattern\":{\"fillmode\":\"overlay\",\"size\":10,\"solidity\":0.2}},\"type\":\"bar\"}],\"barpolar\":[{\"marker\":{\"line\":{\"color\":\"#E5ECF6\",\"width\":0.5},\"pattern\":{\"fillmode\":\"overlay\",\"size\":10,\"solidity\":0.2}},\"type\":\"barpolar\"}],\"carpet\":[{\"aaxis\":{\"endlinecolor\":\"#2a3f5f\",\"gridcolor\":\"white\",\"linecolor\":\"white\",\"minorgridcolor\":\"white\",\"startlinecolor\":\"#2a3f5f\"},\"baxis\":{\"endlinecolor\":\"#2a3f5f\",\"gridcolor\":\"white\",\"linecolor\":\"white\",\"minorgridcolor\":\"white\",\"startlinecolor\":\"#2a3f5f\"},\"type\":\"carpet\"}],\"choropleth\":[{\"colorbar\":{\"outlinewidth\":0,\"ticks\":\"\"},\"type\":\"choropleth\"}],\"contour\":[{\"colorbar\":{\"outlinewidth\":0,\"ticks\":\"\"},\"colorscale\":[[0.0,\"#0d0887\"],[0.1111111111111111,\"#46039f\"],[0.2222222222222222,\"#7201a8\"],[0.3333333333333333,\"#9c179e\"],[0.4444444444444444,\"#bd3786\"],[0.5555555555555556,\"#d8576b\"],[0.6666666666666666,\"#ed7953\"],[0.7777777777777778,\"#fb9f3a\"],[0.8888888888888888,\"#fdca26\"],[1.0,\"#f0f921\"]],\"type\":\"contour\"}],\"contourcarpet\":[{\"colorbar\":{\"outlinewidth\":0,\"ticks\":\"\"},\"type\":\"contourcarpet\"}],\"heatmap\":[{\"colorbar\":{\"outlinewidth\":0,\"ticks\":\"\"},\"colorscale\":[[0.0,\"#0d0887\"],[0.1111111111111111,\"#46039f\"],[0.2222222222222222,\"#7201a8\"],[0.3333333333333333,\"#9c179e\"],[0.4444444444444444,\"#bd3786\"],[0.5555555555555556,\"#d8576b\"],[0.6666666666666666,\"#ed7953\"],[0.7777777777777778,\"#fb9f3a\"],[0.8888888888888888,\"#fdca26\"],[1.0,\"#f0f921\"]],\"type\":\"heatmap\"}],\"heatmapgl\":[{\"colorbar\":{\"outlinewidth\":0,\"ticks\":\"\"},\"colorscale\":[[0.0,\"#0d0887\"],[0.1111111111111111,\"#46039f\"],[0.2222222222222222,\"#7201a8\"],[0.3333333333333333,\"#9c179e\"],[0.4444444444444444,\"#bd3786\"],[0.5555555555555556,\"#d8576b\"],[0.6666666666666666,\"#ed7953\"],[0.7777777777777778,\"#fb9f3a\"],[0.8888888888888888,\"#fdca26\"],[1.0,\"#f0f921\"]],\"type\":\"heatmapgl\"}],\"histogram\":[{\"marker\":{\"pattern\":{\"fillmode\":\"overlay\",\"size\":10,\"solidity\":0.2}},\"type\":\"histogram\"}],\"histogram2d\":[{\"colorbar\":{\"outlinewidth\":0,\"ticks\":\"\"},\"colorscale\":[[0.0,\"#0d0887\"],[0.1111111111111111,\"#46039f\"],[0.2222222222222222,\"#7201a8\"],[0.3333333333333333,\"#9c179e\"],[0.4444444444444444,\"#bd3786\"],[0.5555555555555556,\"#d8576b\"],[0.6666666666666666,\"#ed7953\"],[0.7777777777777778,\"#fb9f3a\"],[0.8888888888888888,\"#fdca26\"],[1.0,\"#f0f921\"]],\"type\":\"histogram2d\"}],\"histogram2dcontour\":[{\"colorbar\":{\"outlinewidth\":0,\"ticks\":\"\"},\"colorscale\":[[0.0,\"#0d0887\"],[0.1111111111111111,\"#46039f\"],[0.2222222222222222,\"#7201a8\"],[0.3333333333333333,\"#9c179e\"],[0.4444444444444444,\"#bd3786\"],[0.5555555555555556,\"#d8576b\"],[0.6666666666666666,\"#ed7953\"],[0.7777777777777778,\"#fb9f3a\"],[0.8888888888888888,\"#fdca26\"],[1.0,\"#f0f921\"]],\"type\":\"histogram2dcontour\"}],\"mesh3d\":[{\"colorbar\":{\"outlinewidth\":0,\"ticks\":\"\"},\"type\":\"mesh3d\"}],\"parcoords\":[{\"line\":{\"colorbar\":{\"outlinewidth\":0,\"ticks\":\"\"}},\"type\":\"parcoords\"}],\"pie\":[{\"automargin\":true,\"type\":\"pie\"}],\"scatter\":[{\"marker\":{\"colorbar\":{\"outlinewidth\":0,\"ticks\":\"\"}},\"type\":\"scatter\"}],\"scatter3d\":[{\"line\":{\"colorbar\":{\"outlinewidth\":0,\"ticks\":\"\"}},\"marker\":{\"colorbar\":{\"outlinewidth\":0,\"ticks\":\"\"}},\"type\":\"scatter3d\"}],\"scattercarpet\":[{\"marker\":{\"colorbar\":{\"outlinewidth\":0,\"ticks\":\"\"}},\"type\":\"scattercarpet\"}],\"scattergeo\":[{\"marker\":{\"colorbar\":{\"outlinewidth\":0,\"ticks\":\"\"}},\"type\":\"scattergeo\"}],\"scattergl\":[{\"marker\":{\"colorbar\":{\"outlinewidth\":0,\"ticks\":\"\"}},\"type\":\"scattergl\"}],\"scattermapbox\":[{\"marker\":{\"colorbar\":{\"outlinewidth\":0,\"ticks\":\"\"}},\"type\":\"scattermapbox\"}],\"scatterpolar\":[{\"marker\":{\"colorbar\":{\"outlinewidth\":0,\"ticks\":\"\"}},\"type\":\"scatterpolar\"}],\"scatterpolargl\":[{\"marker\":{\"colorbar\":{\"outlinewidth\":0,\"ticks\":\"\"}},\"type\":\"scatterpolargl\"}],\"scatterternary\":[{\"marker\":{\"colorbar\":{\"outlinewidth\":0,\"ticks\":\"\"}},\"type\":\"scatterternary\"}],\"surface\":[{\"colorbar\":{\"outlinewidth\":0,\"ticks\":\"\"},\"colorscale\":[[0.0,\"#0d0887\"],[0.1111111111111111,\"#46039f\"],[0.2222222222222222,\"#7201a8\"],[0.3333333333333333,\"#9c179e\"],[0.4444444444444444,\"#bd3786\"],[0.5555555555555556,\"#d8576b\"],[0.6666666666666666,\"#ed7953\"],[0.7777777777777778,\"#fb9f3a\"],[0.8888888888888888,\"#fdca26\"],[1.0,\"#f0f921\"]],\"type\":\"surface\"}],\"table\":[{\"cells\":{\"fill\":{\"color\":\"#EBF0F8\"},\"line\":{\"color\":\"white\"}},\"header\":{\"fill\":{\"color\":\"#C8D4E3\"},\"line\":{\"color\":\"white\"}},\"type\":\"table\"}]},\"layout\":{\"annotationdefaults\":{\"arrowcolor\":\"#2a3f5f\",\"arrowhead\":0,\"arrowwidth\":1},\"autotypenumbers\":\"strict\",\"coloraxis\":{\"colorbar\":{\"outlinewidth\":0,\"ticks\":\"\"}},\"colorscale\":{\"diverging\":[[0,\"#8e0152\"],[0.1,\"#c51b7d\"],[0.2,\"#de77ae\"],[0.3,\"#f1b6da\"],[0.4,\"#fde0ef\"],[0.5,\"#f7f7f7\"],[0.6,\"#e6f5d0\"],[0.7,\"#b8e186\"],[0.8,\"#7fbc41\"],[0.9,\"#4d9221\"],[1,\"#276419\"]],\"sequential\":[[0.0,\"#0d0887\"],[0.1111111111111111,\"#46039f\"],[0.2222222222222222,\"#7201a8\"],[0.3333333333333333,\"#9c179e\"],[0.4444444444444444,\"#bd3786\"],[0.5555555555555556,\"#d8576b\"],[0.6666666666666666,\"#ed7953\"],[0.7777777777777778,\"#fb9f3a\"],[0.8888888888888888,\"#fdca26\"],[1.0,\"#f0f921\"]],\"sequentialminus\":[[0.0,\"#0d0887\"],[0.1111111111111111,\"#46039f\"],[0.2222222222222222,\"#7201a8\"],[0.3333333333333333,\"#9c179e\"],[0.4444444444444444,\"#bd3786\"],[0.5555555555555556,\"#d8576b\"],[0.6666666666666666,\"#ed7953\"],[0.7777777777777778,\"#fb9f3a\"],[0.8888888888888888,\"#fdca26\"],[1.0,\"#f0f921\"]]},\"colorway\":[\"#636efa\",\"#EF553B\",\"#00cc96\",\"#ab63fa\",\"#FFA15A\",\"#19d3f3\",\"#FF6692\",\"#B6E880\",\"#FF97FF\",\"#FECB52\"],\"font\":{\"color\":\"#2a3f5f\"},\"geo\":{\"bgcolor\":\"white\",\"lakecolor\":\"white\",\"landcolor\":\"#E5ECF6\",\"showlakes\":true,\"showland\":true,\"subunitcolor\":\"white\"},\"hoverlabel\":{\"align\":\"left\"},\"hovermode\":\"closest\",\"mapbox\":{\"style\":\"light\"},\"paper_bgcolor\":\"white\",\"plot_bgcolor\":\"#E5ECF6\",\"polar\":{\"angularaxis\":{\"gridcolor\":\"white\",\"linecolor\":\"white\",\"ticks\":\"\"},\"bgcolor\":\"#E5ECF6\",\"radialaxis\":{\"gridcolor\":\"white\",\"linecolor\":\"white\",\"ticks\":\"\"}},\"scene\":{\"xaxis\":{\"backgroundcolor\":\"#E5ECF6\",\"gridcolor\":\"white\",\"gridwidth\":2,\"linecolor\":\"white\",\"showbackground\":true,\"ticks\":\"\",\"zerolinecolor\":\"white\"},\"yaxis\":{\"backgroundcolor\":\"#E5ECF6\",\"gridcolor\":\"white\",\"gridwidth\":2,\"linecolor\":\"white\",\"showbackground\":true,\"ticks\":\"\",\"zerolinecolor\":\"white\"},\"zaxis\":{\"backgroundcolor\":\"#E5ECF6\",\"gridcolor\":\"white\",\"gridwidth\":2,\"linecolor\":\"white\",\"showbackground\":true,\"ticks\":\"\",\"zerolinecolor\":\"white\"}},\"shapedefaults\":{\"line\":{\"color\":\"#2a3f5f\"}},\"ternary\":{\"aaxis\":{\"gridcolor\":\"white\",\"linecolor\":\"white\",\"ticks\":\"\"},\"baxis\":{\"gridcolor\":\"white\",\"linecolor\":\"white\",\"ticks\":\"\"},\"bgcolor\":\"#E5ECF6\",\"caxis\":{\"gridcolor\":\"white\",\"linecolor\":\"white\",\"ticks\":\"\"}},\"title\":{\"x\":0.05},\"xaxis\":{\"automargin\":true,\"gridcolor\":\"white\",\"linecolor\":\"white\",\"ticks\":\"\",\"title\":{\"standoff\":15},\"zerolinecolor\":\"white\",\"zerolinewidth\":2},\"yaxis\":{\"automargin\":true,\"gridcolor\":\"white\",\"linecolor\":\"white\",\"ticks\":\"\",\"title\":{\"standoff\":15},\"zerolinecolor\":\"white\",\"zerolinewidth\":2}}},\"xaxis\":{\"anchor\":\"y\",\"domain\":[0.0,1.0],\"title\":{\"text\":\"x\"}},\"yaxis\":{\"anchor\":\"x\",\"domain\":[0.0,1.0],\"title\":{\"text\":\"y\"}}},                        {\"responsive\": true}                    ).then(function(){\n",
       "                            \n",
       "var gd = document.getElementById('a27c3acf-aa47-4157-ad47-379b968899b5');\n",
       "var x = new MutationObserver(function (mutations, observer) {{\n",
       "        var display = window.getComputedStyle(gd).display;\n",
       "        if (!display || display === 'none') {{\n",
       "            console.log([gd, 'removed!']);\n",
       "            Plotly.purge(gd);\n",
       "            observer.disconnect();\n",
       "        }}\n",
       "}});\n",
       "\n",
       "// Listen for the removal of the full notebook cells\n",
       "var notebookContainer = gd.closest('#notebook-container');\n",
       "if (notebookContainer) {{\n",
       "    x.observe(notebookContainer, {childList: true});\n",
       "}}\n",
       "\n",
       "// Listen for the clearing of the current output cell\n",
       "var outputEl = gd.closest('.output');\n",
       "if (outputEl) {{\n",
       "    x.observe(outputEl, {childList: true});\n",
       "}}\n",
       "\n",
       "                        })                };                });            </script>        </div>"
      ]
     },
     "metadata": {},
     "output_type": "display_data"
    }
   ],
   "source": [
    "import plotly.express as px\n",
    "from sklearn.manifold import TSNE\n",
    "\n",
    "reducer = TSNE(n_components=2)\n",
    "\n",
    "coords = reducer.fit_transform(embeddings).transpose()  # Create a 2-D version for visualization\n",
    "dataframe = pd.DataFrame({'text': sentences, 'x': coords[0], 'y': coords[1]})\n",
    "\n",
    "fig = px.scatter(dataframe, x='x', y='y', hover_name='text')\n",
    "fig.show()"
   ]
  },
  {
   "cell_type": "markdown",
   "id": "bafe80c9",
   "metadata": {},
   "source": [
    "### 2. The real deal\n",
    "\n",
    "Now is time to really do the reduction. We create a UMAP reducer with `n_components=5` to get 5-D vectors."
   ]
  },
  {
   "cell_type": "code",
   "execution_count": 70,
   "id": "1f66d01e",
   "metadata": {},
   "outputs": [
    {
     "data": {
      "text/plain": [
       "(332, 5)"
      ]
     },
     "execution_count": 70,
     "metadata": {},
     "output_type": "execute_result"
    }
   ],
   "source": [
    "reducer = UMAP(n_components=5, n_neighbors=5)\n",
    "reduced = reducer.fit_transform(embeddings)\n",
    "reduced.shape  # Should be (*, 5)"
   ]
  },
  {
   "cell_type": "markdown",
   "id": "81cdfba0",
   "metadata": {},
   "source": [
    "## Step 3: Clustering\n",
    "\n",
    "Using the reduced vectors, we can now cluster our tweets.\n",
    "\n",
    "Also following [this post](https://www.atoti.io/topic-modeling-on-twitter-using-sentence-bert/), we use HDBSCAN to cluster out tweets. According to the author, this algorithm is better at filtering out outliers."
   ]
  },
  {
   "cell_type": "code",
   "execution_count": 71,
   "id": "8e88d83f",
   "metadata": {},
   "outputs": [],
   "source": [
    "from hdbscan import HDBSCAN\n",
    "from scipy.cluster.hierarchy import fcluster\n",
    "\n",
    "clusterer = HDBSCAN(min_cluster_size=10)\n",
    "clusterer.fit(reduced)\n",
    "# labels = clusterer.fit_predict(reduced)\n",
    "\n",
    "Z = clusterer.single_linkage_tree_.to_numpy()\n",
    "labels = fcluster(Z, 4, criterion='maxclust')"
   ]
  },
  {
   "cell_type": "code",
   "execution_count": 72,
   "id": "b463d06c",
   "metadata": {},
   "outputs": [
    {
     "data": {
      "text/plain": [
       "<AxesSubplot:ylabel='$\\\\lambda$ value'>"
      ]
     },
     "execution_count": 72,
     "metadata": {},
     "output_type": "execute_result"
    },
    {
     "data": {
      "image/png": "[encoded data removed]",
      "text/plain": [
       "<Figure size 432x288 with 2 Axes>"
      ]
     },
     "metadata": {
      "needs_background": "light"
     },
     "output_type": "display_data"
    }
   ],
   "source": [
    "clusterer.condensed_tree_.plot()"
   ]
  },
  {
   "cell_type": "markdown",
   "id": "c9daa89b",
   "metadata": {},
   "source": [
    "## Step 4: Visualization of results"
   ]
  },
  {
   "cell_type": "code",
   "execution_count": 73,
   "id": "90c57a91",
   "metadata": {},
   "outputs": [
    {
     "data": {
      "application/vnd.plotly.v1+json": {
       "config": {
        "plotlyServerURL": "https://plot.ly"
       },
       "data": [
        {
         "hovertemplate": "<b>%{hovertext}</b><br><br>x=%{x}<br>y=%{y}<br>cluster=%{marker.color}<extra></extra>",
         "hovertext": [
          "Supplier Fosun Pharma will be making an initial payment of €125 mil by year-end for 50 million doses. #FMTNews #China #Vaccine #Covid19 #PfizerBioNTech",
          "Replying to @AnitaOakville @PattyHajdu and 4 others\nphoto-op? don't slow the shipment....",
          "#UnitedStates : The Federal Aviation Administration (FAA) said Saturday it had approved the use of the #PfizerBioNTech #COVID19 vaccine by pilots and air traffic controllers. \n@PIB_India @airnewsalerts",
          "Politico.  December 13, 2020.  FDA's Hahn: Covid-19 vaccine authorization based in 'science and data'\nhttps://politico.com/news/2020/12/13/fdas-hahn-coronavirus-vaccine-approval-science-data-444854…\n#coronavirus #covid19 #coronavirusprevention #CoronaVirusUpdate #CoronavirusVaccine #COVID19Vaccine #PfizerBioNTech #business #technology #datascience",
          "KFDM’s/FOX 4’s @THEPAIGEREPORT1 is at Baptist hospital getting a first hand look at where the Pfizer COVID-19 vaccines will be stored.\n\nTune into KFDM and FOX 4 news to find out how the hospital is preparing. #COVID19 #Vaccine #PfizerBioNTech",
          "Replying to @Anaridis and @Joyce_Karam\nThis brings such a big smile to my face. I love it.",
          "In case anyone is interested here is a link to the #PfizerBioNTech #COVID19Vaccine patient information that is on the @US_FDA site. \n\nThis should be given to every patient who receives the vaccine https://fda.gov/media/144414/download…",
          "Ok I might be late to discovering this but... both #PfizerBioNTech  and #Moderna #COVID19 vaccines are being led by WOMEN @KizzyPhD @drkatherinjansen Women saving the world y’all! ",
          "#SputnikV uses 2 different human adenoviral vectors for 2 vaccine shots to ensure that immunity to the 1st does not make the 2nd less effective. We offered @AstraZeneca to use one of our vectors so they can also have two vectors in their vaccine. AZ confirmed.",
          "No.1 of 2 done.\n\n#ThankYouNHS @NHSuk @MHRAgovuk and #PfizerBioNTech @pfizer for making the #CovidVaccine dream possible and come to fruition so soon in the UK. #HopeForTheFuture @TeamNUH @NUH_AcuteMed",
          "Singapore approves Pfizer vaccine , becomes first south East Asian country to approve the vaccine. Doses will be given from end of December #Singapore #Covid_19 #CovidVaccine #PfizerBioNTech",
          "How the #PfizerBioNTech Vaccine Works?\nThis article made a detailed explanation.\nhttps://nytimes.com/interactive/2020/health/pfizer-biontech-covid-19-vaccine.html…\n\n#COVID19 #CovidVaccine #vaccines #coronavirus #CoronaVaccine #SARSCoV2 #cellbiology #mRNA #biology #biotech #biotechnology",
          "The Advisory Committee on Immunization Practices’ Interim Recommendation for Use of Pfizer-BioNTech COVID-19 Vaccine — United States, December 2020\nvia @CDCgov @CDCMMWR this afternoon.\n\nhttps://cdc.gov/mmwr/volumes/69/wr/mm6950e2.htm?s_cid=mm6950e2_w… \n#COVID19Vaccine #Pfizer #PfizerBioNTech #covid19pandemic",
          "What an apt name: #Portage, Michigan!  #PfizerPlant\n",
          "Toronto to receive Ontario's 1st doses of Pfizer COVID-19 vaccine today\nhttps://indiablooms.com/world-details/USN/27188/toronto-to-receive-ontario-s-1st-doses-of-pfizer-covid-19-vaccine-today.html…\n#Ontario #PfizerBioNTech #COVID19Vaccine #Toronto #FirstDose",
          "#APT29 aka #CozyBear hacker group suspected of hacking #PfizerBioNTech #IP and now federal agencies like U.S. Treasury Department, potentially spying on emails for months. \n\n#Infosec #CyberSecurity https://lnkd.in/g62qMiE",
          "Vaccines save lives  Hopefully HCW can assuage public fear and anxiety regarding this vaccine  so we can finally move forward #VaccinesSaveLives \n#CovidVaccines #PfizerBioNTech \n\n**Coronavirus Update 116: Pfizer COVID 19 Vaccine Explained**",
          "Replying to @cnnbrk\nGood luck with this experimental “vaccin” ",
          "Excited about tomorrow \nSo honoured to be part to this exciting team administering in primary care #Covid_19 #Covid19UK #PfizerBioNTech #BioNTech #CovidVaccine #teamGp #gp #COVID19Vaccine #primarycare #vaccination #Rcgp",
          "The #USA government is prepping millions of doses of the #PfizerBioNTech coronavirus #vaccine for shipment to sites across the nation in support of what may be the most ambitious immunization program in history.\n\n https://bit.ly/3nqxWFI",
          "Getting my first dose of the #PfizerBioNTech #CovidVaccine next weekend and seeing this #UNBOXING just made it so real. Are my hopes for this set too high?#OperationWarpSpeed",
          "Replying to @Anaridis and @devincole\nDr. Blue Suit has been waiting months to show off those moves. Where’s his extended remix?",
          "Can’t wait to take my kids towards herd immunity   \n#vaccines #PfizerBioNTech",
          "Pfizer-BioNTech COVID-19 Vaccine: Donald Trump, Mike Pence & Top US Officials to be Offered Early Access to Newly Approved Vaccine: https://latestly.com/world/pfizer-biontech-covid-19-vaccine-donald-trump-mike-pence-top-us-officials-to-be-offered-early-access-to-newly-approved-vaccine-2196957.html… #coronavirus #Covid_19 @realDonaldTrump @VP @WhiteHouse #PfizerBioNTech",
          "Today I was lucky enough to get vaccinated against #COVID19. I did it not just for myself, but for my patients, my friends and family, and my community. When the vaccine becomes more widely available, I'd urge you to do the same!\n#CovidVaccines #PfizerBioNTech #Thankful",
          "Sunday evening’s shipment is the first of an initial 30,000 doses of the Pfizer vaccine to be spread across 14 distribution centres. #COVID19AB #vaccine #pandemic #PHAC #PfizerBioNTech",
          "The first few million #PfizerBioNtech #vaccines have arrived in the US after a last-minute #emergencyauthorization last Friday. \n\nWill we see #risk #assets rising at the cost of #dollar early in the week today or will #investors wait for #jabs to begin first?",
          "Replying to @AnitaOakville @PattyHajdu and 4 others\nWoo hoo!  Best news! ",
          "\"The [temperature] issue with BioNtech/Pfizer - yes, it's challenging. But we know how to do it\".\n",
          "This vaccine is special because it triggers an immune response without using the actual virus that causes covid-19.\n https://edmonton.ctvnews.ca/mobile/how-the-pfizer-biontech-covid-19-vaccine-works-health-canada-1.5232525… #pfizer #pfizerbiontech #covid19ab #pfizervaccine",
          "I am beyond relieved to share that I’ll be among the first to receive the #CovidVaccine from #PfizerBioNTech. Thank you @DrFNA for helping to make this possible by participating in a Phase 3 trial. Thank you also, for sharing your experience. #KnowledgeIsPower #TheMoreYouKnow",
          "The first trucks loaded with Pfizer’s coronavirus shot pulled out of a Michigan warehouse early Sunday — starting the biggest vaccination effort in American history\n\n#Michigan #Pfizer #PfizerBioNTech #CovidVaccine  \n\nhttps://realtalktime.com/pfizer-covid-vaccine-portage-michigan/…",
          "Replying to @yinonw and @jhaskinscabrera\nThat's why those people should just be living their lives.  And focused protection for the elderly.",
          "Will you be taking the COVID-19 vaccine once available to you? #COVID19 #Pfizer #BioNTech #vaccine #PfizerBioNTech #mRNA #AstraZeneca #coronavirus #usa #Canada #vaccination #CoronaVaccine #pandemic #Biden #trump #OperationWarpSpeed #CovidVaccines #Quarantine #antivaxxers #cdnpol",
          "This mandated anthrax vaccine killed 35k US soldiers* and maimed  many more, at about 2% serious adverse reactions rate. #PfizerBioNTech ‘s info quotes a 4% grade 3 rate! \n\nWatch the compelling testimonials of US & U.K. military an see for yourselves: https://t.co/k2uZDHIlxq",
          "⁦@AvgerinosMoscow⁩ #PfizerBioNTech #FDA approval Apprentice Style!\n⁦@realDonaldTrump⁩: “Approve the #vaccine or you’re fired!”\nNow that’s science!",
          "Building on last week’s ‘trial’ run and extending our vaccination  programme this week . So much effort going on behind the scenes . Trainers  tomorrow team #teampharmacy #lovemyjob #PfizerBioNTech @cab5554 @tracyr09 @Cymraes_Lois @OwenBerwyn",
          "Pfizer-BioNTech’s COVID19 vaccine is also urgently needed for Africa: #Ghana, #Nigeria, #Egypt, #SouthAfrica & rest of Africa \nBy @KwakuAkyeampong \n\nRetweet\n\n#Pfizer #Pfizervaccine #PfizerCovidVaccine #PfizerBioNTech #PfizerBiotech @_AfricanUnion @CNNAfrica @ReutersAfrica #Africa",
          "Replying to @katie_crowfoot @LPTnhs and 2 others\nGood luck, hope it works and the side effects aren't too bad",
          "Replying to @770CHQR\nTruly defines, trickling in ....",
          "@UTSWNews starting the COVID vaccination program today. Socially distanced staff patiently waiting. #CovidVaccine #Covid_19 #PfizerBioNTech",
          "#Pfizervaccine #PfizerBioNTech WHAT'S IN THIS #vaccine? Why #Pfizer is NOT 100% transparent about it? \n#coronavirus #VaccinesWork #VaccinesSaveLives #VaccinoAntiCovid #Dubai\n#Toronto #emirates #SideEffect #allergies\nSource+Copyright- MIT Technology Review",
          "Replying to @DrMarcSiegel @EricShawnTV and @ArthelNeville\nSaid the person pretending to be a scientist as they send the tweet dressed in their pajamas from their mothers basement",
          "I love high quality infographics for getting across multiple ideas quickly \n\nHere is an excellent set from The Factivists on @Instagram (not on @Twitter) on the #PfizerBioNTech #vaccine\n\nhttps://instagram.com/p/CIorEb6no34/?igshid=74fkf2c2vldh…\n\n#Covid19UK #COVID19 #CovidVaccine #mRNA #DocsforVax #MedTwitter",
          "@HeartOTXHeartMD\n",
          "The first COVID-19 vaccine doses have arrived in Oregon.  \n\nWatch #MorningsontheDove from 6am -9am tomorrow for details. \n\n#COVID19Vaccine #PfizerBioNTech #theDove #theDoveTV #theDoveRadio #theDoveNewsroom #Faith #hope #encouragment #affirmation #PNW #Oregon",
          "POTUS Donald Trump declared months ago the military would be rolling out distribution and he was scoffed for it.  He was completely right.  Now, it’s History.\n",
          "Singapore approves @pfizer @BioNTech_Group  vaccine for local use. Vaccine safe to use on people aged 16 and above, and first batch of #PfizerBioNTech vaccine will arrive by end of December.",
          "Replying to @cnnbrk\n@YOUCEFB45681191",
          "Per the CDC, persons with HIV and other immunocompromising conditions may still receive the COVID-19 vaccine unless otherwise contraindicated. #PfizerBioNTech #MedTwitter",
          "Anyone wondering why day after #PfizerBioNTech approval in the UK people were getting vaccinated but all we are told this point in US and #NewYork is it will happen in “next few days” #CovidVaccine",
          "Half way there #COVID19 #CovidVaccine #vaccination #Pfizervaccine #PfizerBioNTech",
          "The hospital I work at has received the vaccine. Our IV room made the first five doses to be given in the state. I’m ready for this bad boy. #CovidVaccine #COVID19 #PfizerBioNTech",
          "#Canadian firm Acuitas - at heart of #PfizerBioNTech #vaccine - great story - @ubcprez #UBC - we helped early on with @NRC_CNRC #IRAP program when the firm was called AlCana Technologies Ltd ... #canpoli",
          "Kirill Dmitriev, RDIF CEO: #SputnikV is showing high efficacy itself and can also be combined with other vaccines. Gamaleya and RDIF welcome joint clinical trial with @AstraZeneca to explore adding #SputnikV human adenoviral vector to AZ vaccine.\nAstraZeneca will test using component of Russia’s Sputnik V in clinical trials of its own vaccine...sputnikvaccine.com",
          "#WATCH: Shipments of initial doses of the COVID-19 vaccines arrived in selected ports of entry in Canada on Sunday night. https://instagram.com/p/CIxZTVAD_tm/?igshid=s6imubrpo54k…\n\nVideo credit: Canadian Armed Forces Combat Camera \n\n#PfizerBioNTech #COVID19 #CovidVaccine #covid19Qc #COVIDCanada",
          "Happy and relieved to have the #PfizerBioNTech #Covidvaccine – amazing work from all at @MHRAgovuk and @NHSuk since it’s less than 2 weeks since CHM recommended that it be approved in the UK. #GetVaccinated!",
          "Explain to me again why we need a vaccine @BorisJohnson @MattHancock #whereareallthesickpeople #PfizerBioNTech #CovidVaccine #coronavirus #COVIDIOTS #saynotorhevaccine #markofthebeast",
          "#BillGates  caught on video admitting #CovidVaccine  will CHANGE our #DNA  FOREVER. https://youtu.be/ksEVaO806Oo via @YouTube He wasn't \"caught on tape\", he PROUDY stated it.\n#Covid_19 #coronavirus   #Pfizer #PfizerBioNTech \n#pfizervccineahoax #COVIDIOTS #AstraZeneca",
          "With #Germany announcing yet its strictest #lockdown starting Wed and #NHS warning #BoJo of a #thirdwave in a letter sent by the group’s CEO, the risk asset basket narrows down to a select few though.\n",
          "There have not been many bright days in 2020 but here are some of the best \n1. #BidenHarris winning #Election2020 \n2. #PfizerBioNTech #CovidVaccine getting @US_FDA #EUA\n3. #ACIP recommending the #PfizerBioNTech #CovidVaccine \n\nLooking ahead\n- 12/15 when I get my #CovidVaccine",
          "I pucking do not intend to get vaccinated. Wht if my employer force to get vaccinated? Like they did for Arogya Setu App.\n\n#FarmBills2020 #WashingtonDC #HongKong #Argentina #PfizerBioNTech",
          "FAQs on Pfizer COVID vaccine.\nThread\n\n1.Which COVID vaccine should I get? Is one better than others? \n\nYou should get the vaccine  you are offered. Getting a large number of people vaccinated is more important than differences in vaccine efficacy",
          "#vaccine #Pfizervaccine #PfizerBioNTech WHAT'S IN THIS VACCINE? #Pfizer is NOT 100% transparent about it.\n#coronavirus #VaccinesWork #VaccinesSaveLives #VaccinoAntiCovid #Dubai\n#Toronto #emirates #SideEffect #allergies\nCopyright- MIT Technology Review",
          " Some #FDA Advisors Tapped to Review #Coronavirus #Vaccines Received Payments from Vaccine Companies\nJust pray that Trump’s  frantic push on new #PfizerBioNTech vaccine without any long term damage or peer review, that we don’t lose even more people",
          "Does anyone have any useful advice/guidance for whether the COVID vaccine is safe whilst breastfeeding? #CovidVaccines #PfizerBioNTech #breastfeeding",
          "https://nytimes.com/live/2020/12/12/world/covid-19-coronavirus/britain-canada-and-the-us-start-their-vaccination-campaigns-and-other-news-from-around-the-world…. #Canada ordered enough of the #PfizerBioNTech #vaccine for all of its people- we were too smart for that... #TrumpWorstPresidentEver  why does anyone support him???",
          "Just hours after being authorized by the #FDA, doses of #PfizerBioNTech #coronavirus #vaccine are being packaged and readied for distribution by UPS and FedEx, the head of Operation Warp Speed said Saturday.",
          "The US Food and Drug Administration (FDA) has granted emergency use authorization to Pfizer-BioNTech's mRNA #COVID19 vaccine making it the first vaccine to receive approval in the USA. #PfizerBioNTech #coronavirus #vaccine @US_FDA @pfizer @BioNTech_Group",
          "Eric Shawn: The vaccine is here...in record time! https://video.foxnews.com/v/6215905201001 thanks @EricShawnTV @ArthelNeville for allowing me to join on this historic day #PfizerBioNTech #PfizerCovidVaccine stop the #COVID19 #pandemic #VaccinesWork #Masks #SocialDistancing #KindnessMatters",
          "Fascinating to see how the messenger RNA vaccine delivery approach has helped enable a dramatically shorter time to market. Viral sequencing selection to stage 1 trials took 20 months with SARS (2003) and is only taking ~3 months with Covid-19. #vaccines #PfizerBioNTech #Moderna",
          "Replying to @charlesadler and @RexChapman\nAtta boy Chuck...",
          "The FDA Authorizes Emergency Use Of The Pfizer Vaccine\nhttp://thenewdispatch.com/the-fda-authorizes-emergency-use-of-the-pfizer-vaccine…\n#PFE #Pfizer #Pfizervaccine #PfizerBioNTech #FDA #CovidVaccine #COVID19Vaccine #COVID19 #COVID #Vaccine #USA #Coronavirus #CoronavirusVaccine #PfizerCovidVaccine #Covid_19 #Vaccination",
          "The US Food and Drug Administration (FDA) issued yesterday the first emergency use authorization of the Pfizer-BioNTech vaccine.\n#Kuwait #BioNtech #PfizerBioNTech #Covid19Vaccine \n\nhttps://thepeninsulaqatar.com/article/13/12/2020/Kuwait-authorizes-emergency-use-of-Pfizer-BioNTech-covid-19-vaccine…",
          "#AstraZeneca to buy pharmaceutical firm #Alexion for $39 billion\nhttp://nationalbusinessmirror.com/astrazeneca-to-buy-pharmaceutical-firm-alexion-for-39-billion/…\n#COVID19vaccine #Pfizer #Pfizervaccine #PfizerBioNTech #PfizerCovidVaccine #astrazenecacovidvaccine #astrazenecacovid19vaccine",
          "We found the guy in the tan coat! \n\"We just wanted to highlight this moment. It's a really big deal. It's such a positive turning point....We wanted to highlight that, to give hope to everyone.\" Armani Thao of \n@The_BMC talked to us about the dance video seen around the world.\n2:1614.8K views",
          "Replying to @TudorGJovin @CooperHealthNJ and 3 others\n",
          "\n",
          "Replying to @AnitaOakville @MaryamMonsef and 5 others\nThank goodness the Federal Liberals are in charge of this roll out ensuring it will be done well!!! Thank you @JustinTrudeau !! And all of the great ministers",
          "Replying to @Anaridis\nIf I worked there I would be the one to throw the whole thing off, they're really good. ",
          "US began shipments of #Covid19 #PfizerBioNTech #vaccine Sunday following final CDC approval. While #pandemic is far from over, investors are seeing light at end of the dark tunnel. Wall Street is expected to kick off Monday in the green - @husseinsayyed \nhttps://financialmirror.com/2020/12/14/us-vaccine-roll-out-lifts-risk-assets-final-stretch-in-brexit-talks…",
          "Turkey’s coronavirus death toll reaches 16,417 @drfahrettinkoca #CoronavirusPandemic #Turkey #PfizerBioNTech #Sinopharm\nhttps://ilkha.com/english/health-life/turkey-s-coronavirus-death-toll-reaches-16-417-11068…",
          "#PfizerBioNTech's #COVID19 vaccines are making their way to distributions sites nationwide. @FedEx says some of the first batches have been safely delivered.",
          "http://Pfizer-Biontech.Com\nUS agency authorizes Pfizer-BioNTech COVID-19 vaccine\nFirst vaccine will be administered in less than 24 hours, says US president\nhttps://aa.com.tr/en/americas/us-agency-authorizes-pfizer-biontech-covid-19-vaccine/2074319…\n#Pfizer  #Biontech  #PfizerBiontech  #Trump  #Ugursahin  #ozlemtureci  #vaccine",
          "Last night, the first #COVID19Vaccines arrived in Canada and as we speak, the first of the vaccines are being administered TODAY!\n\nThe #PfizerBioNTech vaccine requires storage in extremely low temperatures, and are currently being distributed to 14 locations across Canada.",
          "Pfizer-BioNTech COVID-19 Vaccine Side Effects: Canada Warns Allergic People Against Pfizer-BioNTech Coronavirus Vaccine\nhttps://latestly.com/world/canada-warns-allergic-people-against-pfizer-biontech-covid-19-vaccine-2195725.html…\n#PfizerBioNTech #COVID19Vaccine #COVID19VaccineSideEffects #Canada  #Allergic",
          "Surprised to learn those with autoimmune conditions or otherwise immunosuppressed are advised not to receive the #PfizerBioNTech vaccine per to NACI. These are higher risk folks, and not a live vaccine. I understand questions of efficacy but is there really any safety concern?",
          "Replying to @yinonw\n@DrBenTapper1",
          "@LUDOVICOTODINI @Taxistalobbyst   caught on video admitting #Covidvaccine will CHANGE our #DNA FOREVER. https://youtu.be/ksEVaO806Oo via @YouTube #coronavirus #corona #Pfizer #Pfizervaccine \n#PfizerBioNTech #Elections2020 #Election2020  @POTUS \n#JoeBiden #BidenHarris2020 @ASP #COVID",
          "Replying to @KristenRogersMD and @OchsnerHealth\nWhat is the end point ?   The get to a yes point on normal restaurants, normal life, no masks?   What is the standard by which this will be determined?",
          "Replying to @JacksonHealth and @tania_leets\nOur heroes FINALLY getting the PPE they’ve been waiting for.",
          "Replying to @charlesadler\n",
          "Healthcare workers receive the first dosis of Pfizer-BioNtech COVID-19 vaccine at Memorial Healthcare System in Miramar, Florida, U.S., on Monday, Dec. 14 2020. Photographer: Eva Marie Uzcategui/Bloomberg\n#covid19vacccine #pfizerbiontech #healthcareworkers #photojournalism",
          "Health #Canada has warned people allergic to any of the ingredients in the #PfizerBioNTech #COVID19 vaccine not to receive it.",
          "#vaccination #vaccinehesitancy\n",
          "Replying to @AnitaOakville @PattyHajdu and 4 others\nThank you Minister Anand for your dedication & hard work. Canadians are very fortunate to have you serving us as Minister of Procurement in these uncertain times.",
          "Kudos UPS!\n\n@UPS announced on 13th, its involvement & full support of distribution efforts for #PfizerBioNTech's #COVID19 vaccine as part of Operation #WarpSpeed. Deployments began after the federal mandate to distribute vaccines. https://pressroom.ups.com/pressroom/ContentDetailsViewer.page?ConceptType=PressReleases&id=1607744626467-683…\n#UPS #COVID19Vaccine",
          "Replying to @DrKatLiang\nI love some of the replies  \nhttps://twitter.com/giancarlolucia/status/1338547639294414849?s=19…",
          "Just watched @CapehartJ new #thesundayshow. @Maria_Hinojosa correctly stated that there were two deaths among the over 18000 recipients of the #PfizerBioNTech vaccine. However, there is no evidence that the vaccine caused the deaths.",
          "How much did the #fda get paid to approve this all of a sudden now? money makes the world go around. #vaccine #Pfizer #COVID19 #CovidVaccine #PfizerBioNTech",
          "#FDA Gives Guidance on Allergy, Pregnancy Concerns for #COVID Vaccine https://medscape.com/viewarticle/942557?src=soc_tw_share… via @medscape \n#COVID19 #PfizerBioNTech #pandemic #obgyntwitter $PFE #vaccine",
          "Replying to @cnnbrk\nJust a hunch: the distribution of this vaccine is going to be a major cluster f**k.",
          "#BREAKING - just in from @OHAOregon on #COVID19 #vaccine:\n-\"Legacy Health is the first registered COVID-19 vaccine provider in the state to receive the vaccine\"\n-Just under 2,000 doses of the #PfizerBioNTech vaccine arrived this morning.\n#LiveOnK2",
          "More than 1,000 Jackson employees have successfully received their first dose of the #PfizerBioNTech #COVID19 vaccine by 6:30 p.m. today. #JacksonStrong",
          "You're wrong: MALAYSIA has already pre-ordered #PfizerBioNTech #COVID19Vaccine (expected in 2021) plus is part of @WHO's #COVAX and is in China's list of free #CovidVaccine recipient countries: GET YOUR FACTS RIGHT!! \n#COVIDVaccineFacts",
          "\"Expect 145 sites across all the states to receive vaccine on Monday, another 425 sites on Tuesday,\" said the official in charge of the distribution.\n\nRead more: https://bit.ly/37WoZNH\n \n#PfizerBioNTech #COVID19 #vaccine #UnitedStates",
          "Covid Vaccinated!! @SCCM @HMethodistMD @Covid19Docs #vaccination #PfizerBioNTech #CoronaVaccine @pfizer @pfizer_news #Pfizer #CovidVaccine",
          "Replying to @DDNewslive @PIB_India and @airnewsalerts\nडायलिसिस डायरी :  संस्मरण - संस्करण 7 (भाग 2)\n\nपढ़ें  पेज से जुड़कर स्नेह दें \n#निवेदन  #लिंक : \nhttps://facebook.com/2200081763540202/posts/2786532588228447/?sfnsn=wiwspmo…",
          "Replying to @AnitaOakville @PattyHajdu and 4 others\ngood work MAA! ",
          "UPDATED: #YellowFever & #COVID19 #ImmunityPassports - Part Two\n\n#SARSCoV2 #PfizerBioNtech #Britain #December #Christmas #Europe #Australia #Canada #lockdown #VitaminD #winter #travel #tourism #privacy #Trending \n\nhttps://stopcommonpass.org/yellow-fever-covid19-immunity-passports-part-two/…",
          "For all the women and healthcare providers who have been asking about the safety of the #PfizerBioNTech #COVID19Vaccine in pregnant and breastfeeding women here is the recommendations from the #ACIP this morning",
          "#PfizerBioNTech COVID-19 vaccine being distributed; #ElectoralCollege formally casts votes today; #DetroitLions lost to GB; Cleveland MLB team to drop \"Indians\" name. Those stories & more at 7am via http://classicfox.com and 103.9 The Fox mobile app!",
          "Replying to @TyneHealth and @NTCouncilTeam\nGreat news so how do care home residents get there majority won’t be able too attend these sites and there carers they are first on list aren’t they",
          "Replying to @cnnbrk\nPfizer isn’t a part of operation warp speed",
          "The entire ingredients of the #Pfizervaccine: See, it’s just like your #BigMac with a splash of a #superpower to fight #COVID. #PfizerBioNTech #Vaccineswork #yayscience #CovidVaccine #COVID19 #ByeByeCOVID #vaccinehesitancy #vaccine",
          "Historical moment #FirstDose of the #PfizerBioNTech #COVID_19 #Vaccine administered at #UPMC @upmchealthbeat @ Pittsburgh, Pennsylvania https://instagram.com/p/CIyMrMRpVEf/?igshid=1jjtyf253182i…",
          "One of the first vaccines receivers in the US. Momentous for science. Hope has arrived.\n#COVID19 #CovidVaccine #VaccinesSaveLives #PfizerBioNTech #Pfizervaccine",
          "Replying to @Breaking911",
          "True question for #scientists:\n\nAs with many vaccines the #PfizerBioNTech vaccine needs to be given in 2 shots: a #prime, and a #boost (after 4 wks). Would a previous #COVIDinfection serve as a primer? It seems infection itself may not cause (long term) immunity?",
          "Replying to @Anaridis\nOh God. Not this foolishness again.",
          "First Pfizer coronavirus vaccine doses set to arrive at hospitals https://video.foxnews.com/v/6216118293001 #PfizerBioNTech #PfizerCovidVaccine #VaccinesWork @kilmeade @foxandfriends @nyulangone",
          "Had the first dose of my COVID vaccine today. We still have to wear PPE and still socially distant but at least we are on the way to being able to live with this awful disease! #CovidVaccine #PfizerBioNTech",
          "1st doses of #PfizerBioNTech's #COVID19 vaccine arrive in #Canada\n\nBy @helloryanjones\nhttps://cbc.ca/news/politics/first-doses-covid-19-vaccine-1.5839614…",
          "Are politicians #EssentialWorkers?  \n\n#COVID19 #PfizerBioNTech #CovidVaccine #VaccinesWork #ScienceMatters #HealthForAll #healthequity #CoronaVaccine",
          "#PfizerBioNTech #Vaccine hacked a few days ago\n\n#UsTreasury hack announced today. \n\nhttps://foxbusiness.com/technology/u-s-treasury-breached-by-hackers-backed-by-foreign-government-report…\n\nA whole lot of #hacking going on! #Infosec #CyberSecurity \n\nhttps://chron.com/news/article/EU-drug-regulator-hacked-data-on-COVID-19-15789016.php…",
          "The #FDA finally issues #EUA now comes the problem transporting this #PfizerBioNTech vaccine, needs to be kept at -70f and it can only be taken out of storage 4 times. Also you can still infect people after being #vaccinated",
          "It’s here. #Covid_19 #CovidVaccine  #PfizerBioNTech",
          "So incredibly grateful to have received the #PfizerBioNTech #CovidVaccine here @OSUWexMed!  Thanks to everyone who made this possible. #VaccinesWork #VaccinesSaveLives Hope that my colleagues, patients, & family will also have an opportunity to be vaccinated soon. Stay safe!",
          "Thrilled to receive my first dose of the Covid vaccine today. The vulnerable people I visit, support and work with in their own homes will be protected and that is so reassuring! It might be the tug that turns the tanker but at least the bugger is on the move! #PfizerBioNTech",
          "OHSU, Kaiser, St. Alphonsus Medical Center (in Ontario) are expected to get 975 doses each tomorrow.\n\n#LiveOnK2\n",
          "Replying to @AnitaOakville @PattyHajdu and 4 others\nCongratulations, job well done.",
          "Global coronavirus death toll reaches 1,611,637 #CoronavirusPandemic @WHO @Worldometers #PfizerBioNTech #PfizerCovidVaccine\nhttps://ilkha.com/english/health-life/global-coronavirus-death-toll-reaches-1-611-637-11055…",
          "How does the #Moderna #covidvaccine differ from the #PfizerBioNTech #vaccine? We answer this question and more in tonight's @TiaHealth medical segment! Catch us at 6PM! #healthnews #vaccination",
          "Trump announces #vaccine rollout 'in less than 24 hours'\n\nThe first Americans will be vaccinated against #coronavirus in the next 24hrs as the US last night authorised the #Pfizer/Biontech vaccine for emergency use -> http://buff.ly/37cTMqp\n\n#PfizerBioNTech #PfizerVaccine",
          "Replying to @JacksonHealth\n",
          "US HEALTH CARE WORKERS & MOST VULNERABLE TO RECEIVE THE PFIZER-BIONTECH SHOTS\nTrucks on Sunday began shipping millions of doses of Covid-19 vaccine in the United States, as part of the enormous logistics\n#US #HealthcareWorkers #Receive #Vaccines #PfizerBioNTech #DeathToll #Cases",
          "From Tuna #Fish To #COVID19 #Vaccine - How Container Freezers Used To Ship #Seafood Are Given A New Role - http://financetwitter.com/2020/12/from-tuna-fish-to-covid-19-vaccine-how-container-freezers-used-to-ship-seafood-are-given-a-new-role.html… #UnitedStates #Britain #Canada #Coronavirus #COVIDー19 #Pfizer #PfizerBioNTech #FDA #airlines #FedEx #UPS #transport #mRNA #Science #technology",
          "Two people in the United Kingdom have experienced an allergic reaction to the Pfizer/BioNTech COVID-19 vaccine.\nRead more https://bit.ly/3a4PHpY\n\n#VaccineReaction #PfizerBioNTech #Pfizer #BioNTech",
          "Concerned about the side effects of the #PfizerBioNTech #COVID19 vaccine?  Check out my recap ",
          "Replying to @yinonw\nChances are higher that one would die chocking on food than die due to covid.\nNobody skipps a single meal sue to choking risk but many stopped living alltogather due to covid. \nThink about it.",
          "US #COVID19 #Vaccine Shipments to 'Start Rolling' Sunday https://medscape.com/viewarticle/942556?src=soc_tw_share… via @medscape \n#OperationWarpSpeed #PfizerBioNTech #pandemic",
          "Boston health care workers dancing on the sidewalk to celebrate the arrival of the first  covid-19 vaccine.",
          "Approval for #Pfizer / #Biontech vaccine from FDA Advisory Board.\nLAST MINUTE NEWS: The US Food and Drug Administration (FDA) Advisory Board recommended that the Pfizer / Biontech vaccine given emergency use. #FDA #PfizerBioNTech #vaccination",
          "Considerations for the #COVID19Vaccine in Pregnant Women #ACIP\n",
          "Replying to @cnnbrk\nTRUMPVIRUS DEATH TOLL\n\nMar 1 - 1 Dead\n\nApril 1 – 6,460 Dead\n\nMay 1 – 67,044 Dead\n\nJune 1 – 109,509 Dead \n\nJuly 1 - 131,013 Dead\n\nAug 1 – 156,764  Dead\n\nSept 1 – 187,643 Dead\n\nOct 1 – 208,347 Dead\n\nNov 1 – 236,072 Dead\n\nNov 7 – 242,103 Dead\n\nDecember 12 302,762",
          "@JoeBiden @KamalaHarris Thanks to you both for bringing in fresh air, positivity and God’s hand and pushing us forward as we begin to crush this beast #PfizerBioNTech #pfizerproud #sciencewillwin #BidenHarris",
          "Salute to the #HealthcareHeroes who are risking their life everyday taking care of #COVID patients! May God give them strength! Help is on the way!\n#PfizerCovidVaccine \n#PfizerBioNTech",
          "And yes, odds of death for the elderly and at-risk is higher.... this is why our policies which try to prevent the healthy from being exposed has only shifts more of the burden to the elderly, and is therefore sadly responsible for more overall deaths.\n",
          "Replying to @cnnbrk\nI’ll be on the sidelines watching for the Zombie Apocalypse! ....",
          "#AstraZeneca to buy pharmaceutical firm #Alexion for $39 billion\n\n#COVID19vaccine #Pfizer #Pfizervaccine #PfizerBioNTech #PfizerCovidVaccine #astrazenecacovidvaccine #astrazenecacovid19vaccine",
          "What are the ingredients of Pfizer’s covid-19 vaccine? | MIT Technology Review #vaccination #CovidVaccine #Pfizer #Pfizervaccine #PfizerBioNTech",
          "Replying to @charlesadler and @RexChapman\nI don't believe it was a country. It was a worldwide network of researchers grinding the numbers and cleaning the glassware and posting the raw data to prevent duplication of work already done...my kind of new,world order..?",
          "Grossly unfair and absolutely inevitable - With First Dibs on Vaccines, Rich Countries Have ‘Cleared the Shelves’ https://nytimes.com/2020/12/15/us/coronavirus-vaccine-doses-reserved.html?smid=tw-share… #COVID19 #coronavirus #vaccine #Pfizer #BioNTech #PfizerBioNTech #Moderna #AstraZeneca #Oxford",
          "Hav genuine ? @ManCityCouncil is #Wythenshawe only place in #Manchester #southmanchester deliverin #covidvaccine #PfizerBioNTech #Pfizervaccine ?When will it made available 2 #Chorlton which has considerable number of over 80’s/homes/independent livin w’health issues @JoMidge?",
          "Replying to @yinonw\nThis is great stuff!",
          "More approvals to #PfizerBioNTech vaccine: #Singapore approves @pfizer #CovidVaccine, expects first shots by December-end.",
          "Replying to @sputnikvaccine and @AstraZeneca\nI wouldn’t trust a medical product from Russia. They poison political opponents.",
          "#Pfizervaccine #PfizerBioNTech\nWhy #Pfizer is NOT 100% transparent about it? #coronavirus #VaccinesWork #VaccinesSaveLives #VaccinoAntiCovid #Dubai\n#Toronto #emirates #SideEffect #allergies\nSource+Copyright- MIT Technology Review",
          "Politico.  December 13, 2020.  FDA's Hahn: Covid-19 vaccine authorization based in 'science and data'\nhttps://politico.com/news/2020/12/13/fdas-hahn-coronavirus-vaccine-approval-science-data-444854…\n#coronavirus #covid19 #coronavirusprevention #CoronaVirusUpdate #CoronavirusVaccine #COVID19Vaccine #PfizerBioNTech #business #technology #datascience",
          "Replying to @yinonw and @scientificecon\nYou are 18X more likely to have permanent heart damage and have 10X more odds of lung damage for every Covid death, among others. So, you may not die but become quite crippled too. I’d rather not take the risk. BTW, the side effects of vaccines seem to be pretty bad too...",
          "Coronavirus vaccine ships today, expect hospitals to be overwhelmed in nine  months  ...with baby deliveries  #COVID19 #vaccination #PfizerBioNTech #mondaythoughts",
          "Good heavens - you are too stupid to reason with even on a slow day. get a dummy for #pademics and slither away already. Give credit to #AngelaMerkel of German for supporting the #PfizerBioNTech #vaccine https://twitter.com/realDonaldTrump/status/1338263195941818370…",
          "Something interesting I learned during an interview with @b_kazaz today: \n\nThere's been a lot of chatter about how cold the #PfizerBioNTech vaccine must be kept. But many vaccines used for livestock around the world must be stored at -200 degrees, so this is nothing **too** new.",
          "Stand-up too trump as the COURTS, other Republicans in office have we wouldn't have 300k plus included in the #TrumpVirusDeathToll or the 16 million confirmed cases. Until #DiaperDon take RESPONSIBILITY for the Cases/Deaths he gets no credit for the VACCINE after all this is all\n",
          "Here are the lipids used in lipid nanoparticle used the #mRNA  BioNTech/Pfizer #PfizerBioNTech  #CovidVaccine The top two are patented by Acutias #Acuitas while 1,2-disteraoyl-sn-glycero-3-phosphocholine and cholesterol are \"natural\" lipids common in many products (and food). 1/3",
          "What a great day for our Country & the World! @realDonaldTrump is ONE DAY CLOSER to leaving @WhiteHouse. The first shipments of the #PfizerBioNTech Vaccines are rolling out, which means we are beginning the end of the #TrumpVirusCatastrophe. Imagine if @GOP had enough Courage too",
          "Replying to @ShafiAhmed5\n",
          "Replying to @cnnbrk\nPfizer wasn't part of operation warp speed",
          "operation to vaccinate begins. As early as today in the nation worst hit by the coronavirus, health care workers and nursing home residents will be among the first to receive the Pfizer-BioNTech shots. Officials said it will likely be months before all those who want it can be\n",
          "Phase 3 begins Dec 28, #PfizerBioNTech vaccine first to arrive in #singapore by end Dec, and shots to be free for all citizens and long-term residents. #COVID19",
          "Replying to @maha_kaissi @UR_Med and 2 others\nSO EXCITED FOR YOU. @2ShotsInTheArm",
          "Replying to @yinonw and @jhaskinscabrera\nTime to ban driving and swimming!",
          "#UnitedStates : The Federal Aviation Administration (FAA) said Saturday it had approved the use of the #PfizerBioNTech #COVID19 vaccine by pilots and air traffic controllers.",
          "#notwastingmyshot 4th person in #Charleston to get the #PfizerBioNTech #CovidVaccine @MUSChealth @ID_MUSC \n\nI feel great and am doing well! I am getting the #vaccine because it helps protect me from getting #COVID19.  I want to stay healthy and help prevent spread of coronavirus.",
          "Infections #worldwide\n-\n#UnitedStates : 220,575\n#Brazil : 43,279\n#Turkey : 30,805\n-\n#coronavirus #Corona #Covid_19 #Covid #COVID19 #vaccine #vaccination #pfizer #Pfizervaccine #PfizerBioNTech #BioNTech #lockdown #virus #China #Wuhan #WuhanVirus #WuhanCoronavirus #VirusCorona",
          "#NEW: @methodistdallas has received its first shipment of #PfizerBioNTech's #COVID19 vaccine. Front line healthcare workers are the first to get the shot. Parkland and UT-Southwestern in Dallas and Texas Health in Fort Worth receive shipments tomorrow.",
          "@L_MitchellODP, every aspect of the vaccination was really well planned and went on smoothly without any hiccups. Thank you and keep up the great work!\n",
          "I’ve never been so excited to get a vaccine \n\n#CovidVaccine #PfizerBioNTech #VaccinesSaveLives #VaccinesWork",
          "\"The Moderna vaccine does not need some of the extra special handling requirements of the one from Pfizer, including ultra-cold freezers,” PM Trudeau said. #covid19vaccine #coronavirusvaccine #moderna #canada #pfizerbiontech",
          "Replying to @cnnbrk\nWhen given the opportunity to purchase additional vaccine doses, Trump passed.\n \nAnd now, fewer Americans will be vaccinated before June.\n \nMake no mistake, Trump's incompetence will cost American lives. It already has.\n \nSo much for America first.",
          "Welp, thanks already aren't going quite as planned with the #PfizerBioNTech #CovidVaccine distribution.  These aren't frontline healthcare workers or nursing home residents.",
          "Wear a mask, wash your hands, and remain socially distant when possible. #stayhome #StayAtHome #StayAtHomeSaveLives #Corona #Covid #coronavirus #pfizer #Pfizervaccine #PfizerBioNTech #BioNTech",
          "Replying to @Samla_Green\nNice one Sam ",
          "MT @murray_nyc Five years ahead of schedule? It’s a pandemic! There was no pre-determined schedule. How about acknowledging #Germany for contributing hundreds of millions of dollars to finance the #PfizerBioNTech vaccine? #TrumpVirus #GOPComplicitTraitors  https://twitter.com/realDonaldTrump/status/1338263195941818370?s=20…",
          "Despite #Lebanon’s dire shortage of foreign exchange, the government expects to sign the $18 million deal for supplies of the #PfizerBioNTech vaccine this week, Health Minister Hamad Hassan told Reuters",
          "“Thanks for being here and help us share the news of this historic moment,” said Dr. @liliabbo.\n0:41379 views",
          "2.Who cannot get the Pfizer COVID Vaccine? \n\nUnder the current EUA - those younger than 16 years cannot get the vaccine.\n",
          "Replying to @tschwarzromond @EricTopol and 3 others\nWhile sovereign independence of assessments is critical to drug safety, the risk/benefit ratio here under emergency use given release of data & ,  and  approvals surely expedites matters? Unless procurement is in doubt.",
          "(ENG) NHS workers: 'Vaccine is a game changer' | #hopenews\n\n#NHSheroes #bbcnews #vaccine #Covid19UK #COVID19 #pandemic #Health #Immunity #PfizerBioNTech #Pfizer #BioNTech",
          "Replying to @AnitaOakville @PattyHajdu and 4 others\nLight at the end of a dark tunnel",
          "#UnitedStates—The first #Covid19 vaccines are going out!\n#CDC officially allows\n#PfizerBioNTech—#coronavirus\n#vaccine to be administered as\nshipments begin in #US\nHealth care workers & long-term\ncare facility residents be first in\nline to receive the shot",
          "All respect to due process but why not give approval now instead of the 29th of December. Surely multiple other countries approving it already is proof enough? #PfizerBioNTech #COVID19 https://rte.ie/news/coronavirus/2020/1212/1183952-covid-ireland/… via @rte",
          "The Vaccine rolled out this week in several countries, bringing hope and scepticism with it. \n\n#vaccine #PfizerBioNTech #Moderna #pandemic #COVID19 #coronavirus",
          "US President Donald Trump announced that the vaccine will be free for all Americans and has thanked all the scientists, doctors, and workers for the vaccine.\n\n#USPresident #DonaldTrump #FreeVaccine #Pfizer #PfizerCovidVaccine #PfizerBioNTech #Coronavirus #COVIDVaccine #MangoNews",
          "The #PfizerBioNTech #CovidVaccine will NOT effect or interact with a person's DNA. DNA are located in the nucleus of the cell, and NOTHING from the vaccine enters the nucleus.",
          "Excited to have received the first part of my #PfizerBioNTech #CovidVaccine today.Impressive resource mobilization on display @CooperHealthNJ leading to a smooth and efficient start to a historic mass vaccination effort.  @CooperNeuroRes @CooperGME @coopermedschool",
          "\"The first batch of doses of Pfizer-BioNTech’s COVID-19 vaccine have arrived in Canada,” PM Trudeau said on Twitter.\n#covid19vaccine, #coronavirusvaccine #pfizerbiontech",
          "Replying to @AnitaOakville @PattyHajdu and 4 others\nThank you for all the hard work you put into getting this shipment here for Canada.",
          "Turkey’s coronavirus death toll reaches 16,417 @drfahrettinkoca #CoronavirusPandemic #Turkey #PfizerBioNTech #Sinopharm\nhttps://ilkha.com/english/health-life/turkey-s-coronavirus-death-toll-reaches-16-417-11068…",
          "Thank you Thank you Thank you to all of the scientists who worked on the development of the vaccine for COVID-19. The first vaccines will be administered today in the US! This is the beginning of the end of the pandemic. #vaccine #Pfizer #PfizerCovidVaccine #PfizerBioNTech",
          "TV ad in 2030: “Did you receive the CV19 vaccine in 2020 or 2021? You are entitled to financial compensation.” #CovidVaccine #corona #COVID #Pfizervaccine #vaccination #PfizerBioNTech #FDA #COVID19Vaccine #Agenda21 #BioNTech",
          "Replying to @Dr_Dee_Kumar\nUnfortunately not recommended at the moment if breastfeeding",
          "Pfizer received emergency use authorization from the Food and Drug Administration for the Covid-19 vaccine developed in partnership with Germany’s BioNTech (BNTX), with trucks rolling out from Pfizer’s Kalamazoo, Michigan, production plant over the weekend #PfizerBioNTech #invest",
          "Received my first dose of the #CovidVaccine #PfizerBioNTech today. I feel very privileged & lucky to have this to protect me & enable me to feel safer delivering care to patients @LPTnhs @BradgateUnit @LPTOTBradgate. Thank you to all involved in #LLR",
          "US is all set to start its #COVID19  #vaccination  drive with the doses of #PfizerBioNTech  #vaccine that is ready to be delivered to hospitals. US comes in the top list of the worst-hit countries from #coronavirus  #pandemic \n\nRead Full Article Here",
          "#New Vaccination campaign begins today in Quebec. Residents at Maimonides will be among the first seniors in #Canada to receive the #PfizerBioNTech #CovidVaccine Quebec Health Min Christian Dubé & Dr. Richard Massé from Public Health will be speaking at 1pm. Photo: CityNews staff",
          "The agency also released new information for health care providers and for patients as the US shipped millions of doses of the vaccine across the country. \n\n#COVID19Vaccine #CoronaVaccine #Pfizervaccine #PfizerBioNTech",
          "Replying to @sputnikvaccine and @AstraZeneca\nAstraZeneca analiza combinar su vacuna con la “Sputnik V”:",
          "Replying to @sputnikvaccine and @AstraZeneca\n",
          "Facts are immutable, Senator, even when you're not ethically sturdy enough to acknowledge them. (1) You were born in Canada. (2) #PfizerBioNTech vaccine was developed in Germany.(3) Scientists behind it, Muslim Turkish immigrants to Germany #UgurSahin & #ÖzlemTüreci @RexChapman",
          "Interesting Watch: @CNN's @NewDay live coverage of the loading of #PfizerBioNTech's vaccine at the Pfizer plant at Portage, Michigan for @Fedex and aerial delivery to various US destinations. #FirstCovid19VaccineShipmentsLeavePfizerPlant",
          "In the year 2022, I will also proudly post a picture of when I eventually receive \"the covid vaccine\"\n#CryMyBelovedCountry #frontlineworkers #PfizerBioNTech",
          "\"mRNA vaccines teach our cells how to make a protein that will trigger an immune response without using the live virus that causes COVID-19. Once triggered, our body then makes antibodies.\"\n\nhttps://canada.ca/en/health-canada/services/drugs-health-products/covid19-industry/drugs-vaccines-treatments/vaccines/pfizer-biontech.html… #mRNA #Pfizer #PfizerBioNTech #Pfizervaccine #VaccinesSaveLives",
          "#vaccine #PfizerBioNTech #Oxford_AstraZeneca #BharatBiotech #SputnikV Most of the companies have submitted application for Emergency Use Authorization (EUA) to the Drugs Controller General of India (DCGI) in India. #DGCI",
          "U.S. expects to have immunized 100 million against #COVID-19 by end of March -Slaoui https://reut.rs/2Km4KB3 #Covid_19 #vaccine #Trump #Biden #Fauci #WhiteHouse #Washington #NewYork #health #pharma #bigpharma #biotech #Pfizer #PfizerBioNTech #Pfizervaccine #Moderna #AstraZeneca",
          "@ElsTorreele \n@kamarulbahrin\n",
          "Replying to @DrMarcSiegel @kilmeade and 2 others\nWhy are medical staff under 50 with no co-mordities getting the vaccine before people over 75 or in LTC?",
          "Have to agree: UK, US vaccinate with technology pioneered in 2 German, one US-Biotechs; US celebrates distribution of millions #PfizerBioNTech dosages; #EU still caught up in paperwork? @EricTopol @ewanbirney @jwoodgett @METorresPadilla @MatthiasTschop\nhttps://eu.freep.com/story/news/health/2020/12/13/pfizer-covid-19-vaccines-kalamazoo-michigan/6529215002/…",
          "Replying to @ShafiAhmed5\nCongrats!!!",
          "while deaths are closing in on the 300,000 mark... millions of people wait #PfizerBioNTech #Vaccine !\n-\nThe first US #COVID19Vaccine shipments will arrive at 145 locations around the country on Monday morning, #USArmy General Gus Perna said on #Saturday during a press briefing.",
          "For an in-depth look into its repercussions, read @_whitneywebb 's   \"Engineering Contagion\" investigative series here:\nEngineering Contagion - Investigative SeriesDuring the presidency of George H.W. Bush in the early 1990s, something disturbing unfolded at the U.S.’ top biological warfare research facility at Fort Detrick, Maryland. Specimens of highly...unlimitedhangout.com",
          "it is a bit sad to claim the fame for success of #vaccination on patriotic competition between USA, Canada, UK and EU.\nwe are in it together, we win it together. All those companies #PfizerBioNTech #Biontech #AstraZeneca #Moderna we can all be proud of modern science & technology",
          "Replying to @JacksonHealth\nGreat !!!!!",
          "Turkey’s death toll from COVID-19 rises to 16,881 @drfahrettinkoca #coronavirus #PfizerBioNTech #Sinovac\nhttps://ilkha.com/english/world/turkey-s-death-toll-from-covid-19-rises-to-16-881-11101…",
          "Replying to @KwakuAkyeampong @_AfricanUnion and 2 others\nOh so you have given Western Sahara to Morocco too? Hmmm",
          "COVID 19 Vaccination. Latest Update.\nhttps://youtu.be/XBVOE0-lLV4 \n@YouTube \n@YouTubeCreators @YouTubeTrends @YouTubeIndia @YouTubeTV \n#COVID19 \n#CovidVaccine \n#COVID \n#CoronaVaccine \n#Pfizervaccine \n#PfizerBioNTech \n#adarpoonawalla",
          "Kuwait authorizes emergency use of Pfizer-BioNTech COVID-19 vaccine\nFor all COVID news, visit: https://bit.ly/34606y8\nhttps://news.writecaliber.com/healthcare-kuwait-coronavirus-kuwait-authorizes-emergency-use-of-pfizer-biontech-covid-19-vaccine/…\n#Kuwait #PfizerBioNTech #CovidVaccine",
          "#Pfizervaccine is unlikely to be available in India for mass distribution. Read to find out why.\n\n#PfizerBioNTech #Pfizer #COVIDVaccine #Coronavirus #CoronaVaccine",
          "We're talking about HUMAN LIVES here!\n\nLet's not repeat the mistake of the past! #Dengvaxia jeopardized many lives of our children.\n\nIf #PfizerBioNTech is most suitable then, let's have it! Let's not settle for less!\n\nMany of our Kababayans are skeptical w/\nChina #Sinovac",
          "Replying to @cnnbrk\nMoney can buy FDA approvals quickly. Money can buy everything. ",
          "@CDCDirector Redfield has just signed off on this recommendation. #CDC Panel Recommends #Pfizer's #COVID19 #Vaccine for People 16 and Over https://medscape.com/viewarticle/942558?src=soc_tw_share… via @medscape \n#PfizerBioNTech $PFE #IDtwitter #MedTwitter",
          "The US public will start receiving the Pfizer/BioNTech coronavirus vaccine from Monday after it was authorised for emergency use https://colombogazette.com/2020/12/13/first-round-of-us-vaccinations-to-begin/… via @colombogazette #US #vaccine #PfizerBioNTech #coronavirus #COVID19 #Covid_19",
          "Odds of death from an actual covid infection if you are under 50 is somewhere between odds of death by sunstroke and electrocution/radiation.\n\nYou won't hear this from the mainstream media, but the numbers are based on the CDC and National Safety Council, and easy to calculate.",
          "Dr. Kathy Lofy says the vaccine will be a new tool in our tool box, and says she’ll also get vaccinated as soon as she’s eligible. \n\nAlso says she personally reviewed #PfizerBioNTech Phase 3 trial info, and fully agrees w/ FDA decision to approve #Q13FOX #COVID19",
          "The synthesis of the Acuitas lipids is described in the patent linked below. ALC-0315 seems to be lipid III-3 in this patent and if so, the synthesis proceeds in 3 steps as per below scheme.  2/3 https://patents.google.com/patent/WO2018081480A1/en…\n",
          "Privileged be offered the #PfizerBioNTech vaccine. I would encourage everyone to take it up. It’ll help protect people around you, yourself and squeeze out #COVID19. A huge thank you to our magnificent #NHS staff, @MattHancock, @Jesse_Norman (Kate Bingham), @AllanNixon",
          "First Vaccine Shots in the US\nWatch video at https://youtu.be/y2eHlKSufbE\n\n#FirstVaccineShots #COVID #COVID19 #pfizervacine #BioNTech #BioNTechVacine #Pfizer #PfizerBioNTech",
          "Before you say you WILL OR WON’T take Pfizer’s vaccine for COVID-19 Read the report. https://fda.gov/media/144245/download?fbclid=IwAR2B6GHvblDaAsbjEj7Y6N_iS7lWCyF8iBpaPNoJWqH8EyUpjwJl3I6d1GE… #Pfizer #BioNTech #PfizerBioNTech #vaccine #CovidVaccines #coronavirus #Pfizervaccine \n#COVID19",
          "IT HAPPENED!!!!!!!! I got my first dose of the #PfizerBioNTech vaccine today - THE BEST HOLIDAY PRESENT EVER!!! Also pretty stoked to be named “the most excited person we’ve vaccinated today”!  Thank you @UR_Med! @URMed_GCH @pfizer (Please enjoy my windswept hair of excitement)",
          "WATCH LIVE: @JacksonHealth System news conference on receiving its first shipment of the #PfizerBioNTech COVID-19 vaccine today.\nLIVE STREAM: https://cbsloc.al/2YKv7T6",
          "Members of the @teamsters delivered the first #COVID19Vaccine this morning\n#teamsters\n#UPS\n#COVID19 \n#Pfizer \n#Pfizervaccine \n#PfizerBioNTech",
          "\n",
          "Interesting and very detailed article showing up how a well tested #supplychain, with #sharedvisibility will help delivering #PfizerBioNTech #COVIDー19 vaccines in each US area.",
          "Both recipients were over 55. One person had a heart attack 62 days after dose 2 and died 3 days later. The second person died from atherosclerosis 3 days after the first dose. So, no clear causal relationship between vaccination and death.\n",
          "Replying to @ShafiAhmed5\nWell done! Looks like most of us will be waiting a couple of months till we get to the top of the list. Trusts appear to have a differing approach to vaccinating staff .. despite the same government directive.",
          "@CNN @fox7austin @KXAN_News @TheBeatWithAri anyone?\n",
          "Here we go! Grateful to be among the first group of vaccinated healthcare workers in Tampa/FL against #COVID19 \n\nhighlights:\n-  no live or attenuated virus strains \n- 2-part vaccination\n- 20,000 in trial with 0 fatalities\n- 95% efficacy\n\n#CovidVaccine #PfizerBioNTech",
          "UPS, FedEx Collaborate to Ship Pfizer-BioNTech COVID-19 Vaccines in US\nhttps://latestly.com/agency-news/world-news-ups-fedex-collaborate-to-ship-pfizer-biontech-covid-19-vaccines-in-us-2195745.html…\n#UPS #FedEx #PfizerBioNTech #PfizerCovidVaccine #COVID19Vaccine",
          "#USA to start #vaccination from today! It has according to latest figures maximum #coronavirus cases (over 16.7 million) and deaths ( last count 304,459). The #vaccination drive will start from today (Dec 14) with #PfizerBioNTech’s #vaccine. \n#COVID19Vaccine",
          " #FDA #PfizerBioNTech #OperationWarpSpeed #CoronaVaccine #grateful #COVID #Corona FDA approves Pfizer’s COVID-19 vaccine for emergency distribution in the US",
          "#CovidVaccine \n\nStates will start getting #COVID19Vaccine Monday, #US says \n#pakustv #NYC #Healthcare #GlobalGoals #PfizerBioNTech",
          "COVID-19 vaccines have safely departed out of Grand Rapids and are continuing their journey to their final destinations.\n",
          "Replying to @JacksonHealth\nPoor souls.",
          "#coronavirus #SputnikV #AstraZeneca #PfizerBioNTech #Moderna #Covid_19 Russian vaccine is created to last 2-4 years after vaccination & gives 96% protection guarantee. Pfizer, AZ, Moderna at max 4 months & huge allergic side effects. This means frequency of jab could kill you. https://twitter.com/elimeliandme/status/1337858199140118533…",
          "In further #Phase3 details from @sporeMOH attractions may start applying to the Singapore Tourism Board (STB) @VisitSingapore to increase operating capacity from 50% to up to 65%\nhttps://moh.gov.sg/news-highlights/details/moving-into-phase-three-of-re-opening…\n",
          "We know wearing a mask when around others, staying at least 6 feet away, avoiding crowds, and washing your hands prevent you from getting the virus, but how can getting the COVID-19 vaccine help?\n\n#COVID19  #Pfizer #PfizerBioNTech  #CDC #maskupwisconsin #StopTheSpreadOfCOVID19",
          "The end is in sight, many of my coworkers and I are getting our first doses of the #PfizerBioNTech #CovidVaccine today. But as Dr. Milani at @OchsnerHealth emphasizes, stay #vigilant, #MaskUp, do your part and protect your community. #Covid_19 We can end this!",
          "Does this vaccine mean that I’m gonna have to eventually wear a proper bra again or are we all in agreement that underwires are the devil and sports bras are the way forward? #Pfizervaccine #CoronaVaccine #AstraZeneca #PfizerBioNTech #COVID19Vaccine #workingfromhome",
          "#COVID19, Sunday morning, 12/13/2020:\n\nConfirmed cases 16,563,650\nDeaths 305,144\n\nAs the #PfizerVaccine rolls out of Michigan, #WhinyLittleBitch #Trump continues his #TantrumTweets about his #Election loss & threatening vetos. What does this model for #Americans?\n\n#38Days",
          "The US public will start receiving the Pfizer/BioNTech coronavirus vaccine from Monday after it was authorised for emergency use https://colombogazette.com/2020/12/13/first-round-of-us-vaccinations-to-begin/… via @colombogazette #US #vaccine #PfizerBioNTech #coronavirus #COVID19 #Covid_19",
          "#AnitaQuidangen, a personal support worker in #Toronto, became one of the first people in #Canada to receive a #COVID19  #Vaccine on Dec. 14, 2020. 0:44\n1st doses of #PfizerBioNTech COVID-19 vaccine in Canada given in Toronto, #Quebec City",
          "#Singapore approves the #PfizerBioNTech #COVID-19 #vaccine \nFirst shipment expected by end-December \n\n#coronavirus #COVID19 #CoronaVaccine #Pfizer #BioNTech",
          "#COVID #PfizerBioNTech #vaccine  #Pennsylvania\nNursing homes in Pennsylvania prepare for COVID-19 vaccine distribution https://msnbc.com/yasmin-vossoughian/watch/nursing-homes-in-pennsylvania-prepare-for-covid-19-vaccine-distribution-97661509725… via @msnbc",
          "With several countries including the US and the UK now approving the use of #PfizerBioNTech's #COVID19Vaccine, #cybercriminals have sensed an opportunity to lure people into buying fake remedies on the dark web, said a report from #cybersecurity firm Check Point.",
          "If science is same everywhere so should be it's results. Entire world should approve vaccine which one country has approved and started using doesn't it makes sense #WHO role have been very wierd, unprofessional and suspicious in this entire pandemic..#vaccine #PfizerBioNTech",
          "Replying to @PSampathkumarMD and @VincentRK\nDo you think there will be enough Pfizer and Moderna doses to get to the high risk chronically ill and the elderly? I’m worried we won’t have enough vaccine to get to us in this first quarter. Then what? Need hope.",
          "Coronavirus: Iran reports 8,201 new cases, 221 deaths in the last 24 hours #Iran #coronavirus #PfizerBioNTech #CovidVaccine\n\nhttps://ilkha.com/english/world/coronavirus-iran-reports-8-201-new-cases-221-deaths-in-the-last-24-hours-11051…",
          "Such a great feeling. A big thank you to all the healthcare professionals; scientists, nurses, doctors, caregivers. #COVID19 #CovidVaccine #PfizerBioNTech #Pfizervaccine",
          "Vaccine!! Anyone?? #covid #Pfizervaccine #PfizerBioNTech",
          "More #HealthcareHeroes from Jackson North Medical Center getting their #COVID19 #PfizerBioNTech vaccine today.",
          "What we can learn from the victory over #Polio\nA good refresher on how polio came to an end. \nLet's not forget #VaccinesWork\n#PfizerBioNTech \n#COVID19",
          "Answers to questions about #COVID #vaccination  https://npr.org/sections/health-shots/2020/12/12/945288710/what-you-need-to-know-as-the-first-covid-19-vaccine-heads-your-way… #vaccine #Covid_19 #healthcare #health #pandemic #FDA #CDC #Pfizer #PfizerCovidVaccine #PfizerBioNTech #PfizerBiotech #Immunity #OperationWarpSpeed #Moderna #rtitbot @Retweet_Lyfe @BlazedRTs",
          "Had my Covid-19 Vaccination, doing my bit helping to save the human race.\nMega sore arm today as expected  small price to pay. Don't want coronavirus a second time.\n#CovidVaccine #Covid19UK #COVID19Vaccine #PfizerBioNTech",
          "Presenting you the top Medical News/Advancement of the past week you don't want to miss!\n\n#docnosofficial #covid19 #covidcount #pfizeruk #pfizervaccine #pfizerbiontech #spinesurgery #spinesurgeryrecovery #yellowfever #medicalnews #healthcare #docnos",
          "Replying to @charlesadler and @RexChapman\n",
          "#INBOX | @GovParsonMO says shipments of the #PfizerBioNTech vaccine will continue to ship to Missouri’s 21 vaccination sites throughout this week. These sites are hospitals and health care facilities. #moleg",
          "Pregnant women may likewise choose to get the vaccine after discussion with her HCP. Need to consider risks and benefits, local COVID19 transmission, personal risk of contracting the virus etc.\n",
          "Replying to @kfdmnews and @THEPAIGEREPORT1\nSeriously.",
          "Replying to @charlesadler and @RexChapman\nThe sad fact is that Canadian conservatives think these guys are a model to emulate. Lets get back to our progressive conservative roots.",
          "Our MD Dr Susannah Thompson pulling out all the stops leading a magnificent team of NHS staff & volunteers tonight as the 1st site in #NorthTyneside goes live to deliver the #PfizerBioNTech vaccine to >80 yr old residents in 1st wave of community #CovidVaccination @NTCouncilTeam",
          "It is coming. Vaccine will be here soon! So excited... #CovidVaccine #covid19 #Pfizervaccine #PfizerBioNTech #maskup",
          "That’s indeed a sight of relief \n\nThe #Saudi health minister @tfrabiah showcased a sample of #PfizerBioNTech vaccine during the state budget press conference, confirming first shipment of the #coronavirus vaccines have already arrived to the Kingdom few hours ago.",
          "With numbers likely to get worse over the holidays, the #vaccine is offering a bright spot in the fight against the #pandemic that's killed nearly 300,000 #Americans.\n#Pfizer #Pfizervaccine #PfizerBioNTech \n@pfizer",
          "The @pfizer-@BioNTech_Group vaccines are now in our U.S. network, and we’ll be delivering them to their destinations soon.  https://fedex.com/en-us/coronavirus/stories.html…",
          "Singapore's plan to tackle #COVID19\nhas been really effective.  \nEarly in pandemic,more than $1 bn was set aside for advanced purchase of vaccine candidates.\n#PfizerBioNTech to be the first vaccine approved by Singapore Health Sciences Authority. Shipment to arrive by Dec end.",
          "US says COVID-19 vaccine to start arriving in states Monday http://wtsp.com/article/news/health/coronavirus/vaccine/covid-19-vaccine-monday/507-ff6d9923-5f64-4429-9251-1a0309ed8444… via @10TampaBay  #Pfizervaccine #Pfizer #PfizerBioNTech #Vaccine #vaccines",
          "Pharmacists are essential for easing patient concerns about the safety of COVID-19 vaccines such as the Pfizer/BioNTech vaccine, a global health expert says in a C+D podcast\n#PfizerBioNTech @OksanaPyzikUCL\n\nhttps://chemistanddruggist.co.uk/feature/academic-pharmacists-critical-easing-covid-19-vaccine-concerns…",
          "Health #Canada has warned people allergic to any of the ingredients in the #PfizerBioNTech #COVID19 vaccine not to receive it.",
          "#Iran has told the World Health Organization it does not intend to import the #PfizerBioNTech Covid-19 #vaccine because it does not have the means to transport it, a health official said on Saturday. This is because the vaccine must be kept at minus-70 degrees. \n #COVID19 #WHO",
          "The announcement comes after federal authorities granted the Pfizer vaccine emergency use authorization.\n\nRead more: http://Oigetit.com\n\n#FDAAuthorized #PfizerBioNTech\n\nVideo credit: @Independent",
          "The first shipments of the #PfizerBioNTech #Covid_19 vaccine will begin arriving in #US states from Monday, an official of President @realDonaldTrump 's administration said.",
          "Delighted that @US_FDA approved vaccine for emergency use.\n",
          "Trump announces #vaccine rollout 'in less than 24 hours'\n\nThe first Americans will be vaccinated against #coronavirus in the next 24hrs as the US last night authorised the #Pfizer/#Biontech vaccine for emergency use -> https://cityam.com/trump-announces-vaccine-rollout-in-less-than-24-hours/…\n\n#PfizerBioNTech #PfizerVaccine",
          "Canada will be receiving up to 200,000 more doses of the #PfizerBioNTech vaccine next week & potentially up to 168,000 #Moderna vaccine doses by the end of year. This means thousands more ians will be vaccinated by the end of December 2020. http://ctv.news/8kj747E via @CTVNews",
          "Replying to @Anaridis\nLove this ",
          "Replying to @charlesadler and @RexChapman\nI remember when he ran for president. I kept saying he's going to have to answer to his Canadian heritage as he wouldn't be illegible anyways. \n\nOh and yeah, pesky facts like that don't exist in his world.",
          "Doses of Pfizer’s Covid-19 vaccines will arrive at 145 US sites on Monday, Operation Warp Speed official says https://cnn.it/3qTPf4a",
          "#BreakingNews A nurse in New York City on Monday became the first person in the United States to receive the coronavirus vaccine, receiving the #PfizerBioNTech shot live on television. (AFP)",
          "Hey @pfizer with respect to your #CovidVaccine, say someone gets vaccinated and builds antibodies, can they donate blood for convalescent plasma treatment of others? #COVID19 #Pfizervaccine #PfizerBioNTech",
          "#Singapore Approves Pfizer #COVID19 Vaccine, First Shipment Expected by End of #December, Says PM Lee Hsien Loong\n#PfizerBioNTech #Pfizervaccine @leehsienloong",
          "Boxes containing the first shipment of the Pfizer-BioNTech #COVID19 #vaccine are prepared to be sent at the #Pfizer Global Supply Kalamazoo manufacturing plant : Morry Gash, Pool #PfizerBioNTech #Pfizervaccine",
          "#UgurSahin #ozlemtureci the #Muslim Scientists Husband-Wife are saving the world with their #PfizerBioNTech #PfizerCovidVaccine #PfizerBiotech #Pfizervaccine #PfizerProud",
          "Replying to @Anaridis and @ScottKirsner\nHow do they have time for this?",
          "What kind of #America will he leave behind?\n-\n#Trump #DonaldTrump #JoeBiden #NewYork #Washington #WhiteHouse #WashingtonDC #HateSpeech #BlackLivesMatter #racism #UnitedStates #MeToo #COVID19 #PoliceBrutality #PoliceViolence #FDA #Pfizer #PfizerBioNTech #vaccine #USA #KamalaHarris",
          "#Singapore became on Monday the first Asian country to approve #PfizerBioNTech's #CoronavirusVaccine and said it expects to start receiving shots by the end of the year",
          "Replying to @AnitaOakville @PattyHajdu and 4 others\nThank you for the organization and foresight that made this arrival happen. @JustinTrudeau",
          "While the world has been on the wrong side of history this year, hopefully, the biggest vaccination effort we've ever known will put us back on the right one https://nbcnews.com/news/us-news/first-trucks-covid-19-vaccine-roll-out-pfizer-plant-michigan-n1251037… @DohaMadani #covid19 #supplychain #logistics #vaccine #unitedstates #pandemic #pfizerbiontech",
          "Replying to @charlesadler and @RexChapman\nPsst... we don't want him back.",
          "Doses of the #PfizerBioNTech vaccine will begin leaving the company's factory in #Kalamazoo #Michigan on Sunday.\nThe #US is seeking to inoculate 20 million people in the first month.\nRead more:",
          "Replying to @charlesadler and @RexChapman\nWell said Charles. Ted Cruz and his ilk have made it very difficult to be a person who is both progressive and conservative.",
          "Tragedy. Another life taken by corporate greed and the evil pharmaceutical companies. #vaccination #vaccine #CovidVaccine #Pfizer #PfizerBioNTech #modernavaccine https://twitter.com/MajorPatriot/status/1339219266906763267…",
          "@AFP #UPDATE The #PfizerBioNTech #Covid-19 vaccine began leaving the company's #Michigan factory on Sunday, set to be injected into the arms of millions of the most vulnerable Americans as the global death toll topped 1.6 million http://u.afp.com/UZZM",
          "This is excellent news!  Our great President Trump and his administration have pushed to get this vaccine ready quickly and have been prepared long in advance to distribute it to the public and that glorious day has now come.  Simply amazing.  \n#PfizerBioNTech",
          "So pleased to get my #PfizerBioNTech #Covid_19 vaccine just now!  \nIt is so important that as many people as possible get vaccinated. Hopefully this is the beginning of the end and 2021 can be better for all of us",
          "Welcoming the 1st #COVID19vaccines to  tonight!\n\nThe 1st 30K doses of #PfizerBioNTech are arriving across the country tonight & tomorrow  initial deliveries of ’s 20M doses of this vaccine.\n\nWhile we have a long way to go, this marks the beginning of our bridge to recovery.",
          "Turkey’s death toll from COVID-19 rises to 16,881 @drfahrettinkoca #coronavirus #PfizerBioNTech #Sinovac\nhttps://ilkha.com/english/world/turkey-s-death-toll-from-covid-19-rises-to-16-881-11101…",
          "Over the weekend, the #FAA issued guidance for pilots following use of the new #PfizerBioNTech #vaccine for #COVID19, generally permitting their ability to fly after a brief waiting period. #flying #pilots",
          "Replying to @AnitaOakville @PattyHajdu and 4 others\nCongratulations - best news ever!!",
          "COVID-19 Vaccine Update: Initial Doses of Pfizer Coronavirus Vaccine in US to Begin from Tomorrow\nhttps://latestly.com/agency-news/world-news-initial-doses-of-pfizer-covid-19-vaccine-in-us-to-begin-from-monday-2195638.html…\n#COVID19Vaccine #PfizerBioNTech #US",
          "#TwitterPoll: DYK: the #UK, #Bahrain, #Canada & the #USA are among the first nations to approve the #PfizerBioNTech #Covid19 #vaccine . \n\nIf a #vaccination is free & accessible where you live, will you plan to get #vaccinated?",
          "“I’m just honored to be one of the first getting vaccinated. Protect yourself and protect your loved ones by getting the vaccine,” said Dr. @liliabbo, chief of infection prevention and infectious diseases at @JacksonHealth. #PfizerBioNTech",
          "@ManchesterHCC @Dr_PWright @GMSCNews @GM_HSC @GMEC_SCN @doctormkumar @ManCityCouncil @AndyBurnhamGM important day for GM. Can’t stress enough the importance of Covid -19 vaccine #CovidVaccines #PfizerBioNTech #Covid_19 #staysafe",
          "Replying to @AnitaOakville @PattyHajdu and 4 others\nNice",
          "Replying to @Anaridis\nMust be tough in their 24/7 battle to find time for nonsense.",
          "After 10 months and 3 weeks since its first case, finally some relief for Uncle Sam. Vaccination starts Monday. #Pfizervaccine #BioNTech #PfizerBioNTech",
          "This little vial carries so much.\n\nto all the scientists who worked tirelessly to get this out. \n\n#vaccinated #PfizerBioNTech",
          "Replying to @yinonw\nWhat a 130,000+ COVID-19 deaths looks like . . . ",
          "Replying to @FlyingMagazine\nWell. How about driving? New excuse for teachers not to go to work.",
          "Replying to @CurtisSChin\nYes",
          "Replying to @charlesadler and @RexChapman\n@tedcruz this sums up your 'Dear Leaders\" ignoring and dereliction of duty in his response to Covid:",
          "New PODCAST: Vaccinating Our Way Out of the Pandemic\n@larrybrilliant, @PeterHotez & @RaySuarezNews discuss the #PfizerBioNTech, other promising vaccines in the pipeline & what it will take to end the pandemic. https://apple.co/37cNozy",
          "The trump administration failed to deliver on vaccine promises, *shocker* #COVIDIOTS #coronavirus #CovidVaccine #PfizerBioNTech"
         ],
         "legendgroup": "",
         "marker": {
          "color": [
           1,
           1,
           1,
           1,
           1,
           1,
           1,
           1,
           1,
           1,
           1,
           1,
           1,
           1,
           1,
           1,
           1,
           1,
           1,
           1,
           1,
           1,
           1,
           1,
           1,
           1,
           1,
           1,
           1,
           1,
           1,
           1,
           1,
           1,
           1,
           1,
           1,
           1,
           1,
           1,
           1,
           1,
           1,
           1,
           1,
           1,
           1,
           1,
           1,
           1,
           1,
           1,
           1,
           1,
           1,
           1,
           1,
           1,
           1,
           1,
           1,
           1,
           1,
           1,
           1,
           1,
           1,
           1,
           1,
           1,
           1,
           1,
           1,
           1,
           1,
           1,
           1,
           1,
           1,
           1,
           1,
           1,
           1,
           1,
           1,
           1,
           1,
           1,
           1,
           1,
           1,
           1,
           1,
           1,
           1,
           1,
           1,
           1,
           1,
           1,
           1,
           1,
           1,
           1,
           1,
           1,
           1,
           1,
           1,
           1,
           1,
           1,
           1,
           1,
           1,
           1,
           1,
           1,
           1,
           1,
           1,
           1,
           1,
           1,
           1,
           1,
           1,
           1,
           1,
           1,
           1,
           1,
           1,
           1,
           1,
           1,
           1,
           1,
           1,
           1,
           1,
           1,
           1,
           1,
           4,
           1,
           1,
           1,
           1,
           1,
           1,
           1,
           1,
           1,
           1,
           1,
           1,
           1,
           1,
           1,
           1,
           1,
           1,
           1,
           1,
           1,
           1,
           1,
           1,
           1,
           1,
           1,
           1,
           1,
           1,
           1,
           1,
           1,
           1,
           1,
           1,
           1,
           1,
           1,
           1,
           1,
           1,
           1,
           1,
           1,
           1,
           1,
           1,
           1,
           1,
           1,
           1,
           1,
           1,
           1,
           1,
           1,
           1,
           1,
           1,
           1,
           1,
           1,
           1,
           1,
           1,
           1,
           1,
           1,
           1,
           1,
           1,
           1,
           1,
           1,
           1,
           1,
           1,
           1,
           1,
           1,
           1,
           1,
           1,
           1,
           1,
           1,
           1,
           1,
           1,
           1,
           1,
           1,
           1,
           1,
           1,
           1,
           1,
           1,
           1,
           1,
           1,
           1,
           1,
           1,
           1,
           1,
           1,
           1,
           1,
           1,
           1,
           1,
           1,
           1,
           1,
           1,
           1,
           1,
           1,
           1,
           1,
           1,
           1,
           1,
           1,
           1,
           1,
           1,
           1,
           1,
           1,
           1,
           1,
           1,
           1,
           1,
           1,
           1,
           1,
           1,
           1,
           1,
           1,
           1,
           1,
           1,
           1,
           1,
           1,
           1,
           1,
           1,
           1,
           1,
           1,
           1,
           1,
           1,
           1,
           1,
           1,
           1,
           1,
           1,
           1,
           1,
           1,
           1,
           1,
           2,
           1,
           1,
           1,
           1,
           1,
           1,
           1,
           1,
           1,
           1,
           3,
           1,
           1,
           1,
           1,
           1
          ],
          "coloraxis": "coloraxis",
          "symbol": "circle"
         },
         "mode": "markers",
         "name": "",
         "orientation": "v",
         "showlegend": false,
         "type": "scatter",
         "x": [
          7.747313022613525,
          1.8727734088897705,
          9.5405855178833,
          8.582099914550781,
          6.844642639160156,
          2.115821599960327,
          8.004733085632324,
          6.150806427001953,
          8.68255615234375,
          4.812587261199951,
          9.271636962890625,
          8.29703426361084,
          8.872089385986328,
          7.249013900756836,
          6.835134983062744,
          7.969369411468506,
          7.518824577331543,
          5.944224834442139,
          6.5692524909973145,
          8.379873275756836,
          4.776167869567871,
          2.2760982513427734,
          5.915290355682373,
          8.561635971069336,
          5.301624774932861,
          7.256321430206299,
          7.828927040100098,
          2.000633716583252,
          7.316837310791016,
          8.585589408874512,
          4.866700172424316,
          8.060909271240234,
          3.5611774921417236,
          7.538762092590332,
          6.684080600738525,
          7.694365501403809,
          5.528045654296875,
          8.638700485229492,
          4.675196170806885,
          2.8078625202178955,
          5.581291675567627,
          7.86713981628418,
          3.1435022354125977,
          7.956775665283203,
          2.511282205581665,
          6.763031482696533,
          6.3903937339782715,
          9.323220252990723,
          3.0276355743408203,
          8.778075218200684,
          6.458469390869141,
          7.0836639404296875,
          6.302513599395752,
          7.415328502655029,
          8.651803016662598,
          7.10711145401001,
          4.847721576690674,
          7.0434465408325195,
          6.879836559295654,
          6.8780694007873535,
          5.722530364990234,
          6.247921943664551,
          8.64264965057373,
          7.875856876373291,
          8.448118209838867,
          9.077431678771973,
          7.222127437591553,
          8.221664428710938,
          9.346060752868652,
          6.690676212310791,
          8.647130012512207,
          3.2765233516693115,
          9.07776165008545,
          9.423920631408691,
          8.144862174987793,
          2.137195348739624,
          2.539565324783325,
          2.7194154262542725,
          1.6990371942520142,
          3.204604387283325,
          7.654804229736328,
          6.8165669441223145,
          7.27812385559082,
          8.91671371459961,
          6.966981410980225,
          9.060144424438477,
          9.028379440307617,
          2.8539888858795166,
          7.001363277435303,
          4.94944953918457,
          2.30397367477417,
          2.972858190536499,
          6.010596752166748,
          9.25447940826416,
          6.994110584259033,
          1.6694860458374023,
          7.445404529571533,
          2.0857090950012207,
          6.7652482986450195,
          8.298635482788086,
          9.092787742614746,
          6.111326694488525,
          6.4944353103637695,
          6.098368167877197,
          8.295909881591797,
          7.211767673492432,
          7.048084735870361,
          2.8698906898498535,
          2.0904111862182617,
          7.313539981842041,
          9.14737319946289,
          6.642725944519043,
          5.078516483306885,
          3.232257843017578,
          7.792407035827637,
          6.497882843017578,
          6.218782901763916,
          2.8701794147491455,
          8.651849746704102,
          3.249150037765503,
          8.417957305908203,
          5.78187370300293,
          6.805779933929443,
          7.027846336364746,
          8.122956275939941,
          7.56955623626709,
          6.801846504211426,
          5.285206317901611,
          5.659204483032227,
          6.673839092254639,
          1.969512939453125,
          6.868236541748047,
          7.860624313354492,
          8.496659278869629,
          2.5105276107788086,
          7.0963358879089355,
          7.6153645515441895,
          8.95523452758789,
          8.765314102172852,
          6.817331790924072,
          7.457837104797363,
          5.690464973449707,
          9.4107666015625,
          9.10366153717041,
          6.703460216522217,
          5.592896461486816,
          5.183772087097168,
          6.723184108734131,
          5.851254463195801,
          8.128376960754395,
          8.092320442199707,
          7.129932403564453,
          7.537378311157227,
          4.890665531158447,
          2.2145798206329346,
          9.289338111877441,
          8.486896514892578,
          7.9674248695373535,
          8.50948429107666,
          6.835485458374023,
          8.166597366333008,
          7.192483425140381,
          7.253288269042969,
          6.174487113952637,
          8.779886245727539,
          5.965265274047852,
          2.786195755004883,
          3.2824180126190186,
          8.297142028808594,
          9.194548606872559,
          2.0745327472686768,
          3.4169211387634277,
          9.461555480957031,
          5.81926965713501,
          7.254912376403809,
          6.393137454986572,
          5.622132778167725,
          5.765603542327881,
          7.782783031463623,
          6.428829193115234,
          5.062012195587158,
          7.208187580108643,
          2.253110408782959,
          7.145205974578857,
          8.367267608642578,
          1.9453356266021729,
          8.668951988220215,
          9.3030366897583,
          6.173428058624268,
          2.2156965732574463,
          7.945158958435059,
          7.3779401779174805,
          7.664716720581055,
          7.4660491943359375,
          8.533455848693848,
          5.015381813049316,
          6.87155294418335,
          1.7571464776992798,
          6.863982200622559,
          6.252886772155762,
          7.934562683105469,
          9.246966361999512,
          9.518324851989746,
          4.984645843505859,
          7.876627445220947,
          7.9423298835754395,
          7.831042289733887,
          8.46898078918457,
          8.571739196777344,
          7.338372707366943,
          7.106258869171143,
          5.898536682128906,
          8.440347671508789,
          9.171205520629883,
          7.359107971191406,
          2.655627965927124,
          6.120620250701904,
          7.292083263397217,
          2.2285513877868652,
          7.2859578132629395,
          6.809019088745117,
          6.981149673461914,
          2.3366892337799072,
          6.732667446136475,
          1.7596805095672607,
          7.132941246032715,
          9.216826438903809,
          8.258544921875,
          7.063110828399658,
          8.536894798278809,
          9.007631301879883,
          8.401067733764648,
          6.811384677886963,
          8.676548957824707,
          8.816596984863281,
          5.467539310455322,
          6.348736763000488,
          8.389165878295898,
          6.09187650680542,
          6.569877624511719,
          5.213932037353516,
          2.6835224628448486,
          7.703268527984619,
          6.618191242218018,
          6.158733367919922,
          2.915529489517212,
          5.686000823974609,
          7.540698051452637,
          8.03090763092041,
          8.5060396194458,
          7.619516372680664,
          7.15406608581543,
          2.461712121963501,
          8.154991149902344,
          8.653745651245117,
          8.237916946411133,
          5.024366855621338,
          6.2291436195373535,
          6.363455772399902,
          8.41883659362793,
          6.605377674102783,
          9.016654014587402,
          6.702375888824463,
          8.09859561920166,
          7.32143497467041,
          6.349039554595947,
          6.89582633972168,
          5.111965656280518,
          6.399770736694336,
          6.033021926879883,
          5.711034297943115,
          7.495721817016602,
          7.471248149871826,
          6.291557788848877,
          3.1626906394958496,
          7.236084461212158,
          9.007482528686523,
          3.0466232299804688,
          3.5275447368621826,
          5.283141613006592,
          6.307349681854248,
          8.524407386779785,
          6.683414936065674,
          8.03170394897461,
          8.78647232055664,
          7.503010272979736,
          9.082280158996582,
          9.306307792663574,
          9.426909446716309,
          9.37204360961914,
          7.441542148590088,
          9.378512382507324,
          8.35411262512207,
          6.992548942565918,
          2.3939130306243896,
          3.631937026977539,
          7.475962162017822,
          8.518081665039062,
          5.254158020019531,
          9.187830924987793,
          7.110466003417969,
          5.512857913970947,
          3.1451659202575684,
          5.949012279510498,
          9.186296463012695,
          1.685219168663025,
          6.993059158325195,
          3.366825580596924,
          7.504641532897949,
          3.468226432800293,
          6.925870895385742,
          7.050466537475586,
          6.602231502532959,
          5.96353816986084,
          6.797018051147461,
          6.806884765625,
          9.491891860961914,
          1.8902502059936523,
          8.1024808883667,
          7.417624473571777,
          5.688587188720703,
          7.028372764587402,
          2.10054612159729,
          3.1732728481292725,
          6.349959850311279,
          6.529091835021973,
          6.756910800933838,
          3.401196002960205,
          2.7912817001342773,
          3.431631326675415,
          6.520429611206055,
          7.329531192779541
         ],
         "xaxis": "x",
         "y": [
          16.26325035095215,
          9.888144493103027,
          14.841174125671387,
          13.500533103942871,
          15.889588356018066,
          10.262762069702148,
          12.437260627746582,
          14.742701530456543,
          14.847725868225098,
          14.563403129577637,
          15.615050315856934,
          12.795156478881836,
          13.344419479370117,
          15.687670707702637,
          16.943906784057617,
          15.026302337646484,
          13.610407829284668,
          14.552123069763184,
          13.120503425598145,
          16.496570587158203,
          14.528304100036621,
          10.40356159210205,
          15.114829063415527,
          13.988728523254395,
          15.311838150024414,
          16.26430320739746,
          16.353775024414062,
          10.03089427947998,
          15.082027435302734,
          13.05256462097168,
          14.925314903259277,
          16.69011116027832,
          10.116769790649414,
          13.148771286010742,
          14.399951934814453,
          14.434320449829102,
          14.457832336425781,
          13.483940124511719,
          14.101868629455566,
          10.612902641296387,
          15.88968563079834,
          12.74102783203125,
          10.32443618774414,
          12.635313987731934,
          9.55374813079834,
          16.748706817626953,
          14.182367324829102,
          15.560847282409668,
          10.087370872497559,
          13.21292495727539,
          14.427555084228516,
          13.014630317687988,
          15.3758544921875,
          15.140101432800293,
          14.732102394104004,
          16.97576904296875,
          14.73949909210205,
          13.541788101196289,
          12.750065803527832,
          14.09542465209961,
          13.72484016418457,
          14.31240463256836,
          12.959468841552734,
          12.8667573928833,
          14.161063194274902,
          12.49094009399414,
          14.249091148376465,
          16.28138542175293,
          14.165857315063477,
          14.87255859375,
          15.641019821166992,
          10.560317039489746,
          13.803084373474121,
          14.049490928649902,
          13.568158149719238,
          10.515076637268066,
          9.799910545349121,
          10.697834014892578,
          10.089831352233887,
          10.09494400024414,
          16.5645809173584,
          11.158743858337402,
          16.690752029418945,
          13.986572265625,
          16.96394157409668,
          13.011322021484375,
          13.259283065795898,
          10.158548355102539,
          12.778536796569824,
          14.003870964050293,
          9.915578842163086,
          10.44899845123291,
          16.061735153198242,
          12.87457275390625,
          13.75589370727539,
          10.065474510192871,
          15.79745864868164,
          10.437853813171387,
          14.163385391235352,
          13.84070110321045,
          12.718123435974121,
          14.396381378173828,
          16.253339767456055,
          15.99804401397705,
          15.674812316894531,
          16.3380126953125,
          13.058897018432617,
          10.278658866882324,
          9.983226776123047,
          13.004179954528809,
          12.453570365905762,
          15.819005966186523,
          14.306808471679688,
          9.82113265991211,
          12.948838233947754,
          15.3696928024292,
          15.470480918884277,
          10.143255233764648,
          13.027195930480957,
          9.987936973571777,
          17.00177001953125,
          15.690325736999512,
          16.82197380065918,
          13.39390754699707,
          14.862967491149902,
          15.6936616897583,
          13.062088966369629,
          15.124374389648438,
          15.639866828918457,
          16.38042449951172,
          10.020878791809082,
          11.15815544128418,
          12.992924690246582,
          17.121976852416992,
          9.597415924072266,
          16.10870361328125,
          13.504864692687988,
          12.902179718017578,
          12.84151554107666,
          11.953906059265137,
          16.71364402770996,
          15.816007614135742,
          14.081611633300781,
          12.403101921081543,
          11.34273910522461,
          13.922661781311035,
          14.763629913330078,
          12.219657897949219,
          13.331963539123535,
          13.476998329162598,
          12.848347663879395,
          14.464237213134766,
          14.644065856933594,
          14.576249122619629,
          10.106008529663086,
          15.550921440124512,
          14.631351470947266,
          12.945935249328613,
          13.531246185302734,
          12.09711742401123,
          16.73514175415039,
          14.411520957946777,
          15.417121887207031,
          13.725671768188477,
          14.763703346252441,
          13.823576927185059,
          10.235984802246094,
          9.919136047363281,
          17.298357009887695,
          15.703874588012695,
          9.809033393859863,
          9.937217712402344,
          14.804129600524902,
          15.739264488220215,
          12.680129051208496,
          16.273162841796875,
          14.928248405456543,
          15.30691146850586,
          14.079741477966309,
          14.034253120422363,
          14.396016120910645,
          12.826343536376953,
          10.197824478149414,
          14.437847137451172,
          16.363176345825195,
          10.481202125549316,
          13.459976196289062,
          14.188619613647461,
          14.571882247924805,
          9.83371353149414,
          16.8895263671875,
          14.33198070526123,
          14.041543960571289,
          13.959935188293457,
          12.820793151855469,
          15.079258918762207,
          16.883821487426758,
          9.951932907104492,
          11.112221717834473,
          16.044069290161133,
          13.373090744018555,
          12.356351852416992,
          14.128608703613281,
          14.80327033996582,
          16.96610450744629,
          17.42736053466797,
          13.043127059936523,
          14.589081764221191,
          14.633471488952637,
          14.45452880859375,
          15.696375846862793,
          15.430936813354492,
          12.883125305175781,
          14.389103889465332,
          13.262765884399414,
          10.148709297180176,
          14.235848426818848,
          14.632887840270996,
          10.050803184509277,
          16.53649139404297,
          14.061650276184082,
          14.615982055664062,
          9.652641296386719,
          11.27265739440918,
          10.150677680969238,
          12.898030281066895,
          13.634529113769531,
          15.55553150177002,
          14.717077255249023,
          14.102795600891113,
          13.09836483001709,
          16.971397399902344,
          12.007368087768555,
          14.026555061340332,
          14.703241348266602,
          14.931455612182617,
          15.481317520141602,
          13.261122703552246,
          15.26657772064209,
          15.857852935791016,
          15.296488761901855,
          10.782120704650879,
          15.488020896911621,
          13.878427505493164,
          14.310853958129883,
          9.968859672546387,
          15.815502166748047,
          15.703865051269531,
          17.165863037109375,
          13.633407592773438,
          16.89971351623535,
          16.811960220336914,
          9.646345138549805,
          14.47750473022461,
          15.448624610900879,
          13.31544017791748,
          14.213200569152832,
          15.078056335449219,
          13.5862455368042,
          17.076202392578125,
          16.7933406829834,
          15.595906257629395,
          15.839374542236328,
          14.918084144592285,
          14.657492637634277,
          14.547316551208496,
          11.117198944091797,
          14.759750366210938,
          14.950870513916016,
          15.765923500061035,
          13.804380416870117,
          13.097799301147461,
          12.954788208007812,
          13.127378463745117,
          10.371940612792969,
          16.090452194213867,
          12.528158187866211,
          10.423491477966309,
          10.474996566772461,
          14.709272384643555,
          15.063321113586426,
          16.772790908813477,
          14.550867080688477,
          16.09320068359375,
          15.702330589294434,
          16.935504913330078,
          13.206527709960938,
          12.92550277709961,
          12.85623550415039,
          13.978246688842773,
          16.83812713623047,
          14.04511547088623,
          17.22826385498047,
          16.6636962890625,
          10.214261054992676,
          10.658365249633789,
          16.732954025268555,
          17.128490447998047,
          15.08434009552002,
          15.679350852966309,
          16.009958267211914,
          14.166666030883789,
          10.23062515258789,
          13.685301780700684,
          15.765475273132324,
          10.075859069824219,
          14.739681243896484,
          10.465004920959473,
          16.23224449157715,
          10.531314849853516,
          14.684609413146973,
          16.212255477905273,
          14.937567710876465,
          15.115167617797852,
          16.619850158691406,
          11.241351127624512,
          14.69593334197998,
          9.958148956298828,
          17.027278900146484,
          14.784178733825684,
          15.253525733947754,
          13.142098426818848,
          9.997918128967285,
          10.153054237365723,
          15.113348960876465,
          15.523836135864258,
          11.417886734008789,
          10.049764633178711,
          10.60593318939209,
          10.524395942687988,
          14.7159423828125,
          13.78925895690918
         ],
         "yaxis": "y"
        }
       ],
       "layout": {
        "coloraxis": {
         "colorbar": {
          "title": {
           "text": "cluster"
          }
         },
         "colorscale": [
          [
           0,
           "#0d0887"
          ],
          [
           0.1111111111111111,
           "#46039f"
          ],
          [
           0.2222222222222222,
           "#7201a8"
          ],
          [
           0.3333333333333333,
           "#9c179e"
          ],
          [
           0.4444444444444444,
           "#bd3786"
          ],
          [
           0.5555555555555556,
           "#d8576b"
          ],
          [
           0.6666666666666666,
           "#ed7953"
          ],
          [
           0.7777777777777778,
           "#fb9f3a"
          ],
          [
           0.8888888888888888,
           "#fdca26"
          ],
          [
           1,
           "#f0f921"
          ]
         ]
        },
        "legend": {
         "tracegroupgap": 0
        },
        "margin": {
         "t": 60
        },
        "template": {
         "data": {
          "bar": [
           {
            "error_x": {
             "color": "#2a3f5f"
            },
            "error_y": {
             "color": "#2a3f5f"
            },
            "marker": {
             "line": {
              "color": "#E5ECF6",
              "width": 0.5
             },
             "pattern": {
              "fillmode": "overlay",
              "size": 10,
              "solidity": 0.2
             }
            },
            "type": "bar"
           }
          ],
          "barpolar": [
           {
            "marker": {
             "line": {
              "color": "#E5ECF6",
              "width": 0.5
             },
             "pattern": {
              "fillmode": "overlay",
              "size": 10,
              "solidity": 0.2
             }
            },
            "type": "barpolar"
           }
          ],
          "carpet": [
           {
            "aaxis": {
             "endlinecolor": "#2a3f5f",
             "gridcolor": "white",
             "linecolor": "white",
             "minorgridcolor": "white",
             "startlinecolor": "#2a3f5f"
            },
            "baxis": {
             "endlinecolor": "#2a3f5f",
             "gridcolor": "white",
             "linecolor": "white",
             "minorgridcolor": "white",
             "startlinecolor": "#2a3f5f"
            },
            "type": "carpet"
           }
          ],
          "choropleth": [
           {
            "colorbar": {
             "outlinewidth": 0,
             "ticks": ""
            },
            "type": "choropleth"
           }
          ],
          "contour": [
           {
            "colorbar": {
             "outlinewidth": 0,
             "ticks": ""
            },
            "colorscale": [
             [
              0,
              "#0d0887"
             ],
             [
              0.1111111111111111,
              "#46039f"
             ],
             [
              0.2222222222222222,
              "#7201a8"
             ],
             [
              0.3333333333333333,
              "#9c179e"
             ],
             [
              0.4444444444444444,
              "#bd3786"
             ],
             [
              0.5555555555555556,
              "#d8576b"
             ],
             [
              0.6666666666666666,
              "#ed7953"
             ],
             [
              0.7777777777777778,
              "#fb9f3a"
             ],
             [
              0.8888888888888888,
              "#fdca26"
             ],
             [
              1,
              "#f0f921"
             ]
            ],
            "type": "contour"
           }
          ],
          "contourcarpet": [
           {
            "colorbar": {
             "outlinewidth": 0,
             "ticks": ""
            },
            "type": "contourcarpet"
           }
          ],
          "heatmap": [
           {
            "colorbar": {
             "outlinewidth": 0,
             "ticks": ""
            },
            "colorscale": [
             [
              0,
              "#0d0887"
             ],
             [
              0.1111111111111111,
              "#46039f"
             ],
             [
              0.2222222222222222,
              "#7201a8"
             ],
             [
              0.3333333333333333,
              "#9c179e"
             ],
             [
              0.4444444444444444,
              "#bd3786"
             ],
             [
              0.5555555555555556,
              "#d8576b"
             ],
             [
              0.6666666666666666,
              "#ed7953"
             ],
             [
              0.7777777777777778,
              "#fb9f3a"
             ],
             [
              0.8888888888888888,
              "#fdca26"
             ],
             [
              1,
              "#f0f921"
             ]
            ],
            "type": "heatmap"
           }
          ],
          "heatmapgl": [
           {
            "colorbar": {
             "outlinewidth": 0,
             "ticks": ""
            },
            "colorscale": [
             [
              0,
              "#0d0887"
             ],
             [
              0.1111111111111111,
              "#46039f"
             ],
             [
              0.2222222222222222,
              "#7201a8"
             ],
             [
              0.3333333333333333,
              "#9c179e"
             ],
             [
              0.4444444444444444,
              "#bd3786"
             ],
             [
              0.5555555555555556,
              "#d8576b"
             ],
             [
              0.6666666666666666,
              "#ed7953"
             ],
             [
              0.7777777777777778,
              "#fb9f3a"
             ],
             [
              0.8888888888888888,
              "#fdca26"
             ],
             [
              1,
              "#f0f921"
             ]
            ],
            "type": "heatmapgl"
           }
          ],
          "histogram": [
           {
            "marker": {
             "pattern": {
              "fillmode": "overlay",
              "size": 10,
              "solidity": 0.2
             }
            },
            "type": "histogram"
           }
          ],
          "histogram2d": [
           {
            "colorbar": {
             "outlinewidth": 0,
             "ticks": ""
            },
            "colorscale": [
             [
              0,
              "#0d0887"
             ],
             [
              0.1111111111111111,
              "#46039f"
             ],
             [
              0.2222222222222222,
              "#7201a8"
             ],
             [
              0.3333333333333333,
              "#9c179e"
             ],
             [
              0.4444444444444444,
              "#bd3786"
             ],
             [
              0.5555555555555556,
              "#d8576b"
             ],
             [
              0.6666666666666666,
              "#ed7953"
             ],
             [
              0.7777777777777778,
              "#fb9f3a"
             ],
             [
              0.8888888888888888,
              "#fdca26"
             ],
             [
              1,
              "#f0f921"
             ]
            ],
            "type": "histogram2d"
           }
          ],
          "histogram2dcontour": [
           {
            "colorbar": {
             "outlinewidth": 0,
             "ticks": ""
            },
            "colorscale": [
             [
              0,
              "#0d0887"
             ],
             [
              0.1111111111111111,
              "#46039f"
             ],
             [
              0.2222222222222222,
              "#7201a8"
             ],
             [
              0.3333333333333333,
              "#9c179e"
             ],
             [
              0.4444444444444444,
              "#bd3786"
             ],
             [
              0.5555555555555556,
              "#d8576b"
             ],
             [
              0.6666666666666666,
              "#ed7953"
             ],
             [
              0.7777777777777778,
              "#fb9f3a"
             ],
             [
              0.8888888888888888,
              "#fdca26"
             ],
             [
              1,
              "#f0f921"
             ]
            ],
            "type": "histogram2dcontour"
           }
          ],
          "mesh3d": [
           {
            "colorbar": {
             "outlinewidth": 0,
             "ticks": ""
            },
            "type": "mesh3d"
           }
          ],
          "parcoords": [
           {
            "line": {
             "colorbar": {
              "outlinewidth": 0,
              "ticks": ""
             }
            },
            "type": "parcoords"
           }
          ],
          "pie": [
           {
            "automargin": true,
            "type": "pie"
           }
          ],
          "scatter": [
           {
            "marker": {
             "colorbar": {
              "outlinewidth": 0,
              "ticks": ""
             }
            },
            "type": "scatter"
           }
          ],
          "scatter3d": [
           {
            "line": {
             "colorbar": {
              "outlinewidth": 0,
              "ticks": ""
             }
            },
            "marker": {
             "colorbar": {
              "outlinewidth": 0,
              "ticks": ""
             }
            },
            "type": "scatter3d"
           }
          ],
          "scattercarpet": [
           {
            "marker": {
             "colorbar": {
              "outlinewidth": 0,
              "ticks": ""
             }
            },
            "type": "scattercarpet"
           }
          ],
          "scattergeo": [
           {
            "marker": {
             "colorbar": {
              "outlinewidth": 0,
              "ticks": ""
             }
            },
            "type": "scattergeo"
           }
          ],
          "scattergl": [
           {
            "marker": {
             "colorbar": {
              "outlinewidth": 0,
              "ticks": ""
             }
            },
            "type": "scattergl"
           }
          ],
          "scattermapbox": [
           {
            "marker": {
             "colorbar": {
              "outlinewidth": 0,
              "ticks": ""
             }
            },
            "type": "scattermapbox"
           }
          ],
          "scatterpolar": [
           {
            "marker": {
             "colorbar": {
              "outlinewidth": 0,
              "ticks": ""
             }
            },
            "type": "scatterpolar"
           }
          ],
          "scatterpolargl": [
           {
            "marker": {
             "colorbar": {
              "outlinewidth": 0,
              "ticks": ""
             }
            },
            "type": "scatterpolargl"
           }
          ],
          "scatterternary": [
           {
            "marker": {
             "colorbar": {
              "outlinewidth": 0,
              "ticks": ""
             }
            },
            "type": "scatterternary"
           }
          ],
          "surface": [
           {
            "colorbar": {
             "outlinewidth": 0,
             "ticks": ""
            },
            "colorscale": [
             [
              0,
              "#0d0887"
             ],
             [
              0.1111111111111111,
              "#46039f"
             ],
             [
              0.2222222222222222,
              "#7201a8"
             ],
             [
              0.3333333333333333,
              "#9c179e"
             ],
             [
              0.4444444444444444,
              "#bd3786"
             ],
             [
              0.5555555555555556,
              "#d8576b"
             ],
             [
              0.6666666666666666,
              "#ed7953"
             ],
             [
              0.7777777777777778,
              "#fb9f3a"
             ],
             [
              0.8888888888888888,
              "#fdca26"
             ],
             [
              1,
              "#f0f921"
             ]
            ],
            "type": "surface"
           }
          ],
          "table": [
           {
            "cells": {
             "fill": {
              "color": "#EBF0F8"
             },
             "line": {
              "color": "white"
             }
            },
            "header": {
             "fill": {
              "color": "#C8D4E3"
             },
             "line": {
              "color": "white"
             }
            },
            "type": "table"
           }
          ]
         },
         "layout": {
          "annotationdefaults": {
           "arrowcolor": "#2a3f5f",
           "arrowhead": 0,
           "arrowwidth": 1
          },
          "autotypenumbers": "strict",
          "coloraxis": {
           "colorbar": {
            "outlinewidth": 0,
            "ticks": ""
           }
          },
          "colorscale": {
           "diverging": [
            [
             0,
             "#8e0152"
            ],
            [
             0.1,
             "#c51b7d"
            ],
            [
             0.2,
             "#de77ae"
            ],
            [
             0.3,
             "#f1b6da"
            ],
            [
             0.4,
             "#fde0ef"
            ],
            [
             0.5,
             "#f7f7f7"
            ],
            [
             0.6,
             "#e6f5d0"
            ],
            [
             0.7,
             "#b8e186"
            ],
            [
             0.8,
             "#7fbc41"
            ],
            [
             0.9,
             "#4d9221"
            ],
            [
             1,
             "#276419"
            ]
           ],
           "sequential": [
            [
             0,
             "#0d0887"
            ],
            [
             0.1111111111111111,
             "#46039f"
            ],
            [
             0.2222222222222222,
             "#7201a8"
            ],
            [
             0.3333333333333333,
             "#9c179e"
            ],
            [
             0.4444444444444444,
             "#bd3786"
            ],
            [
             0.5555555555555556,
             "#d8576b"
            ],
            [
             0.6666666666666666,
             "#ed7953"
            ],
            [
             0.7777777777777778,
             "#fb9f3a"
            ],
            [
             0.8888888888888888,
             "#fdca26"
            ],
            [
             1,
             "#f0f921"
            ]
           ],
           "sequentialminus": [
            [
             0,
             "#0d0887"
            ],
            [
             0.1111111111111111,
             "#46039f"
            ],
            [
             0.2222222222222222,
             "#7201a8"
            ],
            [
             0.3333333333333333,
             "#9c179e"
            ],
            [
             0.4444444444444444,
             "#bd3786"
            ],
            [
             0.5555555555555556,
             "#d8576b"
            ],
            [
             0.6666666666666666,
             "#ed7953"
            ],
            [
             0.7777777777777778,
             "#fb9f3a"
            ],
            [
             0.8888888888888888,
             "#fdca26"
            ],
            [
             1,
             "#f0f921"
            ]
           ]
          },
          "colorway": [
           "#636efa",
           "#EF553B",
           "#00cc96",
           "#ab63fa",
           "#FFA15A",
           "#19d3f3",
           "#FF6692",
           "#B6E880",
           "#FF97FF",
           "#FECB52"
          ],
          "font": {
           "color": "#2a3f5f"
          },
          "geo": {
           "bgcolor": "white",
           "lakecolor": "white",
           "landcolor": "#E5ECF6",
           "showlakes": true,
           "showland": true,
           "subunitcolor": "white"
          },
          "hoverlabel": {
           "align": "left"
          },
          "hovermode": "closest",
          "mapbox": {
           "style": "light"
          },
          "paper_bgcolor": "white",
          "plot_bgcolor": "#E5ECF6",
          "polar": {
           "angularaxis": {
            "gridcolor": "white",
            "linecolor": "white",
            "ticks": ""
           },
           "bgcolor": "#E5ECF6",
           "radialaxis": {
            "gridcolor": "white",
            "linecolor": "white",
            "ticks": ""
           }
          },
          "scene": {
           "xaxis": {
            "backgroundcolor": "#E5ECF6",
            "gridcolor": "white",
            "gridwidth": 2,
            "linecolor": "white",
            "showbackground": true,
            "ticks": "",
            "zerolinecolor": "white"
           },
           "yaxis": {
            "backgroundcolor": "#E5ECF6",
            "gridcolor": "white",
            "gridwidth": 2,
            "linecolor": "white",
            "showbackground": true,
            "ticks": "",
            "zerolinecolor": "white"
           },
           "zaxis": {
            "backgroundcolor": "#E5ECF6",
            "gridcolor": "white",
            "gridwidth": 2,
            "linecolor": "white",
            "showbackground": true,
            "ticks": "",
            "zerolinecolor": "white"
           }
          },
          "shapedefaults": {
           "line": {
            "color": "#2a3f5f"
           }
          },
          "ternary": {
           "aaxis": {
            "gridcolor": "white",
            "linecolor": "white",
            "ticks": ""
           },
           "baxis": {
            "gridcolor": "white",
            "linecolor": "white",
            "ticks": ""
           },
           "bgcolor": "#E5ECF6",
           "caxis": {
            "gridcolor": "white",
            "linecolor": "white",
            "ticks": ""
           }
          },
          "title": {
           "x": 0.05
          },
          "xaxis": {
           "automargin": true,
           "gridcolor": "white",
           "linecolor": "white",
           "ticks": "",
           "title": {
            "standoff": 15
           },
           "zerolinecolor": "white",
           "zerolinewidth": 2
          },
          "yaxis": {
           "automargin": true,
           "gridcolor": "white",
           "linecolor": "white",
           "ticks": "",
           "title": {
            "standoff": 15
           },
           "zerolinecolor": "white",
           "zerolinewidth": 2
          }
         }
        },
        "xaxis": {
         "anchor": "y",
         "domain": [
          0,
          1
         ],
         "title": {
          "text": "x"
         }
        },
        "yaxis": {
         "anchor": "x",
         "domain": [
          0,
          1
         ],
         "title": {
          "text": "y"
         }
        }
       }
      },
      "text/html": [
       "<div>                            <div id=\"50a6ed05-9606-482c-97fe-31d42af05680\" class=\"plotly-graph-div\" style=\"height:525px; width:100%;\"></div>            <script type=\"text/javascript\">                require([\"plotly\"], function(Plotly) {                    window.PLOTLYENV=window.PLOTLYENV || {};                                    if (document.getElementById(\"50a6ed05-9606-482c-97fe-31d42af05680\")) {                    Plotly.newPlot(                        \"50a6ed05-9606-482c-97fe-31d42af05680\",                        [{\"hovertemplate\":\"<b>%{hovertext}</b><br><br>x=%{x}<br>y=%{y}<br>cluster=%{marker.color}<extra></extra>\",\"hovertext\":[\"Supplier Fosun Pharma will be making an initial payment of \\u20ac125 mil by year-end for 50 million doses. #FMTNews #China #Vaccine #Covid19 #PfizerBioNTech\",\"Replying to @AnitaOakville @PattyHajdu and 4 others\\nphoto-op? don't slow the shipment....\",\"#UnitedStates : The Federal Aviation Administration (FAA) said Saturday it had approved the use of the #PfizerBioNTech #COVID19 vaccine by pilots and air traffic controllers. \\n@PIB_India @airnewsalerts\",\"Politico.  December 13, 2020.  FDA's Hahn: Covid-19 vaccine authorization based in 'science and data'\\nhttps://politico.com/news/2020/12/13/fdas-hahn-coronavirus-vaccine-approval-science-data-444854\\u2026\\n#coronavirus #covid19 #coronavirusprevention #CoronaVirusUpdate #CoronavirusVaccine #COVID19Vaccine #PfizerBioNTech #business #technology #datascience\",\"KFDM\\u2019s/FOX 4\\u2019s @THEPAIGEREPORT1 is at Baptist hospital getting a first hand look at where the Pfizer COVID-19 vaccines will be stored.\\n\\nTune into KFDM and FOX 4 news to find out how the hospital is preparing. #COVID19 #Vaccine #PfizerBioNTech\",\"Replying to @Anaridis and @Joyce_Karam\\nThis brings such a big smile to my face. I love it.\",\"In case anyone is interested here is a link to the #PfizerBioNTech #COVID19Vaccine patient information that is on the @US_FDA site. \\n\\nThis should be given to every patient who receives the vaccine https://fda.gov/media/144414/download\\u2026\",\"Ok I might be late to discovering this but... both #PfizerBioNTech  and #Moderna #COVID19 vaccines are being led by WOMEN @KizzyPhD @drkatherinjansen Women saving the world y\\u2019all! \",\"#SputnikV uses 2 different human adenoviral vectors for 2 vaccine shots to ensure that immunity to the 1st does not make the 2nd less effective. We offered @AstraZeneca to use one of our vectors so they can also have two vectors in their vaccine. AZ confirmed.\",\"No.1 of 2 done.\\n\\n#ThankYouNHS @NHSuk @MHRAgovuk and #PfizerBioNTech @pfizer for making the #CovidVaccine dream possible and come to fruition so soon in the UK. #HopeForTheFuture @TeamNUH @NUH_AcuteMed\",\"Singapore approves Pfizer vaccine , becomes first south East Asian country to approve the vaccine. Doses will be given from end of December #Singapore #Covid_19 #CovidVaccine #PfizerBioNTech\",\"How the #PfizerBioNTech Vaccine Works?\\nThis article made a detailed explanation.\\nhttps://nytimes.com/interactive/2020/health/pfizer-biontech-covid-19-vaccine.html\\u2026\\n\\n#COVID19 #CovidVaccine #vaccines #coronavirus #CoronaVaccine #SARSCoV2 #cellbiology #mRNA #biology #biotech #biotechnology\",\"The Advisory Committee on Immunization Practices\\u2019 Interim Recommendation for Use of Pfizer-BioNTech COVID-19 Vaccine \\u2014 United States, December 2020\\nvia @CDCgov @CDCMMWR this afternoon.\\n\\nhttps://cdc.gov/mmwr/volumes/69/wr/mm6950e2.htm?s_cid=mm6950e2_w\\u2026 \\n#COVID19Vaccine #Pfizer #PfizerBioNTech #covid19pandemic\",\"What an apt name: #Portage, Michigan!  #PfizerPlant\\n\",\"Toronto to receive Ontario's 1st doses of Pfizer COVID-19 vaccine today\\nhttps://indiablooms.com/world-details/USN/27188/toronto-to-receive-ontario-s-1st-doses-of-pfizer-covid-19-vaccine-today.html\\u2026\\n#Ontario #PfizerBioNTech #COVID19Vaccine #Toronto #FirstDose\",\"#APT29 aka #CozyBear hacker group suspected of hacking #PfizerBioNTech #IP and now federal agencies like U.S. Treasury Department, potentially spying on emails for months. \\n\\n#Infosec #CyberSecurity https://lnkd.in/g62qMiE\",\"Vaccines save lives  Hopefully HCW can assuage public fear and anxiety regarding this vaccine  so we can finally move forward #VaccinesSaveLives \\n#CovidVaccines #PfizerBioNTech \\n\\n**Coronavirus Update 116: Pfizer COVID 19 Vaccine Explained**\",\"Replying to @cnnbrk\\nGood luck with this experimental \\u201cvaccin\\u201d \",\"Excited about tomorrow \\nSo honoured to be part to this exciting team administering in primary care #Covid_19 #Covid19UK #PfizerBioNTech #BioNTech #CovidVaccine #teamGp #gp #COVID19Vaccine #primarycare #vaccination #Rcgp\",\"The #USA government is prepping millions of doses of the #PfizerBioNTech coronavirus #vaccine for shipment to sites across the nation in support of what may be the most ambitious immunization program in history.\\n\\n https://bit.ly/3nqxWFI\",\"Getting my first dose of the #PfizerBioNTech #CovidVaccine next weekend and seeing this #UNBOXING just made it so real. Are my hopes for this set too high?#OperationWarpSpeed\",\"Replying to @Anaridis and @devincole\\nDr. Blue Suit has been waiting months to show off those moves. Where\\u2019s his extended remix?\",\"Can\\u2019t wait to take my kids towards herd immunity   \\n#vaccines #PfizerBioNTech\",\"Pfizer-BioNTech COVID-19 Vaccine: Donald Trump, Mike Pence & Top US Officials to be Offered Early Access to Newly Approved Vaccine: https://latestly.com/world/pfizer-biontech-covid-19-vaccine-donald-trump-mike-pence-top-us-officials-to-be-offered-early-access-to-newly-approved-vaccine-2196957.html\\u2026 #coronavirus #Covid_19 @realDonaldTrump @VP @WhiteHouse #PfizerBioNTech\",\"Today I was lucky enough to get vaccinated against #COVID19. I did it not just for myself, but for my patients, my friends and family, and my community. When the vaccine becomes more widely available, I'd urge you to do the same!\\n#CovidVaccines #PfizerBioNTech #Thankful\",\"Sunday evening\\u2019s shipment is the first of an initial 30,000 doses of the Pfizer vaccine to be spread across 14 distribution centres. #COVID19AB #vaccine #pandemic #PHAC #PfizerBioNTech\",\"The first few million #PfizerBioNtech #vaccines have arrived in the US after a last-minute #emergencyauthorization last Friday. \\n\\nWill we see #risk #assets rising at the cost of #dollar early in the week today or will #investors wait for #jabs to begin first?\",\"Replying to @AnitaOakville @PattyHajdu and 4 others\\nWoo hoo!  Best news! \",\"\\\"The [temperature] issue with BioNtech/Pfizer - yes, it's challenging. But we know how to do it\\\".\\n\",\"This vaccine is special because it triggers an immune response without using the actual virus that causes covid-19.\\n https://edmonton.ctvnews.ca/mobile/how-the-pfizer-biontech-covid-19-vaccine-works-health-canada-1.5232525\\u2026 #pfizer #pfizerbiontech #covid19ab #pfizervaccine\",\"I am beyond relieved to share that I\\u2019ll be among the first to receive the #CovidVaccine from #PfizerBioNTech. Thank you @DrFNA for helping to make this possible by participating in a Phase 3 trial. Thank you also, for sharing your experience. #KnowledgeIsPower #TheMoreYouKnow\",\"The first trucks loaded with Pfizer\\u2019s coronavirus shot pulled out of a Michigan warehouse early Sunday \\u2014 starting the biggest vaccination effort in American history\\n\\n#Michigan #Pfizer #PfizerBioNTech #CovidVaccine  \\n\\nhttps://realtalktime.com/pfizer-covid-vaccine-portage-michigan/\\u2026\",\"Replying to @yinonw and @jhaskinscabrera\\nThat's why those people should just be living their lives.  And focused protection for the elderly.\",\"Will you be taking the COVID-19 vaccine once available to you? #COVID19 #Pfizer #BioNTech #vaccine #PfizerBioNTech #mRNA #AstraZeneca #coronavirus #usa #Canada #vaccination #CoronaVaccine #pandemic #Biden #trump #OperationWarpSpeed #CovidVaccines #Quarantine #antivaxxers #cdnpol\",\"This mandated anthrax vaccine killed 35k US soldiers* and maimed  many more, at about 2% serious adverse reactions rate. #PfizerBioNTech \\u2018s info quotes a 4% grade 3 rate! \\n\\nWatch the compelling testimonials of US & U.K. military an see for yourselves: https://t.co/k2uZDHIlxq\",\"\\u2066@AvgerinosMoscow\\u2069 #PfizerBioNTech #FDA approval Apprentice Style!\\n\\u2066@realDonaldTrump\\u2069: \\u201cApprove the #vaccine or you\\u2019re fired!\\u201d\\nNow that\\u2019s science!\",\"Building on last week\\u2019s \\u2018trial\\u2019 run and extending our vaccination  programme this week . So much effort going on behind the scenes . Trainers  tomorrow team #teampharmacy #lovemyjob #PfizerBioNTech @cab5554 @tracyr09 @Cymraes_Lois @OwenBerwyn\",\"Pfizer-BioNTech\\u2019s COVID19 vaccine is also urgently needed for Africa: #Ghana, #Nigeria, #Egypt, #SouthAfrica & rest of Africa \\nBy @KwakuAkyeampong \\n\\nRetweet\\n\\n#Pfizer #Pfizervaccine #PfizerCovidVaccine #PfizerBioNTech #PfizerBiotech @_AfricanUnion @CNNAfrica @ReutersAfrica #Africa\",\"Replying to @katie_crowfoot @LPTnhs and 2 others\\nGood luck, hope it works and the side effects aren't too bad\",\"Replying to @770CHQR\\nTruly defines, trickling in ....\",\"@UTSWNews starting the COVID vaccination program today. Socially distanced staff patiently waiting. #CovidVaccine #Covid_19 #PfizerBioNTech\",\"#Pfizervaccine #PfizerBioNTech WHAT'S IN THIS #vaccine? Why #Pfizer is NOT 100% transparent about it? \\n#coronavirus #VaccinesWork #VaccinesSaveLives #VaccinoAntiCovid #Dubai\\n#Toronto #emirates #SideEffect #allergies\\nSource+Copyright- MIT Technology Review\",\"Replying to @DrMarcSiegel @EricShawnTV and @ArthelNeville\\nSaid the person pretending to be a scientist as they send the tweet dressed in their pajamas from their mothers basement\",\"I love high quality infographics for getting across multiple ideas quickly \\n\\nHere is an excellent set from The Factivists on @Instagram (not on @Twitter) on the #PfizerBioNTech #vaccine\\n\\nhttps://instagram.com/p/CIorEb6no34/?igshid=74fkf2c2vldh\\u2026\\n\\n#Covid19UK #COVID19 #CovidVaccine #mRNA #DocsforVax #MedTwitter\",\"@HeartOTXHeartMD\\n\",\"The first COVID-19 vaccine doses have arrived in Oregon.  \\n\\nWatch #MorningsontheDove from 6am -9am tomorrow for details. \\n\\n#COVID19Vaccine #PfizerBioNTech #theDove #theDoveTV #theDoveRadio #theDoveNewsroom #Faith #hope #encouragment #affirmation #PNW #Oregon\",\"POTUS Donald Trump declared months ago the military would be rolling out distribution and he was scoffed for it.  He was completely right.  Now, it\\u2019s History.\\n\",\"Singapore approves @pfizer @BioNTech_Group  vaccine for local use. Vaccine safe to use on people aged 16 and above, and first batch of #PfizerBioNTech vaccine will arrive by end of December.\",\"Replying to @cnnbrk\\n@YOUCEFB45681191\",\"Per the CDC, persons with HIV and other immunocompromising conditions may still receive the COVID-19 vaccine unless otherwise contraindicated. #PfizerBioNTech #MedTwitter\",\"Anyone wondering why day after #PfizerBioNTech approval in the UK people were getting vaccinated but all we are told this point in US and #NewYork is it will happen in \\u201cnext few days\\u201d #CovidVaccine\",\"Half way there #COVID19 #CovidVaccine #vaccination #Pfizervaccine #PfizerBioNTech\",\"The hospital I work at has received the vaccine. Our IV room made the first five doses to be given in the state. I\\u2019m ready for this bad boy. #CovidVaccine #COVID19 #PfizerBioNTech\",\"#Canadian firm Acuitas - at heart of #PfizerBioNTech #vaccine - great story - @ubcprez #UBC - we helped early on with @NRC_CNRC #IRAP program when the firm was called AlCana Technologies Ltd ... #canpoli\",\"Kirill Dmitriev, RDIF CEO: #SputnikV is showing high efficacy itself and can also be combined with other vaccines. Gamaleya and RDIF welcome joint clinical trial with @AstraZeneca to explore adding #SputnikV human adenoviral vector to AZ vaccine.\\nAstraZeneca will test using component of Russia\\u2019s Sputnik V in clinical trials of its own vaccine...sputnikvaccine.com\",\"#WATCH: Shipments of initial doses of the COVID-19 vaccines arrived in selected ports of entry in Canada on Sunday night. https://instagram.com/p/CIxZTVAD_tm/?igshid=s6imubrpo54k\\u2026\\n\\nVideo credit: Canadian Armed Forces Combat Camera \\n\\n#PfizerBioNTech #COVID19 #CovidVaccine #covid19Qc #COVIDCanada\",\"Happy and relieved to have the #PfizerBioNTech #Covidvaccine \\u2013 amazing work from all at @MHRAgovuk and @NHSuk since it\\u2019s less than 2 weeks since CHM recommended that it be approved in the UK. #GetVaccinated!\",\"Explain to me again why we need a vaccine @BorisJohnson @MattHancock #whereareallthesickpeople #PfizerBioNTech #CovidVaccine #coronavirus #COVIDIOTS #saynotorhevaccine #markofthebeast\",\"#BillGates  caught on video admitting #CovidVaccine  will CHANGE our #DNA  FOREVER. https://youtu.be/ksEVaO806Oo via @YouTube He wasn't \\\"caught on tape\\\", he PROUDY stated it.\\n#Covid_19 #coronavirus   #Pfizer #PfizerBioNTech \\n#pfizervccineahoax #COVIDIOTS #AstraZeneca\",\"With #Germany announcing yet its strictest #lockdown starting Wed and #NHS warning #BoJo of a #thirdwave in a letter sent by the group\\u2019s CEO, the risk asset basket narrows down to a select few though.\\n\",\"There have not been many bright days in 2020 but here are some of the best \\n1. #BidenHarris winning #Election2020 \\n2. #PfizerBioNTech #CovidVaccine getting @US_FDA #EUA\\n3. #ACIP recommending the #PfizerBioNTech #CovidVaccine \\n\\nLooking ahead\\n- 12/15 when I get my #CovidVaccine\",\"I pucking do not intend to get vaccinated. Wht if my employer force to get vaccinated? Like they did for Arogya Setu App.\\n\\n#FarmBills2020 #WashingtonDC #HongKong #Argentina #PfizerBioNTech\",\"FAQs on Pfizer COVID vaccine.\\nThread\\n\\n1.Which COVID vaccine should I get? Is one better than others? \\n\\nYou should get the vaccine  you are offered. Getting a large number of people vaccinated is more important than differences in vaccine efficacy\",\"#vaccine #Pfizervaccine #PfizerBioNTech WHAT'S IN THIS VACCINE? #Pfizer is NOT 100% transparent about it.\\n#coronavirus #VaccinesWork #VaccinesSaveLives #VaccinoAntiCovid #Dubai\\n#Toronto #emirates #SideEffect #allergies\\nCopyright- MIT Technology Review\",\" Some #FDA Advisors Tapped to Review #Coronavirus #Vaccines Received Payments from Vaccine Companies\\nJust pray that Trump\\u2019s  frantic push on new #PfizerBioNTech vaccine without any long term damage or peer review, that we don\\u2019t lose even more people\",\"Does anyone have any useful advice/guidance for whether the COVID vaccine is safe whilst breastfeeding? #CovidVaccines #PfizerBioNTech #breastfeeding\",\"https://nytimes.com/live/2020/12/12/world/covid-19-coronavirus/britain-canada-and-the-us-start-their-vaccination-campaigns-and-other-news-from-around-the-world\\u2026. #Canada ordered enough of the #PfizerBioNTech #vaccine for all of its people- we were too smart for that... #TrumpWorstPresidentEver  why does anyone support him???\",\"Just hours after being authorized by the #FDA, doses of #PfizerBioNTech #coronavirus #vaccine are being packaged and readied for distribution by UPS and FedEx, the head of Operation Warp Speed said Saturday.\",\"The US Food and Drug Administration (FDA) has granted emergency use authorization to Pfizer-BioNTech's mRNA #COVID19 vaccine making it the first vaccine to receive approval in the USA. #PfizerBioNTech #coronavirus #vaccine @US_FDA @pfizer @BioNTech_Group\",\"Eric Shawn: The vaccine is here...in record time! https://video.foxnews.com/v/6215905201001 thanks @EricShawnTV @ArthelNeville for allowing me to join on this historic day #PfizerBioNTech #PfizerCovidVaccine stop the #COVID19 #pandemic #VaccinesWork #Masks #SocialDistancing #KindnessMatters\",\"Fascinating to see how the messenger RNA vaccine delivery approach has helped enable a dramatically shorter time to market. Viral sequencing selection to stage 1 trials took 20 months with SARS (2003) and is only taking ~3 months with Covid-19. #vaccines #PfizerBioNTech #Moderna\",\"Replying to @charlesadler and @RexChapman\\nAtta boy Chuck...\",\"The FDA Authorizes Emergency Use Of The Pfizer Vaccine\\nhttp://thenewdispatch.com/the-fda-authorizes-emergency-use-of-the-pfizer-vaccine\\u2026\\n#PFE #Pfizer #Pfizervaccine #PfizerBioNTech #FDA #CovidVaccine #COVID19Vaccine #COVID19 #COVID #Vaccine #USA #Coronavirus #CoronavirusVaccine #PfizerCovidVaccine #Covid_19 #Vaccination\",\"The US Food and Drug Administration (FDA) issued yesterday the first emergency use authorization of the Pfizer-BioNTech vaccine.\\n#Kuwait #BioNtech #PfizerBioNTech #Covid19Vaccine \\n\\nhttps://thepeninsulaqatar.com/article/13/12/2020/Kuwait-authorizes-emergency-use-of-Pfizer-BioNTech-covid-19-vaccine\\u2026\",\"#AstraZeneca to buy pharmaceutical firm #Alexion for $39 billion\\nhttp://nationalbusinessmirror.com/astrazeneca-to-buy-pharmaceutical-firm-alexion-for-39-billion/\\u2026\\n#COVID19vaccine #Pfizer #Pfizervaccine #PfizerBioNTech #PfizerCovidVaccine #astrazenecacovidvaccine #astrazenecacovid19vaccine\",\"We found the guy in the tan coat! \\n\\\"We just wanted to highlight this moment. It's a really big deal. It's such a positive turning point....We wanted to highlight that, to give hope to everyone.\\\" Armani Thao of \\n@The_BMC talked to us about the dance video seen around the world.\\n2:1614.8K views\",\"Replying to @TudorGJovin @CooperHealthNJ and 3 others\\n\",\"\\n\",\"Replying to @AnitaOakville @MaryamMonsef and 5 others\\nThank goodness the Federal Liberals are in charge of this roll out ensuring it will be done well!!! Thank you @JustinTrudeau !! And all of the great ministers\",\"Replying to @Anaridis\\nIf I worked there I would be the one to throw the whole thing off, they're really good. \",\"US began shipments of #Covid19 #PfizerBioNTech #vaccine Sunday following final CDC approval. While #pandemic is far from over, investors are seeing light at end of the dark tunnel. Wall Street is expected to kick off Monday in the green - @husseinsayyed \\nhttps://financialmirror.com/2020/12/14/us-vaccine-roll-out-lifts-risk-assets-final-stretch-in-brexit-talks\\u2026\",\"Turkey\\u2019s coronavirus death toll reaches 16,417 @drfahrettinkoca #CoronavirusPandemic #Turkey #PfizerBioNTech #Sinopharm\\nhttps://ilkha.com/english/health-life/turkey-s-coronavirus-death-toll-reaches-16-417-11068\\u2026\",\"#PfizerBioNTech's #COVID19 vaccines are making their way to distributions sites nationwide. @FedEx says some of the first batches have been safely delivered.\",\"http://Pfizer-Biontech.Com\\nUS agency authorizes Pfizer-BioNTech COVID-19 vaccine\\nFirst vaccine will be administered in less than 24 hours, says US president\\nhttps://aa.com.tr/en/americas/us-agency-authorizes-pfizer-biontech-covid-19-vaccine/2074319\\u2026\\n#Pfizer  #Biontech  #PfizerBiontech  #Trump  #Ugursahin  #ozlemtureci  #vaccine\",\"Last night, the first #COVID19Vaccines arrived in Canada and as we speak, the first of the vaccines are being administered TODAY!\\n\\nThe #PfizerBioNTech vaccine requires storage in extremely low temperatures, and are currently being distributed to 14 locations across Canada.\",\"Pfizer-BioNTech COVID-19 Vaccine Side Effects: Canada Warns Allergic People Against Pfizer-BioNTech Coronavirus Vaccine\\nhttps://latestly.com/world/canada-warns-allergic-people-against-pfizer-biontech-covid-19-vaccine-2195725.html\\u2026\\n#PfizerBioNTech #COVID19Vaccine #COVID19VaccineSideEffects #Canada  #Allergic\",\"Surprised to learn those with autoimmune conditions or otherwise immunosuppressed are advised not to receive the #PfizerBioNTech vaccine per to NACI. These are higher risk folks, and not a live vaccine. I understand questions of efficacy but is there really any safety concern?\",\"Replying to @yinonw\\n@DrBenTapper1\",\"@LUDOVICOTODINI @Taxistalobbyst   caught on video admitting #Covidvaccine will CHANGE our #DNA FOREVER. https://youtu.be/ksEVaO806Oo via @YouTube #coronavirus #corona #Pfizer #Pfizervaccine \\n#PfizerBioNTech #Elections2020 #Election2020  @POTUS \\n#JoeBiden #BidenHarris2020 @ASP #COVID\",\"Replying to @KristenRogersMD and @OchsnerHealth\\nWhat is the end point ?   The get to a yes point on normal restaurants, normal life, no masks?   What is the standard by which this will be determined?\",\"Replying to @JacksonHealth and @tania_leets\\nOur heroes FINALLY getting the PPE they\\u2019ve been waiting for.\",\"Replying to @charlesadler\\n\",\"Healthcare workers receive the first dosis of Pfizer-BioNtech COVID-19 vaccine at Memorial Healthcare System in Miramar, Florida, U.S., on Monday, Dec. 14 2020. Photographer: Eva Marie Uzcategui/Bloomberg\\n#covid19vacccine #pfizerbiontech #healthcareworkers #photojournalism\",\"Health #Canada has warned people allergic to any of the ingredients in the #PfizerBioNTech #COVID19 vaccine not to receive it.\",\"#vaccination #vaccinehesitancy\\n\",\"Replying to @AnitaOakville @PattyHajdu and 4 others\\nThank you Minister Anand for your dedication & hard work. Canadians are very fortunate to have you serving us as Minister of Procurement in these uncertain times.\",\"Kudos UPS!\\n\\n@UPS announced on 13th, its involvement & full support of distribution efforts for #PfizerBioNTech's #COVID19 vaccine as part of Operation #WarpSpeed. Deployments began after the federal mandate to distribute vaccines. https://pressroom.ups.com/pressroom/ContentDetailsViewer.page?ConceptType=PressReleases&id=1607744626467-683\\u2026\\n#UPS #COVID19Vaccine\",\"Replying to @DrKatLiang\\nI love some of the replies  \\nhttps://twitter.com/giancarlolucia/status/1338547639294414849?s=19\\u2026\",\"Just watched @CapehartJ new #thesundayshow. @Maria_Hinojosa correctly stated that there were two deaths among the over 18000 recipients of the #PfizerBioNTech vaccine. However, there is no evidence that the vaccine caused the deaths.\",\"How much did the #fda get paid to approve this all of a sudden now? money makes the world go around. #vaccine #Pfizer #COVID19 #CovidVaccine #PfizerBioNTech\",\"#FDA Gives Guidance on Allergy, Pregnancy Concerns for #COVID Vaccine https://medscape.com/viewarticle/942557?src=soc_tw_share\\u2026 via @medscape \\n#COVID19 #PfizerBioNTech #pandemic #obgyntwitter $PFE #vaccine\",\"Replying to @cnnbrk\\nJust a hunch: the distribution of this vaccine is going to be a major cluster f**k.\",\"#BREAKING - just in from @OHAOregon on #COVID19 #vaccine:\\n-\\\"Legacy Health is the first registered COVID-19 vaccine provider in the state to receive the vaccine\\\"\\n-Just under 2,000 doses of the #PfizerBioNTech vaccine arrived this morning.\\n#LiveOnK2\",\"More than 1,000 Jackson employees have successfully received their first dose of the #PfizerBioNTech #COVID19 vaccine by 6:30 p.m. today. #JacksonStrong\",\"You're wrong: MALAYSIA has already pre-ordered #PfizerBioNTech #COVID19Vaccine (expected in 2021) plus is part of @WHO's #COVAX and is in China's list of free #CovidVaccine recipient countries: GET YOUR FACTS RIGHT!! \\n#COVIDVaccineFacts\",\"\\\"Expect 145 sites across all the states to receive vaccine on Monday, another 425 sites on Tuesday,\\\" said the official in charge of the distribution.\\n\\nRead more: https://bit.ly/37WoZNH\\n \\n#PfizerBioNTech #COVID19 #vaccine #UnitedStates\",\"Covid Vaccinated!! @SCCM @HMethodistMD @Covid19Docs #vaccination #PfizerBioNTech #CoronaVaccine @pfizer @pfizer_news #Pfizer #CovidVaccine\",\"Replying to @DDNewslive @PIB_India and @airnewsalerts\\n\\u0921\\u093e\\u092f\\u0932\\u093f\\u0938\\u093f\\u0938 \\u0921\\u093e\\u092f\\u0930\\u0940 :  \\u0938\\u0902\\u0938\\u094d\\u092e\\u0930\\u0923 - \\u0938\\u0902\\u0938\\u094d\\u0915\\u0930\\u0923 7 (\\u092d\\u093e\\u0917 2)\\n\\n\\u092a\\u0922\\u093c\\u0947\\u0902  \\u092a\\u0947\\u091c \\u0938\\u0947 \\u091c\\u0941\\u0921\\u093c\\u0915\\u0930 \\u0938\\u094d\\u0928\\u0947\\u0939 \\u0926\\u0947\\u0902 \\n#\\u0928\\u093f\\u0935\\u0947\\u0926\\u0928  #\\u0932\\u093f\\u0902\\u0915 : \\nhttps://facebook.com/2200081763540202/posts/2786532588228447/?sfnsn=wiwspmo\\u2026\",\"Replying to @AnitaOakville @PattyHajdu and 4 others\\ngood work MAA! \",\"UPDATED: #YellowFever & #COVID19 #ImmunityPassports - Part Two\\n\\n#SARSCoV2 #PfizerBioNtech #Britain #December #Christmas #Europe #Australia #Canada #lockdown #VitaminD #winter #travel #tourism #privacy #Trending \\n\\nhttps://stopcommonpass.org/yellow-fever-covid19-immunity-passports-part-two/\\u2026\",\"For all the women and healthcare providers who have been asking about the safety of the #PfizerBioNTech #COVID19Vaccine in pregnant and breastfeeding women here is the recommendations from the #ACIP this morning\",\"#PfizerBioNTech COVID-19 vaccine being distributed; #ElectoralCollege formally casts votes today; #DetroitLions lost to GB; Cleveland MLB team to drop \\\"Indians\\\" name. Those stories & more at 7am via http://classicfox.com and 103.9 The Fox mobile app!\",\"Replying to @TyneHealth and @NTCouncilTeam\\nGreat news so how do care home residents get there majority won\\u2019t be able too attend these sites and there carers they are first on list aren\\u2019t they\",\"Replying to @cnnbrk\\nPfizer isn\\u2019t a part of operation warp speed\",\"The entire ingredients of the #Pfizervaccine: See, it\\u2019s just like your #BigMac with a splash of a #superpower to fight #COVID. #PfizerBioNTech #Vaccineswork #yayscience #CovidVaccine #COVID19 #ByeByeCOVID #vaccinehesitancy #vaccine\",\"Historical moment #FirstDose of the #PfizerBioNTech #COVID_19 #Vaccine administered at #UPMC @upmchealthbeat @ Pittsburgh, Pennsylvania https://instagram.com/p/CIyMrMRpVEf/?igshid=1jjtyf253182i\\u2026\",\"One of the first vaccines receivers in the US. Momentous for science. Hope has arrived.\\n#COVID19 #CovidVaccine #VaccinesSaveLives #PfizerBioNTech #Pfizervaccine\",\"Replying to @Breaking911\",\"True question for #scientists:\\n\\nAs with many vaccines the #PfizerBioNTech vaccine needs to be given in 2 shots: a #prime, and a #boost (after 4 wks). Would a previous #COVIDinfection serve as a primer? It seems infection itself may not cause (long term) immunity?\",\"Replying to @Anaridis\\nOh God. Not this foolishness again.\",\"First Pfizer coronavirus vaccine doses set to arrive at hospitals https://video.foxnews.com/v/6216118293001 #PfizerBioNTech #PfizerCovidVaccine #VaccinesWork @kilmeade @foxandfriends @nyulangone\",\"Had the first dose of my COVID vaccine today. We still have to wear PPE and still socially distant but at least we are on the way to being able to live with this awful disease! #CovidVaccine #PfizerBioNTech\",\"1st doses of #PfizerBioNTech's #COVID19 vaccine arrive in #Canada\\n\\nBy @helloryanjones\\nhttps://cbc.ca/news/politics/first-doses-covid-19-vaccine-1.5839614\\u2026\",\"Are politicians #EssentialWorkers?  \\n\\n#COVID19 #PfizerBioNTech #CovidVaccine #VaccinesWork #ScienceMatters #HealthForAll #healthequity #CoronaVaccine\",\"#PfizerBioNTech #Vaccine hacked a few days ago\\n\\n#UsTreasury hack announced today. \\n\\nhttps://foxbusiness.com/technology/u-s-treasury-breached-by-hackers-backed-by-foreign-government-report\\u2026\\n\\nA whole lot of #hacking going on! #Infosec #CyberSecurity \\n\\nhttps://chron.com/news/article/EU-drug-regulator-hacked-data-on-COVID-19-15789016.php\\u2026\",\"The #FDA finally issues #EUA now comes the problem transporting this #PfizerBioNTech vaccine, needs to be kept at -70f and it can only be taken out of storage 4 times. Also you can still infect people after being #vaccinated\",\"It\\u2019s here. #Covid_19 #CovidVaccine  #PfizerBioNTech\",\"So incredibly grateful to have received the #PfizerBioNTech #CovidVaccine here @OSUWexMed!  Thanks to everyone who made this possible. #VaccinesWork #VaccinesSaveLives Hope that my colleagues, patients, & family will also have an opportunity to be vaccinated soon. Stay safe!\",\"Thrilled to receive my first dose of the Covid vaccine today. The vulnerable people I visit, support and work with in their own homes will be protected and that is so reassuring! It might be the tug that turns the tanker but at least the bugger is on the move! #PfizerBioNTech\",\"OHSU, Kaiser, St. Alphonsus Medical Center (in Ontario) are expected to get 975 doses each tomorrow.\\n\\n#LiveOnK2\\n\",\"Replying to @AnitaOakville @PattyHajdu and 4 others\\nCongratulations, job well done.\",\"Global coronavirus death toll reaches 1,611,637 #CoronavirusPandemic @WHO @Worldometers #PfizerBioNTech #PfizerCovidVaccine\\nhttps://ilkha.com/english/health-life/global-coronavirus-death-toll-reaches-1-611-637-11055\\u2026\",\"How does the #Moderna #covidvaccine differ from the #PfizerBioNTech #vaccine? We answer this question and more in tonight's @TiaHealth medical segment! Catch us at 6PM! #healthnews #vaccination\",\"Trump announces #vaccine rollout 'in less than 24 hours'\\n\\nThe first Americans will be vaccinated against #coronavirus in the next 24hrs as the US last night authorised the #Pfizer/Biontech vaccine for emergency use -> http://buff.ly/37cTMqp\\n\\n#PfizerBioNTech #PfizerVaccine\",\"Replying to @JacksonHealth\\n\",\"US HEALTH CARE WORKERS & MOST VULNERABLE TO RECEIVE THE PFIZER-BIONTECH SHOTS\\nTrucks on Sunday began shipping millions of doses of Covid-19 vaccine in the United States, as part of the enormous logistics\\n#US #HealthcareWorkers #Receive #Vaccines #PfizerBioNTech #DeathToll #Cases\",\"From Tuna #Fish To #COVID19 #Vaccine - How Container Freezers Used To Ship #Seafood Are Given A New Role - http://financetwitter.com/2020/12/from-tuna-fish-to-covid-19-vaccine-how-container-freezers-used-to-ship-seafood-are-given-a-new-role.html\\u2026 #UnitedStates #Britain #Canada #Coronavirus #COVID\\u30fc19 #Pfizer #PfizerBioNTech #FDA #airlines #FedEx #UPS #transport #mRNA #Science #technology\",\"Two people in the United Kingdom have experienced an allergic reaction to the Pfizer/BioNTech COVID-19 vaccine.\\nRead more https://bit.ly/3a4PHpY\\n\\n#VaccineReaction #PfizerBioNTech #Pfizer #BioNTech\",\"Concerned about the side effects of the #PfizerBioNTech #COVID19 vaccine?  Check out my recap \",\"Replying to @yinonw\\nChances are higher that one would die chocking on food than die due to covid.\\nNobody skipps a single meal sue to choking risk but many stopped living alltogather due to covid. \\nThink about it.\",\"US #COVID19 #Vaccine Shipments to 'Start Rolling' Sunday https://medscape.com/viewarticle/942556?src=soc_tw_share\\u2026 via @medscape \\n#OperationWarpSpeed #PfizerBioNTech #pandemic\",\"Boston health care workers dancing on the sidewalk to celebrate the arrival of the first  covid-19 vaccine.\",\"Approval for #Pfizer / #Biontech vaccine from FDA Advisory Board.\\nLAST MINUTE NEWS: The US Food and Drug Administration (FDA) Advisory Board recommended that the Pfizer / Biontech vaccine given emergency use. #FDA #PfizerBioNTech #vaccination\",\"Considerations for the #COVID19Vaccine in Pregnant Women #ACIP\\n\",\"Replying to @cnnbrk\\nTRUMPVIRUS DEATH TOLL\\n\\nMar 1 - 1 Dead\\n\\nApril 1 \\u2013 6,460 Dead\\n\\nMay 1 \\u2013 67,044 Dead\\n\\nJune 1 \\u2013 109,509 Dead \\n\\nJuly 1 - 131,013 Dead\\n\\nAug 1 \\u2013 156,764  Dead\\n\\nSept 1 \\u2013 187,643 Dead\\n\\nOct 1 \\u2013 208,347 Dead\\n\\nNov 1 \\u2013 236,072 Dead\\n\\nNov 7 \\u2013 242,103 Dead\\n\\nDecember 12 302,762\",\"@JoeBiden @KamalaHarris Thanks to you both for bringing in fresh air, positivity and God\\u2019s hand and pushing us forward as we begin to crush this beast #PfizerBioNTech #pfizerproud #sciencewillwin #BidenHarris\",\"Salute to the #HealthcareHeroes who are risking their life everyday taking care of #COVID patients! May God give them strength! Help is on the way!\\n#PfizerCovidVaccine \\n#PfizerBioNTech\",\"And yes, odds of death for the elderly and at-risk is higher.... this is why our policies which try to prevent the healthy from being exposed has only shifts more of the burden to the elderly, and is therefore sadly responsible for more overall deaths.\\n\",\"Replying to @cnnbrk\\nI\\u2019ll be on the sidelines watching for the Zombie Apocalypse! ....\",\"#AstraZeneca to buy pharmaceutical firm #Alexion for $39 billion\\n\\n#COVID19vaccine #Pfizer #Pfizervaccine #PfizerBioNTech #PfizerCovidVaccine #astrazenecacovidvaccine #astrazenecacovid19vaccine\",\"What are the ingredients of Pfizer\\u2019s covid-19 vaccine? | MIT Technology Review #vaccination #CovidVaccine #Pfizer #Pfizervaccine #PfizerBioNTech\",\"Replying to @charlesadler and @RexChapman\\nI don't believe it was a country. It was a worldwide network of researchers grinding the numbers and cleaning the glassware and posting the raw data to prevent duplication of work already done...my kind of new,world order..?\",\"Grossly unfair and absolutely inevitable - With First Dibs on Vaccines, Rich Countries Have \\u2018Cleared the Shelves\\u2019 https://nytimes.com/2020/12/15/us/coronavirus-vaccine-doses-reserved.html?smid=tw-share\\u2026 #COVID19 #coronavirus #vaccine #Pfizer #BioNTech #PfizerBioNTech #Moderna #AstraZeneca #Oxford\",\"Hav genuine ? @ManCityCouncil is #Wythenshawe only place in #Manchester #southmanchester deliverin #covidvaccine #PfizerBioNTech #Pfizervaccine ?When will it made available 2 #Chorlton which has considerable number of over 80\\u2019s/homes/independent livin w\\u2019health issues @JoMidge?\",\"Replying to @yinonw\\nThis is great stuff!\",\"More approvals to #PfizerBioNTech vaccine: #Singapore approves @pfizer #CovidVaccine, expects first shots by December-end.\",\"Replying to @sputnikvaccine and @AstraZeneca\\nI wouldn\\u2019t trust a medical product from Russia. They poison political opponents.\",\"#Pfizervaccine #PfizerBioNTech\\nWhy #Pfizer is NOT 100% transparent about it? #coronavirus #VaccinesWork #VaccinesSaveLives #VaccinoAntiCovid #Dubai\\n#Toronto #emirates #SideEffect #allergies\\nSource+Copyright- MIT Technology Review\",\"Politico.  December 13, 2020.  FDA's Hahn: Covid-19 vaccine authorization based in 'science and data'\\nhttps://politico.com/news/2020/12/13/fdas-hahn-coronavirus-vaccine-approval-science-data-444854\\u2026\\n#coronavirus #covid19 #coronavirusprevention #CoronaVirusUpdate #CoronavirusVaccine #COVID19Vaccine #PfizerBioNTech #business #technology #datascience\",\"Replying to @yinonw and @scientificecon\\nYou are 18X more likely to have permanent heart damage and have 10X more odds of lung damage for every Covid death, among others. So, you may not die but become quite crippled too. I\\u2019d rather not take the risk. BTW, the side effects of vaccines seem to be pretty bad too...\",\"Coronavirus vaccine ships today, expect hospitals to be overwhelmed in nine  months  ...with baby deliveries  #COVID19 #vaccination #PfizerBioNTech #mondaythoughts\",\"Good heavens - you are too stupid to reason with even on a slow day. get a dummy for #pademics and slither away already. Give credit to #AngelaMerkel of German for supporting the #PfizerBioNTech #vaccine https://twitter.com/realDonaldTrump/status/1338263195941818370\\u2026\",\"Something interesting I learned during an interview with @b_kazaz today: \\n\\nThere's been a lot of chatter about how cold the #PfizerBioNTech vaccine must be kept. But many vaccines used for livestock around the world must be stored at -200 degrees, so this is nothing **too** new.\",\"Stand-up too trump as the COURTS, other Republicans in office have we wouldn't have 300k plus included in the #TrumpVirusDeathToll or the 16 million confirmed cases. Until #DiaperDon take RESPONSIBILITY for the Cases/Deaths he gets no credit for the VACCINE after all this is all\\n\",\"Here are the lipids used in lipid nanoparticle used the #mRNA  BioNTech/Pfizer #PfizerBioNTech  #CovidVaccine The top two are patented by Acutias #Acuitas while 1,2-disteraoyl-sn-glycero-3-phosphocholine and cholesterol are \\\"natural\\\" lipids common in many products (and food). 1/3\",\"What a great day for our Country & the World! @realDonaldTrump is ONE DAY CLOSER to leaving @WhiteHouse. The first shipments of the #PfizerBioNTech Vaccines are rolling out, which means we are beginning the end of the #TrumpVirusCatastrophe. Imagine if @GOP had enough Courage too\",\"Replying to @ShafiAhmed5\\n\",\"Replying to @cnnbrk\\nPfizer wasn't part of operation warp speed\",\"operation to vaccinate begins. As early as today in the nation worst hit by the coronavirus, health care workers and nursing home residents will be among the first to receive the Pfizer-BioNTech shots. Officials said it will likely be months before all those who want it can be\\n\",\"Phase 3 begins Dec 28, #PfizerBioNTech vaccine first to arrive in #singapore by end Dec, and shots to be free for all citizens and long-term residents. #COVID19\",\"Replying to @maha_kaissi @UR_Med and 2 others\\nSO EXCITED FOR YOU. @2ShotsInTheArm\",\"Replying to @yinonw and @jhaskinscabrera\\nTime to ban driving and swimming!\",\"#UnitedStates : The Federal Aviation Administration (FAA) said Saturday it had approved the use of the #PfizerBioNTech #COVID19 vaccine by pilots and air traffic controllers.\",\"#notwastingmyshot 4th person in #Charleston to get the #PfizerBioNTech #CovidVaccine @MUSChealth @ID_MUSC \\n\\nI feel great and am doing well! I am getting the #vaccine because it helps protect me from getting #COVID19.  I want to stay healthy and help prevent spread of coronavirus.\",\"Infections #worldwide\\n-\\n#UnitedStates : 220,575\\n#Brazil : 43,279\\n#Turkey : 30,805\\n-\\n#coronavirus #Corona #Covid_19 #Covid #COVID19 #vaccine #vaccination #pfizer #Pfizervaccine #PfizerBioNTech #BioNTech #lockdown #virus #China #Wuhan #WuhanVirus #WuhanCoronavirus #VirusCorona\",\"#NEW: @methodistdallas has received its first shipment of #PfizerBioNTech's #COVID19 vaccine. Front line healthcare workers are the first to get the shot. Parkland and UT-Southwestern in Dallas and Texas Health in Fort Worth receive shipments tomorrow.\",\"@L_MitchellODP, every aspect of the vaccination was really well planned and went on smoothly without any hiccups. Thank you and keep up the great work!\\n\",\"I\\u2019ve never been so excited to get a vaccine \\n\\n#CovidVaccine #PfizerBioNTech #VaccinesSaveLives #VaccinesWork\",\"\\\"The Moderna vaccine does not need some of the extra special handling requirements of the one from Pfizer, including ultra-cold freezers,\\u201d PM Trudeau said. #covid19vaccine #coronavirusvaccine #moderna #canada #pfizerbiontech\",\"Replying to @cnnbrk\\nWhen given the opportunity to purchase additional vaccine doses, Trump passed.\\n\\u00a0\\nAnd now, fewer Americans will be vaccinated before June.\\n\\u00a0\\nMake no mistake, Trump's incompetence will cost American lives. It already has.\\n\\u00a0\\nSo much for America first.\",\"Welp, thanks already aren't going quite as planned with the #PfizerBioNTech #CovidVaccine distribution.  These aren't frontline healthcare workers or nursing home residents.\",\"Wear a mask, wash your hands, and remain socially distant when possible. #stayhome #StayAtHome #StayAtHomeSaveLives #Corona #Covid #coronavirus #pfizer #Pfizervaccine #PfizerBioNTech #BioNTech\",\"Replying to @Samla_Green\\nNice one Sam \",\"MT @murray_nyc Five years ahead of schedule? It\\u2019s a pandemic! There was no pre-determined schedule. How about acknowledging #Germany for contributing hundreds of millions of dollars to finance the #PfizerBioNTech vaccine? #TrumpVirus #GOPComplicitTraitors  https://twitter.com/realDonaldTrump/status/1338263195941818370?s=20\\u2026\",\"Despite #Lebanon\\u2019s dire shortage of foreign exchange, the government expects to sign the $18 million deal for supplies of the #PfizerBioNTech vaccine this week, Health Minister Hamad Hassan told Reuters\",\"\\u201cThanks for being here and help us share the news of this historic moment,\\u201d said Dr. @liliabbo.\\n0:41379 views\",\"2.Who cannot get the Pfizer COVID Vaccine? \\n\\nUnder the current EUA - those younger than 16 years cannot get the vaccine.\\n\",\"Replying to @tschwarzromond @EricTopol and 3 others\\nWhile sovereign independence of assessments is critical to drug safety, the risk/benefit ratio here under emergency use given release of data & ,  and  approvals surely expedites matters? Unless procurement is in doubt.\",\"(ENG) NHS workers: 'Vaccine is a game changer' | #hopenews\\n\\n#NHSheroes #bbcnews #vaccine #Covid19UK #COVID19 #pandemic #Health #Immunity #PfizerBioNTech #Pfizer #BioNTech\",\"Replying to @AnitaOakville @PattyHajdu and 4 others\\nLight at the end of a dark tunnel\",\"#UnitedStates\\u2014The first #Covid19 vaccines are going out!\\n#CDC officially allows\\n#PfizerBioNTech\\u2014#coronavirus\\n#vaccine to be administered as\\nshipments begin in #US\\nHealth care workers & long-term\\ncare facility residents be first in\\nline to receive the shot\",\"All respect to due process but why not give approval now instead of the 29th of December. Surely multiple other countries approving it already is proof enough? #PfizerBioNTech #COVID19 https://rte.ie/news/coronavirus/2020/1212/1183952-covid-ireland/\\u2026 via @rte\",\"The Vaccine rolled out this week in several countries, bringing hope and scepticism with it. \\n\\n#vaccine #PfizerBioNTech #Moderna #pandemic #COVID19 #coronavirus\",\"US President Donald Trump announced that the vaccine will be free for all Americans and has thanked all the scientists, doctors, and workers for the vaccine.\\n\\n#USPresident #DonaldTrump #FreeVaccine #Pfizer #PfizerCovidVaccine #PfizerBioNTech #Coronavirus #COVIDVaccine #MangoNews\",\"The #PfizerBioNTech #CovidVaccine will NOT effect or interact with a person's DNA. DNA are located in the nucleus of the cell, and NOTHING from the vaccine enters the nucleus.\",\"Excited to have received the first part of my #PfizerBioNTech #CovidVaccine today.Impressive resource mobilization on display @CooperHealthNJ leading to a smooth and efficient start to a historic mass vaccination effort.  @CooperNeuroRes @CooperGME @coopermedschool\",\"\\\"The first batch of doses of Pfizer-BioNTech\\u2019s COVID-19 vaccine have arrived in Canada,\\u201d PM Trudeau said on Twitter.\\n#covid19vaccine, #coronavirusvaccine #pfizerbiontech\",\"Replying to @AnitaOakville @PattyHajdu and 4 others\\nThank you for all the hard work you put into getting this shipment here for Canada.\",\"Turkey\\u2019s coronavirus death toll reaches 16,417 @drfahrettinkoca #CoronavirusPandemic #Turkey #PfizerBioNTech #Sinopharm\\nhttps://ilkha.com/english/health-life/turkey-s-coronavirus-death-toll-reaches-16-417-11068\\u2026\",\"Thank you Thank you Thank you to all of the scientists who worked on the development of the vaccine for COVID-19. The first vaccines will be administered today in the US! This is the beginning of the end of the pandemic. #vaccine #Pfizer #PfizerCovidVaccine #PfizerBioNTech\",\"TV ad in 2030: \\u201cDid you receive the CV19 vaccine in 2020 or 2021? You are entitled to financial compensation.\\u201d #CovidVaccine #corona #COVID #Pfizervaccine #vaccination #PfizerBioNTech #FDA #COVID19Vaccine #Agenda21 #BioNTech\",\"Replying to @Dr_Dee_Kumar\\nUnfortunately not recommended at the moment if breastfeeding\",\"Pfizer received emergency use authorization from the Food and Drug Administration for the Covid-19 vaccine developed in partnership with Germany\\u2019s BioNTech (BNTX), with trucks rolling out from Pfizer\\u2019s Kalamazoo, Michigan, production plant over the weekend #PfizerBioNTech #invest\",\"Received my first dose of the #CovidVaccine #PfizerBioNTech today. I feel very privileged & lucky to have this to protect me & enable me to feel safer delivering care to patients @LPTnhs @BradgateUnit @LPTOTBradgate. Thank you to all involved in #LLR\",\"US is all set to start its #COVID19  #vaccination  drive with the doses of #PfizerBioNTech  #vaccine that is ready to be delivered to hospitals. US comes in the top list of the worst-hit countries from #coronavirus  #pandemic \\n\\nRead Full Article Here\",\"#New Vaccination campaign begins today in Quebec. Residents at Maimonides will be among the first seniors in #Canada to receive the #PfizerBioNTech #CovidVaccine Quebec Health Min Christian Dub\\u00e9 & Dr. Richard Mass\\u00e9 from Public Health will be speaking at 1pm. Photo: CityNews staff\",\"The agency also released new information for health care providers and for patients as the US shipped millions of doses of the vaccine across the country. \\n\\n#COVID19Vaccine #CoronaVaccine #Pfizervaccine #PfizerBioNTech\",\"Replying to @sputnikvaccine and @AstraZeneca\\nAstraZeneca analiza combinar su vacuna con la \\u201cSputnik V\\u201d:\",\"Replying to @sputnikvaccine and @AstraZeneca\\n\",\"Facts are immutable, Senator, even when you're not ethically sturdy enough to acknowledge them. (1) You were born in Canada. (2) #PfizerBioNTech vaccine was developed in Germany.(3) Scientists behind it, Muslim Turkish immigrants to Germany #UgurSahin & #\\u00d6zlemT\\u00fcreci @RexChapman\",\"Interesting Watch: @CNN's @NewDay live coverage of the loading of #PfizerBioNTech's vaccine at the Pfizer plant at Portage, Michigan for @Fedex and aerial delivery to various US destinations. #FirstCovid19VaccineShipmentsLeavePfizerPlant\",\"In the year 2022, I will also proudly post a picture of when I eventually receive \\\"the covid vaccine\\\"\\n#CryMyBelovedCountry #frontlineworkers #PfizerBioNTech\",\"\\\"mRNA vaccines teach our cells how to make a protein that will trigger an immune response without using the live virus that causes COVID-19. Once triggered, our body then makes antibodies.\\\"\\n\\nhttps://canada.ca/en/health-canada/services/drugs-health-products/covid19-industry/drugs-vaccines-treatments/vaccines/pfizer-biontech.html\\u2026 #mRNA #Pfizer #PfizerBioNTech #Pfizervaccine #VaccinesSaveLives\",\"#vaccine #PfizerBioNTech #Oxford_AstraZeneca #BharatBiotech #SputnikV Most of the companies have submitted application for Emergency Use Authorization (EUA) to the Drugs Controller General of India (DCGI) in India. #DGCI\",\"U.S. expects to have immunized 100 million against #COVID-19 by end of March -Slaoui https://reut.rs/2Km4KB3 #Covid_19 #vaccine #Trump #Biden #Fauci #WhiteHouse #Washington #NewYork #health #pharma #bigpharma #biotech #Pfizer #PfizerBioNTech #Pfizervaccine #Moderna #AstraZeneca\",\"@ElsTorreele \\n@kamarulbahrin\\n\",\"Replying to @DrMarcSiegel @kilmeade and 2 others\\nWhy are medical staff under 50 with no co-mordities getting the vaccine before people over 75 or in LTC?\",\"Have to agree: UK, US vaccinate with technology pioneered in 2 German, one US-Biotechs; US celebrates distribution of millions #PfizerBioNTech dosages; #EU still caught up in paperwork? @EricTopol @ewanbirney @jwoodgett @METorresPadilla @MatthiasTschop\\nhttps://eu.freep.com/story/news/health/2020/12/13/pfizer-covid-19-vaccines-kalamazoo-michigan/6529215002/\\u2026\",\"Replying to @ShafiAhmed5\\nCongrats!!!\",\"while deaths are closing in on the 300,000 mark... millions of people wait #PfizerBioNTech #Vaccine !\\n-\\nThe first US #COVID19Vaccine shipments will arrive at 145 locations around the country on Monday morning, #USArmy General Gus Perna said on #Saturday during a press briefing.\",\"For an in-depth look into its repercussions, read @_whitneywebb 's   \\\"Engineering Contagion\\\" investigative series here:\\nEngineering Contagion - Investigative SeriesDuring the presidency of George H.W. Bush in the early 1990s, something disturbing unfolded at the U.S.\\u2019 top biological warfare research facility at Fort Detrick, Maryland. Specimens of highly...unlimitedhangout.com\",\"it is a bit sad to claim the fame for success of #vaccination on patriotic competition between USA, Canada, UK and EU.\\nwe are in it together, we win it together. All those companies #PfizerBioNTech #Biontech #AstraZeneca #Moderna we can all be proud of modern science & technology\",\"Replying to @JacksonHealth\\nGreat !!!!!\",\"Turkey\\u2019s death toll from COVID-19 rises to 16,881 @drfahrettinkoca #coronavirus #PfizerBioNTech #Sinovac\\nhttps://ilkha.com/english/world/turkey-s-death-toll-from-covid-19-rises-to-16-881-11101\\u2026\",\"Replying to @KwakuAkyeampong @_AfricanUnion and 2 others\\nOh so you have given Western Sahara to Morocco too? Hmmm\",\"COVID 19 Vaccination. Latest Update.\\nhttps://youtu.be/XBVOE0-lLV4 \\n@YouTube \\n@YouTubeCreators @YouTubeTrends @YouTubeIndia @YouTubeTV \\n#COVID19 \\n#CovidVaccine \\n#COVID \\n#CoronaVaccine \\n#Pfizervaccine \\n#PfizerBioNTech \\n#adarpoonawalla\",\"Kuwait authorizes emergency use of Pfizer-BioNTech COVID-19 vaccine\\nFor all COVID news, visit: https://bit.ly/34606y8\\nhttps://news.writecaliber.com/healthcare-kuwait-coronavirus-kuwait-authorizes-emergency-use-of-pfizer-biontech-covid-19-vaccine/\\u2026\\n#Kuwait #PfizerBioNTech #CovidVaccine\",\"#Pfizervaccine is unlikely to be available in India for mass distribution. Read to find out why.\\n\\n#PfizerBioNTech #Pfizer #COVIDVaccine #Coronavirus #CoronaVaccine\",\"We're talking about HUMAN LIVES here!\\n\\nLet's not repeat the mistake of the past! #Dengvaxia jeopardized many lives of our children.\\n\\nIf #PfizerBioNTech is most suitable then, let's have it! Let's not settle for less!\\n\\nMany of our Kababayans are skeptical w/\\nChina #Sinovac\",\"Replying to @cnnbrk\\nMoney can buy FDA approvals quickly. Money can buy everything. \",\"@CDCDirector Redfield has just signed off on this recommendation. #CDC Panel Recommends #Pfizer's #COVID19 #Vaccine for People 16 and Over https://medscape.com/viewarticle/942558?src=soc_tw_share\\u2026 via @medscape \\n#PfizerBioNTech $PFE #IDtwitter #MedTwitter\",\"The US public will start receiving the Pfizer/BioNTech coronavirus vaccine from Monday after it was authorised for emergency use https://colombogazette.com/2020/12/13/first-round-of-us-vaccinations-to-begin/\\u2026 via @colombogazette #US #vaccine #PfizerBioNTech #coronavirus #COVID19 #Covid_19\",\"Odds of death from an actual covid infection if you are under 50 is somewhere between odds of death by sunstroke and electrocution/radiation.\\n\\nYou won't hear this from the mainstream media, but the numbers are based on the CDC and National Safety Council, and easy to calculate.\",\"Dr. Kathy Lofy says the vaccine will be a new tool in our tool box, and says she\\u2019ll also get vaccinated as soon as she\\u2019s eligible. \\n\\nAlso says she personally reviewed #PfizerBioNTech Phase 3 trial info, and fully agrees w/ FDA decision to approve #Q13FOX #COVID19\",\"The synthesis of the Acuitas lipids is described in the patent linked below. ALC-0315 seems to be lipid III-3 in this patent and if so, the synthesis proceeds in 3 steps as per below scheme.  2/3 https://patents.google.com/patent/WO2018081480A1/en\\u2026\\n\",\"Privileged be offered the #PfizerBioNTech vaccine. I would encourage everyone to take it up. It\\u2019ll help protect people around you, yourself and squeeze out #COVID19. A huge thank you to our magnificent #NHS staff, @MattHancock, @Jesse_Norman (Kate Bingham), @AllanNixon\",\"First Vaccine Shots in the US\\nWatch video at https://youtu.be/y2eHlKSufbE\\n\\n#FirstVaccineShots #COVID #COVID19 #pfizervacine #BioNTech #BioNTechVacine #Pfizer #PfizerBioNTech\",\"Before you say you WILL OR WON\\u2019T take Pfizer\\u2019s vaccine for COVID-19 Read the report. https://fda.gov/media/144245/download?fbclid=IwAR2B6GHvblDaAsbjEj7Y6N_iS7lWCyF8iBpaPNoJWqH8EyUpjwJl3I6d1GE\\u2026 #Pfizer #BioNTech #PfizerBioNTech #vaccine #CovidVaccines #coronavirus #Pfizervaccine \\n#COVID19\",\"IT HAPPENED!!!!!!!! I got my first dose of the #PfizerBioNTech vaccine today - THE BEST HOLIDAY PRESENT EVER!!! Also pretty stoked to be named \\u201cthe most excited person we\\u2019ve vaccinated today\\u201d!  Thank you @UR_Med! @URMed_GCH @pfizer (Please enjoy my windswept hair of excitement)\",\"WATCH LIVE: @JacksonHealth System news conference on receiving its first shipment of the #PfizerBioNTech COVID-19 vaccine today.\\nLIVE STREAM: https://cbsloc.al/2YKv7T6\",\"Members of the @teamsters delivered the first #COVID19Vaccine this morning\\n#teamsters\\n#UPS\\n#COVID19 \\n#Pfizer \\n#Pfizervaccine \\n#PfizerBioNTech\",\"\\n\",\"Interesting and very detailed article showing up how a well tested #supplychain, with #sharedvisibility will help delivering #PfizerBioNTech #COVID\\u30fc19 vaccines in each US area.\",\"Both recipients were over 55. One person had a heart attack 62 days after dose 2 and died 3 days later. The second person died from atherosclerosis 3 days after the first dose. So, no clear causal relationship between vaccination and death.\\n\",\"Replying to @ShafiAhmed5\\nWell done! Looks like most of us will be waiting a couple of months till we get to the top of the list. Trusts appear to have a differing approach to vaccinating staff .. despite the same government directive.\",\"@CNN @fox7austin @KXAN_News @TheBeatWithAri anyone?\\n\",\"Here we go! Grateful to be among the first group of vaccinated healthcare workers in Tampa/FL against #COVID19 \\n\\nhighlights:\\n-  no live or attenuated virus strains \\n- 2-part vaccination\\n- 20,000 in trial with 0 fatalities\\n- 95% efficacy\\n\\n#CovidVaccine #PfizerBioNTech\",\"UPS, FedEx Collaborate to Ship Pfizer-BioNTech COVID-19 Vaccines in US\\nhttps://latestly.com/agency-news/world-news-ups-fedex-collaborate-to-ship-pfizer-biontech-covid-19-vaccines-in-us-2195745.html\\u2026\\n#UPS #FedEx #PfizerBioNTech #PfizerCovidVaccine #COVID19Vaccine\",\"#USA to start #vaccination from today! It has according to latest figures maximum #coronavirus cases (over 16.7 million) and deaths ( last count 304,459). The #vaccination drive will start from today (Dec 14) with #PfizerBioNTech\\u2019s #vaccine. \\n#COVID19Vaccine\",\" #FDA #PfizerBioNTech #OperationWarpSpeed #CoronaVaccine #grateful #COVID #Corona FDA approves Pfizer\\u2019s COVID-19 vaccine for emergency distribution in the US\",\"#CovidVaccine \\n\\nStates will start getting #COVID19Vaccine Monday, #US says \\n#pakustv #NYC #Healthcare #GlobalGoals #PfizerBioNTech\",\"COVID-19 vaccines have safely departed out of Grand Rapids and are continuing their journey to their final destinations.\\n\",\"Replying to @JacksonHealth\\nPoor souls.\",\"#coronavirus #SputnikV #AstraZeneca #PfizerBioNTech #Moderna #Covid_19 Russian vaccine is created to last 2-4 years after vaccination & gives 96% protection guarantee. Pfizer, AZ, Moderna at max 4 months & huge allergic side effects. This means frequency of jab could kill you. https://twitter.com/elimeliandme/status/1337858199140118533\\u2026\",\"In further #Phase3 details from @sporeMOH attractions may start applying to the Singapore Tourism Board (STB) @VisitSingapore to increase operating capacity from 50% to up to 65%\\nhttps://moh.gov.sg/news-highlights/details/moving-into-phase-three-of-re-opening\\u2026\\n\",\"We know wearing a mask when around others, staying at least 6 feet away, avoiding crowds, and washing your hands prevent you from getting the virus, but how can getting the COVID-19 vaccine help?\\n\\n#COVID19  #Pfizer #PfizerBioNTech  #CDC #maskupwisconsin #StopTheSpreadOfCOVID19\",\"The end is in sight, many of my coworkers and I are getting our first doses of the #PfizerBioNTech #CovidVaccine today. But as Dr. Milani at @OchsnerHealth emphasizes, stay #vigilant, #MaskUp, do your part and protect your community. #Covid_19 We can end this!\",\"Does this vaccine mean that I\\u2019m gonna have to eventually wear a proper bra again or are we all in agreement that underwires are the devil and sports bras are the way forward? #Pfizervaccine #CoronaVaccine #AstraZeneca #PfizerBioNTech #COVID19Vaccine #workingfromhome\",\"#COVID19, Sunday morning, 12/13/2020:\\n\\nConfirmed cases 16,563,650\\nDeaths 305,144\\n\\nAs the #PfizerVaccine rolls out of Michigan, #WhinyLittleBitch #Trump continues his #TantrumTweets about his #Election loss & threatening vetos. What does this model for #Americans?\\n\\n#38Days\",\"The US public will start receiving the Pfizer/BioNTech coronavirus vaccine from Monday after it was authorised for emergency use https://colombogazette.com/2020/12/13/first-round-of-us-vaccinations-to-begin/\\u2026 via @colombogazette #US #vaccine #PfizerBioNTech #coronavirus #COVID19 #Covid_19\",\"#AnitaQuidangen, a personal support worker in #Toronto, became one of the first people in #Canada to receive a #COVID19  #Vaccine on Dec. 14, 2020. 0:44\\n1st doses of #PfizerBioNTech COVID-19 vaccine in Canada given in Toronto, #Quebec City\",\"#Singapore approves the #PfizerBioNTech #COVID-19 #vaccine \\nFirst shipment expected by end-December \\n\\n#coronavirus #COVID19 #CoronaVaccine #Pfizer #BioNTech\",\"#COVID #PfizerBioNTech #vaccine  #Pennsylvania\\nNursing homes in Pennsylvania prepare for COVID-19 vaccine distribution https://msnbc.com/yasmin-vossoughian/watch/nursing-homes-in-pennsylvania-prepare-for-covid-19-vaccine-distribution-97661509725\\u2026 via @msnbc\",\"With several countries including the US and the UK now approving the use of #PfizerBioNTech's #COVID19Vaccine, #cybercriminals have sensed an opportunity to lure people into buying fake remedies on the dark web, said a report from #cybersecurity firm Check Point.\",\"If science is same everywhere so should be it's results. Entire world should approve vaccine which one country has approved and started using doesn't it makes sense #WHO role have been very wierd, unprofessional and suspicious in this entire pandemic..#vaccine #PfizerBioNTech\",\"Replying to @PSampathkumarMD and @VincentRK\\nDo you think there will be enough Pfizer and Moderna doses to get to the high risk chronically ill and the elderly? I\\u2019m worried we won\\u2019t have enough vaccine to get to us in this first quarter. Then what? Need hope.\",\"Coronavirus: Iran reports 8,201 new cases, 221 deaths in the last 24 hours #Iran #coronavirus #PfizerBioNTech #CovidVaccine\\n\\nhttps://ilkha.com/english/world/coronavirus-iran-reports-8-201-new-cases-221-deaths-in-the-last-24-hours-11051\\u2026\",\"Such a great feeling. A big thank you to all the healthcare professionals; scientists, nurses, doctors, caregivers. #COVID19 #CovidVaccine #PfizerBioNTech #Pfizervaccine\",\"Vaccine!! Anyone?? #covid #Pfizervaccine #PfizerBioNTech\",\"More #HealthcareHeroes from Jackson North Medical Center getting their #COVID19 #PfizerBioNTech vaccine today.\",\"What we can learn from the victory over #Polio\\nA good refresher on how polio came to an end. \\nLet's not forget #VaccinesWork\\n#PfizerBioNTech \\n#COVID19\",\"Answers to questions about #COVID #vaccination  https://npr.org/sections/health-shots/2020/12/12/945288710/what-you-need-to-know-as-the-first-covid-19-vaccine-heads-your-way\\u2026 #vaccine #Covid_19 #healthcare #health #pandemic #FDA #CDC #Pfizer #PfizerCovidVaccine #PfizerBioNTech #PfizerBiotech #Immunity #OperationWarpSpeed #Moderna #rtitbot @Retweet_Lyfe @BlazedRTs\",\"Had my Covid-19 Vaccination, doing my bit helping to save the human race.\\nMega sore arm today as expected  small price to pay. Don't want coronavirus a second time.\\n#CovidVaccine #Covid19UK #COVID19Vaccine #PfizerBioNTech\",\"Presenting you the top Medical News/Advancement of the past week you don't want to miss!\\n\\n#docnosofficial #covid19 #covidcount #pfizeruk #pfizervaccine #pfizerbiontech #spinesurgery #spinesurgeryrecovery #yellowfever #medicalnews #healthcare #docnos\",\"Replying to @charlesadler and @RexChapman\\n\",\"#INBOX | @GovParsonMO says shipments of the #PfizerBioNTech vaccine will continue to ship to Missouri\\u2019s 21 vaccination sites throughout this week. These sites are hospitals and health care facilities. #moleg\",\"Pregnant women may likewise choose to get the vaccine after discussion with her HCP. Need to consider risks and benefits, local COVID19 transmission, personal risk of contracting the virus etc.\\n\",\"Replying to @kfdmnews and @THEPAIGEREPORT1\\nSeriously.\",\"Replying to @charlesadler and @RexChapman\\nThe sad fact is that Canadian conservatives think these guys are a model to emulate. Lets get back to our progressive conservative roots.\",\"Our MD Dr Susannah Thompson pulling out all the stops leading a magnificent team of NHS staff & volunteers tonight as the 1st site in #NorthTyneside goes live to deliver the #PfizerBioNTech vaccine to >80 yr old residents in 1st wave of community #CovidVaccination @NTCouncilTeam\",\"It is coming. Vaccine will be here soon! So excited... #CovidVaccine #covid19 #Pfizervaccine #PfizerBioNTech #maskup\",\"That\\u2019s indeed a sight of relief \\n\\nThe #Saudi health minister @tfrabiah showcased a sample of #PfizerBioNTech vaccine during the state budget press conference, confirming first shipment of the #coronavirus vaccines have already arrived to the Kingdom few hours ago.\",\"With numbers likely to get worse over the holidays, the #vaccine is offering a bright spot in the fight against the #pandemic that's killed nearly 300,000 #Americans.\\n#Pfizer #Pfizervaccine #PfizerBioNTech \\n@pfizer\",\"The @pfizer-@BioNTech_Group vaccines are now in our U.S. network, and we\\u2019ll be delivering them to their destinations soon.  https://fedex.com/en-us/coronavirus/stories.html\\u2026\",\"Singapore's plan to tackle #COVID19\\nhas been really effective.  \\nEarly in pandemic,more than $1 bn was set aside for advanced purchase of vaccine candidates.\\n#PfizerBioNTech to be the first vaccine approved by Singapore Health Sciences Authority. Shipment to arrive by Dec end.\",\"US says COVID-19 vaccine to start arriving in states Monday http://wtsp.com/article/news/health/coronavirus/vaccine/covid-19-vaccine-monday/507-ff6d9923-5f64-4429-9251-1a0309ed8444\\u2026 via @10TampaBay  #Pfizervaccine #Pfizer #PfizerBioNTech #Vaccine #vaccines\",\"Pharmacists are essential for easing patient concerns about the safety of COVID-19 vaccines such as the Pfizer/BioNTech vaccine, a global health expert says in a C+D podcast\\n#PfizerBioNTech @OksanaPyzikUCL\\n\\nhttps://chemistanddruggist.co.uk/feature/academic-pharmacists-critical-easing-covid-19-vaccine-concerns\\u2026\",\"Health #Canada has warned people allergic to any of the ingredients in the #PfizerBioNTech #COVID19 vaccine not to receive it.\",\"#Iran has told the World Health Organization it does not intend to import the #PfizerBioNTech Covid-19 #vaccine because it does not have the means to transport it, a health official said on Saturday. This is because the vaccine must be kept at minus-70 degrees. \\n #COVID19 #WHO\",\"The announcement comes after federal authorities granted the Pfizer vaccine emergency use authorization.\\n\\nRead more: http://Oigetit.com\\n\\n#FDAAuthorized #PfizerBioNTech\\n\\nVideo credit: @Independent\",\"The first shipments of the #PfizerBioNTech #Covid_19 vaccine will begin arriving in #US states from Monday, an official of President @realDonaldTrump 's administration said.\",\"Delighted that @US_FDA approved vaccine for emergency use.\\n\",\"Trump announces #vaccine rollout 'in less than 24 hours'\\n\\nThe first Americans will be vaccinated against #coronavirus in the next 24hrs as the US last night authorised the #Pfizer/#Biontech vaccine for emergency use -> https://cityam.com/trump-announces-vaccine-rollout-in-less-than-24-hours/\\u2026\\n\\n#PfizerBioNTech #PfizerVaccine\",\"Canada will be receiving up to 200,000 more doses of the #PfizerBioNTech vaccine next week & potentially up to 168,000 #Moderna vaccine doses by the end of year. This means thousands more ians will be vaccinated by the end of December 2020. http://ctv.news/8kj747E via @CTVNews\",\"Replying to @Anaridis\\nLove this \",\"Replying to @charlesadler and @RexChapman\\nI remember when he ran for president. I kept saying he's going to have to answer to his Canadian heritage as he wouldn't be illegible anyways. \\n\\nOh and yeah, pesky facts like that don't exist in his world.\",\"Doses of Pfizer\\u2019s Covid-19 vaccines will arrive at 145 US sites on Monday, Operation Warp Speed official says https://cnn.it/3qTPf4a\",\"#BreakingNews A nurse in New York City on Monday became the first person in the United States to receive the coronavirus vaccine, receiving the #PfizerBioNTech shot live on television. (AFP)\",\"Hey @pfizer with respect to your #CovidVaccine, say someone gets vaccinated and builds antibodies, can they donate blood for convalescent plasma treatment of others? #COVID19 #Pfizervaccine #PfizerBioNTech\",\"#Singapore Approves Pfizer #COVID19 Vaccine, First Shipment Expected by End of #December, Says PM Lee Hsien Loong\\n#PfizerBioNTech #Pfizervaccine @leehsienloong\",\"Boxes containing the first shipment of the Pfizer-BioNTech #COVID19 #vaccine are prepared to be sent at the #Pfizer Global Supply Kalamazoo manufacturing plant : Morry Gash, Pool #PfizerBioNTech #Pfizervaccine\",\"#UgurSahin #ozlemtureci the #Muslim Scientists Husband-Wife are saving the world with their #PfizerBioNTech #PfizerCovidVaccine #PfizerBiotech #Pfizervaccine #PfizerProud\",\"Replying to @Anaridis and @ScottKirsner\\nHow do they have time for this?\",\"What kind of #America will he leave behind?\\n-\\n#Trump #DonaldTrump #JoeBiden #NewYork #Washington #WhiteHouse #WashingtonDC #HateSpeech #BlackLivesMatter #racism #UnitedStates #MeToo #COVID19 #PoliceBrutality #PoliceViolence #FDA #Pfizer #PfizerBioNTech #vaccine #USA #KamalaHarris\",\"#Singapore became on Monday the first Asian country to approve #PfizerBioNTech's #CoronavirusVaccine and said it expects to start receiving shots by the end of the year\",\"Replying to @AnitaOakville @PattyHajdu and 4 others\\nThank you for the organization and foresight that made this arrival happen. @JustinTrudeau\",\"While the world has been on the wrong side of history this year, hopefully, the biggest vaccination effort we've ever known will put us back on the right one https://nbcnews.com/news/us-news/first-trucks-covid-19-vaccine-roll-out-pfizer-plant-michigan-n1251037\\u2026 @DohaMadani #covid19 #supplychain #logistics #vaccine #unitedstates #pandemic #pfizerbiontech\",\"Replying to @charlesadler and @RexChapman\\nPsst... we don't want him back.\",\"Doses of the #PfizerBioNTech vaccine will begin leaving the company's factory in #Kalamazoo #Michigan on Sunday.\\nThe #US is seeking to inoculate 20 million people in the first month.\\nRead more:\",\"Replying to @charlesadler and @RexChapman\\nWell said Charles. Ted Cruz and his ilk have made it very difficult to be a person who is both progressive and conservative.\",\"Tragedy. Another life taken by corporate greed and the evil pharmaceutical companies. #vaccination #vaccine #CovidVaccine #Pfizer #PfizerBioNTech #modernavaccine https://twitter.com/MajorPatriot/status/1339219266906763267\\u2026\",\"@AFP #UPDATE The #PfizerBioNTech #Covid-19 vaccine began leaving the company's #Michigan factory on Sunday, set to be injected into the arms of millions of the most vulnerable Americans as the global death toll topped 1.6 million http://u.afp.com/UZZM\",\"This is excellent news!  Our great President Trump and his administration have pushed to get this vaccine ready quickly and have been prepared long in advance to distribute it to the public and that glorious day has now come.  Simply amazing.  \\n#PfizerBioNTech\",\"So pleased to get my #PfizerBioNTech #Covid_19 vaccine just now!  \\nIt is so important that as many people as possible get vaccinated. Hopefully this is the beginning of the end and 2021 can be better for all of us\",\"Welcoming the 1st #COVID19vaccines to  tonight!\\n\\nThe 1st 30K doses of #PfizerBioNTech are arriving across the country tonight & tomorrow  initial deliveries of \\u2019s 20M doses of this vaccine.\\n\\nWhile we have a long way to go, this marks the beginning of our bridge to recovery.\",\"Turkey\\u2019s death toll from COVID-19 rises to 16,881 @drfahrettinkoca #coronavirus #PfizerBioNTech #Sinovac\\nhttps://ilkha.com/english/world/turkey-s-death-toll-from-covid-19-rises-to-16-881-11101\\u2026\",\"Over the weekend, the #FAA issued guidance for pilots following use of the new #PfizerBioNTech #vaccine for #COVID19, generally permitting their ability to fly after a brief waiting period. #flying #pilots\",\"Replying to @AnitaOakville @PattyHajdu and 4 others\\nCongratulations - best news ever!!\",\"COVID-19 Vaccine Update: Initial Doses of Pfizer Coronavirus Vaccine in US to Begin from Tomorrow\\nhttps://latestly.com/agency-news/world-news-initial-doses-of-pfizer-covid-19-vaccine-in-us-to-begin-from-monday-2195638.html\\u2026\\n#COVID19Vaccine #PfizerBioNTech #US\",\"#TwitterPoll: DYK: the #UK, #Bahrain, #Canada & the #USA are among the first nations to approve the #PfizerBioNTech #Covid19 #vaccine . \\n\\nIf a #vaccination is free & accessible where you live, will you plan to get #vaccinated?\",\"\\u201cI\\u2019m just honored to be one of the first getting vaccinated. Protect yourself and protect your loved ones by getting the vaccine,\\u201d said Dr. @liliabbo, chief of infection prevention and infectious diseases at @JacksonHealth. #PfizerBioNTech\",\"@ManchesterHCC @Dr_PWright @GMSCNews @GM_HSC @GMEC_SCN @doctormkumar @ManCityCouncil @AndyBurnhamGM important day for GM. Can\\u2019t stress enough the importance of Covid -19 vaccine #CovidVaccines #PfizerBioNTech #Covid_19 #staysafe\",\"Replying to @AnitaOakville @PattyHajdu and 4 others\\nNice\",\"Replying to @Anaridis\\nMust be tough in their 24/7 battle to find time for nonsense.\",\"After 10 months and 3 weeks since its first case, finally some relief for Uncle Sam. Vaccination starts Monday. #Pfizervaccine #BioNTech #PfizerBioNTech\",\"This little vial carries so much.\\n\\nto all the scientists who worked tirelessly to get this out. \\n\\n#vaccinated #PfizerBioNTech\",\"Replying to @yinonw\\nWhat a 130,000+ COVID-19 deaths looks like . . . \",\"Replying to @FlyingMagazine\\nWell. How about driving? New excuse for teachers not to go to work.\",\"Replying to @CurtisSChin\\nYes\",\"Replying to @charlesadler and @RexChapman\\n@tedcruz this sums up your 'Dear Leaders\\\" ignoring and dereliction of duty in his response to Covid:\",\"New PODCAST: Vaccinating Our Way Out of the Pandemic\\n@larrybrilliant, @PeterHotez & @RaySuarezNews discuss the #PfizerBioNTech, other promising vaccines in the pipeline & what it will take to end the pandemic. https://apple.co/37cNozy\",\"The trump administration failed to deliver on vaccine promises, *shocker* #COVIDIOTS #coronavirus #CovidVaccine #PfizerBioNTech\"],\"legendgroup\":\"\",\"marker\":{\"color\":[1,1,1,1,1,1,1,1,1,1,1,1,1,1,1,1,1,1,1,1,1,1,1,1,1,1,1,1,1,1,1,1,1,1,1,1,1,1,1,1,1,1,1,1,1,1,1,1,1,1,1,1,1,1,1,1,1,1,1,1,1,1,1,1,1,1,1,1,1,1,1,1,1,1,1,1,1,1,1,1,1,1,1,1,1,1,1,1,1,1,1,1,1,1,1,1,1,1,1,1,1,1,1,1,1,1,1,1,1,1,1,1,1,1,1,1,1,1,1,1,1,1,1,1,1,1,1,1,1,1,1,1,1,1,1,1,1,1,1,1,1,1,1,1,4,1,1,1,1,1,1,1,1,1,1,1,1,1,1,1,1,1,1,1,1,1,1,1,1,1,1,1,1,1,1,1,1,1,1,1,1,1,1,1,1,1,1,1,1,1,1,1,1,1,1,1,1,1,1,1,1,1,1,1,1,1,1,1,1,1,1,1,1,1,1,1,1,1,1,1,1,1,1,1,1,1,1,1,1,1,1,1,1,1,1,1,1,1,1,1,1,1,1,1,1,1,1,1,1,1,1,1,1,1,1,1,1,1,1,1,1,1,1,1,1,1,1,1,1,1,1,1,1,1,1,1,1,1,1,1,1,1,1,1,1,1,1,1,1,1,1,1,1,1,1,1,1,1,1,1,1,1,1,1,1,1,1,1,1,1,1,1,1,1,1,2,1,1,1,1,1,1,1,1,1,1,3,1,1,1,1,1],\"coloraxis\":\"coloraxis\",\"symbol\":\"circle\"},\"mode\":\"markers\",\"name\":\"\",\"orientation\":\"v\",\"showlegend\":false,\"type\":\"scatter\",\"x\":[7.747313022613525,1.8727734088897705,9.5405855178833,8.582099914550781,6.844642639160156,2.115821599960327,8.004733085632324,6.150806427001953,8.68255615234375,4.812587261199951,9.271636962890625,8.29703426361084,8.872089385986328,7.249013900756836,6.835134983062744,7.969369411468506,7.518824577331543,5.944224834442139,6.5692524909973145,8.379873275756836,4.776167869567871,2.2760982513427734,5.915290355682373,8.561635971069336,5.301624774932861,7.256321430206299,7.828927040100098,2.000633716583252,7.316837310791016,8.585589408874512,4.866700172424316,8.060909271240234,3.5611774921417236,7.538762092590332,6.684080600738525,7.694365501403809,5.528045654296875,8.638700485229492,4.675196170806885,2.8078625202178955,5.581291675567627,7.86713981628418,3.1435022354125977,7.956775665283203,2.511282205581665,6.763031482696533,6.3903937339782715,9.323220252990723,3.0276355743408203,8.778075218200684,6.458469390869141,7.0836639404296875,6.302513599395752,7.415328502655029,8.651803016662598,7.10711145401001,4.847721576690674,7.0434465408325195,6.879836559295654,6.8780694007873535,5.722530364990234,6.247921943664551,8.64264965057373,7.875856876373291,8.448118209838867,9.077431678771973,7.222127437591553,8.221664428710938,9.346060752868652,6.690676212310791,8.647130012512207,3.2765233516693115,9.07776165008545,9.423920631408691,8.144862174987793,2.137195348739624,2.539565324783325,2.7194154262542725,1.6990371942520142,3.204604387283325,7.654804229736328,6.8165669441223145,7.27812385559082,8.91671371459961,6.966981410980225,9.060144424438477,9.028379440307617,2.8539888858795166,7.001363277435303,4.94944953918457,2.30397367477417,2.972858190536499,6.010596752166748,9.25447940826416,6.994110584259033,1.6694860458374023,7.445404529571533,2.0857090950012207,6.7652482986450195,8.298635482788086,9.092787742614746,6.111326694488525,6.4944353103637695,6.098368167877197,8.295909881591797,7.211767673492432,7.048084735870361,2.8698906898498535,2.0904111862182617,7.313539981842041,9.14737319946289,6.642725944519043,5.078516483306885,3.232257843017578,7.792407035827637,6.497882843017578,6.218782901763916,2.8701794147491455,8.651849746704102,3.249150037765503,8.417957305908203,5.78187370300293,6.805779933929443,7.027846336364746,8.122956275939941,7.56955623626709,6.801846504211426,5.285206317901611,5.659204483032227,6.673839092254639,1.969512939453125,6.868236541748047,7.860624313354492,8.496659278869629,2.5105276107788086,7.0963358879089355,7.6153645515441895,8.95523452758789,8.765314102172852,6.817331790924072,7.457837104797363,5.690464973449707,9.4107666015625,9.10366153717041,6.703460216522217,5.592896461486816,5.183772087097168,6.723184108734131,5.851254463195801,8.128376960754395,8.092320442199707,7.129932403564453,7.537378311157227,4.890665531158447,2.2145798206329346,9.289338111877441,8.486896514892578,7.9674248695373535,8.50948429107666,6.835485458374023,8.166597366333008,7.192483425140381,7.253288269042969,6.174487113952637,8.779886245727539,5.965265274047852,2.786195755004883,3.2824180126190186,8.297142028808594,9.194548606872559,2.0745327472686768,3.4169211387634277,9.461555480957031,5.81926965713501,7.254912376403809,6.393137454986572,5.622132778167725,5.765603542327881,7.782783031463623,6.428829193115234,5.062012195587158,7.208187580108643,2.253110408782959,7.145205974578857,8.367267608642578,1.9453356266021729,8.668951988220215,9.3030366897583,6.173428058624268,2.2156965732574463,7.945158958435059,7.3779401779174805,7.664716720581055,7.4660491943359375,8.533455848693848,5.015381813049316,6.87155294418335,1.7571464776992798,6.863982200622559,6.252886772155762,7.934562683105469,9.246966361999512,9.518324851989746,4.984645843505859,7.876627445220947,7.9423298835754395,7.831042289733887,8.46898078918457,8.571739196777344,7.338372707366943,7.106258869171143,5.898536682128906,8.440347671508789,9.171205520629883,7.359107971191406,2.655627965927124,6.120620250701904,7.292083263397217,2.2285513877868652,7.2859578132629395,6.809019088745117,6.981149673461914,2.3366892337799072,6.732667446136475,1.7596805095672607,7.132941246032715,9.216826438903809,8.258544921875,7.063110828399658,8.536894798278809,9.007631301879883,8.401067733764648,6.811384677886963,8.676548957824707,8.816596984863281,5.467539310455322,6.348736763000488,8.389165878295898,6.09187650680542,6.569877624511719,5.213932037353516,2.6835224628448486,7.703268527984619,6.618191242218018,6.158733367919922,2.915529489517212,5.686000823974609,7.540698051452637,8.03090763092041,8.5060396194458,7.619516372680664,7.15406608581543,2.461712121963501,8.154991149902344,8.653745651245117,8.237916946411133,5.024366855621338,6.2291436195373535,6.363455772399902,8.41883659362793,6.605377674102783,9.016654014587402,6.702375888824463,8.09859561920166,7.32143497467041,6.349039554595947,6.89582633972168,5.111965656280518,6.399770736694336,6.033021926879883,5.711034297943115,7.495721817016602,7.471248149871826,6.291557788848877,3.1626906394958496,7.236084461212158,9.007482528686523,3.0466232299804688,3.5275447368621826,5.283141613006592,6.307349681854248,8.524407386779785,6.683414936065674,8.03170394897461,8.78647232055664,7.503010272979736,9.082280158996582,9.306307792663574,9.426909446716309,9.37204360961914,7.441542148590088,9.378512382507324,8.35411262512207,6.992548942565918,2.3939130306243896,3.631937026977539,7.475962162017822,8.518081665039062,5.254158020019531,9.187830924987793,7.110466003417969,5.512857913970947,3.1451659202575684,5.949012279510498,9.186296463012695,1.685219168663025,6.993059158325195,3.366825580596924,7.504641532897949,3.468226432800293,6.925870895385742,7.050466537475586,6.602231502532959,5.96353816986084,6.797018051147461,6.806884765625,9.491891860961914,1.8902502059936523,8.1024808883667,7.417624473571777,5.688587188720703,7.028372764587402,2.10054612159729,3.1732728481292725,6.349959850311279,6.529091835021973,6.756910800933838,3.401196002960205,2.7912817001342773,3.431631326675415,6.520429611206055,7.329531192779541],\"xaxis\":\"x\",\"y\":[16.26325035095215,9.888144493103027,14.841174125671387,13.500533103942871,15.889588356018066,10.262762069702148,12.437260627746582,14.742701530456543,14.847725868225098,14.563403129577637,15.615050315856934,12.795156478881836,13.344419479370117,15.687670707702637,16.943906784057617,15.026302337646484,13.610407829284668,14.552123069763184,13.120503425598145,16.496570587158203,14.528304100036621,10.40356159210205,15.114829063415527,13.988728523254395,15.311838150024414,16.26430320739746,16.353775024414062,10.03089427947998,15.082027435302734,13.05256462097168,14.925314903259277,16.69011116027832,10.116769790649414,13.148771286010742,14.399951934814453,14.434320449829102,14.457832336425781,13.483940124511719,14.101868629455566,10.612902641296387,15.88968563079834,12.74102783203125,10.32443618774414,12.635313987731934,9.55374813079834,16.748706817626953,14.182367324829102,15.560847282409668,10.087370872497559,13.21292495727539,14.427555084228516,13.014630317687988,15.3758544921875,15.140101432800293,14.732102394104004,16.97576904296875,14.73949909210205,13.541788101196289,12.750065803527832,14.09542465209961,13.72484016418457,14.31240463256836,12.959468841552734,12.8667573928833,14.161063194274902,12.49094009399414,14.249091148376465,16.28138542175293,14.165857315063477,14.87255859375,15.641019821166992,10.560317039489746,13.803084373474121,14.049490928649902,13.568158149719238,10.515076637268066,9.799910545349121,10.697834014892578,10.089831352233887,10.09494400024414,16.5645809173584,11.158743858337402,16.690752029418945,13.986572265625,16.96394157409668,13.011322021484375,13.259283065795898,10.158548355102539,12.778536796569824,14.003870964050293,9.915578842163086,10.44899845123291,16.061735153198242,12.87457275390625,13.75589370727539,10.065474510192871,15.79745864868164,10.437853813171387,14.163385391235352,13.84070110321045,12.718123435974121,14.396381378173828,16.253339767456055,15.99804401397705,15.674812316894531,16.3380126953125,13.058897018432617,10.278658866882324,9.983226776123047,13.004179954528809,12.453570365905762,15.819005966186523,14.306808471679688,9.82113265991211,12.948838233947754,15.3696928024292,15.470480918884277,10.143255233764648,13.027195930480957,9.987936973571777,17.00177001953125,15.690325736999512,16.82197380065918,13.39390754699707,14.862967491149902,15.6936616897583,13.062088966369629,15.124374389648438,15.639866828918457,16.38042449951172,10.020878791809082,11.15815544128418,12.992924690246582,17.121976852416992,9.597415924072266,16.10870361328125,13.504864692687988,12.902179718017578,12.84151554107666,11.953906059265137,16.71364402770996,15.816007614135742,14.081611633300781,12.403101921081543,11.34273910522461,13.922661781311035,14.763629913330078,12.219657897949219,13.331963539123535,13.476998329162598,12.848347663879395,14.464237213134766,14.644065856933594,14.576249122619629,10.106008529663086,15.550921440124512,14.631351470947266,12.945935249328613,13.531246185302734,12.09711742401123,16.73514175415039,14.411520957946777,15.417121887207031,13.725671768188477,14.763703346252441,13.823576927185059,10.235984802246094,9.919136047363281,17.298357009887695,15.703874588012695,9.809033393859863,9.937217712402344,14.804129600524902,15.739264488220215,12.680129051208496,16.273162841796875,14.928248405456543,15.30691146850586,14.079741477966309,14.034253120422363,14.396016120910645,12.826343536376953,10.197824478149414,14.437847137451172,16.363176345825195,10.481202125549316,13.459976196289062,14.188619613647461,14.571882247924805,9.83371353149414,16.8895263671875,14.33198070526123,14.041543960571289,13.959935188293457,12.820793151855469,15.079258918762207,16.883821487426758,9.951932907104492,11.112221717834473,16.044069290161133,13.373090744018555,12.356351852416992,14.128608703613281,14.80327033996582,16.96610450744629,17.42736053466797,13.043127059936523,14.589081764221191,14.633471488952637,14.45452880859375,15.696375846862793,15.430936813354492,12.883125305175781,14.389103889465332,13.262765884399414,10.148709297180176,14.235848426818848,14.632887840270996,10.050803184509277,16.53649139404297,14.061650276184082,14.615982055664062,9.652641296386719,11.27265739440918,10.150677680969238,12.898030281066895,13.634529113769531,15.55553150177002,14.717077255249023,14.102795600891113,13.09836483001709,16.971397399902344,12.007368087768555,14.026555061340332,14.703241348266602,14.931455612182617,15.481317520141602,13.261122703552246,15.26657772064209,15.857852935791016,15.296488761901855,10.782120704650879,15.488020896911621,13.878427505493164,14.310853958129883,9.968859672546387,15.815502166748047,15.703865051269531,17.165863037109375,13.633407592773438,16.89971351623535,16.811960220336914,9.646345138549805,14.47750473022461,15.448624610900879,13.31544017791748,14.213200569152832,15.078056335449219,13.5862455368042,17.076202392578125,16.7933406829834,15.595906257629395,15.839374542236328,14.918084144592285,14.657492637634277,14.547316551208496,11.117198944091797,14.759750366210938,14.950870513916016,15.765923500061035,13.804380416870117,13.097799301147461,12.954788208007812,13.127378463745117,10.371940612792969,16.090452194213867,12.528158187866211,10.423491477966309,10.474996566772461,14.709272384643555,15.063321113586426,16.772790908813477,14.550867080688477,16.09320068359375,15.702330589294434,16.935504913330078,13.206527709960938,12.92550277709961,12.85623550415039,13.978246688842773,16.83812713623047,14.04511547088623,17.22826385498047,16.6636962890625,10.214261054992676,10.658365249633789,16.732954025268555,17.128490447998047,15.08434009552002,15.679350852966309,16.009958267211914,14.166666030883789,10.23062515258789,13.685301780700684,15.765475273132324,10.075859069824219,14.739681243896484,10.465004920959473,16.23224449157715,10.531314849853516,14.684609413146973,16.212255477905273,14.937567710876465,15.115167617797852,16.619850158691406,11.241351127624512,14.69593334197998,9.958148956298828,17.027278900146484,14.784178733825684,15.253525733947754,13.142098426818848,9.997918128967285,10.153054237365723,15.113348960876465,15.523836135864258,11.417886734008789,10.049764633178711,10.60593318939209,10.524395942687988,14.7159423828125,13.78925895690918],\"yaxis\":\"y\"}],                        {\"coloraxis\":{\"colorbar\":{\"title\":{\"text\":\"cluster\"}},\"colorscale\":[[0.0,\"#0d0887\"],[0.1111111111111111,\"#46039f\"],[0.2222222222222222,\"#7201a8\"],[0.3333333333333333,\"#9c179e\"],[0.4444444444444444,\"#bd3786\"],[0.5555555555555556,\"#d8576b\"],[0.6666666666666666,\"#ed7953\"],[0.7777777777777778,\"#fb9f3a\"],[0.8888888888888888,\"#fdca26\"],[1.0,\"#f0f921\"]]},\"legend\":{\"tracegroupgap\":0},\"margin\":{\"t\":60},\"template\":{\"data\":{\"bar\":[{\"error_x\":{\"color\":\"#2a3f5f\"},\"error_y\":{\"color\":\"#2a3f5f\"},\"marker\":{\"line\":{\"color\":\"#E5ECF6\",\"width\":0.5},\"pattern\":{\"fillmode\":\"overlay\",\"size\":10,\"solidity\":0.2}},\"type\":\"bar\"}],\"barpolar\":[{\"marker\":{\"line\":{\"color\":\"#E5ECF6\",\"width\":0.5},\"pattern\":{\"fillmode\":\"overlay\",\"size\":10,\"solidity\":0.2}},\"type\":\"barpolar\"}],\"carpet\":[{\"aaxis\":{\"endlinecolor\":\"#2a3f5f\",\"gridcolor\":\"white\",\"linecolor\":\"white\",\"minorgridcolor\":\"white\",\"startlinecolor\":\"#2a3f5f\"},\"baxis\":{\"endlinecolor\":\"#2a3f5f\",\"gridcolor\":\"white\",\"linecolor\":\"white\",\"minorgridcolor\":\"white\",\"startlinecolor\":\"#2a3f5f\"},\"type\":\"carpet\"}],\"choropleth\":[{\"colorbar\":{\"outlinewidth\":0,\"ticks\":\"\"},\"type\":\"choropleth\"}],\"contour\":[{\"colorbar\":{\"outlinewidth\":0,\"ticks\":\"\"},\"colorscale\":[[0.0,\"#0d0887\"],[0.1111111111111111,\"#46039f\"],[0.2222222222222222,\"#7201a8\"],[0.3333333333333333,\"#9c179e\"],[0.4444444444444444,\"#bd3786\"],[0.5555555555555556,\"#d8576b\"],[0.6666666666666666,\"#ed7953\"],[0.7777777777777778,\"#fb9f3a\"],[0.8888888888888888,\"#fdca26\"],[1.0,\"#f0f921\"]],\"type\":\"contour\"}],\"contourcarpet\":[{\"colorbar\":{\"outlinewidth\":0,\"ticks\":\"\"},\"type\":\"contourcarpet\"}],\"heatmap\":[{\"colorbar\":{\"outlinewidth\":0,\"ticks\":\"\"},\"colorscale\":[[0.0,\"#0d0887\"],[0.1111111111111111,\"#46039f\"],[0.2222222222222222,\"#7201a8\"],[0.3333333333333333,\"#9c179e\"],[0.4444444444444444,\"#bd3786\"],[0.5555555555555556,\"#d8576b\"],[0.6666666666666666,\"#ed7953\"],[0.7777777777777778,\"#fb9f3a\"],[0.8888888888888888,\"#fdca26\"],[1.0,\"#f0f921\"]],\"type\":\"heatmap\"}],\"heatmapgl\":[{\"colorbar\":{\"outlinewidth\":0,\"ticks\":\"\"},\"colorscale\":[[0.0,\"#0d0887\"],[0.1111111111111111,\"#46039f\"],[0.2222222222222222,\"#7201a8\"],[0.3333333333333333,\"#9c179e\"],[0.4444444444444444,\"#bd3786\"],[0.5555555555555556,\"#d8576b\"],[0.6666666666666666,\"#ed7953\"],[0.7777777777777778,\"#fb9f3a\"],[0.8888888888888888,\"#fdca26\"],[1.0,\"#f0f921\"]],\"type\":\"heatmapgl\"}],\"histogram\":[{\"marker\":{\"pattern\":{\"fillmode\":\"overlay\",\"size\":10,\"solidity\":0.2}},\"type\":\"histogram\"}],\"histogram2d\":[{\"colorbar\":{\"outlinewidth\":0,\"ticks\":\"\"},\"colorscale\":[[0.0,\"#0d0887\"],[0.1111111111111111,\"#46039f\"],[0.2222222222222222,\"#7201a8\"],[0.3333333333333333,\"#9c179e\"],[0.4444444444444444,\"#bd3786\"],[0.5555555555555556,\"#d8576b\"],[0.6666666666666666,\"#ed7953\"],[0.7777777777777778,\"#fb9f3a\"],[0.8888888888888888,\"#fdca26\"],[1.0,\"#f0f921\"]],\"type\":\"histogram2d\"}],\"histogram2dcontour\":[{\"colorbar\":{\"outlinewidth\":0,\"ticks\":\"\"},\"colorscale\":[[0.0,\"#0d0887\"],[0.1111111111111111,\"#46039f\"],[0.2222222222222222,\"#7201a8\"],[0.3333333333333333,\"#9c179e\"],[0.4444444444444444,\"#bd3786\"],[0.5555555555555556,\"#d8576b\"],[0.6666666666666666,\"#ed7953\"],[0.7777777777777778,\"#fb9f3a\"],[0.8888888888888888,\"#fdca26\"],[1.0,\"#f0f921\"]],\"type\":\"histogram2dcontour\"}],\"mesh3d\":[{\"colorbar\":{\"outlinewidth\":0,\"ticks\":\"\"},\"type\":\"mesh3d\"}],\"parcoords\":[{\"line\":{\"colorbar\":{\"outlinewidth\":0,\"ticks\":\"\"}},\"type\":\"parcoords\"}],\"pie\":[{\"automargin\":true,\"type\":\"pie\"}],\"scatter\":[{\"marker\":{\"colorbar\":{\"outlinewidth\":0,\"ticks\":\"\"}},\"type\":\"scatter\"}],\"scatter3d\":[{\"line\":{\"colorbar\":{\"outlinewidth\":0,\"ticks\":\"\"}},\"marker\":{\"colorbar\":{\"outlinewidth\":0,\"ticks\":\"\"}},\"type\":\"scatter3d\"}],\"scattercarpet\":[{\"marker\":{\"colorbar\":{\"outlinewidth\":0,\"ticks\":\"\"}},\"type\":\"scattercarpet\"}],\"scattergeo\":[{\"marker\":{\"colorbar\":{\"outlinewidth\":0,\"ticks\":\"\"}},\"type\":\"scattergeo\"}],\"scattergl\":[{\"marker\":{\"colorbar\":{\"outlinewidth\":0,\"ticks\":\"\"}},\"type\":\"scattergl\"}],\"scattermapbox\":[{\"marker\":{\"colorbar\":{\"outlinewidth\":0,\"ticks\":\"\"}},\"type\":\"scattermapbox\"}],\"scatterpolar\":[{\"marker\":{\"colorbar\":{\"outlinewidth\":0,\"ticks\":\"\"}},\"type\":\"scatterpolar\"}],\"scatterpolargl\":[{\"marker\":{\"colorbar\":{\"outlinewidth\":0,\"ticks\":\"\"}},\"type\":\"scatterpolargl\"}],\"scatterternary\":[{\"marker\":{\"colorbar\":{\"outlinewidth\":0,\"ticks\":\"\"}},\"type\":\"scatterternary\"}],\"surface\":[{\"colorbar\":{\"outlinewidth\":0,\"ticks\":\"\"},\"colorscale\":[[0.0,\"#0d0887\"],[0.1111111111111111,\"#46039f\"],[0.2222222222222222,\"#7201a8\"],[0.3333333333333333,\"#9c179e\"],[0.4444444444444444,\"#bd3786\"],[0.5555555555555556,\"#d8576b\"],[0.6666666666666666,\"#ed7953\"],[0.7777777777777778,\"#fb9f3a\"],[0.8888888888888888,\"#fdca26\"],[1.0,\"#f0f921\"]],\"type\":\"surface\"}],\"table\":[{\"cells\":{\"fill\":{\"color\":\"#EBF0F8\"},\"line\":{\"color\":\"white\"}},\"header\":{\"fill\":{\"color\":\"#C8D4E3\"},\"line\":{\"color\":\"white\"}},\"type\":\"table\"}]},\"layout\":{\"annotationdefaults\":{\"arrowcolor\":\"#2a3f5f\",\"arrowhead\":0,\"arrowwidth\":1},\"autotypenumbers\":\"strict\",\"coloraxis\":{\"colorbar\":{\"outlinewidth\":0,\"ticks\":\"\"}},\"colorscale\":{\"diverging\":[[0,\"#8e0152\"],[0.1,\"#c51b7d\"],[0.2,\"#de77ae\"],[0.3,\"#f1b6da\"],[0.4,\"#fde0ef\"],[0.5,\"#f7f7f7\"],[0.6,\"#e6f5d0\"],[0.7,\"#b8e186\"],[0.8,\"#7fbc41\"],[0.9,\"#4d9221\"],[1,\"#276419\"]],\"sequential\":[[0.0,\"#0d0887\"],[0.1111111111111111,\"#46039f\"],[0.2222222222222222,\"#7201a8\"],[0.3333333333333333,\"#9c179e\"],[0.4444444444444444,\"#bd3786\"],[0.5555555555555556,\"#d8576b\"],[0.6666666666666666,\"#ed7953\"],[0.7777777777777778,\"#fb9f3a\"],[0.8888888888888888,\"#fdca26\"],[1.0,\"#f0f921\"]],\"sequentialminus\":[[0.0,\"#0d0887\"],[0.1111111111111111,\"#46039f\"],[0.2222222222222222,\"#7201a8\"],[0.3333333333333333,\"#9c179e\"],[0.4444444444444444,\"#bd3786\"],[0.5555555555555556,\"#d8576b\"],[0.6666666666666666,\"#ed7953\"],[0.7777777777777778,\"#fb9f3a\"],[0.8888888888888888,\"#fdca26\"],[1.0,\"#f0f921\"]]},\"colorway\":[\"#636efa\",\"#EF553B\",\"#00cc96\",\"#ab63fa\",\"#FFA15A\",\"#19d3f3\",\"#FF6692\",\"#B6E880\",\"#FF97FF\",\"#FECB52\"],\"font\":{\"color\":\"#2a3f5f\"},\"geo\":{\"bgcolor\":\"white\",\"lakecolor\":\"white\",\"landcolor\":\"#E5ECF6\",\"showlakes\":true,\"showland\":true,\"subunitcolor\":\"white\"},\"hoverlabel\":{\"align\":\"left\"},\"hovermode\":\"closest\",\"mapbox\":{\"style\":\"light\"},\"paper_bgcolor\":\"white\",\"plot_bgcolor\":\"#E5ECF6\",\"polar\":{\"angularaxis\":{\"gridcolor\":\"white\",\"linecolor\":\"white\",\"ticks\":\"\"},\"bgcolor\":\"#E5ECF6\",\"radialaxis\":{\"gridcolor\":\"white\",\"linecolor\":\"white\",\"ticks\":\"\"}},\"scene\":{\"xaxis\":{\"backgroundcolor\":\"#E5ECF6\",\"gridcolor\":\"white\",\"gridwidth\":2,\"linecolor\":\"white\",\"showbackground\":true,\"ticks\":\"\",\"zerolinecolor\":\"white\"},\"yaxis\":{\"backgroundcolor\":\"#E5ECF6\",\"gridcolor\":\"white\",\"gridwidth\":2,\"linecolor\":\"white\",\"showbackground\":true,\"ticks\":\"\",\"zerolinecolor\":\"white\"},\"zaxis\":{\"backgroundcolor\":\"#E5ECF6\",\"gridcolor\":\"white\",\"gridwidth\":2,\"linecolor\":\"white\",\"showbackground\":true,\"ticks\":\"\",\"zerolinecolor\":\"white\"}},\"shapedefaults\":{\"line\":{\"color\":\"#2a3f5f\"}},\"ternary\":{\"aaxis\":{\"gridcolor\":\"white\",\"linecolor\":\"white\",\"ticks\":\"\"},\"baxis\":{\"gridcolor\":\"white\",\"linecolor\":\"white\",\"ticks\":\"\"},\"bgcolor\":\"#E5ECF6\",\"caxis\":{\"gridcolor\":\"white\",\"linecolor\":\"white\",\"ticks\":\"\"}},\"title\":{\"x\":0.05},\"xaxis\":{\"automargin\":true,\"gridcolor\":\"white\",\"linecolor\":\"white\",\"ticks\":\"\",\"title\":{\"standoff\":15},\"zerolinecolor\":\"white\",\"zerolinewidth\":2},\"yaxis\":{\"automargin\":true,\"gridcolor\":\"white\",\"linecolor\":\"white\",\"ticks\":\"\",\"title\":{\"standoff\":15},\"zerolinecolor\":\"white\",\"zerolinewidth\":2}}},\"xaxis\":{\"anchor\":\"y\",\"domain\":[0.0,1.0],\"title\":{\"text\":\"x\"}},\"yaxis\":{\"anchor\":\"x\",\"domain\":[0.0,1.0],\"title\":{\"text\":\"y\"}}},                        {\"responsive\": true}                    ).then(function(){\n",
       "                            \n",
       "var gd = document.getElementById('50a6ed05-9606-482c-97fe-31d42af05680');\n",
       "var x = new MutationObserver(function (mutations, observer) {{\n",
       "        var display = window.getComputedStyle(gd).display;\n",
       "        if (!display || display === 'none') {{\n",
       "            console.log([gd, 'removed!']);\n",
       "            Plotly.purge(gd);\n",
       "            observer.disconnect();\n",
       "        }}\n",
       "}});\n",
       "\n",
       "// Listen for the removal of the full notebook cells\n",
       "var notebookContainer = gd.closest('#notebook-container');\n",
       "if (notebookContainer) {{\n",
       "    x.observe(notebookContainer, {childList: true});\n",
       "}}\n",
       "\n",
       "// Listen for the clearing of the current output cell\n",
       "var outputEl = gd.closest('.output');\n",
       "if (outputEl) {{\n",
       "    x.observe(outputEl, {childList: true});\n",
       "}}\n",
       "\n",
       "                        })                };                });            </script>        </div>"
      ]
     },
     "metadata": {},
     "output_type": "display_data"
    }
   ],
   "source": [
    "import plotly.express as px\n",
    "\n",
    "reducer = UMAP()\n",
    "\n",
    "coords = reducer.fit_transform(embeddings).transpose()  # Create a 2-D version for visualization\n",
    "dataframe = pd.DataFrame({'text': sentences, 'x': coords[0], 'y': coords[1], 'cluster': labels})\n",
    "\n",
    "fig = px.scatter(dataframe, x='x', y='y', hover_name='text', color='cluster')\n",
    "fig.show()"
   ]
  },
  {
   "cell_type": "code",
   "execution_count": 24,
   "id": "01d97629",
   "metadata": {},
   "outputs": [],
   "source": [
    "dataset = dataframe[dataframe['cluster'] != -1]"
   ]
  },
  {
   "cell_type": "code",
   "execution_count": null,
   "id": "3f4a80ff",
   "metadata": {},
   "outputs": [],
   "source": []
  }
 ],
 "metadata": {
  "kernelspec": {
   "display_name": "Python 3 (ipykernel)",
   "language": "python",
   "name": "python3"
  },
  "language_info": {
   "codemirror_mode": {
    "name": "ipython",
    "version": 3
   },
   "file_extension": ".py",
   "mimetype": "text/x-python",
   "name": "python",
   "nbconvert_exporter": "python",
   "pygments_lexer": "ipython3",
   "version": "3.9.6"
  }
 },
 "nbformat": 4,
 "nbformat_minor": 5
}
